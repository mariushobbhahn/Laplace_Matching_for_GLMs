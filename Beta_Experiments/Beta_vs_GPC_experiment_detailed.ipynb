{
 "cells": [
  {
   "cell_type": "markdown",
   "metadata": {},
   "source": [
    "# TODOs\n",
    "\n",
    "- Understand the metrics used in the GPC paper and reimplement/copy them\n",
    "- Understand the exact setup for 2D classification in the GPC paper and reimplement/copy it\n",
    "- Look at which data they use and build the pipeline to use it. "
   ]
  },
  {
   "cell_type": "code",
   "execution_count": 1,
   "metadata": {},
   "outputs": [],
   "source": [
    "import numpy as np\n",
    "import torch\n",
    "import gpytorch\n",
    "import pandas as pd\n",
    "import matplotlib.pyplot as plt\n",
    "from gpytorch.models import ExactGP\n",
    "from gpytorch.likelihoods import DirichletClassificationLikelihood\n",
    "from gpytorch.means import ConstantMean\n",
    "from gpytorch.kernels import ScaleKernel, RBFKernel"
   ]
  },
  {
   "cell_type": "code",
   "execution_count": 2,
   "metadata": {},
   "outputs": [],
   "source": [
    "import sys\n",
    "import os\n",
    "\n",
    "py_file_location = '../utils'\n",
    "sys.path.append(os.path.abspath(py_file_location))\n",
    "py_file_location = '../models'\n",
    "sys.path.append(os.path.abspath(py_file_location))\n",
    "\n",
    "import classification_utils\n",
    "import classification_models"
   ]
  },
  {
   "cell_type": "markdown",
   "metadata": {},
   "source": [
    "# Setup for GPC & LB(Beta)+GP\n",
    "\n",
    "create function that makes train-test split\n",
    "\n",
    "create function that gets the right number of inducing points from test data\n",
    "\n",
    "create functions that take in data and return a fitted GP\n",
    "\n",
    "create a function that takes in the fitted GP and returns all the relevant measurements"
   ]
  },
  {
   "cell_type": "code",
   "execution_count": 3,
   "metadata": {},
   "outputs": [
    {
     "data": {
      "text/html": [
       "<div>\n",
       "<style scoped>\n",
       "    .dataframe tbody tr th:only-of-type {\n",
       "        vertical-align: middle;\n",
       "    }\n",
       "\n",
       "    .dataframe tbody tr th {\n",
       "        vertical-align: top;\n",
       "    }\n",
       "\n",
       "    .dataframe thead th {\n",
       "        text-align: right;\n",
       "    }\n",
       "</style>\n",
       "<table border=\"1\" class=\"dataframe\">\n",
       "  <thead>\n",
       "    <tr style=\"text-align: right;\">\n",
       "      <th></th>\n",
       "      <th>0</th>\n",
       "      <th>1</th>\n",
       "      <th>2</th>\n",
       "      <th>3</th>\n",
       "      <th>4</th>\n",
       "      <th>5</th>\n",
       "      <th>6</th>\n",
       "      <th>7</th>\n",
       "      <th>8</th>\n",
       "      <th>9</th>\n",
       "      <th>10</th>\n",
       "      <th>11</th>\n",
       "      <th>12</th>\n",
       "      <th>13</th>\n",
       "      <th>14</th>\n",
       "    </tr>\n",
       "  </thead>\n",
       "  <tbody>\n",
       "    <tr>\n",
       "      <th>0</th>\n",
       "      <td>4329.23</td>\n",
       "      <td>4009.23</td>\n",
       "      <td>4289.23</td>\n",
       "      <td>4148.21</td>\n",
       "      <td>4350.26</td>\n",
       "      <td>4586.15</td>\n",
       "      <td>4096.92</td>\n",
       "      <td>4641.03</td>\n",
       "      <td>4222.05</td>\n",
       "      <td>4238.46</td>\n",
       "      <td>4211.28</td>\n",
       "      <td>4280.51</td>\n",
       "      <td>4635.90</td>\n",
       "      <td>4393.85</td>\n",
       "      <td>0</td>\n",
       "    </tr>\n",
       "    <tr>\n",
       "      <th>1</th>\n",
       "      <td>4324.62</td>\n",
       "      <td>4004.62</td>\n",
       "      <td>4293.85</td>\n",
       "      <td>4148.72</td>\n",
       "      <td>4342.05</td>\n",
       "      <td>4586.67</td>\n",
       "      <td>4097.44</td>\n",
       "      <td>4638.97</td>\n",
       "      <td>4210.77</td>\n",
       "      <td>4226.67</td>\n",
       "      <td>4207.69</td>\n",
       "      <td>4279.49</td>\n",
       "      <td>4632.82</td>\n",
       "      <td>4384.10</td>\n",
       "      <td>0</td>\n",
       "    </tr>\n",
       "    <tr>\n",
       "      <th>2</th>\n",
       "      <td>4327.69</td>\n",
       "      <td>4006.67</td>\n",
       "      <td>4295.38</td>\n",
       "      <td>4156.41</td>\n",
       "      <td>4336.92</td>\n",
       "      <td>4583.59</td>\n",
       "      <td>4096.92</td>\n",
       "      <td>4630.26</td>\n",
       "      <td>4207.69</td>\n",
       "      <td>4222.05</td>\n",
       "      <td>4206.67</td>\n",
       "      <td>4282.05</td>\n",
       "      <td>4628.72</td>\n",
       "      <td>4389.23</td>\n",
       "      <td>0</td>\n",
       "    </tr>\n",
       "    <tr>\n",
       "      <th>3</th>\n",
       "      <td>4328.72</td>\n",
       "      <td>4011.79</td>\n",
       "      <td>4296.41</td>\n",
       "      <td>4155.90</td>\n",
       "      <td>4343.59</td>\n",
       "      <td>4582.56</td>\n",
       "      <td>4097.44</td>\n",
       "      <td>4630.77</td>\n",
       "      <td>4217.44</td>\n",
       "      <td>4235.38</td>\n",
       "      <td>4210.77</td>\n",
       "      <td>4287.69</td>\n",
       "      <td>4632.31</td>\n",
       "      <td>4396.41</td>\n",
       "      <td>0</td>\n",
       "    </tr>\n",
       "    <tr>\n",
       "      <th>4</th>\n",
       "      <td>4326.15</td>\n",
       "      <td>4011.79</td>\n",
       "      <td>4292.31</td>\n",
       "      <td>4151.28</td>\n",
       "      <td>4347.69</td>\n",
       "      <td>4586.67</td>\n",
       "      <td>4095.90</td>\n",
       "      <td>4627.69</td>\n",
       "      <td>4210.77</td>\n",
       "      <td>4244.10</td>\n",
       "      <td>4212.82</td>\n",
       "      <td>4288.21</td>\n",
       "      <td>4632.82</td>\n",
       "      <td>4398.46</td>\n",
       "      <td>0</td>\n",
       "    </tr>\n",
       "  </tbody>\n",
       "</table>\n",
       "</div>"
      ],
      "text/plain": [
       "        0        1        2        3        4        5        6        7   \\\n",
       "0  4329.23  4009.23  4289.23  4148.21  4350.26  4586.15  4096.92  4641.03   \n",
       "1  4324.62  4004.62  4293.85  4148.72  4342.05  4586.67  4097.44  4638.97   \n",
       "2  4327.69  4006.67  4295.38  4156.41  4336.92  4583.59  4096.92  4630.26   \n",
       "3  4328.72  4011.79  4296.41  4155.90  4343.59  4582.56  4097.44  4630.77   \n",
       "4  4326.15  4011.79  4292.31  4151.28  4347.69  4586.67  4095.90  4627.69   \n",
       "\n",
       "        8        9        10       11       12       13  14  \n",
       "0  4222.05  4238.46  4211.28  4280.51  4635.90  4393.85   0  \n",
       "1  4210.77  4226.67  4207.69  4279.49  4632.82  4384.10   0  \n",
       "2  4207.69  4222.05  4206.67  4282.05  4628.72  4389.23   0  \n",
       "3  4217.44  4235.38  4210.77  4287.69  4632.31  4396.41   0  \n",
       "4  4210.77  4244.10  4212.82  4288.21  4632.82  4398.46   0  "
      ]
     },
     "execution_count": 3,
     "metadata": {},
     "output_type": "execute_result"
    }
   ],
   "source": [
    "### load an example dataset\n",
    "data_files = \"data/\"\n",
    "\n",
    "filename = \"EEG_Eye_State.csv\"\n",
    "EEG_df = pd.read_csv(data_files + filename, header=None)\n",
    "EEG_df.head()"
   ]
  },
  {
   "cell_type": "code",
   "execution_count": 4,
   "metadata": {},
   "outputs": [
    {
     "name": "stdout",
     "output_type": "stream",
     "text": [
      "(10980, 14)\n",
      "(4000, 14)\n",
      "(10980,)\n",
      "(4000,)\n",
      "tensor([1, 0, 0, 0, 1, 0, 0, 0, 1, 0, 1, 0, 0, 1, 1, 0, 0, 1, 0, 0])\n"
     ]
    }
   ],
   "source": [
    "# make test-train split\n",
    "from sklearn.model_selection import train_test_split\n",
    "\n",
    "X_EEG = EEG_df.values[:,:-1]\n",
    "Y_EEG = EEG_df.values[:,-1]\n",
    "NUM_INDUCING_POINTS=200\n",
    "\n",
    "# Normalize data\n",
    "X_EEG = classification_utils.standardise(X_EEG)\n",
    "#X_EEG = classification_utils.normalise_minusonetoone(X_EEG)\n",
    "\n",
    "# The original paper chose 10980 training points and 4000 test points\n",
    "test_size_EEG = 4000/(10980+4000)\n",
    "X_EEG_train, X_EEG_test, y_EEG_train, y_EEG_test = train_test_split(X_EEG, Y_EEG, test_size=test_size_EEG, random_state=42)\n",
    "print(np.shape(X_EEG_train))\n",
    "print(np.shape(X_EEG_test))\n",
    "print(np.shape(y_EEG_train))\n",
    "print(np.shape(y_EEG_test))\n",
    "X_EEG_train, X_EEG_test, y_EEG_train, y_EEG_test = torch.tensor(X_EEG_train).float(), torch.tensor(X_EEG_test).float(), \\\n",
    "                                                   torch.tensor(y_EEG_train).long(), torch.tensor(y_EEG_test).long()\n",
    "print(y_EEG_test[:20])"
   ]
  },
  {
   "cell_type": "code",
   "execution_count": 5,
   "metadata": {},
   "outputs": [],
   "source": [
    "# choose random inducing points\n",
    "#X_EEG_train_induced, y_EEG_train_induced = classification_utils.random_inducing_points(X_EEG_train, y_EEG_train, NUM_INDUCING_POINTS)"
   ]
  },
  {
   "cell_type": "code",
   "execution_count": 6,
   "metadata": {},
   "outputs": [
    {
     "name": "stdout",
     "output_type": "stream",
     "text": [
      "tensor([[-9.8226e-03, -5.9224e-01,  3.6410e-02, -1.0584e-02, -2.8646e-01,\n",
      "         -4.3568e-03, -4.9362e-03,  5.7228e-01,  5.4925e-04,  5.3808e-01,\n",
      "          2.8776e-01,  2.8999e-01, -9.6127e-03, -8.1862e-03],\n",
      "        [ 1.2236e+02,  3.2450e+01,  5.8895e+01,  2.3992e-01,  3.2044e+01,\n",
      "         -2.1950e-01, -4.3998e-01,  5.2644e+00,  1.2237e+02, -8.3167e+00,\n",
      "          6.9357e+01, -4.8655e+01,  1.2223e+02,  1.0289e-01],\n",
      "        [ 1.2346e+00, -2.5664e+01, -4.0664e+01,  1.2239e+02,  6.1392e+01,\n",
      "          1.1790e+00,  1.2239e+02,  1.6101e+01,  1.3691e+00, -6.3467e+01,\n",
      "          5.1224e+01,  6.3197e+01, -9.1954e-01,  1.9794e+01],\n",
      "        [-2.7110e-02, -7.8748e-02, -9.3328e-01, -1.1370e-02,  9.7558e-02,\n",
      "         -1.2771e-02, -1.1400e-02, -3.0305e-01, -2.6094e-02, -5.5339e-01,\n",
      "         -7.4360e-01, -7.0993e-01, -5.7149e-02, -1.9503e-02],\n",
      "        [ 2.7629e-02,  1.4171e+00,  3.9430e-01, -3.6034e-03,  8.8931e-03,\n",
      "         -9.4411e-03, -1.3630e-02, -8.6328e-01, -1.8895e-02, -3.6469e-01,\n",
      "          1.6576e-01,  6.7815e-02, -6.9959e-04,  2.5198e-03]]) tensor([0, 1, 0, 0, 0])\n"
     ]
    }
   ],
   "source": [
    "## use kmeans for inducing points\n",
    "X_EEG_train_induced, y_EEG_train_induced = classification_utils.k_means_inducing_points(X_EEG_train, y_EEG_train, NUM_INDUCING_POINTS)\n",
    "print(X_EEG_train_induced[:5], y_EEG_train_induced[:5])"
   ]
  },
  {
   "cell_type": "code",
   "execution_count": 7,
   "metadata": {},
   "outputs": [
    {
     "name": "stdout",
     "output_type": "stream",
     "text": [
      "tensor([[-9.8226e-03, -5.9224e-01,  3.6410e-02, -1.0584e-02, -2.8646e-01,\n",
      "         -4.3568e-03, -4.9362e-03,  5.7228e-01,  5.4925e-04,  5.3808e-01,\n",
      "          2.8776e-01,  2.8999e-01, -9.6127e-03, -8.1862e-03],\n",
      "        [ 1.2236e+02,  3.2450e+01,  5.8895e+01,  2.3992e-01,  3.2044e+01,\n",
      "         -2.1950e-01, -4.3998e-01,  5.2644e+00,  1.2237e+02, -8.3167e+00,\n",
      "          6.9357e+01, -4.8655e+01,  1.2223e+02,  1.0289e-01],\n",
      "        [ 1.2346e+00, -2.5664e+01, -4.0664e+01,  1.2239e+02,  6.1392e+01,\n",
      "          1.1790e+00,  1.2239e+02,  1.6101e+01,  1.3691e+00, -6.3467e+01,\n",
      "          5.1224e+01,  6.3197e+01, -9.1954e-01,  1.9794e+01],\n",
      "        [-2.7110e-02, -7.8748e-02, -9.3328e-01, -1.1370e-02,  9.7558e-02,\n",
      "         -1.2771e-02, -1.1400e-02, -3.0305e-01, -2.6094e-02, -5.5339e-01,\n",
      "         -7.4360e-01, -7.0993e-01, -5.7149e-02, -1.9503e-02],\n",
      "        [ 2.7629e-02,  1.4171e+00,  3.9430e-01, -3.6034e-03,  8.8931e-03,\n",
      "         -9.4411e-03, -1.3630e-02, -8.6328e-01, -1.8895e-02, -3.6469e-01,\n",
      "          1.6576e-01,  6.7815e-02, -6.9959e-04,  2.5198e-03]]) tensor([3.9010e+01, 1.0100e+00, 1.0000e-02, 1.0010e+01, 7.0100e+00]) tensor([3.5010e+01, 1.0000e-02, 1.0100e+00, 3.9010e+01, 1.6010e+01])\n"
     ]
    }
   ],
   "source": [
    "# use the conjugacy of the Beta to create better inducing points\n",
    "X_EEG_train_induced, y_EEG_train_induced_alphas, y_EEG_train_induced_betas = classification_utils.k_means_inducing_points_LM(X_EEG_train, y_EEG_train, NUM_INDUCING_POINTS)\n",
    "print(X_EEG_train_induced[:5], y_EEG_train_induced_alphas[:5], y_EEG_train_induced_betas[:5])"
   ]
  },
  {
   "cell_type": "markdown",
   "metadata": {},
   "source": [
    "## DPC model"
   ]
  },
  {
   "cell_type": "code",
   "execution_count": 8,
   "metadata": {},
   "outputs": [
    {
     "name": "stdout",
     "output_type": "stream",
     "text": [
      "DirichletGPModel(\n",
      "  (likelihood): DirichletClassificationLikelihood(\n",
      "    (noise_covar): FixedGaussianNoise()\n",
      "    (second_noise_covar): HomoskedasticNoise(\n",
      "      (raw_noise_constraint): GreaterThan(1.000E-04)\n",
      "    )\n",
      "  )\n",
      "  (mean_module): ConstantMean()\n",
      "  (covar_module): ScaleKernel(\n",
      "    (base_kernel): RBFKernel(\n",
      "      (raw_lengthscale_constraint): Positive()\n",
      "    )\n",
      "    (raw_outputscale_constraint): Positive()\n",
      "  )\n",
      ")\n"
     ]
    }
   ],
   "source": [
    "# create a GPC model\n",
    "DGP_model, DGP_likelihood = classification_models.create_DGP_model(X_EEG_train_induced, y_EEG_train_induced,\n",
    "                                                                   init_lengthscale=2, learn_additional_noise=True)\n",
    "print(DGP_model)"
   ]
  },
  {
   "cell_type": "code",
   "execution_count": 9,
   "metadata": {},
   "outputs": [
    {
     "name": "stdout",
     "output_type": "stream",
     "text": [
      "Iter 1/500 - Loss: 5.995   lengthscale: 2.000   noise: 0.693\n",
      "Iter 51/500 - Loss: 5.184   lengthscale: 0.394   noise: 3.721\n",
      "Iter 101/500 - Loss: 5.173   lengthscale: 0.398   noise: 3.999\n",
      "Iter 151/500 - Loss: 5.173   lengthscale: 0.406   noise: 3.925\n",
      "Iter 201/500 - Loss: 5.173   lengthscale: 0.404   noise: 3.836\n",
      "Iter 251/500 - Loss: 5.173   lengthscale: 0.402   noise: 3.745\n",
      "Iter 301/500 - Loss: 5.173   lengthscale: 0.401   noise: 3.660\n",
      "Iter 351/500 - Loss: 5.172   lengthscale: 0.399   noise: 3.581\n",
      "Iter 401/500 - Loss: 5.172   lengthscale: 0.397   noise: 3.509\n",
      "Iter 451/500 - Loss: 5.172   lengthscale: 0.396   noise: 3.446\n"
     ]
    }
   ],
   "source": [
    "## train\n",
    "DGP_model, DGP_likelihood = classification_models.train_DGP_model(X_EEG_train_induced,\n",
    "                                            DGP_model, DGP_likelihood, num_iter=500, lr=0.1, report_iter=50)"
   ]
  },
  {
   "cell_type": "markdown",
   "metadata": {},
   "source": [
    "## LM(Beta)+GP"
   ]
  },
  {
   "cell_type": "code",
   "execution_count": 10,
   "metadata": {},
   "outputs": [
    {
     "name": "stdout",
     "output_type": "stream",
     "text": [
      "LM_beta_GPModel(\n",
      "  (likelihood): FixedNoiseGaussianLikelihood(\n",
      "    (noise_covar): FixedGaussianNoise()\n",
      "    (second_noise_covar): HomoskedasticNoise(\n",
      "      (raw_noise_constraint): GreaterThan(1.000E-04)\n",
      "    )\n",
      "  )\n",
      "  (mean_module): ConstantMean()\n",
      "  (covar_module): ScaleKernel(\n",
      "    (base_kernel): RBFKernel(\n",
      "      (raw_lengthscale_constraint): Positive()\n",
      "    )\n",
      "    (raw_outputscale_constraint): Positive()\n",
      "  )\n",
      ")\n"
     ]
    }
   ],
   "source": [
    "### train LM(Beta)+GP\n",
    "\n",
    "y_EEG_train_induced_mu, y_EEG_train_induced_var = classification_models.transform_y_beta_LM(y_EEG_train_induced)\n",
    "LMGP_model, LMGP_likelihood = classification_models.create_LM_beta_GP_model(X_EEG_train_induced, y_EEG_train_induced_mu,\n",
    "                                                y_EEG_train_induced_var, learn_additional_noise=True,\n",
    "                                               init_lengthscale=2)\n",
    "print(LMGP_model)"
   ]
  },
  {
   "cell_type": "code",
   "execution_count": 11,
   "metadata": {},
   "outputs": [
    {
     "name": "stdout",
     "output_type": "stream",
     "text": [
      "Iter 1/500 - Loss: 3.059   lengthscale: 2.000   noise: 0.693\n",
      "Iter 51/500 - Loss: 2.943   lengthscale: 1.587   noise: 4.548\n",
      "Iter 101/500 - Loss: 2.928   lengthscale: 1.903   noise: 6.787\n",
      "Iter 151/500 - Loss: 2.926   lengthscale: 2.042   noise: 7.776\n",
      "Iter 201/500 - Loss: 2.925   lengthscale: 2.119   noise: 8.206\n",
      "Iter 251/500 - Loss: 2.925   lengthscale: 2.166   noise: 8.364\n",
      "Iter 301/500 - Loss: 2.925   lengthscale: 2.198   noise: 8.399\n",
      "Iter 351/500 - Loss: 2.925   lengthscale: 2.224   noise: 8.389\n",
      "Iter 401/500 - Loss: 2.924   lengthscale: 2.245   noise: 8.366\n",
      "Iter 451/500 - Loss: 2.924   lengthscale: 2.264   noise: 8.342\n"
     ]
    }
   ],
   "source": [
    "# train LM(Beta)+GP\n",
    "LMGP_model, LMGP_likelihood = classification_models.train_LM_beta_GP_model(X_EEG_train_induced, y_EEG_train_induced_mu,\n",
    "                                            LMGP_model, LMGP_likelihood, num_iter=500, lr=0.1, report_iter=50)"
   ]
  },
  {
   "cell_type": "code",
   "execution_count": 12,
   "metadata": {},
   "outputs": [
    {
     "data": {
      "text/plain": [
       "(tensor(0.6597), tensor(0.6450), tensor(0.0843))"
      ]
     },
     "execution_count": 12,
     "metadata": {},
     "output_type": "execute_result"
    }
   ],
   "source": [
    "### evaluate DGP results\n",
    "classification_models.evaluate_DGP(DGP_model, DGP_likelihood, X_EEG_test, y_EEG_test)"
   ]
  },
  {
   "cell_type": "code",
   "execution_count": 13,
   "metadata": {},
   "outputs": [
    {
     "data": {
      "text/plain": [
       "(tensor(0.5825), tensor(0.6962), tensor(0.1011))"
      ]
     },
     "execution_count": 13,
     "metadata": {},
     "output_type": "execute_result"
    }
   ],
   "source": [
    "# Evaluate LM(Beta)+GP\n",
    "classification_models.evaluate_LM_beta_GP(LMGP_model, LMGP_likelihood, X_EEG_test, y_EEG_test)"
   ]
  },
  {
   "cell_type": "code",
   "execution_count": 14,
   "metadata": {},
   "outputs": [
    {
     "name": "stdout",
     "output_type": "stream",
     "text": [
      "LM_beta_GPModel(\n",
      "  (likelihood): FixedNoiseGaussianLikelihood(\n",
      "    (noise_covar): FixedGaussianNoise()\n",
      "    (second_noise_covar): HomoskedasticNoise(\n",
      "      (raw_noise_constraint): GreaterThan(1.000E-04)\n",
      "    )\n",
      "  )\n",
      "  (mean_module): ConstantMean()\n",
      "  (covar_module): ScaleKernel(\n",
      "    (base_kernel): RBFKernel(\n",
      "      (raw_lengthscale_constraint): Positive()\n",
      "    )\n",
      "    (raw_outputscale_constraint): Positive()\n",
      "  )\n",
      ")\n",
      "Iter 1/500 - Loss: 2.362   lengthscale: 30.000   noise: 0.693\n",
      "Iter 51/500 - Loss: 2.301   lengthscale: 24.173   noise: 1.271\n",
      "Iter 101/500 - Loss: 2.263   lengthscale: 16.661   noise: 1.213\n",
      "Iter 151/500 - Loss: 2.224   lengthscale: 9.006   noise: 1.183\n",
      "Iter 201/500 - Loss: 2.077   lengthscale: 1.079   noise: 0.202\n",
      "Iter 251/500 - Loss: 2.076   lengthscale: 1.051   noise: 0.135\n",
      "Iter 301/500 - Loss: 2.076   lengthscale: 1.043   noise: 0.141\n",
      "Iter 351/500 - Loss: 2.076   lengthscale: 1.037   noise: 0.140\n",
      "Iter 401/500 - Loss: 2.076   lengthscale: 1.034   noise: 0.140\n",
      "Iter 451/500 - Loss: 2.076   lengthscale: 1.032   noise: 0.139\n"
     ]
    },
    {
     "data": {
      "text/plain": [
       "(tensor(0.6700), tensor(0.5666), tensor(0.0236))"
      ]
     },
     "execution_count": 14,
     "metadata": {},
     "output_type": "execute_result"
    }
   ],
   "source": [
    "# train and evaluate LM+Beta GP for conjugate inducing points\n",
    "train_mu_LB_con, train_var_LB_con = classification_models.LM_beta(y_EEG_train_induced_alphas, y_EEG_train_induced_betas)\n",
    "LMGP_model_con, LMGP_likelihood_con = classification_models.create_LM_beta_GP_model(X_EEG_train_induced, train_mu_LB_con,\n",
    "                                                train_var_LB_con, learn_additional_noise=True,\n",
    "                                               init_lengthscale=30)\n",
    "print(LMGP_model_con)\n",
    "LMGP_model_con, LMGP_likelihood_con = classification_models.train_LM_beta_GP_model(X_EEG_train_induced, train_mu_LB_con,\n",
    "                                            LMGP_model_con, LMGP_likelihood_con, num_iter=500, lr=0.1, report_iter=50)\n",
    "\n",
    "classification_models.evaluate_LM_beta_GP(LMGP_model_con, LMGP_likelihood_con, X_EEG_test, y_EEG_test)"
   ]
  },
  {
   "cell_type": "markdown",
   "metadata": {},
   "source": [
    "# Select lengthscales via cross-validation"
   ]
  },
  {
   "cell_type": "code",
   "execution_count": 15,
   "metadata": {},
   "outputs": [],
   "source": [
    "def plot_res(res):\n",
    "    \n",
    "    fig, ax = plt.subplots(3, 1, figsize=(12, 8), sharex=True)\n",
    "    \n",
    "    ax[0].plot(res[\"lengthscales\"], res[\"accuracy_results\"])\n",
    "    ax[0].set_xscale('log')\n",
    "    ax[0].set_title(\"accuracy\")\n",
    "    ax[0].set_xticks(res[\"lengthscales\"])\n",
    "    ax[0].set_xticklabels(res[\"lengthscales\"])\n",
    "\n",
    "    \n",
    "    ax[1].plot(res[\"lengthscales\"], res[\"nll_results\"])\n",
    "    ax[1].set_xscale('log')\n",
    "    ax[1].set_title(\"mean NLL\")\n",
    "    ax[1].set_xticks(res[\"lengthscales\"])\n",
    "    ax[1].set_xticklabels(res[\"lengthscales\"])\n",
    "\n",
    "    \n",
    "    ax[2].plot(res[\"lengthscales\"], res[\"ece_results\"])\n",
    "    ax[2].set_xscale('log')\n",
    "    ax[2].set_title(\"ECE\")\n",
    "    ax[2].set_xticks(res[\"lengthscales\"])\n",
    "    ax[2].set_xticklabels(res[\"lengthscales\"])\n",
    "\n",
    "    \n",
    "    plt.show()"
   ]
  },
  {
   "cell_type": "code",
   "execution_count": 16,
   "metadata": {},
   "outputs": [],
   "source": [
    "LENGTHSCALES = [0.001, 0.01, 0.1, 0.2, 0.5, 1, 2, 5, 10, 20, 50, 100]"
   ]
  },
  {
   "cell_type": "code",
   "execution_count": 17,
   "metadata": {},
   "outputs": [
    {
     "name": "stdout",
     "output_type": "stream",
     "text": [
      "current lengthscale: 0.001\n",
      "Iter 1/500 - Loss: 7.107   lengthscale: 0.001   noise: 0.693\n",
      "Iter 51/500 - Loss: 5.186   lengthscale: 0.001   noise: 3.283\n",
      "Iter 101/500 - Loss: 5.175   lengthscale: 0.001   noise: 3.671\n",
      "Iter 151/500 - Loss: 5.175   lengthscale: 0.001   noise: 3.732\n",
      "Iter 201/500 - Loss: 5.175   lengthscale: 0.001   noise: 3.745\n",
      "Iter 251/500 - Loss: 5.175   lengthscale: 0.001   noise: 3.746\n",
      "Iter 301/500 - Loss: 5.175   lengthscale: 0.001   noise: 3.746\n",
      "Iter 351/500 - Loss: 5.175   lengthscale: 0.001   noise: 3.746\n",
      "Iter 401/500 - Loss: 5.175   lengthscale: 0.001   noise: 3.746\n",
      "Iter 451/500 - Loss: 5.175   lengthscale: 0.001   noise: 3.746\n",
      "acc: 0.5469034314155579;\t mnll:  0.7792415022850037; \t ece: 0.204195037484169\n",
      "current lengthscale: 0.01\n",
      "Iter 1/500 - Loss: 7.107   lengthscale: 0.010   noise: 0.693\n",
      "Iter 51/500 - Loss: 5.186   lengthscale: 0.010   noise: 3.283\n",
      "Iter 101/500 - Loss: 5.175   lengthscale: 0.010   noise: 3.671\n",
      "Iter 151/500 - Loss: 5.175   lengthscale: 0.010   noise: 3.732\n",
      "Iter 201/500 - Loss: 5.175   lengthscale: 0.010   noise: 3.745\n",
      "Iter 251/500 - Loss: 5.175   lengthscale: 0.010   noise: 3.746\n",
      "Iter 301/500 - Loss: 5.175   lengthscale: 0.010   noise: 3.746\n",
      "Iter 351/500 - Loss: 5.175   lengthscale: 0.010   noise: 3.746\n",
      "Iter 401/500 - Loss: 5.175   lengthscale: 0.010   noise: 3.746\n",
      "Iter 451/500 - Loss: 5.175   lengthscale: 0.010   noise: 3.746\n",
      "acc: 0.5469034314155579;\t mnll:  0.7790846228599548; \t ece: 0.204195037484169\n",
      "current lengthscale: 0.1\n",
      "Iter 1/500 - Loss: 7.106   lengthscale: 0.100   noise: 0.693\n",
      "Iter 51/500 - Loss: 5.189   lengthscale: 0.696   noise: 3.860\n",
      "Iter 101/500 - Loss: 5.160   lengthscale: 0.934   noise: 4.858\n",
      "Iter 151/500 - Loss: 5.137   lengthscale: 1.942   noise: 5.727\n",
      "Iter 201/500 - Loss: 5.135   lengthscale: 2.047   noise: 6.035\n",
      "Iter 251/500 - Loss: 5.134   lengthscale: 2.099   noise: 6.099\n",
      "Iter 301/500 - Loss: 5.134   lengthscale: 2.133   noise: 6.121\n",
      "Iter 351/500 - Loss: 5.133   lengthscale: 2.159   noise: 6.123\n",
      "Iter 401/500 - Loss: 5.133   lengthscale: 2.181   noise: 6.119\n",
      "Iter 451/500 - Loss: 5.133   lengthscale: 2.200   noise: 6.115\n",
      "acc: 0.5897085666656494;\t mnll:  0.7338995933532715; \t ece: 0.15972284972667694\n",
      "current lengthscale: 0.2\n",
      "Iter 1/500 - Loss: 7.050   lengthscale: 0.200   noise: 0.693\n",
      "Iter 51/500 - Loss: 5.187   lengthscale: 1.020   noise: 4.131\n",
      "Iter 101/500 - Loss: 5.146   lengthscale: 1.448   noise: 5.358\n",
      "Iter 151/500 - Loss: 5.137   lengthscale: 1.848   noise: 5.846\n",
      "Iter 201/500 - Loss: 5.135   lengthscale: 1.983   noise: 6.033\n",
      "Iter 251/500 - Loss: 5.134   lengthscale: 2.049   noise: 6.100\n",
      "Iter 301/500 - Loss: 5.134   lengthscale: 2.092   noise: 6.124\n",
      "Iter 351/500 - Loss: 5.134   lengthscale: 2.124   noise: 6.129\n",
      "Iter 401/500 - Loss: 5.133   lengthscale: 2.150   noise: 6.128\n",
      "Iter 451/500 - Loss: 5.133   lengthscale: 2.172   noise: 6.124\n",
      "acc: 0.5901639461517334;\t mnll:  0.7335010766983032; \t ece: 0.15972287952899933\n",
      "current lengthscale: 0.5\n",
      "Iter 1/500 - Loss: 6.445   lengthscale: 0.500   noise: 0.693\n",
      "Iter 51/500 - Loss: 5.179   lengthscale: 1.487   noise: 4.181\n",
      "Iter 101/500 - Loss: 5.142   lengthscale: 1.755   noise: 5.414\n",
      "Iter 151/500 - Loss: 5.136   lengthscale: 1.911   noise: 5.827\n",
      "Iter 201/500 - Loss: 5.134   lengthscale: 2.002   noise: 6.004\n",
      "Iter 251/500 - Loss: 5.134   lengthscale: 2.064   noise: 6.084\n",
      "Iter 301/500 - Loss: 5.133   lengthscale: 2.109   noise: 6.119\n",
      "Iter 351/500 - Loss: 5.133   lengthscale: 2.143   noise: 6.131\n",
      "Iter 401/500 - Loss: 5.133   lengthscale: 2.168   noise: 6.132\n",
      "Iter 451/500 - Loss: 5.133   lengthscale: 2.189   noise: 6.128\n",
      "acc: 0.5897085666656494;\t mnll:  0.7360167503356934; \t ece: 0.16172192990779877\n",
      "current lengthscale: 1\n",
      "Iter 1/500 - Loss: 6.090   lengthscale: 1.000   noise: 0.693\n",
      "Iter 51/500 - Loss: 5.177   lengthscale: 1.623   noise: 4.080\n",
      "Iter 101/500 - Loss: 5.141   lengthscale: 1.840   noise: 5.269\n",
      "Iter 151/500 - Loss: 5.135   lengthscale: 2.026   noise: 5.722\n",
      "Iter 201/500 - Loss: 5.134   lengthscale: 2.108   noise: 5.934\n",
      "Iter 251/500 - Loss: 5.133   lengthscale: 2.158   noise: 6.035\n",
      "Iter 301/500 - Loss: 5.133   lengthscale: 2.192   noise: 6.083\n",
      "Iter 351/500 - Loss: 5.133   lengthscale: 2.217   noise: 6.102\n",
      "Iter 401/500 - Loss: 5.133   lengthscale: 2.236   noise: 6.107\n",
      "Iter 451/500 - Loss: 5.133   lengthscale: 2.251   noise: 6.105\n",
      "acc: 0.5887978076934814;\t mnll:  0.7331870794296265; \t ece: 0.1605406552553177\n",
      "current lengthscale: 2\n",
      "Iter 1/500 - Loss: 5.969   lengthscale: 2.000   noise: 0.693\n",
      "Iter 51/500 - Loss: 5.164   lengthscale: 0.962   noise: 3.740\n",
      "Iter 101/500 - Loss: 5.148   lengthscale: 1.263   noise: 4.465\n",
      "Iter 151/500 - Loss: 5.148   lengthscale: 1.310   noise: 4.641\n",
      "Iter 201/500 - Loss: 5.147   lengthscale: 1.332   noise: 4.704\n",
      "Iter 251/500 - Loss: 5.147   lengthscale: 1.348   noise: 4.747\n",
      "Iter 301/500 - Loss: 5.147   lengthscale: 1.361   noise: 4.790\n",
      "Iter 351/500 - Loss: 5.147   lengthscale: 1.372   noise: 4.838\n",
      "Iter 401/500 - Loss: 5.147   lengthscale: 1.382   noise: 4.887\n",
      "Iter 451/500 - Loss: 5.147   lengthscale: 1.390   noise: 4.938\n",
      "acc: 0.6329690217971802;\t mnll:  0.6593235731124878; \t ece: 0.0960245355963707\n",
      "current lengthscale: 5\n",
      "Iter 1/500 - Loss: 5.991   lengthscale: 5.000   noise: 0.693\n",
      "Iter 51/500 - Loss: 5.169   lengthscale: 1.131   noise: 3.924\n",
      "Iter 101/500 - Loss: 5.148   lengthscale: 1.303   noise: 4.651\n",
      "Iter 151/500 - Loss: 5.147   lengthscale: 1.346   noise: 4.816\n",
      "Iter 201/500 - Loss: 5.147   lengthscale: 1.367   noise: 4.877\n",
      "Iter 251/500 - Loss: 5.147   lengthscale: 1.379   noise: 4.914\n",
      "Iter 301/500 - Loss: 5.147   lengthscale: 1.388   noise: 4.949\n",
      "Iter 351/500 - Loss: 5.147   lengthscale: 1.396   noise: 4.987\n",
      "Iter 401/500 - Loss: 5.147   lengthscale: 1.403   noise: 5.026\n",
      "Iter 451/500 - Loss: 5.147   lengthscale: 1.409   noise: 5.067\n",
      "acc: 0.6329690217971802;\t mnll:  0.6610388159751892; \t ece: 0.09747841209173203\n",
      "current lengthscale: 10\n",
      "Iter 1/500 - Loss: 6.034   lengthscale: 10.000   noise: 0.693\n",
      "Iter 51/500 - Loss: 5.208   lengthscale: 4.551   noise: 4.117\n",
      "Iter 101/500 - Loss: 5.140   lengthscale: 2.151   noise: 5.222\n",
      "Iter 151/500 - Loss: 5.135   lengthscale: 2.228   noise: 5.585\n",
      "Iter 201/500 - Loss: 5.134   lengthscale: 2.282   noise: 5.793\n",
      "Iter 251/500 - Loss: 5.133   lengthscale: 2.314   noise: 5.914\n",
      "Iter 301/500 - Loss: 5.133   lengthscale: 2.332   noise: 5.984\n",
      "Iter 351/500 - Loss: 5.133   lengthscale: 2.342   noise: 6.023\n",
      "Iter 401/500 - Loss: 5.133   lengthscale: 2.347   noise: 6.044\n",
      "Iter 451/500 - Loss: 5.133   lengthscale: 2.349   noise: 6.055\n",
      "acc: 0.5906193256378174;\t mnll:  0.737812340259552; \t ece: 0.16322126984596252\n",
      "current lengthscale: 20\n",
      "Iter 1/500 - Loss: 6.060   lengthscale: 20.000   noise: 0.693\n",
      "Iter 51/500 - Loss: 5.268   lengthscale: 14.694   noise: 4.189\n",
      "Iter 101/500 - Loss: 5.182   lengthscale: 8.164   noise: 5.663\n",
      "Iter 151/500 - Loss: 5.134   lengthscale: 2.549   noise: 5.992\n",
      "Iter 201/500 - Loss: 5.133   lengthscale: 2.414   noise: 5.945\n",
      "Iter 251/500 - Loss: 5.133   lengthscale: 2.394   noise: 5.962\n",
      "Iter 301/500 - Loss: 5.133   lengthscale: 2.379   noise: 5.998\n",
      "Iter 351/500 - Loss: 5.133   lengthscale: 2.370   noise: 6.025\n",
      "Iter 401/500 - Loss: 5.133   lengthscale: 2.363   noise: 6.042\n",
      "Iter 451/500 - Loss: 5.133   lengthscale: 2.358   noise: 6.052\n",
      "acc: 0.5906193256378174;\t mnll:  0.7355854511260986; \t ece: 0.16126760840415955\n",
      "current lengthscale: 50\n",
      "Iter 1/500 - Loss: 6.071   lengthscale: 50.000   noise: 0.693\n",
      "Iter 51/500 - Loss: 5.282   lengthscale: 45.231   noise: 4.221\n",
      "Iter 101/500 - Loss: 5.204   lengthscale: 42.919   noise: 5.828\n",
      "Iter 151/500 - Loss: 5.184   lengthscale: 42.237   noise: 6.551\n",
      "Iter 201/500 - Loss: 5.178   lengthscale: 42.178   noise: 6.942\n",
      "Iter 251/500 - Loss: 5.176   lengthscale: 42.168   noise: 7.165\n",
      "Iter 301/500 - Loss: 5.175   lengthscale: 42.162   noise: 7.298\n",
      "Iter 351/500 - Loss: 5.175   lengthscale: 42.157   noise: 7.378\n",
      "Iter 401/500 - Loss: 5.175   lengthscale: 42.154   noise: 7.427\n",
      "Iter 451/500 - Loss: 5.175   lengthscale: 42.151   noise: 7.457\n",
      "acc: 0.5469034314155579;\t mnll:  0.7789244651794434; \t ece: 0.204195037484169\n",
      "current lengthscale: 100\n",
      "Iter 1/500 - Loss: 6.071   lengthscale: 100.000   noise: 0.693\n",
      "Iter 51/500 - Loss: 5.280   lengthscale: 100.616   noise: 4.225\n"
     ]
    },
    {
     "name": "stdout",
     "output_type": "stream",
     "text": [
      "Iter 101/500 - Loss: 5.200   lengthscale: 99.878   noise: 5.828\n",
      "Iter 151/500 - Loss: 5.182   lengthscale: 99.801   noise: 6.548\n",
      "Iter 201/500 - Loss: 5.178   lengthscale: 99.793   noise: 6.938\n",
      "Iter 251/500 - Loss: 5.176   lengthscale: 99.789   noise: 7.162\n",
      "Iter 301/500 - Loss: 5.175   lengthscale: 99.786   noise: 7.295\n",
      "Iter 351/500 - Loss: 5.175   lengthscale: 99.784   noise: 7.377\n",
      "Iter 401/500 - Loss: 5.175   lengthscale: 99.782   noise: 7.426\n",
      "Iter 451/500 - Loss: 5.175   lengthscale: 99.780   noise: 7.456\n",
      "acc: 0.5469034314155579;\t mnll:  0.7790426015853882; \t ece: 0.204195037484169\n",
      "{'lengthscales': [0.001, 0.01, 0.1, 0.2, 0.5, 1, 2, 5, 10, 20, 50, 100], 'accuracy_results': [0.5469034314155579, 0.5469034314155579, 0.5897085666656494, 0.5901639461517334, 0.5897085666656494, 0.5887978076934814, 0.6329690217971802, 0.6329690217971802, 0.5906193256378174, 0.5906193256378174, 0.5469034314155579, 0.5469034314155579], 'nll_results': [0.7792415022850037, 0.7790846228599548, 0.7338995933532715, 0.7335010766983032, 0.7360167503356934, 0.7331870794296265, 0.6593235731124878, 0.6610388159751892, 0.737812340259552, 0.7355854511260986, 0.7789244651794434, 0.7790426015853882], 'ece_results': [0.204195037484169, 0.204195037484169, 0.15972284972667694, 0.15972287952899933, 0.16172192990779877, 0.1605406552553177, 0.0960245355963707, 0.09747841209173203, 0.16322126984596252, 0.16126760840415955, 0.204195037484169, 0.204195037484169]}\n"
     ]
    },
    {
     "data": {
      "image/png": "[encoded data removed]",
      "text/plain": [
       "<Figure size 864x576 with 3 Axes>"
      ]
     },
     "metadata": {
      "needs_background": "light"
     },
     "output_type": "display_data"
    }
   ],
   "source": [
    "res = classification_models.select_init_lengthscale_with_CV(X_EEG_train, y_EEG_train, mode=\"DGP\", num_inducing_points=NUM_INDUCING_POINTS, \n",
    "                                    learn_noise=True, num_iter=500, lr=0.1,\n",
    "                                    lengthscales=LENGTHSCALES)\n",
    "\n",
    "print(res)    \n",
    "plot_res(res)"
   ]
  },
  {
   "cell_type": "code",
   "execution_count": 18,
   "metadata": {},
   "outputs": [
    {
     "name": "stdout",
     "output_type": "stream",
     "text": [
      "current lengthscale: 0.001\n",
      "Iter 1/500 - Loss: 3.069   lengthscale: 0.001   noise: 0.693\n",
      "Iter 51/500 - Loss: 2.941   lengthscale: 0.001   noise: 4.147\n",
      "Iter 101/500 - Loss: 2.937   lengthscale: 0.001   noise: 5.218\n",
      "Iter 151/500 - Loss: 2.937   lengthscale: 0.001   noise: 5.373\n",
      "Iter 201/500 - Loss: 2.937   lengthscale: 0.001   noise: 5.386\n",
      "Iter 251/500 - Loss: 2.937   lengthscale: 0.001   noise: 5.385\n",
      "Iter 301/500 - Loss: 2.937   lengthscale: 0.001   noise: 5.385\n",
      "Iter 351/500 - Loss: 2.937   lengthscale: 0.001   noise: 5.385\n",
      "Iter 401/500 - Loss: 2.937   lengthscale: 0.001   noise: 5.385\n",
      "Iter 451/500 - Loss: 2.937   lengthscale: 0.001   noise: 5.385\n",
      "acc: 0.5469034314155579;\t mnll:  0.7194223999977112; \t ece: 0.10464853048324585\n",
      "current lengthscale: 0.01\n",
      "Iter 1/500 - Loss: 3.069   lengthscale: 0.010   noise: 0.693\n",
      "Iter 51/500 - Loss: 2.941   lengthscale: 0.010   noise: 4.147\n",
      "Iter 101/500 - Loss: 2.937   lengthscale: 0.010   noise: 5.218\n",
      "Iter 151/500 - Loss: 2.937   lengthscale: 0.010   noise: 5.373\n",
      "Iter 201/500 - Loss: 2.937   lengthscale: 0.010   noise: 5.386\n",
      "Iter 251/500 - Loss: 2.937   lengthscale: 0.010   noise: 5.385\n",
      "Iter 301/500 - Loss: 2.937   lengthscale: 0.010   noise: 5.385\n",
      "Iter 351/500 - Loss: 2.937   lengthscale: 0.010   noise: 5.385\n",
      "Iter 401/500 - Loss: 2.937   lengthscale: 0.010   noise: 5.385\n",
      "Iter 451/500 - Loss: 2.937   lengthscale: 0.010   noise: 5.385\n",
      "acc: 0.5469034314155579;\t mnll:  0.7194223999977112; \t ece: 0.10464853048324585\n",
      "current lengthscale: 0.1\n",
      "Iter 1/500 - Loss: 3.068   lengthscale: 0.100   noise: 0.693\n",
      "Iter 51/500 - Loss: 2.936   lengthscale: 0.426   noise: 4.223\n",
      "Iter 101/500 - Loss: 2.923   lengthscale: 1.662   noise: 5.677\n",
      "Iter 151/500 - Loss: 2.918   lengthscale: 1.940   noise: 7.337\n",
      "Iter 201/500 - Loss: 2.917   lengthscale: 2.025   noise: 7.930\n",
      "Iter 251/500 - Loss: 2.917   lengthscale: 2.062   noise: 8.083\n",
      "Iter 301/500 - Loss: 2.917   lengthscale: 2.088   noise: 8.098\n",
      "Iter 351/500 - Loss: 2.917   lengthscale: 2.109   noise: 8.078\n",
      "Iter 401/500 - Loss: 2.917   lengthscale: 2.128   noise: 8.054\n",
      "Iter 451/500 - Loss: 2.917   lengthscale: 2.146   noise: 8.032\n",
      "acc: 0.5869763493537903;\t mnll:  0.6865900158882141; \t ece: 0.12210358679294586\n",
      "current lengthscale: 0.2\n",
      "Iter 1/500 - Loss: 3.068   lengthscale: 0.200   noise: 0.693\n",
      "Iter 51/500 - Loss: 2.932   lengthscale: 1.469   noise: 4.570\n",
      "Iter 101/500 - Loss: 2.920   lengthscale: 1.813   noise: 6.779\n",
      "Iter 151/500 - Loss: 2.918   lengthscale: 1.943   noise: 7.672\n",
      "Iter 201/500 - Loss: 2.917   lengthscale: 2.009   noise: 8.015\n",
      "Iter 251/500 - Loss: 2.917   lengthscale: 2.050   noise: 8.114\n",
      "Iter 301/500 - Loss: 2.917   lengthscale: 2.079   noise: 8.117\n",
      "Iter 351/500 - Loss: 2.917   lengthscale: 2.104   noise: 8.092\n",
      "Iter 401/500 - Loss: 2.917   lengthscale: 2.125   noise: 8.064\n",
      "Iter 451/500 - Loss: 2.917   lengthscale: 2.145   noise: 8.038\n",
      "acc: 0.5869763493537903;\t mnll:  0.6865915060043335; \t ece: 0.12210358679294586\n",
      "current lengthscale: 0.5\n",
      "Iter 1/500 - Loss: 3.060   lengthscale: 0.500   noise: 0.693\n",
      "Iter 51/500 - Loss: 2.932   lengthscale: 1.480   noise: 4.568\n",
      "Iter 101/500 - Loss: 2.920   lengthscale: 1.825   noise: 6.716\n",
      "Iter 151/500 - Loss: 2.918   lengthscale: 1.949   noise: 7.613\n",
      "Iter 201/500 - Loss: 2.917   lengthscale: 2.020   noise: 7.971\n",
      "Iter 251/500 - Loss: 2.917   lengthscale: 2.064   noise: 8.083\n",
      "Iter 301/500 - Loss: 2.917   lengthscale: 2.095   noise: 8.094\n",
      "Iter 351/500 - Loss: 2.917   lengthscale: 2.120   noise: 8.072\n",
      "Iter 401/500 - Loss: 2.917   lengthscale: 2.141   noise: 8.046\n",
      "Iter 451/500 - Loss: 2.917   lengthscale: 2.161   noise: 8.021\n",
      "acc: 0.5874316692352295;\t mnll:  0.686657190322876; \t ece: 0.12233076989650726\n",
      "current lengthscale: 1\n",
      "Iter 1/500 - Loss: 3.048   lengthscale: 1.000   noise: 0.693\n",
      "Iter 51/500 - Loss: 2.932   lengthscale: 1.564   noise: 4.535\n",
      "Iter 101/500 - Loss: 2.920   lengthscale: 1.835   noise: 6.682\n",
      "Iter 151/500 - Loss: 2.918   lengthscale: 1.963   noise: 7.583\n",
      "Iter 201/500 - Loss: 2.917   lengthscale: 2.034   noise: 7.946\n",
      "Iter 251/500 - Loss: 2.917   lengthscale: 2.077   noise: 8.062\n",
      "Iter 301/500 - Loss: 2.917   lengthscale: 2.108   noise: 8.076\n",
      "Iter 351/500 - Loss: 2.917   lengthscale: 2.133   noise: 8.057\n",
      "Iter 401/500 - Loss: 2.917   lengthscale: 2.154   noise: 8.032\n",
      "Iter 451/500 - Loss: 2.917   lengthscale: 2.173   noise: 8.009\n",
      "acc: 0.5869763493537903;\t mnll:  0.6867057085037231; \t ece: 0.12287597358226776\n",
      "current lengthscale: 2\n",
      "Iter 1/500 - Loss: 3.046   lengthscale: 2.000   noise: 0.693\n",
      "Iter 51/500 - Loss: 2.932   lengthscale: 1.530   noise: 4.527\n",
      "Iter 101/500 - Loss: 2.919   lengthscale: 1.836   noise: 6.679\n",
      "Iter 151/500 - Loss: 2.917   lengthscale: 1.968   noise: 7.580\n",
      "Iter 201/500 - Loss: 2.917   lengthscale: 2.038   noise: 7.942\n",
      "Iter 251/500 - Loss: 2.917   lengthscale: 2.082   noise: 8.057\n",
      "Iter 301/500 - Loss: 2.917   lengthscale: 2.112   noise: 8.072\n",
      "Iter 351/500 - Loss: 2.917   lengthscale: 2.136   noise: 8.053\n",
      "Iter 401/500 - Loss: 2.917   lengthscale: 2.157   noise: 8.028\n",
      "Iter 451/500 - Loss: 2.917   lengthscale: 2.176   noise: 8.005\n",
      "acc: 0.5869763493537903;\t mnll:  0.686718761920929; \t ece: 0.12310314178466797\n",
      "current lengthscale: 5\n",
      "Iter 1/500 - Loss: 3.067   lengthscale: 5.000   noise: 0.693\n",
      "Iter 51/500 - Loss: 2.933   lengthscale: 1.250   noise: 4.456\n",
      "Iter 101/500 - Loss: 2.920   lengthscale: 1.828   noise: 6.446\n",
      "Iter 151/500 - Loss: 2.917   lengthscale: 1.999   noise: 7.377\n",
      "Iter 201/500 - Loss: 2.917   lengthscale: 2.081   noise: 7.794\n",
      "Iter 251/500 - Loss: 2.917   lengthscale: 2.129   noise: 7.954\n",
      "Iter 301/500 - Loss: 2.917   lengthscale: 2.161   noise: 7.997\n",
      "Iter 351/500 - Loss: 2.917   lengthscale: 2.184   noise: 7.995\n",
      "Iter 401/500 - Loss: 2.917   lengthscale: 2.204   noise: 7.979\n",
      "Iter 451/500 - Loss: 2.917   lengthscale: 2.221   noise: 7.961\n",
      "acc: 0.5851548314094543;\t mnll:  0.6869015097618103; \t ece: 0.12514767050743103\n",
      "current lengthscale: 10\n",
      "Iter 1/500 - Loss: 3.078   lengthscale: 10.000   noise: 0.693\n",
      "Iter 51/500 - Loss: 2.944   lengthscale: 4.146   noise: 4.632\n",
      "Iter 101/500 - Loss: 2.919   lengthscale: 2.068   noise: 6.476\n",
      "Iter 151/500 - Loss: 2.917   lengthscale: 2.104   noise: 7.235\n",
      "Iter 201/500 - Loss: 2.917   lengthscale: 2.174   noise: 7.630\n",
      "Iter 251/500 - Loss: 2.917   lengthscale: 2.219   noise: 7.815\n",
      "Iter 301/500 - Loss: 2.916   lengthscale: 2.247   noise: 7.887\n",
      "Iter 351/500 - Loss: 2.916   lengthscale: 2.265   noise: 7.907\n",
      "Iter 401/500 - Loss: 2.916   lengthscale: 2.278   noise: 7.907\n",
      "Iter 451/500 - Loss: 2.916   lengthscale: 2.289   noise: 7.900\n",
      "acc: 0.5865209698677063;\t mnll:  0.687177300453186; \t ece: 0.12437528371810913\n",
      "current lengthscale: 20\n",
      "Iter 1/500 - Loss: 3.081   lengthscale: 20.000   noise: 0.693\n",
      "Iter 51/500 - Loss: 2.972   lengthscale: 15.133   noise: 4.768\n",
      "Iter 101/500 - Loss: 2.945   lengthscale: 14.354   noise: 7.485\n",
      "Iter 151/500 - Loss: 2.939   lengthscale: 14.321   noise: 8.932\n",
      "Iter 201/500 - Loss: 2.938   lengthscale: 14.305   noise: 9.766\n",
      "Iter 251/500 - Loss: 2.937   lengthscale: 14.294   noise: 10.246\n",
      "Iter 301/500 - Loss: 2.937   lengthscale: 14.284   noise: 10.512\n",
      "Iter 351/500 - Loss: 2.937   lengthscale: 14.276   noise: 10.651\n",
      "Iter 401/500 - Loss: 2.937   lengthscale: 14.269   noise: 10.720\n",
      "Iter 451/500 - Loss: 2.937   lengthscale: 14.262   noise: 10.751\n",
      "acc: 0.5469034314155579;\t mnll:  0.7194215655326843; \t ece: 0.10464853048324585\n",
      "current lengthscale: 50\n",
      "Iter 1/500 - Loss: 3.083   lengthscale: 50.000   noise: 0.693\n",
      "Iter 51/500 - Loss: 2.970   lengthscale: 47.201   noise: 4.767\n",
      "Iter 101/500 - Loss: 2.945   lengthscale: 47.005   noise: 7.466\n",
      "Iter 151/500 - Loss: 2.939   lengthscale: 46.957   noise: 8.913\n",
      "Iter 201/500 - Loss: 2.938   lengthscale: 46.926   noise: 9.751\n",
      "Iter 251/500 - Loss: 2.937   lengthscale: 46.902   noise: 10.236\n",
      "Iter 301/500 - Loss: 2.937   lengthscale: 46.883   noise: 10.505\n",
      "Iter 351/500 - Loss: 2.937   lengthscale: 46.866   noise: 10.647\n",
      "Iter 401/500 - Loss: 2.937   lengthscale: 46.852   noise: 10.717\n",
      "Iter 451/500 - Loss: 2.937   lengthscale: 46.839   noise: 10.750\n",
      "acc: 0.5469034314155579;\t mnll:  0.7194225788116455; \t ece: 0.10464853048324585\n",
      "current lengthscale: 100\n",
      "Iter 1/500 - Loss: 3.083   lengthscale: 100.000   noise: 0.693\n",
      "Iter 51/500 - Loss: 2.970   lengthscale: 97.073   noise: 4.766\n"
     ]
    },
    {
     "name": "stdout",
     "output_type": "stream",
     "text": [
      "Iter 101/500 - Loss: 2.945   lengthscale: 96.832   noise: 7.466\n",
      "Iter 151/500 - Loss: 2.939   lengthscale: 96.770   noise: 8.912\n",
      "Iter 201/500 - Loss: 2.938   lengthscale: 96.731   noise: 9.751\n",
      "Iter 251/500 - Loss: 2.937   lengthscale: 96.702   noise: 10.235\n",
      "Iter 301/500 - Loss: 2.937   lengthscale: 96.678   noise: 10.505\n",
      "Iter 351/500 - Loss: 2.937   lengthscale: 96.658   noise: 10.647\n",
      "Iter 401/500 - Loss: 2.937   lengthscale: 96.640   noise: 10.717\n",
      "Iter 451/500 - Loss: 2.937   lengthscale: 96.624   noise: 10.750\n",
      "acc: 0.5469034314155579;\t mnll:  0.7194226384162903; \t ece: 0.10464853048324585\n",
      "{'lengthscales': [0.001, 0.01, 0.1, 0.2, 0.5, 1, 2, 5, 10, 20, 50, 100], 'accuracy_results': [0.5469034314155579, 0.5469034314155579, 0.5869763493537903, 0.5869763493537903, 0.5874316692352295, 0.5869763493537903, 0.5869763493537903, 0.5851548314094543, 0.5865209698677063, 0.5469034314155579, 0.5469034314155579, 0.5469034314155579], 'nll_results': [0.7194223999977112, 0.7194223999977112, 0.6865900158882141, 0.6865915060043335, 0.686657190322876, 0.6867057085037231, 0.686718761920929, 0.6869015097618103, 0.687177300453186, 0.7194215655326843, 0.7194225788116455, 0.7194226384162903], 'ece_results': [0.10464853048324585, 0.10464853048324585, 0.12210358679294586, 0.12210358679294586, 0.12233076989650726, 0.12287597358226776, 0.12310314178466797, 0.12514767050743103, 0.12437528371810913, 0.10464853048324585, 0.10464853048324585, 0.10464853048324585]}\n"
     ]
    },
    {
     "data": {
      "image/png": "[encoded data removed]",
      "text/plain": [
       "<Figure size 864x576 with 3 Axes>"
      ]
     },
     "metadata": {
      "needs_background": "light"
     },
     "output_type": "display_data"
    }
   ],
   "source": [
    "res = classification_models.select_init_lengthscale_with_CV(X_EEG_train, y_EEG_train, mode=\"LMGP\", num_inducing_points=NUM_INDUCING_POINTS, \n",
    "                                    learn_noise=True, num_iter=500, lr=0.1,\n",
    "                                    lengthscales=LENGTHSCALES)\n",
    "\n",
    "print(res)    \n",
    "plot_res(res)"
   ]
  },
  {
   "cell_type": "code",
   "execution_count": 19,
   "metadata": {},
   "outputs": [
    {
     "name": "stdout",
     "output_type": "stream",
     "text": [
      "current lengthscale: 0.001\n",
      "Iter 1/500 - Loss: 2.349   lengthscale: 0.001   noise: 0.693\n",
      "Iter 51/500 - Loss: 2.330   lengthscale: 0.001   noise: 0.722\n",
      "Iter 101/500 - Loss: 2.330   lengthscale: 0.001   noise: 0.724\n",
      "Iter 151/500 - Loss: 2.330   lengthscale: 0.001   noise: 0.724\n",
      "Iter 201/500 - Loss: 2.330   lengthscale: 0.001   noise: 0.724\n",
      "Iter 251/500 - Loss: 2.330   lengthscale: 0.001   noise: 0.724\n",
      "Iter 301/500 - Loss: 2.330   lengthscale: 0.001   noise: 0.724\n",
      "Iter 351/500 - Loss: 2.330   lengthscale: 0.001   noise: 0.724\n",
      "Iter 401/500 - Loss: 2.330   lengthscale: 0.001   noise: 0.724\n",
      "Iter 451/500 - Loss: 2.330   lengthscale: 0.001   noise: 0.724\n",
      "acc: 0.5469034314155579;\t mnll:  0.6899930238723755; \t ece: 0.005102081689983606\n",
      "current lengthscale: 0.01\n",
      "Iter 1/500 - Loss: 2.349   lengthscale: 0.010   noise: 0.693\n",
      "Iter 51/500 - Loss: 2.330   lengthscale: 0.010   noise: 0.722\n",
      "Iter 101/500 - Loss: 2.330   lengthscale: 0.010   noise: 0.724\n",
      "Iter 151/500 - Loss: 2.330   lengthscale: 0.010   noise: 0.724\n",
      "Iter 201/500 - Loss: 2.330   lengthscale: 0.010   noise: 0.724\n",
      "Iter 251/500 - Loss: 2.330   lengthscale: 0.010   noise: 0.724\n",
      "Iter 301/500 - Loss: 2.330   lengthscale: 0.010   noise: 0.724\n",
      "Iter 351/500 - Loss: 2.330   lengthscale: 0.010   noise: 0.724\n",
      "Iter 401/500 - Loss: 2.330   lengthscale: 0.010   noise: 0.724\n",
      "Iter 451/500 - Loss: 2.330   lengthscale: 0.010   noise: 0.724\n",
      "acc: 0.5469034314155579;\t mnll:  0.6899930238723755; \t ece: 0.005102081689983606\n",
      "current lengthscale: 0.1\n",
      "Iter 1/500 - Loss: 2.348   lengthscale: 0.100   noise: 0.693\n",
      "Iter 51/500 - Loss: 2.153   lengthscale: 0.761   noise: 0.156\n",
      "Iter 101/500 - Loss: 2.133   lengthscale: 0.821   noise: 0.126\n",
      "Iter 151/500 - Loss: 2.127   lengthscale: 0.863   noise: 0.129\n",
      "Iter 201/500 - Loss: 2.124   lengthscale: 0.891   noise: 0.134\n",
      "Iter 251/500 - Loss: 2.123   lengthscale: 0.912   noise: 0.139\n",
      "Iter 301/500 - Loss: 2.122   lengthscale: 0.929   noise: 0.143\n",
      "Iter 351/500 - Loss: 2.122   lengthscale: 0.942   noise: 0.146\n",
      "Iter 401/500 - Loss: 2.121   lengthscale: 0.952   noise: 0.149\n",
      "Iter 451/500 - Loss: 2.121   lengthscale: 0.961   noise: 0.152\n",
      "acc: 0.6894353628158569;\t mnll:  0.5549491047859192; \t ece: 0.01828712411224842\n",
      "current lengthscale: 0.2\n",
      "Iter 1/500 - Loss: 2.340   lengthscale: 0.200   noise: 0.693\n",
      "Iter 51/500 - Loss: 2.148   lengthscale: 0.738   noise: 0.139\n",
      "Iter 101/500 - Loss: 2.132   lengthscale: 0.826   noise: 0.126\n",
      "Iter 151/500 - Loss: 2.127   lengthscale: 0.867   noise: 0.130\n",
      "Iter 201/500 - Loss: 2.124   lengthscale: 0.894   noise: 0.135\n",
      "Iter 251/500 - Loss: 2.123   lengthscale: 0.915   noise: 0.140\n",
      "Iter 301/500 - Loss: 2.122   lengthscale: 0.931   noise: 0.144\n",
      "Iter 351/500 - Loss: 2.122   lengthscale: 0.944   noise: 0.147\n",
      "Iter 401/500 - Loss: 2.121   lengthscale: 0.954   noise: 0.150\n",
      "Iter 451/500 - Loss: 2.121   lengthscale: 0.963   noise: 0.152\n",
      "acc: 0.6898906826972961;\t mnll:  0.5549522638320923; \t ece: 0.019922766834497452\n",
      "current lengthscale: 0.5\n",
      "Iter 1/500 - Loss: 2.282   lengthscale: 0.500   noise: 0.693\n",
      "Iter 51/500 - Loss: 2.151   lengthscale: 0.737   noise: 0.109\n",
      "Iter 101/500 - Loss: 2.134   lengthscale: 0.818   noise: 0.126\n",
      "Iter 151/500 - Loss: 2.128   lengthscale: 0.857   noise: 0.129\n",
      "Iter 201/500 - Loss: 2.125   lengthscale: 0.884   noise: 0.133\n",
      "Iter 251/500 - Loss: 2.123   lengthscale: 0.905   noise: 0.138\n",
      "Iter 301/500 - Loss: 2.123   lengthscale: 0.922   noise: 0.142\n",
      "Iter 351/500 - Loss: 2.122   lengthscale: 0.935   noise: 0.145\n",
      "Iter 401/500 - Loss: 2.121   lengthscale: 0.946   noise: 0.148\n",
      "Iter 451/500 - Loss: 2.121   lengthscale: 0.955   noise: 0.150\n",
      "acc: 0.6898906826972961;\t mnll:  0.5549428462982178; \t ece: 0.01610630936920643\n",
      "current lengthscale: 1\n",
      "Iter 1/500 - Loss: 2.269   lengthscale: 1.000   noise: 0.693\n",
      "Iter 51/500 - Loss: 2.150   lengthscale: 0.758   noise: 0.157\n",
      "Iter 101/500 - Loss: 2.131   lengthscale: 0.830   noise: 0.122\n",
      "Iter 151/500 - Loss: 2.126   lengthscale: 0.872   noise: 0.130\n",
      "Iter 201/500 - Loss: 2.124   lengthscale: 0.900   noise: 0.136\n",
      "Iter 251/500 - Loss: 2.123   lengthscale: 0.920   noise: 0.141\n",
      "Iter 301/500 - Loss: 2.122   lengthscale: 0.936   noise: 0.145\n",
      "Iter 351/500 - Loss: 2.121   lengthscale: 0.949   noise: 0.148\n",
      "Iter 401/500 - Loss: 2.121   lengthscale: 0.959   noise: 0.151\n",
      "Iter 451/500 - Loss: 2.121   lengthscale: 0.967   noise: 0.154\n",
      "acc: 0.6894353628158569;\t mnll:  0.554964005947113; \t ece: 0.01810539700090885\n",
      "current lengthscale: 2\n",
      "Iter 1/500 - Loss: 2.275   lengthscale: 2.000   noise: 0.693\n",
      "Iter 51/500 - Loss: 2.155   lengthscale: 0.834   noise: 0.340\n",
      "Iter 101/500 - Loss: 2.131   lengthscale: 0.827   noise: 0.109\n",
      "Iter 151/500 - Loss: 2.126   lengthscale: 0.875   noise: 0.132\n",
      "Iter 201/500 - Loss: 2.124   lengthscale: 0.903   noise: 0.136\n",
      "Iter 251/500 - Loss: 2.122   lengthscale: 0.923   noise: 0.141\n",
      "Iter 301/500 - Loss: 2.122   lengthscale: 0.939   noise: 0.145\n",
      "Iter 351/500 - Loss: 2.121   lengthscale: 0.951   noise: 0.149\n",
      "Iter 401/500 - Loss: 2.121   lengthscale: 0.961   noise: 0.152\n",
      "Iter 451/500 - Loss: 2.121   lengthscale: 0.969   noise: 0.154\n",
      "acc: 0.6894353628158569;\t mnll:  0.5549687743186951; \t ece: 0.018696025013923645\n",
      "current lengthscale: 5\n",
      "Iter 1/500 - Loss: 2.315   lengthscale: 5.000   noise: 0.693\n",
      "Iter 51/500 - Loss: 2.160   lengthscale: 0.851   noise: 0.510\n",
      "Iter 101/500 - Loss: 2.129   lengthscale: 0.840   noise: 0.110\n",
      "Iter 151/500 - Loss: 2.124   lengthscale: 0.891   noise: 0.132\n",
      "Iter 201/500 - Loss: 2.123   lengthscale: 0.919   noise: 0.139\n",
      "Iter 251/500 - Loss: 2.122   lengthscale: 0.938   noise: 0.145\n",
      "Iter 301/500 - Loss: 2.121   lengthscale: 0.953   noise: 0.149\n",
      "Iter 351/500 - Loss: 2.121   lengthscale: 0.964   noise: 0.152\n",
      "Iter 401/500 - Loss: 2.121   lengthscale: 0.973   noise: 0.155\n",
      "Iter 451/500 - Loss: 2.121   lengthscale: 0.980   noise: 0.157\n",
      "acc: 0.688069224357605;\t mnll:  0.5550034642219543; \t ece: 0.017878230661153793\n",
      "current lengthscale: 10\n",
      "Iter 1/500 - Loss: 2.348   lengthscale: 10.000   noise: 0.693\n",
      "Iter 51/500 - Loss: 2.236   lengthscale: 4.478   noise: 1.172\n",
      "Iter 101/500 - Loss: 2.128   lengthscale: 0.875   noise: 0.137\n",
      "Iter 151/500 - Loss: 2.124   lengthscale: 0.898   noise: 0.124\n",
      "Iter 201/500 - Loss: 2.122   lengthscale: 0.933   noise: 0.143\n",
      "Iter 251/500 - Loss: 2.121   lengthscale: 0.952   noise: 0.148\n",
      "Iter 301/500 - Loss: 2.121   lengthscale: 0.966   noise: 0.153\n",
      "Iter 351/500 - Loss: 2.121   lengthscale: 0.976   noise: 0.156\n",
      "Iter 401/500 - Loss: 2.121   lengthscale: 0.983   noise: 0.158\n",
      "Iter 451/500 - Loss: 2.121   lengthscale: 0.988   noise: 0.160\n",
      "acc: 0.6894353628158569;\t mnll:  0.5550428628921509; \t ece: 0.01869603805243969\n",
      "current lengthscale: 20\n",
      "Iter 1/500 - Loss: 2.366   lengthscale: 20.000   noise: 0.693\n",
      "Iter 51/500 - Loss: 2.295   lengthscale: 14.200   noise: 1.222\n",
      "Iter 101/500 - Loss: 2.243   lengthscale: 6.977   noise: 1.230\n",
      "Iter 151/500 - Loss: 2.121   lengthscale: 0.964   noise: 0.163\n",
      "Iter 201/500 - Loss: 2.121   lengthscale: 0.972   noise: 0.146\n",
      "Iter 251/500 - Loss: 2.121   lengthscale: 0.984   noise: 0.158\n",
      "Iter 301/500 - Loss: 2.121   lengthscale: 0.990   noise: 0.160\n",
      "Iter 351/500 - Loss: 2.121   lengthscale: 0.994   noise: 0.162\n",
      "Iter 401/500 - Loss: 2.121   lengthscale: 0.997   noise: 0.163\n",
      "Iter 451/500 - Loss: 2.121   lengthscale: 0.999   noise: 0.163\n",
      "acc: 0.6898906826972961;\t mnll:  0.5550947189331055; \t ece: 0.019422972574830055\n",
      "current lengthscale: 50\n",
      "Iter 1/500 - Loss: 2.374   lengthscale: 50.000   noise: 0.693\n",
      "Iter 51/500 - Loss: 2.331   lengthscale: 47.483   noise: 1.401\n",
      "Iter 101/500 - Loss: 2.330   lengthscale: 47.351   noise: 1.445\n",
      "Iter 151/500 - Loss: 2.330   lengthscale: 47.330   noise: 1.448\n",
      "Iter 201/500 - Loss: 2.330   lengthscale: 47.317   noise: 1.448\n",
      "Iter 251/500 - Loss: 2.330   lengthscale: 47.307   noise: 1.448\n",
      "Iter 301/500 - Loss: 2.330   lengthscale: 47.299   noise: 1.448\n",
      "Iter 351/500 - Loss: 2.330   lengthscale: 47.292   noise: 1.447\n",
      "Iter 401/500 - Loss: 2.330   lengthscale: 47.286   noise: 1.447\n",
      "Iter 451/500 - Loss: 2.330   lengthscale: 47.280   noise: 1.447\n",
      "acc: 0.5469034314155579;\t mnll:  0.6899901032447815; \t ece: 0.005102081689983606\n",
      "current lengthscale: 100\n",
      "Iter 1/500 - Loss: 2.375   lengthscale: 100.000   noise: 0.693\n",
      "Iter 51/500 - Loss: 2.331   lengthscale: 97.482   noise: 1.402\n"
     ]
    },
    {
     "name": "stdout",
     "output_type": "stream",
     "text": [
      "Iter 101/500 - Loss: 2.330   lengthscale: 97.341   noise: 1.445\n",
      "Iter 151/500 - Loss: 2.330   lengthscale: 97.318   noise: 1.448\n",
      "Iter 201/500 - Loss: 2.330   lengthscale: 97.304   noise: 1.448\n",
      "Iter 251/500 - Loss: 2.330   lengthscale: 97.293   noise: 1.448\n",
      "Iter 301/500 - Loss: 2.330   lengthscale: 97.284   noise: 1.448\n",
      "Iter 351/500 - Loss: 2.330   lengthscale: 97.277   noise: 1.448\n",
      "Iter 401/500 - Loss: 2.330   lengthscale: 97.270   noise: 1.448\n",
      "Iter 451/500 - Loss: 2.330   lengthscale: 97.265   noise: 1.447\n",
      "acc: 0.5469034314155579;\t mnll:  0.6899813413619995; \t ece: 0.005102081689983606\n",
      "{'lengthscales': [0.001, 0.01, 0.1, 0.2, 0.5, 1, 2, 5, 10, 20, 50, 100], 'accuracy_results': [0.5469034314155579, 0.5469034314155579, 0.6894353628158569, 0.6898906826972961, 0.6898906826972961, 0.6894353628158569, 0.6894353628158569, 0.688069224357605, 0.6894353628158569, 0.6898906826972961, 0.5469034314155579, 0.5469034314155579], 'nll_results': [0.6899930238723755, 0.6899930238723755, 0.5549491047859192, 0.5549522638320923, 0.5549428462982178, 0.554964005947113, 0.5549687743186951, 0.5550034642219543, 0.5550428628921509, 0.5550947189331055, 0.6899901032447815, 0.6899813413619995], 'ece_results': [0.005102081689983606, 0.005102081689983606, 0.01828712411224842, 0.019922766834497452, 0.01610630936920643, 0.01810539700090885, 0.018696025013923645, 0.017878230661153793, 0.01869603805243969, 0.019422972574830055, 0.005102081689983606, 0.005102081689983606]}\n"
     ]
    },
    {
     "data": {
      "image/png": "[encoded data removed]",
      "text/plain": [
       "<Figure size 864x576 with 3 Axes>"
      ]
     },
     "metadata": {
      "needs_background": "light"
     },
     "output_type": "display_data"
    }
   ],
   "source": [
    "res = classification_models.select_init_lengthscale_with_CV(X_EEG_train, y_EEG_train, mode=\"LMGP_con\", num_inducing_points=NUM_INDUCING_POINTS, \n",
    "                                    learn_noise=True, num_iter=500, lr=0.1,\n",
    "                                    lengthscales=LENGTHSCALES)\n",
    "\n",
    "print(res)    \n",
    "plot_res(res)"
   ]
  },
  {
   "cell_type": "markdown",
   "metadata": {},
   "source": [
    "## takeaways\n",
    "\n",
    "1. In this particular case, 10 is probably the best initial lengthscale for the EEG dataset (unnormalized)\n",
    "2. In this particular case, 2-5 is probably the best initial lengthscale for the EEG dataset (standardized)\n",
    "3. Accuracy, mean NLL and ECE roughly give the same answers\n",
    "4. GPC and both LM versions roughly give the same answers\n",
    "\n",
    "Therefore, we'll choose the hyperparameter based on the accuracy of GPC to reduce the complexity and use it for all experiments of a specific dataset"
   ]
  },
  {
   "cell_type": "code",
   "execution_count": null,
   "metadata": {},
   "outputs": [],
   "source": []
  },
  {
   "cell_type": "code",
   "execution_count": null,
   "metadata": {},
   "outputs": [],
   "source": []
  }
 ],
 "metadata": {
  "kernelspec": {
   "display_name": "Python 3",
   "language": "python",
   "name": "python3"
  },
  "language_info": {
   "codemirror_mode": {
    "name": "ipython",
    "version": 3
   },
   "file_extension": ".py",
   "mimetype": "text/x-python",
   "name": "python",
   "nbconvert_exporter": "python",
   "pygments_lexer": "ipython3",
   "version": "3.8.5"
  }
 },
 "nbformat": 4,
 "nbformat_minor": 5
}
