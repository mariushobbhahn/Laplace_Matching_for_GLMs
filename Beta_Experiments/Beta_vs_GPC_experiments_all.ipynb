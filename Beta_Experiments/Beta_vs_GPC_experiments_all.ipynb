{
 "cells": [
  {
   "cell_type": "markdown",
   "metadata": {},
   "source": [
    "# TODOs\n",
    "\n",
    "- TODO: description"
   ]
  },
  {
   "cell_type": "code",
   "execution_count": 1,
   "metadata": {},
   "outputs": [],
   "source": [
    "import numpy as np\n",
    "import torch\n",
    "import gpytorch\n",
    "import pandas as pd\n",
    "import matplotlib.pyplot as plt\n",
    "from gpytorch.models import ExactGP\n",
    "from gpytorch.likelihoods import DirichletClassificationLikelihood\n",
    "from gpytorch.means import ConstantMean\n",
    "from gpytorch.kernels import ScaleKernel, RBFKernel"
   ]
  },
  {
   "cell_type": "code",
   "execution_count": 2,
   "metadata": {},
   "outputs": [
    {
     "name": "stdout",
     "output_type": "stream",
     "text": [
      "1.699593426303529 5.499999861629998\n"
     ]
    }
   ],
   "source": [
    "from tueplots import bundles\n",
    "plt.rcParams.update(bundles.neurips2021())\n",
    "figheight = bundles.neurips2021()[\"figure.figsize\"][1]\n",
    "figwidth = bundles.neurips2021()[\"figure.figsize\"][0]\n",
    "print(figheight, figwidth)"
   ]
  },
  {
   "cell_type": "code",
   "execution_count": 3,
   "metadata": {},
   "outputs": [],
   "source": [
    "import sys\n",
    "import os\n",
    "\n",
    "py_file_location = '../utils'\n",
    "sys.path.append(os.path.abspath(py_file_location))\n",
    "py_file_location = '../models'\n",
    "sys.path.append(os.path.abspath(py_file_location))\n",
    "\n",
    "import classification_utils\n",
    "import classification_models"
   ]
  },
  {
   "cell_type": "code",
   "execution_count": null,
   "metadata": {},
   "outputs": [],
   "source": [
    "seed = 5 #1,2,3,4,5\n",
    "np.random.seed(seed)\n",
    "torch.manual_seed(seed)"
   ]
  },
  {
   "cell_type": "markdown",
   "metadata": {},
   "source": [
    "# Load all datasets\n",
    "\n",
    "The four datasets we use are \n",
    "- EEG\n",
    "- HTRU2\n",
    "- MAGIC\n",
    "- MiniBoo\n",
    "All of them are UCI datasets that were already used for the Dirichlet GPC paper"
   ]
  },
  {
   "cell_type": "code",
   "execution_count": 4,
   "metadata": {},
   "outputs": [
    {
     "data": {
      "text/html": [
       "<div>\n",
       "<style scoped>\n",
       "    .dataframe tbody tr th:only-of-type {\n",
       "        vertical-align: middle;\n",
       "    }\n",
       "\n",
       "    .dataframe tbody tr th {\n",
       "        vertical-align: top;\n",
       "    }\n",
       "\n",
       "    .dataframe thead th {\n",
       "        text-align: right;\n",
       "    }\n",
       "</style>\n",
       "<table border=\"1\" class=\"dataframe\">\n",
       "  <thead>\n",
       "    <tr style=\"text-align: right;\">\n",
       "      <th></th>\n",
       "      <th>0</th>\n",
       "      <th>1</th>\n",
       "      <th>2</th>\n",
       "      <th>3</th>\n",
       "      <th>4</th>\n",
       "      <th>5</th>\n",
       "      <th>6</th>\n",
       "      <th>7</th>\n",
       "      <th>8</th>\n",
       "      <th>9</th>\n",
       "      <th>10</th>\n",
       "      <th>11</th>\n",
       "      <th>12</th>\n",
       "      <th>13</th>\n",
       "      <th>14</th>\n",
       "    </tr>\n",
       "  </thead>\n",
       "  <tbody>\n",
       "    <tr>\n",
       "      <th>0</th>\n",
       "      <td>4329.23</td>\n",
       "      <td>4009.23</td>\n",
       "      <td>4289.23</td>\n",
       "      <td>4148.21</td>\n",
       "      <td>4350.26</td>\n",
       "      <td>4586.15</td>\n",
       "      <td>4096.92</td>\n",
       "      <td>4641.03</td>\n",
       "      <td>4222.05</td>\n",
       "      <td>4238.46</td>\n",
       "      <td>4211.28</td>\n",
       "      <td>4280.51</td>\n",
       "      <td>4635.90</td>\n",
       "      <td>4393.85</td>\n",
       "      <td>0</td>\n",
       "    </tr>\n",
       "    <tr>\n",
       "      <th>1</th>\n",
       "      <td>4324.62</td>\n",
       "      <td>4004.62</td>\n",
       "      <td>4293.85</td>\n",
       "      <td>4148.72</td>\n",
       "      <td>4342.05</td>\n",
       "      <td>4586.67</td>\n",
       "      <td>4097.44</td>\n",
       "      <td>4638.97</td>\n",
       "      <td>4210.77</td>\n",
       "      <td>4226.67</td>\n",
       "      <td>4207.69</td>\n",
       "      <td>4279.49</td>\n",
       "      <td>4632.82</td>\n",
       "      <td>4384.10</td>\n",
       "      <td>0</td>\n",
       "    </tr>\n",
       "    <tr>\n",
       "      <th>2</th>\n",
       "      <td>4327.69</td>\n",
       "      <td>4006.67</td>\n",
       "      <td>4295.38</td>\n",
       "      <td>4156.41</td>\n",
       "      <td>4336.92</td>\n",
       "      <td>4583.59</td>\n",
       "      <td>4096.92</td>\n",
       "      <td>4630.26</td>\n",
       "      <td>4207.69</td>\n",
       "      <td>4222.05</td>\n",
       "      <td>4206.67</td>\n",
       "      <td>4282.05</td>\n",
       "      <td>4628.72</td>\n",
       "      <td>4389.23</td>\n",
       "      <td>0</td>\n",
       "    </tr>\n",
       "    <tr>\n",
       "      <th>3</th>\n",
       "      <td>4328.72</td>\n",
       "      <td>4011.79</td>\n",
       "      <td>4296.41</td>\n",
       "      <td>4155.90</td>\n",
       "      <td>4343.59</td>\n",
       "      <td>4582.56</td>\n",
       "      <td>4097.44</td>\n",
       "      <td>4630.77</td>\n",
       "      <td>4217.44</td>\n",
       "      <td>4235.38</td>\n",
       "      <td>4210.77</td>\n",
       "      <td>4287.69</td>\n",
       "      <td>4632.31</td>\n",
       "      <td>4396.41</td>\n",
       "      <td>0</td>\n",
       "    </tr>\n",
       "    <tr>\n",
       "      <th>4</th>\n",
       "      <td>4326.15</td>\n",
       "      <td>4011.79</td>\n",
       "      <td>4292.31</td>\n",
       "      <td>4151.28</td>\n",
       "      <td>4347.69</td>\n",
       "      <td>4586.67</td>\n",
       "      <td>4095.90</td>\n",
       "      <td>4627.69</td>\n",
       "      <td>4210.77</td>\n",
       "      <td>4244.10</td>\n",
       "      <td>4212.82</td>\n",
       "      <td>4288.21</td>\n",
       "      <td>4632.82</td>\n",
       "      <td>4398.46</td>\n",
       "      <td>0</td>\n",
       "    </tr>\n",
       "  </tbody>\n",
       "</table>\n",
       "</div>"
      ],
      "text/plain": [
       "        0        1        2        3        4        5        6        7   \\\n",
       "0  4329.23  4009.23  4289.23  4148.21  4350.26  4586.15  4096.92  4641.03   \n",
       "1  4324.62  4004.62  4293.85  4148.72  4342.05  4586.67  4097.44  4638.97   \n",
       "2  4327.69  4006.67  4295.38  4156.41  4336.92  4583.59  4096.92  4630.26   \n",
       "3  4328.72  4011.79  4296.41  4155.90  4343.59  4582.56  4097.44  4630.77   \n",
       "4  4326.15  4011.79  4292.31  4151.28  4347.69  4586.67  4095.90  4627.69   \n",
       "\n",
       "        8        9        10       11       12       13  14  \n",
       "0  4222.05  4238.46  4211.28  4280.51  4635.90  4393.85   0  \n",
       "1  4210.77  4226.67  4207.69  4279.49  4632.82  4384.10   0  \n",
       "2  4207.69  4222.05  4206.67  4282.05  4628.72  4389.23   0  \n",
       "3  4217.44  4235.38  4210.77  4287.69  4632.31  4396.41   0  \n",
       "4  4210.77  4244.10  4212.82  4288.21  4632.82  4398.46   0  "
      ]
     },
     "execution_count": 4,
     "metadata": {},
     "output_type": "execute_result"
    }
   ],
   "source": [
    "### load EEG dataset\n",
    "data_files = \"data/\"\n",
    "\n",
    "EEG_filename = \"EEG_Eye_State.csv\"\n",
    "EEG_df = pd.read_csv(data_files + EEG_filename, header=None)\n",
    "EEG_df.head()"
   ]
  },
  {
   "cell_type": "code",
   "execution_count": 5,
   "metadata": {},
   "outputs": [
    {
     "data": {
      "text/html": [
       "<div>\n",
       "<style scoped>\n",
       "    .dataframe tbody tr th:only-of-type {\n",
       "        vertical-align: middle;\n",
       "    }\n",
       "\n",
       "    .dataframe tbody tr th {\n",
       "        vertical-align: top;\n",
       "    }\n",
       "\n",
       "    .dataframe thead th {\n",
       "        text-align: right;\n",
       "    }\n",
       "</style>\n",
       "<table border=\"1\" class=\"dataframe\">\n",
       "  <thead>\n",
       "    <tr style=\"text-align: right;\">\n",
       "      <th></th>\n",
       "      <th>0</th>\n",
       "      <th>1</th>\n",
       "      <th>2</th>\n",
       "      <th>3</th>\n",
       "      <th>4</th>\n",
       "      <th>5</th>\n",
       "      <th>6</th>\n",
       "      <th>7</th>\n",
       "      <th>8</th>\n",
       "    </tr>\n",
       "  </thead>\n",
       "  <tbody>\n",
       "    <tr>\n",
       "      <th>0</th>\n",
       "      <td>140.562500</td>\n",
       "      <td>55.683782</td>\n",
       "      <td>-0.234571</td>\n",
       "      <td>-0.699648</td>\n",
       "      <td>3.199833</td>\n",
       "      <td>19.110426</td>\n",
       "      <td>7.975532</td>\n",
       "      <td>74.242225</td>\n",
       "      <td>0</td>\n",
       "    </tr>\n",
       "    <tr>\n",
       "      <th>1</th>\n",
       "      <td>102.507812</td>\n",
       "      <td>58.882430</td>\n",
       "      <td>0.465318</td>\n",
       "      <td>-0.515088</td>\n",
       "      <td>1.677258</td>\n",
       "      <td>14.860146</td>\n",
       "      <td>10.576487</td>\n",
       "      <td>127.393580</td>\n",
       "      <td>0</td>\n",
       "    </tr>\n",
       "    <tr>\n",
       "      <th>2</th>\n",
       "      <td>103.015625</td>\n",
       "      <td>39.341649</td>\n",
       "      <td>0.323328</td>\n",
       "      <td>1.051164</td>\n",
       "      <td>3.121237</td>\n",
       "      <td>21.744669</td>\n",
       "      <td>7.735822</td>\n",
       "      <td>63.171909</td>\n",
       "      <td>0</td>\n",
       "    </tr>\n",
       "    <tr>\n",
       "      <th>3</th>\n",
       "      <td>136.750000</td>\n",
       "      <td>57.178449</td>\n",
       "      <td>-0.068415</td>\n",
       "      <td>-0.636238</td>\n",
       "      <td>3.642977</td>\n",
       "      <td>20.959280</td>\n",
       "      <td>6.896499</td>\n",
       "      <td>53.593661</td>\n",
       "      <td>0</td>\n",
       "    </tr>\n",
       "    <tr>\n",
       "      <th>4</th>\n",
       "      <td>88.726562</td>\n",
       "      <td>40.672225</td>\n",
       "      <td>0.600866</td>\n",
       "      <td>1.123492</td>\n",
       "      <td>1.178930</td>\n",
       "      <td>11.468720</td>\n",
       "      <td>14.269573</td>\n",
       "      <td>252.567306</td>\n",
       "      <td>0</td>\n",
       "    </tr>\n",
       "  </tbody>\n",
       "</table>\n",
       "</div>"
      ],
      "text/plain": [
       "            0          1         2         3         4          5          6  \\\n",
       "0  140.562500  55.683782 -0.234571 -0.699648  3.199833  19.110426   7.975532   \n",
       "1  102.507812  58.882430  0.465318 -0.515088  1.677258  14.860146  10.576487   \n",
       "2  103.015625  39.341649  0.323328  1.051164  3.121237  21.744669   7.735822   \n",
       "3  136.750000  57.178449 -0.068415 -0.636238  3.642977  20.959280   6.896499   \n",
       "4   88.726562  40.672225  0.600866  1.123492  1.178930  11.468720  14.269573   \n",
       "\n",
       "            7  8  \n",
       "0   74.242225  0  \n",
       "1  127.393580  0  \n",
       "2   63.171909  0  \n",
       "3   53.593661  0  \n",
       "4  252.567306  0  "
      ]
     },
     "execution_count": 5,
     "metadata": {},
     "output_type": "execute_result"
    }
   ],
   "source": [
    "### load HTRU2 dataset\n",
    "HTRU2_filename = \"HTRU_2.csv\"\n",
    "HTRU2_df = pd.read_csv(data_files + HTRU2_filename, header=None)\n",
    "HTRU2_df.head()"
   ]
  },
  {
   "cell_type": "code",
   "execution_count": 6,
   "metadata": {},
   "outputs": [
    {
     "data": {
      "text/html": [
       "<div>\n",
       "<style scoped>\n",
       "    .dataframe tbody tr th:only-of-type {\n",
       "        vertical-align: middle;\n",
       "    }\n",
       "\n",
       "    .dataframe tbody tr th {\n",
       "        vertical-align: top;\n",
       "    }\n",
       "\n",
       "    .dataframe thead th {\n",
       "        text-align: right;\n",
       "    }\n",
       "</style>\n",
       "<table border=\"1\" class=\"dataframe\">\n",
       "  <thead>\n",
       "    <tr style=\"text-align: right;\">\n",
       "      <th></th>\n",
       "      <th>0</th>\n",
       "      <th>1</th>\n",
       "      <th>2</th>\n",
       "      <th>3</th>\n",
       "      <th>4</th>\n",
       "      <th>5</th>\n",
       "      <th>6</th>\n",
       "      <th>7</th>\n",
       "      <th>8</th>\n",
       "      <th>9</th>\n",
       "      <th>10</th>\n",
       "    </tr>\n",
       "  </thead>\n",
       "  <tbody>\n",
       "    <tr>\n",
       "      <th>0</th>\n",
       "      <td>28.7967</td>\n",
       "      <td>16.0021</td>\n",
       "      <td>2.6449</td>\n",
       "      <td>0.3918</td>\n",
       "      <td>0.1982</td>\n",
       "      <td>27.7004</td>\n",
       "      <td>22.0110</td>\n",
       "      <td>-8.2027</td>\n",
       "      <td>40.0920</td>\n",
       "      <td>81.8828</td>\n",
       "      <td>1</td>\n",
       "    </tr>\n",
       "    <tr>\n",
       "      <th>1</th>\n",
       "      <td>31.6036</td>\n",
       "      <td>11.7235</td>\n",
       "      <td>2.5185</td>\n",
       "      <td>0.5303</td>\n",
       "      <td>0.3773</td>\n",
       "      <td>26.2722</td>\n",
       "      <td>23.8238</td>\n",
       "      <td>-9.9574</td>\n",
       "      <td>6.3609</td>\n",
       "      <td>205.2610</td>\n",
       "      <td>1</td>\n",
       "    </tr>\n",
       "    <tr>\n",
       "      <th>2</th>\n",
       "      <td>162.0520</td>\n",
       "      <td>136.0310</td>\n",
       "      <td>4.0612</td>\n",
       "      <td>0.0374</td>\n",
       "      <td>0.0187</td>\n",
       "      <td>116.7410</td>\n",
       "      <td>-64.8580</td>\n",
       "      <td>-45.2160</td>\n",
       "      <td>76.9600</td>\n",
       "      <td>256.7880</td>\n",
       "      <td>1</td>\n",
       "    </tr>\n",
       "    <tr>\n",
       "      <th>3</th>\n",
       "      <td>23.8172</td>\n",
       "      <td>9.5728</td>\n",
       "      <td>2.3385</td>\n",
       "      <td>0.6147</td>\n",
       "      <td>0.3922</td>\n",
       "      <td>27.2107</td>\n",
       "      <td>-6.4633</td>\n",
       "      <td>-7.1513</td>\n",
       "      <td>10.4490</td>\n",
       "      <td>116.7370</td>\n",
       "      <td>1</td>\n",
       "    </tr>\n",
       "    <tr>\n",
       "      <th>4</th>\n",
       "      <td>75.1362</td>\n",
       "      <td>30.9205</td>\n",
       "      <td>3.1611</td>\n",
       "      <td>0.3168</td>\n",
       "      <td>0.1832</td>\n",
       "      <td>-5.5277</td>\n",
       "      <td>28.5525</td>\n",
       "      <td>21.8393</td>\n",
       "      <td>4.6480</td>\n",
       "      <td>356.4620</td>\n",
       "      <td>1</td>\n",
       "    </tr>\n",
       "  </tbody>\n",
       "</table>\n",
       "</div>"
      ],
      "text/plain": [
       "         0         1       2       3       4         5        6        7   \\\n",
       "0   28.7967   16.0021  2.6449  0.3918  0.1982   27.7004  22.0110  -8.2027   \n",
       "1   31.6036   11.7235  2.5185  0.5303  0.3773   26.2722  23.8238  -9.9574   \n",
       "2  162.0520  136.0310  4.0612  0.0374  0.0187  116.7410 -64.8580 -45.2160   \n",
       "3   23.8172    9.5728  2.3385  0.6147  0.3922   27.2107  -6.4633  -7.1513   \n",
       "4   75.1362   30.9205  3.1611  0.3168  0.1832   -5.5277  28.5525  21.8393   \n",
       "\n",
       "        8         9   10  \n",
       "0  40.0920   81.8828   1  \n",
       "1   6.3609  205.2610   1  \n",
       "2  76.9600  256.7880   1  \n",
       "3  10.4490  116.7370   1  \n",
       "4   4.6480  356.4620   1  "
      ]
     },
     "execution_count": 6,
     "metadata": {},
     "output_type": "execute_result"
    }
   ],
   "source": [
    "### load MAGIC dataset\n",
    "MAGIC_filename = \"magic04.csv\"\n",
    "MAGIC_df = pd.read_csv(data_files + MAGIC_filename, header=None)\n",
    "\n",
    "#map final column from g/h to 1/0\n",
    "MAGIC_df = MAGIC_df.replace({\"g\":1, \"h\":0})\n",
    "\n",
    "MAGIC_df.head()"
   ]
  },
  {
   "cell_type": "code",
   "execution_count": 7,
   "metadata": {},
   "outputs": [
    {
     "data": {
      "text/html": [
       "<div>\n",
       "<style scoped>\n",
       "    .dataframe tbody tr th:only-of-type {\n",
       "        vertical-align: middle;\n",
       "    }\n",
       "\n",
       "    .dataframe tbody tr th {\n",
       "        vertical-align: top;\n",
       "    }\n",
       "\n",
       "    .dataframe thead th {\n",
       "        text-align: right;\n",
       "    }\n",
       "</style>\n",
       "<table border=\"1\" class=\"dataframe\">\n",
       "  <thead>\n",
       "    <tr style=\"text-align: right;\">\n",
       "      <th></th>\n",
       "      <th>0</th>\n",
       "      <th>1</th>\n",
       "      <th>2</th>\n",
       "      <th>3</th>\n",
       "      <th>4</th>\n",
       "      <th>5</th>\n",
       "      <th>6</th>\n",
       "      <th>7</th>\n",
       "      <th>8</th>\n",
       "      <th>9</th>\n",
       "      <th>...</th>\n",
       "      <th>41</th>\n",
       "      <th>42</th>\n",
       "      <th>43</th>\n",
       "      <th>44</th>\n",
       "      <th>45</th>\n",
       "      <th>46</th>\n",
       "      <th>47</th>\n",
       "      <th>48</th>\n",
       "      <th>49</th>\n",
       "      <th>50</th>\n",
       "    </tr>\n",
       "  </thead>\n",
       "  <tbody>\n",
       "    <tr>\n",
       "      <th>0</th>\n",
       "      <td>3.96113</td>\n",
       "      <td>0.384599</td>\n",
       "      <td>1087.1200</td>\n",
       "      <td>0.251748</td>\n",
       "      <td>0.015258</td>\n",
       "      <td>0.000000</td>\n",
       "      <td>1.116820</td>\n",
       "      <td>0.872463</td>\n",
       "      <td>3.11779</td>\n",
       "      <td>0.185689</td>\n",
       "      <td>...</td>\n",
       "      <td>-19.7970</td>\n",
       "      <td>0.947933</td>\n",
       "      <td>2.29170</td>\n",
       "      <td>0.000000</td>\n",
       "      <td>0.242451</td>\n",
       "      <td>0.184653</td>\n",
       "      <td>2.975180</td>\n",
       "      <td>0.016929</td>\n",
       "      <td>0.236594</td>\n",
       "      <td>0.0</td>\n",
       "    </tr>\n",
       "    <tr>\n",
       "      <th>1</th>\n",
       "      <td>3.84353</td>\n",
       "      <td>1.741840</td>\n",
       "      <td>101.6440</td>\n",
       "      <td>0.295625</td>\n",
       "      <td>0.002525</td>\n",
       "      <td>0.130203</td>\n",
       "      <td>1.171860</td>\n",
       "      <td>0.885831</td>\n",
       "      <td>3.40604</td>\n",
       "      <td>0.207060</td>\n",
       "      <td>...</td>\n",
       "      <td>-32.3280</td>\n",
       "      <td>3.938770</td>\n",
       "      <td>6.63478</td>\n",
       "      <td>0.002525</td>\n",
       "      <td>0.160161</td>\n",
       "      <td>0.220539</td>\n",
       "      <td>0.792976</td>\n",
       "      <td>0.056713</td>\n",
       "      <td>0.198655</td>\n",
       "      <td>1.0</td>\n",
       "    </tr>\n",
       "    <tr>\n",
       "      <th>2</th>\n",
       "      <td>6.88238</td>\n",
       "      <td>2.748180</td>\n",
       "      <td>88.5783</td>\n",
       "      <td>0.300086</td>\n",
       "      <td>0.002597</td>\n",
       "      <td>0.000000</td>\n",
       "      <td>0.737055</td>\n",
       "      <td>0.677884</td>\n",
       "      <td>3.89686</td>\n",
       "      <td>0.093560</td>\n",
       "      <td>...</td>\n",
       "      <td>-88.3881</td>\n",
       "      <td>-0.793292</td>\n",
       "      <td>3.08822</td>\n",
       "      <td>0.000000</td>\n",
       "      <td>0.124882</td>\n",
       "      <td>0.367171</td>\n",
       "      <td>6.016120</td>\n",
       "      <td>6.133560</td>\n",
       "      <td>0.255304</td>\n",
       "      <td>1.0</td>\n",
       "    </tr>\n",
       "    <tr>\n",
       "      <th>3</th>\n",
       "      <td>3.43173</td>\n",
       "      <td>1.948110</td>\n",
       "      <td>103.1530</td>\n",
       "      <td>0.264039</td>\n",
       "      <td>0.000000</td>\n",
       "      <td>0.191277</td>\n",
       "      <td>1.177080</td>\n",
       "      <td>0.883820</td>\n",
       "      <td>3.27063</td>\n",
       "      <td>0.169655</td>\n",
       "      <td>...</td>\n",
       "      <td>-24.1426</td>\n",
       "      <td>0.435008</td>\n",
       "      <td>4.61928</td>\n",
       "      <td>0.000000</td>\n",
       "      <td>0.127263</td>\n",
       "      <td>0.172886</td>\n",
       "      <td>0.985063</td>\n",
       "      <td>0.212094</td>\n",
       "      <td>0.203885</td>\n",
       "      <td>1.0</td>\n",
       "    </tr>\n",
       "    <tr>\n",
       "      <th>4</th>\n",
       "      <td>2.75619</td>\n",
       "      <td>0.405642</td>\n",
       "      <td>63.6347</td>\n",
       "      <td>0.233746</td>\n",
       "      <td>0.011423</td>\n",
       "      <td>0.406455</td>\n",
       "      <td>1.089350</td>\n",
       "      <td>0.883967</td>\n",
       "      <td>3.29230</td>\n",
       "      <td>0.207975</td>\n",
       "      <td>...</td>\n",
       "      <td>-21.1712</td>\n",
       "      <td>0.097014</td>\n",
       "      <td>4.57457</td>\n",
       "      <td>0.001038</td>\n",
       "      <td>0.129168</td>\n",
       "      <td>-0.085241</td>\n",
       "      <td>0.886991</td>\n",
       "      <td>-0.020713</td>\n",
       "      <td>0.273904</td>\n",
       "      <td>0.0</td>\n",
       "    </tr>\n",
       "  </tbody>\n",
       "</table>\n",
       "<p>5 rows × 51 columns</p>\n",
       "</div>"
      ],
      "text/plain": [
       "        0         1          2         3         4         5         6   \\\n",
       "0  3.96113  0.384599  1087.1200  0.251748  0.015258  0.000000  1.116820   \n",
       "1  3.84353  1.741840   101.6440  0.295625  0.002525  0.130203  1.171860   \n",
       "2  6.88238  2.748180    88.5783  0.300086  0.002597  0.000000  0.737055   \n",
       "3  3.43173  1.948110   103.1530  0.264039  0.000000  0.191277  1.177080   \n",
       "4  2.75619  0.405642    63.6347  0.233746  0.011423  0.406455  1.089350   \n",
       "\n",
       "         7        8         9   ...       41        42       43        44  \\\n",
       "0  0.872463  3.11779  0.185689  ... -19.7970  0.947933  2.29170  0.000000   \n",
       "1  0.885831  3.40604  0.207060  ... -32.3280  3.938770  6.63478  0.002525   \n",
       "2  0.677884  3.89686  0.093560  ... -88.3881 -0.793292  3.08822  0.000000   \n",
       "3  0.883820  3.27063  0.169655  ... -24.1426  0.435008  4.61928  0.000000   \n",
       "4  0.883967  3.29230  0.207975  ... -21.1712  0.097014  4.57457  0.001038   \n",
       "\n",
       "         45        46        47        48        49   50  \n",
       "0  0.242451  0.184653  2.975180  0.016929  0.236594  0.0  \n",
       "1  0.160161  0.220539  0.792976  0.056713  0.198655  1.0  \n",
       "2  0.124882  0.367171  6.016120  6.133560  0.255304  1.0  \n",
       "3  0.127263  0.172886  0.985063  0.212094  0.203885  1.0  \n",
       "4  0.129168 -0.085241  0.886991 -0.020713  0.273904  0.0  \n",
       "\n",
       "[5 rows x 51 columns]"
      ]
     },
     "execution_count": 7,
     "metadata": {},
     "output_type": "execute_result"
    }
   ],
   "source": [
    "### load Miniboo dataset\n",
    "train_dfs = []\n",
    "test_dfs = []\n",
    "\n",
    "# IMPORTANT: there are 10 splits for train and test. Each of them has 120K training points ... \n",
    "# However, the k-means clustering algorithm may take a while if we load all of them\n",
    "# Therefore, it might make more sense to just choose 1 split for the beginning.\n",
    "for i in range(1): #10\n",
    "    i_ = i+1\n",
    "    # load training\n",
    "    MiniBoo_filename_train = \"MiniBoo_splits/train{:02d}.txt\".format(i_)\n",
    "    MiniBoo_df_train = pd.read_csv(data_files + MiniBoo_filename_train, header=None)\n",
    "    train_dfs.append(MiniBoo_df_train)\n",
    "    # load test\n",
    "    MiniBoo_filename_test = \"MiniBoo_splits/test{:02d}.txt\".format(i_)\n",
    "    MiniBoo_df_test = pd.read_csv(data_files + MiniBoo_filename_test, header=None)\n",
    "    test_dfs.append(MiniBoo_df_test)\n",
    "    \n",
    "MiniBoo_train_df = pd.concat(train_dfs)\n",
    "MiniBoo_test_df = pd.concat(test_dfs)\n",
    "MiniBoo_train_df.head()"
   ]
  },
  {
   "cell_type": "markdown",
   "metadata": {},
   "source": [
    "## Normalize & Create test train splits\n",
    "\n",
    "As in the Dirichlet GPC paper, we use the following test-train splits\n",
    "TODO"
   ]
  },
  {
   "cell_type": "code",
   "execution_count": 8,
   "metadata": {},
   "outputs": [
    {
     "name": "stdout",
     "output_type": "stream",
     "text": [
      "(10980, 14)\n",
      "(4000, 14)\n",
      "(10980,)\n",
      "(4000,)\n",
      "tensor([1, 1, 1, 1, 0, 1, 1, 0, 1, 1, 0, 0, 1, 0, 0, 1, 1, 0, 1, 0])\n"
     ]
    }
   ],
   "source": [
    "# make test-train split for EEG\n",
    "from sklearn.model_selection import train_test_split\n",
    "\n",
    "X_EEG = EEG_df.values[:,:-1]\n",
    "Y_EEG = EEG_df.values[:,-1]\n",
    "NUM_TRAINING_POINTS_EEG=10980\n",
    "NUM_TEST_POINTS_EEG=4000\n",
    "\n",
    "# Normalize data\n",
    "X_EEG = classification_utils.standardise(X_EEG)\n",
    "#X_EEG = classification_utils.normalise_minusonetoone(X_EEG)\n",
    "\n",
    "# The original paper chose 10980 training points and 4000 test points\n",
    "test_size_EEG = NUM_TEST_POINTS_EEG/(NUM_TRAINING_POINTS_EEG+NUM_TEST_POINTS_EEG)\n",
    "X_EEG_train, X_EEG_test, y_EEG_train, y_EEG_test = train_test_split(X_EEG, Y_EEG, test_size=test_size_EEG, random_state=seed)\n",
    "print(np.shape(X_EEG_train))\n",
    "print(np.shape(X_EEG_test))\n",
    "print(np.shape(y_EEG_train))\n",
    "print(np.shape(y_EEG_test))\n",
    "X_EEG_train, X_EEG_test, y_EEG_train, y_EEG_test = torch.tensor(X_EEG_train).float(), torch.tensor(X_EEG_test).float(), \\\n",
    "                                                   torch.tensor(y_EEG_train).long(), torch.tensor(y_EEG_test).long()\n",
    "print(y_EEG_test[:20])"
   ]
  },
  {
   "cell_type": "code",
   "execution_count": 9,
   "metadata": {},
   "outputs": [
    {
     "name": "stdout",
     "output_type": "stream",
     "text": [
      "(12898, 8)\n",
      "(5000, 8)\n",
      "(12898,)\n",
      "(5000,)\n",
      "tensor([0, 0, 0, 0, 0, 0, 0, 0, 0, 0, 0, 0, 0, 0, 0, 0, 0, 0, 0, 0])\n"
     ]
    }
   ],
   "source": [
    "# make test-train split for HTRU2\n",
    "\n",
    "X_HTRU2 = HTRU2_df.values[:,:-1]\n",
    "Y_HTRU2 = HTRU2_df.values[:,-1]\n",
    "NUM_TRAINING_POINTS_HTRU2=12898\n",
    "NUM_TEST_POINTS_HTRU2=5000\n",
    "\n",
    "# Normalize data\n",
    "X_HTRU2 = classification_utils.standardise(X_HTRU2)\n",
    "#X_HTRU2 = classification_utils.normalise_minusonetoone(X_HTRU2)\n",
    "\n",
    "test_size_HTRU2 = NUM_TEST_POINTS_HTRU2/(NUM_TRAINING_POINTS_HTRU2+NUM_TEST_POINTS_HTRU2)\n",
    "X_HTRU2_train, X_HTRU2_test, y_HTRU2_train, y_HTRU2_test = train_test_split(X_HTRU2, Y_HTRU2, test_size=test_size_HTRU2, random_state=seed)\n",
    "print(np.shape(X_HTRU2_train))\n",
    "print(np.shape(X_HTRU2_test))\n",
    "print(np.shape(y_HTRU2_train))\n",
    "print(np.shape(y_HTRU2_test))\n",
    "X_HTRU2_train, X_HTRU2_test, y_HTRU2_train, y_HTRU2_test = torch.tensor(X_HTRU2_train).float(), torch.tensor(X_HTRU2_test).float(), \\\n",
    "                                                   torch.tensor(y_HTRU2_train).long(), torch.tensor(y_HTRU2_test).long()\n",
    "print(y_HTRU2_test[:20])"
   ]
  },
  {
   "cell_type": "code",
   "execution_count": 10,
   "metadata": {},
   "outputs": [
    {
     "name": "stdout",
     "output_type": "stream",
     "text": [
      "(14020, 10)\n",
      "(5000, 10)\n",
      "(14020,)\n",
      "(5000,)\n",
      "tensor([1, 0, 1, 0, 0, 0, 1, 1, 0, 0, 0, 1, 1, 1, 0, 0, 0, 0, 1, 0])\n"
     ]
    }
   ],
   "source": [
    "# make test-train split for MAGIC\n",
    "\n",
    "X_MAGIC = MAGIC_df.values[:,:-1]\n",
    "Y_MAGIC = MAGIC_df.values[:,-1]\n",
    "NUM_TRAINING_POINTS_MAGIC=14020\n",
    "NUM_TEST_POINTS_MAGIC=5000\n",
    "\n",
    "# Normalize data\n",
    "X_MAGIC = classification_utils.standardise(X_MAGIC)\n",
    "#X_MAGIC = classification_utils.normalise_minusonetoone(X_MAGIC)\n",
    "\n",
    "test_size_MAGIC = NUM_TEST_POINTS_MAGIC/(NUM_TRAINING_POINTS_MAGIC+NUM_TEST_POINTS_MAGIC)\n",
    "X_MAGIC_train, X_MAGIC_test, y_MAGIC_train, y_MAGIC_test = train_test_split(X_MAGIC, Y_MAGIC, test_size=test_size_MAGIC, random_state=seed)\n",
    "print(np.shape(X_MAGIC_train))\n",
    "print(np.shape(X_MAGIC_test))\n",
    "print(np.shape(y_MAGIC_train))\n",
    "print(np.shape(y_MAGIC_test))\n",
    "X_MAGIC_train, X_MAGIC_test, y_MAGIC_train, y_MAGIC_test = torch.tensor(X_MAGIC_train).float(), torch.tensor(X_MAGIC_test).float(), \\\n",
    "                                                   torch.tensor(y_MAGIC_train).long(), torch.tensor(y_MAGIC_test).long()\n",
    "print(y_MAGIC_test[:20])"
   ]
  },
  {
   "cell_type": "code",
   "execution_count": 11,
   "metadata": {},
   "outputs": [
    {
     "name": "stdout",
     "output_type": "stream",
     "text": [
      "(20000, 50)\n",
      "(5000, 50)\n",
      "(20000,)\n",
      "(5000,)\n",
      "tensor([1, 1, 0, 1, 0, 0, 1, 1, 0, 0, 1, 1, 1, 1, 1, 1, 1, 1, 0, 1])\n"
     ]
    }
   ],
   "source": [
    "# make test-train split for MiniBoo\n",
    "\n",
    "X_MiniBoo_train = MiniBoo_train_df.values[:,:-1]\n",
    "y_MiniBoo_train = MiniBoo_train_df.values[:,-1]\n",
    "X_MiniBoo_test = MiniBoo_test_df.values[:,:-1]\n",
    "y_MiniBoo_test = MiniBoo_test_df.values[:,-1]\n",
    "\n",
    "# IMPORTANT: the miniboo dataset is kinda large (120K datapoints)\n",
    "# Therefore, we'll prune it when testing the code.\n",
    "X_MiniBoo_train = X_MiniBoo_train[:20000,:]\n",
    "y_MiniBoo_train = y_MiniBoo_train[:20000]\n",
    "X_MiniBoo_test = X_MiniBoo_test[:5000,:]\n",
    "y_MiniBoo_test = y_MiniBoo_test[:5000]\n",
    "\n",
    "# Normalize data\n",
    "X_MiniBoo_train = classification_utils.standardise(X_MiniBoo_train)\n",
    "X_MiniBoo_test = classification_utils.standardise(X_MiniBoo_test)\n",
    "#X_MiniBoo = classification_utils.normalise_minusonetoone(X_MiniBoo)\n",
    "\n",
    "print(np.shape(X_MiniBoo_train))\n",
    "print(np.shape(X_MiniBoo_test))\n",
    "print(np.shape(y_MiniBoo_train))\n",
    "print(np.shape(y_MiniBoo_test))\n",
    "X_MiniBoo_train, X_MiniBoo_test, y_MiniBoo_train, y_MiniBoo_test = torch.tensor(X_MiniBoo_train).float(), torch.tensor(X_MiniBoo_test).float(), \\\n",
    "                                                   torch.tensor(y_MiniBoo_train).long(), torch.tensor(y_MiniBoo_test).long()\n",
    "print(y_MiniBoo_test[:20])"
   ]
  },
  {
   "cell_type": "markdown",
   "metadata": {},
   "source": [
    "## Create inducing points\n",
    "\n",
    "As in the Dirichlet GPC paper, we use the following number of inducing points\n",
    "TODO"
   ]
  },
  {
   "cell_type": "code",
   "execution_count": 12,
   "metadata": {},
   "outputs": [],
   "source": [
    "NUM_INDUCING_POINTS_EEG=200\n",
    "NUM_INDUCING_POINTS_HTRU2=200\n",
    "NUM_INDUCING_POINTS_MAGIC=200\n",
    "NUM_INDUCING_POINTS_MiniBoo=400"
   ]
  },
  {
   "cell_type": "code",
   "execution_count": 13,
   "metadata": {},
   "outputs": [
    {
     "name": "stdout",
     "output_type": "stream",
     "text": [
      "tensor([[ 5.0884e-02,  2.3213e+00,  8.2130e-01,  4.0649e-03,  6.7907e-02,\n",
      "         -9.0890e-03, -8.8377e-03, -1.0732e+00, -2.1053e-02, -2.1646e-01,\n",
      "          5.3204e-01,  9.0719e-01,  2.0520e-02,  1.2531e-02],\n",
      "        [-3.4462e-03, -8.7130e-01, -9.7336e-03, -1.3925e-02, -2.8646e-01,\n",
      "         -1.5404e-02, -3.4864e-03,  2.9466e-02, -4.4921e-03,  3.8985e-01,\n",
      "          1.1159e+00,  5.6152e-01,  4.4710e-02,  2.5703e-04]]) tensor([0, 1])\n",
      "tensor([[ 5.0884e-02,  2.3213e+00,  8.2130e-01,  4.0649e-03,  6.7907e-02,\n",
      "         -9.0890e-03, -8.8377e-03, -1.0732e+00, -2.1053e-02, -2.1646e-01,\n",
      "          5.3204e-01,  9.0719e-01,  2.0520e-02,  1.2531e-02],\n",
      "        [-3.4462e-03, -8.7130e-01, -9.7336e-03, -1.3925e-02, -2.8646e-01,\n",
      "         -1.5404e-02, -3.4864e-03,  2.9466e-02, -4.4921e-03,  3.8985e-01,\n",
      "          1.1159e+00,  5.6152e-01,  4.4710e-02,  2.5703e-04]]) tensor([12.0100, 36.0100]) tensor([18.0100,  2.0100])\n"
     ]
    }
   ],
   "source": [
    "### EEG\n",
    "\n",
    "## choose random inducing points\n",
    "#X_EEG_train_induced, y_EEG_train_induced = classification_utils.random_inducing_points(X_EEG_train, y_EEG_train, NUM_INDUCING_POINTS_EEG)\n",
    "\n",
    "## use kmeans for inducing points\n",
    "X_EEG_train_induced, y_EEG_train_induced = classification_utils.k_means_inducing_points(X_EEG_train, y_EEG_train, NUM_INDUCING_POINTS_EEG)\n",
    "print(X_EEG_train_induced[:2], y_EEG_train_induced[:2])\n",
    "\n",
    "# use the conjugacy of the Beta to create better inducing points\n",
    "X_EEG_train_induced, y_EEG_train_induced_alphas, y_EEG_train_induced_betas = classification_utils.k_means_inducing_points_LM_beta(X_EEG_train, y_EEG_train, NUM_INDUCING_POINTS_EEG)\n",
    "print(X_EEG_train_induced[:2], y_EEG_train_induced_alphas[:2], y_EEG_train_induced_betas[:2])"
   ]
  },
  {
   "cell_type": "code",
   "execution_count": 14,
   "metadata": {},
   "outputs": [
    {
     "name": "stdout",
     "output_type": "stream",
     "text": [
      "tensor([[ 0.3313,  1.4238, -0.2694, -0.3310, -0.3440, -0.4739,  0.2409, -0.0279],\n",
      "        [-2.1703, -0.7639,  2.2148,  1.1235,  3.4244,  2.6550, -1.8571, -0.9940]]) tensor([0, 1])\n",
      "tensor([[ 0.3313,  1.4238, -0.2694, -0.3310, -0.3440, -0.4739,  0.2409, -0.0279],\n",
      "        [-2.1703, -0.7639,  2.2148,  1.1235,  3.4244,  2.6550, -1.8571, -0.9940]]) tensor([ 2.0100, 16.0100]) tensor([126.0100,   2.0100])\n"
     ]
    }
   ],
   "source": [
    "### HTRU2\n",
    "\n",
    "## choose random inducing points\n",
    "#X_HTRU2_train_induced, y_HTRU2_train_induced = classification_utils.random_inducing_points(X_HTRU2_train, y_HTRU2_train, NUM_INDUCING_POINTS_HTRU2)\n",
    "\n",
    "## use kmeans for inducing points\n",
    "X_HTRU2_train_induced, y_HTRU2_train_induced = classification_utils.k_means_inducing_points(X_HTRU2_train, y_HTRU2_train, NUM_INDUCING_POINTS_HTRU2)\n",
    "print(X_HTRU2_train_induced[:2], y_HTRU2_train_induced[:2])\n",
    "\n",
    "# use the conjugacy of the Beta to create better inducing points\n",
    "X_HTRU2_train_induced, y_HTRU2_train_induced_alphas, y_HTRU2_train_induced_betas = classification_utils.k_means_inducing_points_LM_beta(X_HTRU2_train, y_HTRU2_train, NUM_INDUCING_POINTS_HTRU2)\n",
    "print(X_HTRU2_train_induced[:2], y_HTRU2_train_induced_alphas[:2], y_HTRU2_train_induced_betas[:2])"
   ]
  },
  {
   "cell_type": "code",
   "execution_count": 15,
   "metadata": {},
   "outputs": [
    {
     "name": "stdout",
     "output_type": "stream",
     "text": [
      "tensor([[-0.7744, -0.8129, -1.6624,  1.8160,  1.4872,  0.0502, -0.0455, -0.2872,\n",
      "         -0.6087, -0.8407],\n",
      "        [-0.2652, -0.3498,  0.1991, -0.5122, -0.6394,  0.3475,  0.3502, -0.5967,\n",
      "         -1.0236,  0.0660]]) tensor([1, 1])\n",
      "tensor([[-0.7744, -0.8129, -1.6624,  1.8160,  1.4872,  0.0502, -0.0455, -0.2872,\n",
      "         -0.6087, -0.8407],\n",
      "        [-0.2652, -0.3498,  0.1991, -0.5122, -0.6394,  0.3475,  0.3502, -0.5967,\n",
      "         -1.0236,  0.0660]]) tensor([116.0100, 190.0100]) tensor([23.0100,  9.0100])\n"
     ]
    }
   ],
   "source": [
    "### MAGIC\n",
    "\n",
    "## choose random inducing points\n",
    "#X_MAGIC_train_induced, y_MAGIC_train_induced = classification_utils.random_inducing_points(X_MAGIC_train, y_MAGIC_train, NUM_INDUCING_POINTS_MAGIC)\n",
    "\n",
    "## use kmeans for inducing points\n",
    "X_MAGIC_train_induced, y_MAGIC_train_induced = classification_utils.k_means_inducing_points(X_MAGIC_train, y_MAGIC_train, NUM_INDUCING_POINTS_MAGIC)\n",
    "print(X_MAGIC_train_induced[:2], y_MAGIC_train_induced[:2])\n",
    "\n",
    "# use the conjugacy of the Beta to create better inducing points\n",
    "X_MAGIC_train_induced, y_MAGIC_train_induced_alphas, y_MAGIC_train_induced_betas = classification_utils.k_means_inducing_points_LM_beta(X_MAGIC_train, y_MAGIC_train, NUM_INDUCING_POINTS_MAGIC)\n",
    "print(X_MAGIC_train_induced[:2], y_MAGIC_train_induced_alphas[:2], y_MAGIC_train_induced_betas[:2])"
   ]
  },
  {
   "cell_type": "code",
   "execution_count": 16,
   "metadata": {},
   "outputs": [
    {
     "name": "stdout",
     "output_type": "stream",
     "text": [
      "tensor([[ 5.3033e-02,  5.3380e-02, -1.3805e-02,  6.1487e-02,  6.2018e-02,\n",
      "          6.1813e-02,  6.2235e-02,  6.3347e-02,  5.6586e-02,  6.1945e-02,\n",
      "          5.7336e-02, -9.7243e-01,  6.7089e-02,  5.7450e-02,  7.2649e-02,\n",
      "          2.0188e-01,  6.3359e-02, -5.2585e-02,  6.1781e-02,  3.9299e-02,\n",
      "          7.9400e-02,  6.3935e-02,  5.9228e-01,  5.0811e-02,  6.2558e-02,\n",
      "          8.1421e-02,  7.4281e-01,  6.1410e-02,  6.1776e-02,  6.3557e-02,\n",
      "          3.8173e-02,  6.5781e-02,  5.8706e-02,  9.4155e-01,  6.2700e-02,\n",
      "          6.0825e-02,  5.7044e-02,  6.0110e-02,  6.4846e-02,  6.2386e-02,\n",
      "         -1.0134e-01,  4.8157e-01,  6.4993e-02,  7.1605e-03,  6.2020e-02,\n",
      "          6.2424e-02,  6.9011e-02,  4.6987e-02,  4.6492e-02,  6.2751e-02],\n",
      "        [-1.6083e+01, -1.6084e+01, -5.3979e+00, -1.6085e+01, -1.6085e+01,\n",
      "         -1.6085e+01, -1.6085e+01, -1.6085e+01, -1.6085e+01, -1.6085e+01,\n",
      "         -1.6085e+01, -8.5687e+00, -1.6085e+01, -1.6085e+01, -1.6084e+01,\n",
      "         -2.9299e+00, -1.6085e+01, -1.4670e+01, -1.6085e+01, -9.0825e+00,\n",
      "         -1.6078e+01, -1.6085e+01, -9.8232e+00, -1.6078e+01, -1.6085e+01,\n",
      "         -1.6076e+01, -1.0951e+01, -1.6085e+01, -1.6085e+01, -1.6085e+01,\n",
      "         -1.6074e+01, -1.6085e+01, -1.6084e+01, -1.0636e+01, -1.6085e+01,\n",
      "         -1.6085e+01, -1.6084e+01, -1.6083e+01, -1.6085e+01, -1.6085e+01,\n",
      "         -1.4680e+01, -1.4053e+01, -1.6082e+01, -1.6042e+01, -1.6085e+01,\n",
      "         -1.6085e+01, -1.6084e+01, -1.6078e+01, -1.6077e+01, -1.6085e+01]]) tensor([1, 1])\n",
      "tensor([[ 5.3033e-02,  5.3380e-02, -1.3805e-02,  6.1487e-02,  6.2018e-02,\n",
      "          6.1813e-02,  6.2235e-02,  6.3347e-02,  5.6586e-02,  6.1945e-02,\n",
      "          5.7336e-02, -9.7243e-01,  6.7089e-02,  5.7450e-02,  7.2649e-02,\n",
      "          2.0188e-01,  6.3359e-02, -5.2585e-02,  6.1781e-02,  3.9299e-02,\n",
      "          7.9400e-02,  6.3935e-02,  5.9228e-01,  5.0811e-02,  6.2558e-02,\n",
      "          8.1421e-02,  7.4281e-01,  6.1410e-02,  6.1776e-02,  6.3557e-02,\n",
      "          3.8173e-02,  6.5781e-02,  5.8706e-02,  9.4155e-01,  6.2700e-02,\n",
      "          6.0825e-02,  5.7044e-02,  6.0110e-02,  6.4846e-02,  6.2386e-02,\n",
      "         -1.0134e-01,  4.8157e-01,  6.4993e-02,  7.1605e-03,  6.2020e-02,\n",
      "          6.2424e-02,  6.9011e-02,  4.6987e-02,  4.6492e-02,  6.2751e-02],\n",
      "        [-1.6083e+01, -1.6084e+01, -5.3979e+00, -1.6085e+01, -1.6085e+01,\n",
      "         -1.6085e+01, -1.6085e+01, -1.6085e+01, -1.6085e+01, -1.6085e+01,\n",
      "         -1.6085e+01, -8.5687e+00, -1.6085e+01, -1.6085e+01, -1.6084e+01,\n",
      "         -2.9299e+00, -1.6085e+01, -1.4670e+01, -1.6085e+01, -9.0825e+00,\n",
      "         -1.6078e+01, -1.6085e+01, -9.8232e+00, -1.6078e+01, -1.6085e+01,\n",
      "         -1.6076e+01, -1.0951e+01, -1.6085e+01, -1.6085e+01, -1.6085e+01,\n",
      "         -1.6074e+01, -1.6085e+01, -1.6084e+01, -1.0636e+01, -1.6085e+01,\n",
      "         -1.6085e+01, -1.6084e+01, -1.6083e+01, -1.6085e+01, -1.6085e+01,\n",
      "         -1.4680e+01, -1.4053e+01, -1.6082e+01, -1.6042e+01, -1.6085e+01,\n",
      "         -1.6085e+01, -1.6084e+01, -1.6078e+01, -1.6077e+01, -1.6085e+01]]) tensor([42.0100, 76.0100]) tensor([20.0100,  1.0100])\n"
     ]
    }
   ],
   "source": [
    "### MiniBoo\n",
    "\n",
    "## choose random inducing points\n",
    "#X_MiniBoo_train_induced, y_MiniBoo_train_induced = classification_utils.random_inducing_points(X_MiniBoo_train, y_MiniBoo_train, NUM_INDUCING_POINTS_MiniBoo)\n",
    "\n",
    "## use kmeans for inducing points\n",
    "X_MiniBoo_train_induced, y_MiniBoo_train_induced = classification_utils.k_means_inducing_points(X_MiniBoo_train, y_MiniBoo_train, NUM_INDUCING_POINTS_MiniBoo)\n",
    "print(X_MiniBoo_train_induced[:2], y_MiniBoo_train_induced[:2])\n",
    "\n",
    "# use the conjugacy of the Beta to create better inducing points\n",
    "X_MiniBoo_train_induced, y_MiniBoo_train_induced_alphas, y_MiniBoo_train_induced_betas = classification_utils.k_means_inducing_points_LM_beta(X_MiniBoo_train, y_MiniBoo_train, NUM_INDUCING_POINTS_MiniBoo)\n",
    "print(X_MiniBoo_train_induced[:2], y_MiniBoo_train_induced_alphas[:2], y_MiniBoo_train_induced_betas[:2])"
   ]
  },
  {
   "cell_type": "markdown",
   "metadata": {},
   "source": [
    "# Setup for GPC & LB(Beta)+GP"
   ]
  },
  {
   "cell_type": "code",
   "execution_count": 17,
   "metadata": {},
   "outputs": [],
   "source": [
    "LENGTHSCALES = [0.01, 0.1, 0.2, 0.5, 1, 2, 5, 10, 20, 50]"
   ]
  },
  {
   "cell_type": "markdown",
   "metadata": {},
   "source": [
    "## EEG"
   ]
  },
  {
   "cell_type": "code",
   "execution_count": 18,
   "metadata": {},
   "outputs": [],
   "source": [
    "### choose lengthscale with CV\n",
    "NUM_ITER_EEG = 200\n",
    "LR_EEG = 0.1\n",
    "\"\"\"\n",
    "res_EEG = classification_models.select_init_lengthscale_with_CV(X_EEG_train, y_EEG_train, mode=\"DGP\",\n",
    "                                    num_inducing_points=NUM_INDUCING_POINTS_EEG, \n",
    "                                    learn_noise=True, num_iter=NUM_ITER_EEG, lr=LR_EEG,\n",
    "                                    lengthscales=LENGTHSCALES)\n",
    "print(res_EEG)    \n",
    "classification_utils.plot_res(res_EEG)\n",
    "\"\"\"\n",
    "\n",
    "INIT_LENGHTSCALE_EEG = 2"
   ]
  },
  {
   "cell_type": "code",
   "execution_count": 19,
   "metadata": {},
   "outputs": [
    {
     "name": "stdout",
     "output_type": "stream",
     "text": [
      "Iter 1/200 - Loss: 5.967   lengthscale: 2.000   noise: 0.693\n",
      "Iter 21/200 - Loss: 5.355   lengthscale: 1.102   noise: 2.084\n",
      "Iter 41/200 - Loss: 5.152   lengthscale: 0.907   noise: 3.340\n",
      "Iter 61/200 - Loss: 5.130   lengthscale: 0.989   noise: 3.917\n",
      "Iter 81/200 - Loss: 5.127   lengthscale: 1.017   noise: 4.145\n",
      "Iter 101/200 - Loss: 5.127   lengthscale: 1.037   noise: 4.224\n",
      "Iter 121/200 - Loss: 5.126   lengthscale: 1.048   noise: 4.244\n",
      "Iter 141/200 - Loss: 5.126   lengthscale: 1.052   noise: 4.241\n",
      "Iter 161/200 - Loss: 5.126   lengthscale: 1.056   noise: 4.228\n",
      "Iter 181/200 - Loss: 5.126   lengthscale: 1.059   noise: 4.212\n",
      "(0.6467499732971191, 0.7012051939964294, 0.12777778506278992)\n"
     ]
    }
   ],
   "source": [
    "### run Dirichlet GPC\n",
    "\n",
    "DGP_model, DGP_likelihood = classification_models.create_DGP_model(X_EEG_train_induced, y_EEG_train_induced,\n",
    "                                        init_lengthscale=INIT_LENGHTSCALE_EEG, learn_additional_noise=True)\n",
    "DGP_model, DGP_likelihood = classification_models.train_DGP_model(X_EEG_train_induced,\n",
    "                                DGP_model, DGP_likelihood, num_iter=NUM_ITER_EEG, lr=LR_EEG, report_iter=NUM_ITER_EEG//10)\n",
    "EEG_DGP_res = classification_models.evaluate_DGP(DGP_model, DGP_likelihood, X_EEG_test, y_EEG_test)\n",
    "print(EEG_DGP_res)"
   ]
  },
  {
   "cell_type": "code",
   "execution_count": 20,
   "metadata": {},
   "outputs": [
    {
     "name": "stdout",
     "output_type": "stream",
     "text": [
      "Iter 1/200 - Loss: 3.040   lengthscale: 2.000   noise: 0.693\n",
      "Iter 21/200 - Loss: 2.966   lengthscale: 1.035   noise: 2.124\n",
      "Iter 41/200 - Loss: 2.933   lengthscale: 1.307   noise: 3.780\n",
      "Iter 61/200 - Loss: 2.921   lengthscale: 1.448   noise: 5.039\n",
      "Iter 81/200 - Loss: 2.917   lengthscale: 1.507   noise: 5.896\n",
      "Iter 101/200 - Loss: 2.915   lengthscale: 1.562   noise: 6.477\n",
      "Iter 121/200 - Loss: 2.914   lengthscale: 1.605   noise: 6.876\n",
      "Iter 141/200 - Loss: 2.913   lengthscale: 1.639   noise: 7.149\n",
      "Iter 161/200 - Loss: 2.913   lengthscale: 1.665   noise: 7.332\n",
      "Iter 181/200 - Loss: 2.913   lengthscale: 1.685   noise: 7.451\n",
      "(0.606249988079071, 0.7131885290145874, 0.14380775392055511)\n"
     ]
    }
   ],
   "source": [
    "### Run LM(Beta)+GP vanilla\n",
    "y_EEG_train_induced_mu, y_EEG_train_induced_var = classification_models.transform_y_beta_LM(y_EEG_train_induced)\n",
    "LMGP_model_EEG, LMGP_likelihood_EEG = classification_models.create_LM_beta_GP_model(X_EEG_train_induced, y_EEG_train_induced_mu,\n",
    "                                                y_EEG_train_induced_var, learn_additional_noise=True,\n",
    "                                               init_lengthscale=INIT_LENGHTSCALE_EEG)\n",
    "LMGP_model_EEG, LMGP_likelihood_EEG = classification_models.train_LM_beta_GP_model(X_EEG_train_induced, y_EEG_train_induced_mu,\n",
    "                    LMGP_model_EEG, LMGP_likelihood_EEG, num_iter=NUM_ITER_EEG, lr=LR_EEG, report_iter=NUM_ITER_EEG//10)\n",
    "EEG_LMGP_res = classification_models.evaluate_LM_beta_GP(LMGP_model_EEG, LMGP_likelihood_EEG, X_EEG_test, y_EEG_test)\n",
    "print(EEG_LMGP_res)"
   ]
  },
  {
   "cell_type": "code",
   "execution_count": 21,
   "metadata": {},
   "outputs": [
    {
     "name": "stdout",
     "output_type": "stream",
     "text": [
      "Iter 1/200 - Loss: 2.350   lengthscale: 2.000   noise: 0.693\n",
      "Iter 21/200 - Loss: 2.278   lengthscale: 1.174   noise: 1.206\n",
      "Iter 41/200 - Loss: 2.211   lengthscale: 0.792   noise: 0.435\n",
      "Iter 61/200 - Loss: 2.179   lengthscale: 0.729   noise: 0.131\n",
      "Iter 81/200 - Loss: 2.169   lengthscale: 0.730   noise: 0.083\n",
      "Iter 101/200 - Loss: 2.164   lengthscale: 0.748   noise: 0.071\n",
      "Iter 121/200 - Loss: 2.161   lengthscale: 0.760   noise: 0.066\n",
      "Iter 141/200 - Loss: 2.159   lengthscale: 0.771   noise: 0.064\n",
      "Iter 161/200 - Loss: 2.158   lengthscale: 0.781   noise: 0.063\n",
      "Iter 181/200 - Loss: 2.157   lengthscale: 0.789   noise: 0.063\n",
      "(0.7127500176429749, 0.5398080348968506, 0.021660421043634415)\n"
     ]
    }
   ],
   "source": [
    "### Run LM(Beta)+GP with conjugacy information\n",
    "\n",
    "train_mu_LB_con_EEG, train_var_LB_con_EEG = classification_models.LM_beta(y_EEG_train_induced_alphas, y_EEG_train_induced_betas)\n",
    "LMGP_model_con_EEG, LMGP_likelihood_con_EEG = classification_models.create_LM_beta_GP_model(X_EEG_train_induced, train_mu_LB_con_EEG,\n",
    "                                                train_var_LB_con_EEG, learn_additional_noise=True,\n",
    "                                               init_lengthscale=INIT_LENGHTSCALE_EEG)\n",
    "LMGP_model_con_EEG, LMGP_likelihood_con_EEG = classification_models.train_LM_beta_GP_model(X_EEG_train_induced, train_mu_LB_con_EEG,\n",
    "                LMGP_model_con_EEG, LMGP_likelihood_con_EEG, num_iter=NUM_ITER_EEG, lr=LR_EEG, report_iter=NUM_ITER_EEG//10)\n",
    "\n",
    "EEG_LMGP_con_res = classification_models.evaluate_LM_beta_GP(LMGP_model_con_EEG, LMGP_likelihood_con_EEG, X_EEG_test, y_EEG_test)\n",
    "print(EEG_LMGP_con_res)"
   ]
  },
  {
   "cell_type": "markdown",
   "metadata": {},
   "source": [
    "## HTRU2"
   ]
  },
  {
   "cell_type": "code",
   "execution_count": 22,
   "metadata": {},
   "outputs": [],
   "source": [
    "### choose lengthscale with CV\n",
    "NUM_ITER_HTRU2 = 200\n",
    "LR_HTRU2 = 0.1\n",
    "\"\"\"\n",
    "res_HTRU2 = classification_models.select_init_lengthscale_with_CV(X_HTRU2_train, y_HTRU2_train, mode=\"DGP\",\n",
    "                                    num_inducing_points=NUM_INDUCING_POINTS_HTRU2, \n",
    "                                    learn_noise=True, num_iter=NUM_ITER_HTRU2, lr=LR_HTRU2,\n",
    "                                    lengthscales=LENGTHSCALES)\n",
    "print(res_HTRU2)    \n",
    "classification_utils.plot_res(res_HTRU2)\n",
    "\"\"\"\n",
    "\n",
    "INIT_LENGHTSCALE_HTRU2 = 2"
   ]
  },
  {
   "cell_type": "code",
   "execution_count": 23,
   "metadata": {},
   "outputs": [
    {
     "name": "stdout",
     "output_type": "stream",
     "text": [
      "Iter 1/200 - Loss: 4.444   lengthscale: 2.000   noise: 0.693\n",
      "Iter 21/200 - Loss: 3.501   lengthscale: 3.426   noise: 0.159\n",
      "Iter 41/200 - Loss: 3.397   lengthscale: 3.851   noise: 0.115\n",
      "Iter 61/200 - Loss: 3.368   lengthscale: 3.877   noise: 0.091\n",
      "Iter 81/200 - Loss: 3.356   lengthscale: 3.854   noise: 0.055\n",
      "Iter 101/200 - Loss: 3.349   lengthscale: 3.871   noise: 0.039\n",
      "Iter 121/200 - Loss: 3.345   lengthscale: 3.922   noise: 0.031\n",
      "Iter 141/200 - Loss: 3.343   lengthscale: 3.976   noise: 0.027\n",
      "Iter 161/200 - Loss: 3.341   lengthscale: 4.021   noise: 0.024\n",
      "Iter 181/200 - Loss: 3.339   lengthscale: 4.061   noise: 0.022\n",
      "(0.9782000184059143, 0.07795679569244385, 0.03839163854718208)\n"
     ]
    }
   ],
   "source": [
    "### run Dirichlet GPC\n",
    "\n",
    "DGP_model, DGP_likelihood = classification_models.create_DGP_model(X_HTRU2_train_induced, y_HTRU2_train_induced,\n",
    "                                        init_lengthscale=INIT_LENGHTSCALE_HTRU2, learn_additional_noise=True)\n",
    "DGP_model, DGP_likelihood = classification_models.train_DGP_model(X_HTRU2_train_induced,\n",
    "                                DGP_model, DGP_likelihood, num_iter=NUM_ITER_HTRU2, lr=LR_HTRU2, report_iter=NUM_ITER_HTRU2//10)\n",
    "HTRU2_DGP_res = classification_models.evaluate_DGP(DGP_model, DGP_likelihood, X_HTRU2_test, y_HTRU2_test)\n",
    "print(HTRU2_DGP_res)"
   ]
  },
  {
   "cell_type": "code",
   "execution_count": 24,
   "metadata": {},
   "outputs": [
    {
     "name": "stdout",
     "output_type": "stream",
     "text": [
      "Iter 1/200 - Loss: 2.599   lengthscale: 2.000   noise: 0.693\n",
      "Iter 21/200 - Loss: 2.381   lengthscale: 3.525   noise: 0.137\n",
      "Iter 41/200 - Loss: 2.347   lengthscale: 4.105   noise: 0.042\n",
      "Iter 61/200 - Loss: 2.336   lengthscale: 4.172   noise: 0.022\n",
      "Iter 81/200 - Loss: 2.330   lengthscale: 4.140   noise: 0.015\n",
      "Iter 101/200 - Loss: 2.326   lengthscale: 4.136   noise: 0.012\n",
      "Iter 121/200 - Loss: 2.324   lengthscale: 4.165   noise: 0.009\n",
      "Iter 141/200 - Loss: 2.322   lengthscale: 4.205   noise: 0.008\n",
      "Iter 161/200 - Loss: 2.321   lengthscale: 4.244   noise: 0.006\n",
      "Iter 181/200 - Loss: 2.319   lengthscale: 4.280   noise: 0.005\n",
      "(0.9768000245094299, 0.0793921947479248, 0.039690300822257996)\n"
     ]
    }
   ],
   "source": [
    "### Run LM(Beta)+GP vanilla\n",
    "y_HTRU2_train_induced_mu, y_HTRU2_train_induced_var = classification_models.transform_y_beta_LM(y_HTRU2_train_induced)\n",
    "LMGP_model_HTRU2, LMGP_likelihood_HTRU2 = classification_models.create_LM_beta_GP_model(X_HTRU2_train_induced, y_HTRU2_train_induced_mu,\n",
    "                                                y_HTRU2_train_induced_var, learn_additional_noise=True,\n",
    "                                               init_lengthscale=INIT_LENGHTSCALE_HTRU2)\n",
    "LMGP_model_HTRU2, LMGP_likelihood_HTRU2 = classification_models.train_LM_beta_GP_model(X_HTRU2_train_induced, y_HTRU2_train_induced_mu,\n",
    "                    LMGP_model_HTRU2, LMGP_likelihood_HTRU2, num_iter=NUM_ITER_HTRU2, lr=LR_HTRU2, report_iter=NUM_ITER_HTRU2//10)\n",
    "HTRU2_LMGP_res = classification_models.evaluate_LM_beta_GP(LMGP_model_HTRU2, LMGP_likelihood_HTRU2, X_HTRU2_test, y_HTRU2_test)\n",
    "print(HTRU2_LMGP_res)"
   ]
  },
  {
   "cell_type": "code",
   "execution_count": 25,
   "metadata": {},
   "outputs": [
    {
     "name": "stdout",
     "output_type": "stream",
     "text": [
      "Iter 1/200 - Loss: 2.620   lengthscale: 2.000   noise: 0.693\n",
      "Iter 21/200 - Loss: 2.252   lengthscale: 3.407   noise: 0.161\n",
      "Iter 41/200 - Loss: 2.191   lengthscale: 3.578   noise: 0.088\n",
      "Iter 61/200 - Loss: 2.163   lengthscale: 3.290   noise: 0.066\n",
      "Iter 81/200 - Loss: 2.149   lengthscale: 3.210   noise: 0.045\n",
      "Iter 101/200 - Loss: 2.139   lengthscale: 3.267   noise: 0.032\n",
      "Iter 121/200 - Loss: 2.132   lengthscale: 3.289   noise: 0.024\n",
      "Iter 141/200 - Loss: 2.127   lengthscale: 3.308   noise: 0.019\n",
      "Iter 161/200 - Loss: 2.123   lengthscale: 3.335   noise: 0.016\n",
      "Iter 181/200 - Loss: 2.119   lengthscale: 3.358   noise: 0.013\n",
      "(0.9796000123023987, 0.07123546302318573, 0.04246756061911583)\n"
     ]
    }
   ],
   "source": [
    "### Run LM(Beta)+GP with conjugacy information\n",
    "\n",
    "train_mu_LB_con_HTRU2, train_var_LB_con_HTRU2 = classification_models.LM_beta(y_HTRU2_train_induced_alphas, y_HTRU2_train_induced_betas)\n",
    "LMGP_model_con_HTRU2, LMGP_likelihood_con_HTRU2 = classification_models.create_LM_beta_GP_model(X_HTRU2_train_induced, train_mu_LB_con_HTRU2,\n",
    "                                                train_var_LB_con_HTRU2, learn_additional_noise=True,\n",
    "                                               init_lengthscale=INIT_LENGHTSCALE_HTRU2)\n",
    "LMGP_model_con_HTRU2, LMGP_likelihood_con_HTRU2 = classification_models.train_LM_beta_GP_model(X_HTRU2_train_induced, train_mu_LB_con_HTRU2,\n",
    "                LMGP_model_con_HTRU2, LMGP_likelihood_con_HTRU2, num_iter=NUM_ITER_HTRU2, lr=LR_HTRU2, report_iter=NUM_ITER_HTRU2//10)\n",
    "\n",
    "HTRU2_LMGP_con_res = classification_models.evaluate_LM_beta_GP(LMGP_model_con_HTRU2, LMGP_likelihood_con_HTRU2, X_HTRU2_test, y_HTRU2_test)\n",
    "print(HTRU2_LMGP_con_res)"
   ]
  },
  {
   "cell_type": "markdown",
   "metadata": {},
   "source": [
    "## MAGIC"
   ]
  },
  {
   "cell_type": "code",
   "execution_count": 26,
   "metadata": {},
   "outputs": [],
   "source": [
    "### choose lengthscale with CV\n",
    "NUM_ITER_MAGIC = 200\n",
    "LR_MAGIC = 0.1\n",
    "\"\"\"\n",
    "res_MAGIC = classification_models.select_init_lengthscale_with_CV(X_MAGIC_train, y_MAGIC_train, mode=\"DGP\",\n",
    "                                    num_inducing_points=NUM_INDUCING_POINTS_MAGIC, \n",
    "                                    learn_noise=True, num_iter=NUM_ITER_MAGIC, lr=LR_MAGIC,\n",
    "                                    lengthscales=LENGTHSCALES)\n",
    "print(res_MAGIC)    \n",
    "classification_utils.plot_res(res_MAGIC)\n",
    "\"\"\"\n",
    "\n",
    "INIT_LENGHTSCALE_MAGIC = 2"
   ]
  },
  {
   "cell_type": "code",
   "execution_count": 27,
   "metadata": {},
   "outputs": [
    {
     "name": "stdout",
     "output_type": "stream",
     "text": [
      "Iter 1/200 - Loss: 5.675   lengthscale: 2.000   noise: 0.693\n",
      "Iter 21/200 - Loss: 4.719   lengthscale: 3.013   noise: 1.796\n",
      "Iter 41/200 - Loss: 4.619   lengthscale: 3.311   noise: 1.784\n",
      "Iter 61/200 - Loss: 4.587   lengthscale: 3.351   noise: 1.436\n",
      "Iter 81/200 - Loss: 4.569   lengthscale: 3.196   noise: 1.342\n",
      "Iter 101/200 - Loss: 4.555   lengthscale: 3.070   noise: 1.307\n",
      "Iter 121/200 - Loss: 4.545   lengthscale: 2.936   noise: 1.245\n",
      "Iter 141/200 - Loss: 4.538   lengthscale: 2.823   noise: 1.188\n",
      "Iter 161/200 - Loss: 4.533   lengthscale: 2.735   noise: 1.152\n",
      "Iter 181/200 - Loss: 4.531   lengthscale: 2.687   noise: 1.131\n",
      "(0.795799970626831, 0.5362366437911987, 0.10130868852138519)\n"
     ]
    }
   ],
   "source": [
    "### run Dirichlet GPC\n",
    "\n",
    "DGP_model, DGP_likelihood = classification_models.create_DGP_model(X_MAGIC_train_induced, y_MAGIC_train_induced,\n",
    "                                        init_lengthscale=INIT_LENGHTSCALE_MAGIC, learn_additional_noise=True)\n",
    "DGP_model, DGP_likelihood = classification_models.train_DGP_model(X_MAGIC_train_induced,\n",
    "                                DGP_model, DGP_likelihood, num_iter=NUM_ITER_MAGIC, lr=LR_MAGIC, report_iter=NUM_ITER_MAGIC//10)\n",
    "MAGIC_DGP_res = classification_models.evaluate_DGP(DGP_model, DGP_likelihood, X_MAGIC_test, y_MAGIC_test)\n",
    "print(MAGIC_DGP_res)"
   ]
  },
  {
   "cell_type": "code",
   "execution_count": 28,
   "metadata": {},
   "outputs": [
    {
     "name": "stdout",
     "output_type": "stream",
     "text": [
      "Iter 1/200 - Loss: 2.925   lengthscale: 2.000   noise: 0.693\n",
      "Iter 21/200 - Loss: 2.733   lengthscale: 3.253   noise: 1.609\n",
      "Iter 41/200 - Loss: 2.684   lengthscale: 2.736   noise: 0.876\n",
      "Iter 61/200 - Loss: 2.667   lengthscale: 2.743   noise: 0.263\n",
      "Iter 81/200 - Loss: 2.659   lengthscale: 2.752   noise: 0.116\n",
      "Iter 101/200 - Loss: 2.656   lengthscale: 2.794   noise: 0.072\n",
      "Iter 121/200 - Loss: 2.653   lengthscale: 2.815   noise: 0.052\n",
      "Iter 141/200 - Loss: 2.652   lengthscale: 2.845   noise: 0.040\n",
      "Iter 161/200 - Loss: 2.651   lengthscale: 2.869   noise: 0.032\n",
      "Iter 181/200 - Loss: 2.650   lengthscale: 2.891   noise: 0.026\n",
      "(0.7932000160217285, 0.49166595935821533, 0.08232767879962921)\n"
     ]
    }
   ],
   "source": [
    "### Run LM(Beta)+GP vanilla\n",
    "y_MAGIC_train_induced_mu, y_MAGIC_train_induced_var = classification_models.transform_y_beta_LM(y_MAGIC_train_induced)\n",
    "LMGP_model_MAGIC, LMGP_likelihood_MAGIC = classification_models.create_LM_beta_GP_model(X_MAGIC_train_induced, y_MAGIC_train_induced_mu,\n",
    "                                                y_MAGIC_train_induced_var, learn_additional_noise=True,\n",
    "                                               init_lengthscale=INIT_LENGHTSCALE_MAGIC)\n",
    "LMGP_model_MAGIC, LMGP_likelihood_MAGIC = classification_models.train_LM_beta_GP_model(X_MAGIC_train_induced, y_MAGIC_train_induced_mu,\n",
    "                    LMGP_model_MAGIC, LMGP_likelihood_MAGIC, num_iter=NUM_ITER_MAGIC, lr=LR_MAGIC, report_iter=NUM_ITER_MAGIC//10)\n",
    "MAGIC_LMGP_res = classification_models.evaluate_LM_beta_GP(LMGP_model_MAGIC, LMGP_likelihood_MAGIC, X_MAGIC_test, y_MAGIC_test)\n",
    "print(MAGIC_LMGP_res)"
   ]
  },
  {
   "cell_type": "code",
   "execution_count": 29,
   "metadata": {},
   "outputs": [
    {
     "name": "stdout",
     "output_type": "stream",
     "text": [
      "Iter 1/200 - Loss: 2.124   lengthscale: 2.000   noise: 0.693\n",
      "Iter 21/200 - Loss: 1.675   lengthscale: 3.445   noise: 0.139\n",
      "Iter 41/200 - Loss: 1.615   lengthscale: 3.478   noise: 0.048\n",
      "Iter 61/200 - Loss: 1.602   lengthscale: 3.340   noise: 0.028\n",
      "Iter 81/200 - Loss: 1.598   lengthscale: 3.473   noise: 0.020\n",
      "Iter 101/200 - Loss: 1.595   lengthscale: 3.522   noise: 0.016\n",
      "Iter 121/200 - Loss: 1.593   lengthscale: 3.563   noise: 0.013\n",
      "Iter 141/200 - Loss: 1.592   lengthscale: 3.608   noise: 0.011\n",
      "Iter 161/200 - Loss: 1.591   lengthscale: 3.643   noise: 0.009\n",
      "Iter 181/200 - Loss: 1.591   lengthscale: 3.675   noise: 0.008\n",
      "(0.8162000179290771, 0.40867048501968384, 0.04362637922167778)\n"
     ]
    }
   ],
   "source": [
    "### Run LM(Beta)+GP with conjugacy information\n",
    "\n",
    "train_mu_LB_con_MAGIC, train_var_LB_con_MAGIC = classification_models.LM_beta(y_MAGIC_train_induced_alphas, y_MAGIC_train_induced_betas)\n",
    "LMGP_model_con_MAGIC, LMGP_likelihood_con_MAGIC = classification_models.create_LM_beta_GP_model(X_MAGIC_train_induced, train_mu_LB_con_MAGIC,\n",
    "                                                train_var_LB_con_MAGIC, learn_additional_noise=True,\n",
    "                                               init_lengthscale=INIT_LENGHTSCALE_MAGIC)\n",
    "LMGP_model_con_MAGIC, LMGP_likelihood_con_MAGIC = classification_models.train_LM_beta_GP_model(X_MAGIC_train_induced, train_mu_LB_con_MAGIC,\n",
    "                LMGP_model_con_MAGIC, LMGP_likelihood_con_MAGIC, num_iter=NUM_ITER_MAGIC, lr=LR_MAGIC, report_iter=NUM_ITER_MAGIC//10)\n",
    "\n",
    "MAGIC_LMGP_con_res = classification_models.evaluate_LM_beta_GP(LMGP_model_con_MAGIC, LMGP_likelihood_con_MAGIC, X_MAGIC_test, y_MAGIC_test)\n",
    "print(MAGIC_LMGP_con_res)"
   ]
  },
  {
   "cell_type": "markdown",
   "metadata": {},
   "source": [
    "## MiniBoo"
   ]
  },
  {
   "cell_type": "code",
   "execution_count": 30,
   "metadata": {},
   "outputs": [],
   "source": [
    "### choose lengthscale with CV\n",
    "NUM_ITER_MiniBoo = 200\n",
    "LR_MiniBoo = 0.1\n",
    "\"\"\"\n",
    "res_MiniBoo = classification_models.select_init_lengthscale_with_CV(X_MiniBoo_train, y_MiniBoo_train, mode=\"DGP\",\n",
    "                                    num_inducing_points=NUM_INDUCING_POINTS_MiniBoo, \n",
    "                                    learn_noise=True, num_iter=NUM_ITER_MiniBoo, lr=LR_MiniBoo,\n",
    "                                    lengthscales=LENGTHSCALES)\n",
    "print(res_MiniBoo)    \n",
    "classification_utils.plot_res(res_MiniBoo)\n",
    "\"\"\"\n",
    "\n",
    "INIT_LENGHTSCALE_MiniBoo = 2"
   ]
  },
  {
   "cell_type": "code",
   "execution_count": 31,
   "metadata": {},
   "outputs": [
    {
     "name": "stdout",
     "output_type": "stream",
     "text": [
      "Iter 1/200 - Loss: 4.973   lengthscale: 2.000   noise: 0.693\n",
      "Iter 21/200 - Loss: 4.445   lengthscale: 2.704   noise: 1.299\n",
      "Iter 41/200 - Loss: 4.388   lengthscale: 2.939   noise: 0.970\n",
      "Iter 61/200 - Loss: 4.370   lengthscale: 2.887   noise: 0.978\n",
      "Iter 81/200 - Loss: 4.356   lengthscale: 2.688   noise: 0.887\n",
      "Iter 101/200 - Loss: 4.333   lengthscale: 2.338   noise: 0.727\n",
      "Iter 121/200 - Loss: 4.309   lengthscale: 1.943   noise: 0.611\n",
      "Iter 141/200 - Loss: 4.305   lengthscale: 1.931   noise: 0.595\n",
      "Iter 161/200 - Loss: 4.303   lengthscale: 1.973   noise: 0.591\n",
      "Iter 181/200 - Loss: 4.302   lengthscale: 1.964   noise: 0.590\n",
      "(0.866599977016449, 0.33838561177253723, 0.029760224744677544)\n"
     ]
    }
   ],
   "source": [
    "### run Dirichlet GPC\n",
    "\n",
    "DGP_model, DGP_likelihood = classification_models.create_DGP_model(X_MiniBoo_train_induced, y_MiniBoo_train_induced,\n",
    "                                        init_lengthscale=INIT_LENGHTSCALE_MiniBoo, learn_additional_noise=True)\n",
    "DGP_model, DGP_likelihood = classification_models.train_DGP_model(X_MiniBoo_train_induced,\n",
    "                                DGP_model, DGP_likelihood, num_iter=NUM_ITER_MiniBoo, lr=LR_MiniBoo, report_iter=NUM_ITER_MiniBoo//10)\n",
    "MiniBoo_DGP_res = classification_models.evaluate_DGP(DGP_model, DGP_likelihood, X_MiniBoo_test, y_MiniBoo_test)\n",
    "print(MiniBoo_DGP_res)"
   ]
  },
  {
   "cell_type": "code",
   "execution_count": 32,
   "metadata": {},
   "outputs": [
    {
     "name": "stdout",
     "output_type": "stream",
     "text": [
      "Iter 1/200 - Loss: 2.755   lengthscale: 2.000   noise: 0.693\n",
      "Iter 21/200 - Loss: 2.610   lengthscale: 2.559   noise: 0.278\n",
      "Iter 41/200 - Loss: 2.579   lengthscale: 2.291   noise: 0.058\n",
      "Iter 61/200 - Loss: 2.571   lengthscale: 2.344   noise: 0.025\n",
      "Iter 81/200 - Loss: 2.567   lengthscale: 2.389   noise: 0.016\n",
      "Iter 101/200 - Loss: 2.564   lengthscale: 2.391   noise: 0.012\n",
      "Iter 121/200 - Loss: 2.563   lengthscale: 2.409   noise: 0.009\n",
      "Iter 141/200 - Loss: 2.562   lengthscale: 2.427   noise: 0.007\n",
      "Iter 161/200 - Loss: 2.561   lengthscale: 2.441   noise: 0.006\n",
      "Iter 181/200 - Loss: 2.561   lengthscale: 2.455   noise: 0.005\n",
      "(0.8677999973297119, 0.3311293423175812, 0.012597399763762951)\n"
     ]
    }
   ],
   "source": [
    "### Run LM(Beta)+GP vanilla\n",
    "y_MiniBoo_train_induced_mu, y_MiniBoo_train_induced_var = classification_models.transform_y_beta_LM(y_MiniBoo_train_induced)\n",
    "LMGP_model_MiniBoo, LMGP_likelihood_MiniBoo = classification_models.create_LM_beta_GP_model(X_MiniBoo_train_induced, y_MiniBoo_train_induced_mu,\n",
    "                                                y_MiniBoo_train_induced_var, learn_additional_noise=True,\n",
    "                                               init_lengthscale=INIT_LENGHTSCALE_MiniBoo)\n",
    "LMGP_model_MiniBoo, LMGP_likelihood_MiniBoo = classification_models.train_LM_beta_GP_model(X_MiniBoo_train_induced, y_MiniBoo_train_induced_mu,\n",
    "                    LMGP_model_MiniBoo, LMGP_likelihood_MiniBoo, num_iter=NUM_ITER_MiniBoo, lr=LR_MiniBoo, report_iter=NUM_ITER_MiniBoo//10)\n",
    "MiniBoo_LMGP_res = classification_models.evaluate_LM_beta_GP(LMGP_model_MiniBoo, LMGP_likelihood_MiniBoo, X_MiniBoo_test, y_MiniBoo_test)\n",
    "print(MiniBoo_LMGP_res)"
   ]
  },
  {
   "cell_type": "code",
   "execution_count": 33,
   "metadata": {},
   "outputs": [
    {
     "name": "stdout",
     "output_type": "stream",
     "text": [
      "Iter 1/200 - Loss: 2.059   lengthscale: 2.000   noise: 0.693\n",
      "Iter 21/200 - Loss: 1.892   lengthscale: 2.156   noise: 0.162\n",
      "Iter 41/200 - Loss: 1.870   lengthscale: 2.274   noise: 0.093\n",
      "Iter 61/200 - Loss: 1.864   lengthscale: 2.337   noise: 0.092\n",
      "Iter 81/200 - Loss: 1.861   lengthscale: 2.394   noise: 0.098\n",
      "Iter 101/200 - Loss: 1.860   lengthscale: 2.441   noise: 0.100\n",
      "Iter 121/200 - Loss: 1.859   lengthscale: 2.470   noise: 0.099\n",
      "Iter 141/200 - Loss: 1.858   lengthscale: 2.496   noise: 0.098\n",
      "Iter 161/200 - Loss: 1.858   lengthscale: 2.518   noise: 0.097\n",
      "Iter 181/200 - Loss: 1.857   lengthscale: 2.536   noise: 0.097\n",
      "(0.8726000189781189, 0.2973827123641968, 0.02488512359559536)\n"
     ]
    }
   ],
   "source": [
    "### Run LM(Beta)+GP with conjugacy information\n",
    "\n",
    "train_mu_LB_con_MiniBoo, train_var_LB_con_MiniBoo = classification_models.LM_beta(y_MiniBoo_train_induced_alphas, y_MiniBoo_train_induced_betas)\n",
    "LMGP_model_con_MiniBoo, LMGP_likelihood_con_MiniBoo = classification_models.create_LM_beta_GP_model(X_MiniBoo_train_induced, train_mu_LB_con_MiniBoo,\n",
    "                                                train_var_LB_con_MiniBoo, learn_additional_noise=True,\n",
    "                                               init_lengthscale=INIT_LENGHTSCALE_MiniBoo)\n",
    "LMGP_model_con_MiniBoo, LMGP_likelihood_con_MiniBoo = classification_models.train_LM_beta_GP_model(X_MiniBoo_train_induced, train_mu_LB_con_MiniBoo,\n",
    "                LMGP_model_con_MiniBoo, LMGP_likelihood_con_MiniBoo, num_iter=NUM_ITER_MiniBoo, lr=LR_MiniBoo, report_iter=NUM_ITER_MiniBoo//10)\n",
    "\n",
    "MiniBoo_LMGP_con_res = classification_models.evaluate_LM_beta_GP(LMGP_model_con_MiniBoo, LMGP_likelihood_con_MiniBoo, X_MiniBoo_test, y_MiniBoo_test)\n",
    "print(MiniBoo_LMGP_con_res)"
   ]
  },
  {
   "cell_type": "markdown",
   "metadata": {},
   "source": [
    "# save results"
   ]
  },
  {
   "cell_type": "code",
   "execution_count": 34,
   "metadata": {},
   "outputs": [],
   "source": [
    "all_res = {\n",
    "    \"EEG_res\":{\n",
    "        \"DGP\":list(EEG_DGP_res), \n",
    "        \"LMGP\":list(EEG_LMGP_res), \n",
    "        \"LMGP_con\":list(EEG_LMGP_con_res)\n",
    "    },\n",
    "    \"HTRU2_res\":{\n",
    "        \"DGP\":list(HTRU2_DGP_res), \n",
    "        \"LMGP\":list(HTRU2_LMGP_res), \n",
    "        \"LMGP_con\":list(HTRU2_LMGP_con_res)\n",
    "    },\n",
    "    \"MAGIC_res\":{\n",
    "        \"DGP\":list(MAGIC_DGP_res), \n",
    "        \"LMGP\":list(MAGIC_LMGP_res), \n",
    "        \"LMGP_con\":list(MAGIC_LMGP_con_res)\n",
    "    },\n",
    "    \"MiniBoo_res\":{\n",
    "        \"DGP\":list(MiniBoo_DGP_res), \n",
    "        \"LMGP\":list(MiniBoo_LMGP_res), \n",
    "        \"LMGP_con\":list(MiniBoo_LMGP_con_res)\n",
    "    }\n",
    "}"
   ]
  },
  {
   "cell_type": "code",
   "execution_count": 35,
   "metadata": {},
   "outputs": [
    {
     "name": "stdout",
     "output_type": "stream",
     "text": [
      "{'EEG_res': {'DGP': [0.6467499732971191, 0.7012051939964294, 0.12777778506278992], 'LMGP': [0.606249988079071, 0.7131885290145874, 0.14380775392055511], 'LMGP_con': [0.7127500176429749, 0.5398080348968506, 0.021660421043634415]}, 'HTRU2_res': {'DGP': [0.9782000184059143, 0.07795679569244385, 0.03839163854718208], 'LMGP': [0.9768000245094299, 0.0793921947479248, 0.039690300822257996], 'LMGP_con': [0.9796000123023987, 0.07123546302318573, 0.04246756061911583]}, 'MAGIC_res': {'DGP': [0.795799970626831, 0.5362366437911987, 0.10130868852138519], 'LMGP': [0.7932000160217285, 0.49166595935821533, 0.08232767879962921], 'LMGP_con': [0.8162000179290771, 0.40867048501968384, 0.04362637922167778]}, 'MiniBoo_res': {'DGP': [0.866599977016449, 0.33838561177253723, 0.029760224744677544], 'LMGP': [0.8677999973297119, 0.3311293423175812, 0.012597399763762951], 'LMGP_con': [0.8726000189781189, 0.2973827123641968, 0.02488512359559536]}}\n"
     ]
    }
   ],
   "source": [
    "import json\n",
    "print(all_res)\n",
    "#save results for this seed\n",
    "\n",
    "res_file = open(\"results/bin_class_seed_{}.json\".format(seed), \"w\")\n",
    "json.dump(all_res, res_file)\n",
    "res_file.close()"
   ]
  },
  {
   "cell_type": "code",
   "execution_count": 36,
   "metadata": {},
   "outputs": [
    {
     "ename": "SyntaxError",
     "evalue": "'break' outside loop (<ipython-input-36-6aaf1f276005>, line 1)",
     "output_type": "error",
     "traceback": [
      "\u001b[0;36m  File \u001b[0;32m\"<ipython-input-36-6aaf1f276005>\"\u001b[0;36m, line \u001b[0;32m1\u001b[0m\n\u001b[0;31m    break\u001b[0m\n\u001b[0m    ^\u001b[0m\n\u001b[0;31mSyntaxError\u001b[0m\u001b[0;31m:\u001b[0m 'break' outside loop\n"
     ]
    }
   ],
   "source": [
    "break"
   ]
  },
  {
   "cell_type": "markdown",
   "metadata": {},
   "source": [
    "# plot results"
   ]
  },
  {
   "cell_type": "code",
   "execution_count": 6,
   "metadata": {},
   "outputs": [
    {
     "name": "stdout",
     "output_type": "stream",
     "text": [
      "{'EEG_res': {'DGP': [0.5885000228881836, 0.7486024498939514, 0.17264671623706818], 'LMGP': [0.5569999814033508, 0.729259729385376, 0.09519588202238083], 'LMGP_con': [0.6862499713897705, 0.5671086311340332, 0.013570543378591537]}, 'HTRU2_res': {'DGP': [0.9779999852180481, 0.07645564526319504, 0.039890140295028687], 'LMGP': [0.977400004863739, 0.07888096570968628, 0.039150871336460114], 'LMGP_con': [0.9797999858856201, 0.07336153835058212, 0.04176821559667587]}, 'MAGIC_res': {'DGP': [0.7919999957084656, 0.6402088403701782, 0.1169930025935173], 'LMGP': [0.7914000153541565, 0.552958607673645, 0.09899098426103592], 'LMGP_con': [0.824999988079071, 0.4007170796394348, 0.05011987313628197]}, 'MiniBoo_res': {'DGP': [0.8668000102043152, 0.33881834149360657, 0.029520491138100624], 'LMGP': [0.8677999973297119, 0.3311293423175812, 0.012597399763762951], 'LMGP_con': [0.8726000189781189, 0.2973827123641968, 0.02488512359559536]}}\n",
      "{'EEG_res': {'DGP': [0.6362500190734863, 0.6315459609031677, 0.0551435723900795], 'LMGP': [0.578000009059906, 0.6621639132499695, 0.07444444298744202], 'LMGP_con': [0.6955000162124634, 0.5480953454971313, 0.021535592153668404]}, 'HTRU2_res': {'DGP': [0.9733999967575073, 0.09256896376609802, 0.038171835243701935], 'LMGP': [0.9721999764442444, 0.08989989757537842, 0.03927072510123253], 'LMGP_con': [0.9751999974250793, 0.0848274752497673, 0.037392597645521164]}, 'MAGIC_res': {'DGP': [0.8011999726295471, 0.5869053602218628, 0.09643355011940002], 'LMGP': [0.7937999963760376, 0.5216696262359619, 0.08734266459941864], 'LMGP_con': [0.8212000131607056, 0.4114838242530823, 0.04946053400635719]}, 'MiniBoo_res': {'DGP': [0.8664000034332275, 0.3383502960205078, 0.029980000108480453], 'LMGP': [0.8677999973297119, 0.3311293423175812, 0.012597399763762951], 'LMGP_con': [0.8726000189781189, 0.2973827123641968, 0.02488512359559536]}}\n",
      "{'EEG_res': {'DGP': [0.5872499942779541, 0.7239165902137756, 0.13644194602966309], 'LMGP': [0.5852500200271606, 0.6865164041519165, 0.10098625719547272], 'LMGP_con': [0.6875, 0.5505354404449463, 0.019013741984963417]}, 'HTRU2_res': {'DGP': [0.9739999771118164, 0.09063036739826202, 0.03817182406783104], 'LMGP': [0.9715999960899353, 0.09093181788921356, 0.037572432309389114], 'LMGP_con': [0.975600004196167, 0.07962378114461899, 0.03939061611890793]}, 'MAGIC_res': {'DGP': [0.7968000173568726, 0.553565263748169, 0.10956043750047684], 'LMGP': [0.7990000247955322, 0.4814997911453247, 0.07971030473709106], 'LMGP_con': [0.8235999941825867, 0.40687790513038635, 0.047222789376974106]}, 'MiniBoo_res': {'DGP': [0.8669999837875366, 0.338272362947464, 0.02952045202255249], 'LMGP': [0.8677999973297119, 0.3311293423175812, 0.012597399763762951], 'LMGP_con': [0.8726000189781189, 0.2973827123641968, 0.02488512359559536]}}\n",
      "{'EEG_res': {'DGP': [0.6807500123977661, 0.6890937685966492, 0.10687888413667679], 'LMGP': [0.671999990940094, 0.6624484658241272, 0.07404493540525436], 'LMGP_con': [0.6875, 0.548423171043396, 0.02717852033674717]}, 'HTRU2_res': {'DGP': [0.9764000177383423, 0.08670683950185776, 0.0359540618956089], 'LMGP': [0.973800003528595, 0.08550375699996948, 0.04116884991526604], 'LMGP_con': [0.9783999919891357, 0.07691948115825653, 0.0431668646633625]}, 'MAGIC_res': {'DGP': [0.800599992275238, 0.5621601343154907, 0.10818183422088623], 'LMGP': [0.7993999719619751, 0.4891148507595062, 0.0902397632598877], 'LMGP_con': [0.8334000110626221, 0.38137179613113403, 0.06030968576669693]}, 'MiniBoo_res': {'DGP': [0.8669999837875366, 0.3374374210834503, 0.02936064451932907], 'LMGP': [0.8677999973297119, 0.3311293423175812, 0.012597399763762951], 'LMGP_con': [0.8726000189781189, 0.2973827123641968, 0.02488512359559536]}}\n",
      "{'EEG_res': {'DGP': [0.6467499732971191, 0.7012051939964294, 0.12777778506278992], 'LMGP': [0.606249988079071, 0.7131885290145874, 0.14380775392055511], 'LMGP_con': [0.7127500176429749, 0.5398080348968506, 0.021660421043634415]}, 'HTRU2_res': {'DGP': [0.9782000184059143, 0.07795679569244385, 0.03839163854718208], 'LMGP': [0.9768000245094299, 0.0793921947479248, 0.039690300822257996], 'LMGP_con': [0.9796000123023987, 0.07123546302318573, 0.04246756061911583]}, 'MAGIC_res': {'DGP': [0.795799970626831, 0.5362366437911987, 0.10130868852138519], 'LMGP': [0.7932000160217285, 0.49166595935821533, 0.08232767879962921], 'LMGP_con': [0.8162000179290771, 0.40867048501968384, 0.04362637922167778]}, 'MiniBoo_res': {'DGP': [0.866599977016449, 0.33838561177253723, 0.029760224744677544], 'LMGP': [0.8677999973297119, 0.3311293423175812, 0.012597399763762951], 'LMGP_con': [0.8726000189781189, 0.2973827123641968, 0.02488512359559536]}}\n"
     ]
    }
   ],
   "source": [
    "import json\n",
    "### over all seeds\n",
    "\n",
    "DGP_acc_all = []\n",
    "LMGP_acc_all = []\n",
    "LMGP_con_acc_all = []\n",
    "DGP_mnll_all = []\n",
    "LMGP_mnll_all = []\n",
    "LMGP_con_mnll_all = []\n",
    "DGP_ece_all = []\n",
    "LMGP_ece_all = []\n",
    "LMGP_con_ece_all = []\n",
    "\n",
    "for seed in range(5):\n",
    "    seed +=1\n",
    "\n",
    "    with open('results/bin_class_seed_{}.json'.format(seed)) as json_file:\n",
    "        all_res = json.load(json_file)\n",
    "    print(all_res)\n",
    "\n",
    "    DGP_acc = []\n",
    "    LMGP_acc = []\n",
    "    LMGP_con_acc = []\n",
    "    DGP_mnll = []\n",
    "    LMGP_mnll = []\n",
    "    LMGP_con_mnll = []\n",
    "    DGP_ece = []\n",
    "    LMGP_ece = []\n",
    "    LMGP_con_ece = []\n",
    "\n",
    "    for dataset in [\"EEG_res\", \"HTRU2_res\", \"MAGIC_res\", \"MiniBoo_res\"]:\n",
    "\n",
    "        DGP_acc.append(all_res[dataset][\"DGP\"][0])\n",
    "        LMGP_acc.append(all_res[dataset][\"LMGP\"][0])\n",
    "        LMGP_con_acc.append(all_res[dataset][\"LMGP_con\"][0])\n",
    "        DGP_mnll.append(all_res[dataset][\"DGP\"][1])\n",
    "        LMGP_mnll.append(all_res[dataset][\"LMGP\"][1])\n",
    "        LMGP_con_mnll.append(all_res[dataset][\"LMGP_con\"][1])\n",
    "        DGP_ece.append(all_res[dataset][\"DGP\"][2])\n",
    "        LMGP_ece.append(all_res[dataset][\"LMGP\"][2])\n",
    "        LMGP_con_ece.append(all_res[dataset][\"LMGP_con\"][2])\n",
    "        \n",
    "    DGP_acc_all.append(DGP_acc)\n",
    "    LMGP_acc_all.append(LMGP_acc)\n",
    "    LMGP_con_acc_all.append(LMGP_con_acc)\n",
    "    DGP_mnll_all.append(DGP_mnll)\n",
    "    LMGP_mnll_all.append(LMGP_mnll)\n",
    "    LMGP_con_mnll_all.append(LMGP_con_mnll)\n",
    "    DGP_ece_all.append(DGP_ece)\n",
    "    LMGP_ece_all.append(LMGP_ece)\n",
    "    LMGP_con_ece_all.append(LMGP_con_ece)\n",
    "    \n",
    "DGP_acc_mean = np.array(DGP_acc_all).mean(0)\n",
    "LMGP_acc_mean = np.array(LMGP_acc_all).mean(0)\n",
    "LMGP_con_acc_mean = np.array(LMGP_con_acc_all).mean(0)\n",
    "DGP_mnll_mean = np.array(DGP_mnll_all).mean(0)\n",
    "LMGP_mnll_mean = np.array(LMGP_mnll_all).mean(0)\n",
    "LMGP_con_mnll_mean = np.array(LMGP_con_mnll_all).mean(0)\n",
    "DGP_ece_mean = np.array(DGP_ece_all).mean(0)\n",
    "LMGP_ece_mean = np.array(LMGP_ece_all).mean(0)\n",
    "LMGP_con_ece_mean = np.array(LMGP_con_ece_all).mean(0)\n",
    "\n",
    "DGP_acc_std = np.array(DGP_acc_all).std(0)\n",
    "LMGP_acc_std = np.array(LMGP_acc_all).std(0)\n",
    "LMGP_con_acc_std = np.array(LMGP_con_acc_all).std(0)\n",
    "DGP_mnll_std = np.array(DGP_mnll_all).std(0)\n",
    "LMGP_mnll_std = np.array(LMGP_mnll_all).std(0)\n",
    "LMGP_con_mnll_std = np.array(LMGP_con_mnll_all).std(0)\n",
    "DGP_ece_std = np.array(DGP_ece_all).std(0)\n",
    "LMGP_ece_std = np.array(LMGP_ece_all).std(0)\n",
    "LMGP_con_ece_std = np.array(LMGP_con_ece_all).std(0)"
   ]
  },
  {
   "cell_type": "code",
   "execution_count": 10,
   "metadata": {},
   "outputs": [
    {
     "name": "stderr",
     "output_type": "stream",
     "text": [
      "<ipython-input-10-8c970ba05a43>:32: UserWarning: This figure was using constrained_layout==True, but that is incompatible with subplots_adjust and or tight_layout: setting constrained_layout==False. \n",
      "  plt.tight_layout()\n"
     ]
    },
    {
     "data": {
      "image/png": "[encoded data removed]",
      "text/plain": [
       "<Figure size 1100x849.797 with 3 Axes>"
      ]
     },
     "metadata": {
      "needs_background": "light"
     },
     "output_type": "display_data"
    }
   ],
   "source": [
    "# plot the results\n",
    "w=0.23\n",
    "c=0.25\n",
    "x=np.arange(4)\n",
    "\n",
    "fig, ax = plt.subplots(3, 1, figsize=(figwidth, 2.5*figheight), dpi=200, sharex=True)\n",
    "\n",
    "ax[0].bar(x-1*c, DGP_acc_mean, width=w, yerr=2*DGP_acc_std, color=\"firebrick\", label=\"DGP\")\n",
    "ax[0].bar(x, LMGP_acc_mean, width=w, yerr=2*LMGP_acc_std, color=\"cornflowerblue\", label=\"LM(Beta)+GP\")\n",
    "ax[0].bar(x+1*c, LMGP_con_acc_mean, width=w, yerr=2*LMGP_con_acc_std, color=\"orange\", label=\"LM(Beta)+GP+conjugacy\")\n",
    "ax[0].grid()\n",
    "ax[0].set_ylim(0, 1.05)\n",
    "ax[0].set_ylabel(u\"Accuracy \\u2192\")\n",
    "#ax[0].legend()\n",
    "\n",
    "ax[1].bar(x-1*c, DGP_mnll_mean, width=w, yerr=2*DGP_mnll_std, color=\"firebrick\", label=\"DGP\")\n",
    "ax[1].bar(x, LMGP_mnll_mean, width=w, yerr=2*LMGP_mnll_std, color=\"cornflowerblue\", label=\"LM(Beta)+GP\")\n",
    "ax[1].bar(x+1*c, LMGP_con_mnll_mean, width=w, yerr=2*LMGP_con_mnll_std, color=\"orange\", label=\"LM(Beta)+GP+conjugacy\")\n",
    "ax[1].grid()\n",
    "ax[1].set_ylabel(u\"MNLL \\u2190\")\n",
    "\n",
    "ax[2].bar(x-1*c, DGP_ece_mean, width=w, yerr=2*DGP_ece_std, color=\"firebrick\", label=\"DGP\")\n",
    "ax[2].bar(x, LMGP_ece_mean, width=w, yerr=2*LMGP_ece_std, color=\"cornflowerblue\", label=\"LM(Beta)+GP\")\n",
    "ax[2].bar(x+1*c, LMGP_con_ece_mean, width=w, yerr=2*LMGP_con_ece_std, color=\"orange\", label=\"LM(Beta)+GP+conjugacy\")\n",
    "ax[2].grid()\n",
    "ax[2].set_ylabel(u\"ECE \\u2190\")\n",
    "ax[2].legend()\n",
    "\n",
    "ax[2].set_xticks(x)\n",
    "ax[2].set_xticklabels([\"EEG\", \"HTRU2\", \"MAGIC\", \"MiniBoo\"])\n",
    "\n",
    "plt.tight_layout()\n",
    "plt.savefig(\"figures/bin_class_results.pdf\")\n",
    "plt.show();"
   ]
  },
  {
   "cell_type": "code",
   "execution_count": null,
   "metadata": {},
   "outputs": [],
   "source": []
  }
 ],
 "metadata": {
  "kernelspec": {
   "display_name": "Python 3",
   "language": "python",
   "name": "python3"
  },
  "language_info": {
   "codemirror_mode": {
    "name": "ipython",
    "version": 3
   },
   "file_extension": ".py",
   "mimetype": "text/x-python",
   "name": "python",
   "nbconvert_exporter": "python",
   "pygments_lexer": "ipython3",
   "version": "3.8.5"
  }
 },
 "nbformat": 4,
 "nbformat_minor": 5
}
