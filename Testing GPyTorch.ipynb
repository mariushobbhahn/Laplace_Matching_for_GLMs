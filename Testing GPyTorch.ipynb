{
 "cells": [
  {
   "cell_type": "code",
   "execution_count": 1,
   "id": "c3b7c327",
   "metadata": {},
   "outputs": [],
   "source": [
    "import math\n",
    "import torch\n",
    "import gpytorch\n",
    "from matplotlib import pyplot as plt\n",
    "\n",
    "%matplotlib inline\n",
    "%load_ext autoreload\n",
    "%autoreload 2"
   ]
  },
  {
   "cell_type": "code",
   "execution_count": 3,
   "id": "7a32d174",
   "metadata": {},
   "outputs": [],
   "source": [
    "# Training data is 100 points in [0,1] inclusive regularly spaced\n",
    "train_x = torch.linspace(0, 1, 100)\n",
    "# True function is sin(2*pi*x) with Gaussian noise\n",
    "train_y = torch.sin(train_x * (2 * math.pi)) + torch.randn(train_x.size()) * math.sqrt(0.04)"
   ]
  },
  {
   "cell_type": "code",
   "execution_count": 6,
   "id": "b2ca0815",
   "metadata": {},
   "outputs": [
    {
     "data": {
      "image/png": "[encoded data removed]",
      "text/plain": [
       "<Figure size 720x360 with 1 Axes>"
      ]
     },
     "metadata": {
      "needs_background": "light"
     },
     "output_type": "display_data"
    }
   ],
   "source": [
    "fig, ax = plt.subplots(1, 1, figsize=(10, 5))\n",
    "\n",
    "ax.scatter(train_x, train_y)\n",
    "plt.show();"
   ]
  },
  {
   "cell_type": "code",
   "execution_count": 7,
   "id": "301b408c",
   "metadata": {},
   "outputs": [],
   "source": [
    "# We will use the simplest form of GP model, exact inference\n",
    "class ExactGPModel(gpytorch.models.ExactGP):\n",
    "    def __init__(self, train_x, train_y, likelihood):\n",
    "        super(ExactGPModel, self).__init__(train_x, train_y, likelihood)\n",
    "        self.mean_module = gpytorch.means.ConstantMean()\n",
    "        self.covar_module = gpytorch.kernels.ScaleKernel(gpytorch.kernels.RBFKernel())\n",
    "\n",
    "    def forward(self, x):\n",
    "        mean_x = self.mean_module(x)\n",
    "        covar_x = self.covar_module(x)\n",
    "        return gpytorch.distributions.MultivariateNormal(mean_x, covar_x)\n",
    "\n",
    "# initialize likelihood and model\n",
    "likelihood = gpytorch.likelihoods.GaussianLikelihood()\n",
    "model = ExactGPModel(train_x, train_y, likelihood)"
   ]
  },
  {
   "cell_type": "code",
   "execution_count": 8,
   "id": "cd96303f",
   "metadata": {},
   "outputs": [
    {
     "name": "stderr",
     "output_type": "stream",
     "text": [
      "/home/marius/anaconda3/lib/python3.9/site-packages/torch/autograd/__init__.py:154: UserWarning: CUDA initialization: Unexpected error from cudaGetDeviceCount(). Did you run some cuda functions before calling NumCudaDevices() that might have already set an error? Error 804: forward compatibility was attempted on non supported HW (Triggered internally at  ../c10/cuda/CUDAFunctions.cpp:112.)\n",
      "  Variable._execution_engine.run_backward(\n"
     ]
    },
    {
     "name": "stdout",
     "output_type": "stream",
     "text": [
      "Iter 1/50 - Loss: 0.943   lengthscale: 0.693   noise: 0.693\n",
      "Iter 2/50 - Loss: 0.911   lengthscale: 0.644   noise: 0.644\n",
      "Iter 3/50 - Loss: 0.877   lengthscale: 0.598   noise: 0.598\n",
      "Iter 4/50 - Loss: 0.839   lengthscale: 0.555   noise: 0.554\n",
      "Iter 5/50 - Loss: 0.797   lengthscale: 0.514   noise: 0.513\n",
      "Iter 6/50 - Loss: 0.749   lengthscale: 0.475   noise: 0.474\n",
      "Iter 7/50 - Loss: 0.698   lengthscale: 0.439   noise: 0.437\n",
      "Iter 8/50 - Loss: 0.647   lengthscale: 0.404   noise: 0.402\n",
      "Iter 9/50 - Loss: 0.597   lengthscale: 0.371   noise: 0.369\n",
      "Iter 10/50 - Loss: 0.552   lengthscale: 0.342   noise: 0.339\n",
      "Iter 11/50 - Loss: 0.512   lengthscale: 0.315   noise: 0.310\n",
      "Iter 12/50 - Loss: 0.475   lengthscale: 0.291   noise: 0.284\n",
      "Iter 13/50 - Loss: 0.440   lengthscale: 0.272   noise: 0.259\n",
      "Iter 14/50 - Loss: 0.407   lengthscale: 0.255   noise: 0.237\n",
      "Iter 15/50 - Loss: 0.374   lengthscale: 0.242   noise: 0.216\n",
      "Iter 16/50 - Loss: 0.342   lengthscale: 0.232   noise: 0.196\n",
      "Iter 17/50 - Loss: 0.310   lengthscale: 0.224   noise: 0.179\n",
      "Iter 18/50 - Loss: 0.279   lengthscale: 0.219   noise: 0.163\n",
      "Iter 19/50 - Loss: 0.248   lengthscale: 0.215   noise: 0.148\n",
      "Iter 20/50 - Loss: 0.218   lengthscale: 0.213   noise: 0.134\n",
      "Iter 21/50 - Loss: 0.188   lengthscale: 0.213   noise: 0.122\n",
      "Iter 22/50 - Loss: 0.160   lengthscale: 0.214   noise: 0.111\n",
      "Iter 23/50 - Loss: 0.134   lengthscale: 0.216   noise: 0.101\n",
      "Iter 24/50 - Loss: 0.109   lengthscale: 0.219   noise: 0.092\n",
      "Iter 25/50 - Loss: 0.085   lengthscale: 0.224   noise: 0.084\n",
      "Iter 26/50 - Loss: 0.065   lengthscale: 0.229   noise: 0.077\n",
      "Iter 27/50 - Loss: 0.046   lengthscale: 0.235   noise: 0.070\n",
      "Iter 28/50 - Loss: 0.031   lengthscale: 0.242   noise: 0.064\n",
      "Iter 29/50 - Loss: 0.018   lengthscale: 0.250   noise: 0.059\n",
      "Iter 30/50 - Loss: 0.008   lengthscale: 0.258   noise: 0.055\n",
      "Iter 31/50 - Loss: 0.002   lengthscale: 0.266   noise: 0.051\n",
      "Iter 32/50 - Loss: -0.002   lengthscale: 0.274   noise: 0.047\n",
      "Iter 33/50 - Loss: -0.003   lengthscale: 0.282   noise: 0.044\n",
      "Iter 34/50 - Loss: -0.002   lengthscale: 0.290   noise: 0.042\n",
      "Iter 35/50 - Loss: 0.001   lengthscale: 0.297   noise: 0.039\n",
      "Iter 36/50 - Loss: 0.006   lengthscale: 0.302   noise: 0.038\n",
      "Iter 37/50 - Loss: 0.010   lengthscale: 0.305   noise: 0.036\n",
      "Iter 38/50 - Loss: 0.014   lengthscale: 0.307   noise: 0.035\n",
      "Iter 39/50 - Loss: 0.018   lengthscale: 0.307   noise: 0.034\n",
      "Iter 40/50 - Loss: 0.020   lengthscale: 0.305   noise: 0.034\n",
      "Iter 41/50 - Loss: 0.020   lengthscale: 0.301   noise: 0.034\n",
      "Iter 42/50 - Loss: 0.020   lengthscale: 0.296   noise: 0.034\n",
      "Iter 43/50 - Loss: 0.018   lengthscale: 0.291   noise: 0.034\n",
      "Iter 44/50 - Loss: 0.016   lengthscale: 0.285   noise: 0.034\n",
      "Iter 45/50 - Loss: 0.014   lengthscale: 0.280   noise: 0.035\n",
      "Iter 46/50 - Loss: 0.011   lengthscale: 0.275   noise: 0.035\n",
      "Iter 47/50 - Loss: 0.008   lengthscale: 0.270   noise: 0.036\n",
      "Iter 48/50 - Loss: 0.006   lengthscale: 0.266   noise: 0.037\n",
      "Iter 49/50 - Loss: 0.003   lengthscale: 0.263   noise: 0.038\n",
      "Iter 50/50 - Loss: 0.001   lengthscale: 0.260   noise: 0.039\n"
     ]
    }
   ],
   "source": [
    "# this is for running the notebook in our testing framework\n",
    "import os\n",
    "smoke_test = ('CI' in os.environ)\n",
    "training_iter = 2 if smoke_test else 50\n",
    "\n",
    "\n",
    "# Find optimal model hyperparameters\n",
    "model.train()\n",
    "likelihood.train()\n",
    "\n",
    "# Use the adam optimizer\n",
    "optimizer = torch.optim.Adam(model.parameters(), lr=0.1)  # Includes GaussianLikelihood parameters\n",
    "\n",
    "# \"Loss\" for GPs - the marginal log likelihood\n",
    "mll = gpytorch.mlls.ExactMarginalLogLikelihood(likelihood, model)\n",
    "\n",
    "for i in range(training_iter):\n",
    "    # Zero gradients from previous iteration\n",
    "    optimizer.zero_grad()\n",
    "    # Output from model\n",
    "    output = model(train_x)\n",
    "    # Calc loss and backprop gradients\n",
    "    loss = -mll(output, train_y)\n",
    "    loss.backward()\n",
    "    print('Iter %d/%d - Loss: %.3f   lengthscale: %.3f   noise: %.3f' % (\n",
    "        i + 1, training_iter, loss.item(),\n",
    "        model.covar_module.base_kernel.lengthscale.item(),\n",
    "        model.likelihood.noise.item()\n",
    "    ))\n",
    "    optimizer.step()"
   ]
  },
  {
   "cell_type": "code",
   "execution_count": 11,
   "id": "3286ea6a",
   "metadata": {},
   "outputs": [],
   "source": [
    "# Get into evaluation (predictive posterior) mode\n",
    "model.eval()\n",
    "likelihood.eval()\n",
    "\n",
    "# Test points are regularly spaced along [0,1]\n",
    "# Make predictions by feeding model through likelihood\n",
    "with torch.no_grad(), gpytorch.settings.fast_pred_var():\n",
    "    test_x = torch.linspace(0, 1, 51)\n",
    "    observed_pred = likelihood(model(test_x))\n",
    "\n"
   ]
  },
  {
   "cell_type": "code",
   "execution_count": 17,
   "id": "ebb21672",
   "metadata": {},
   "outputs": [
    {
     "name": "stdout",
     "output_type": "stream",
     "text": [
      "MultivariateNormal(loc: torch.Size([51]))\n"
     ]
    },
    {
     "name": "stderr",
     "output_type": "stream",
     "text": [
      "/home/marius/anaconda3/lib/python3.9/site-packages/gpytorch/utils/cholesky.py:40: NumericalWarning: A not p.d., added jitter of 1.0e-06 to the diagonal\n",
      "  warnings.warn(\n",
      "/home/marius/anaconda3/lib/python3.9/site-packages/gpytorch/utils/cholesky.py:40: NumericalWarning: A not p.d., added jitter of 1.0e-05 to the diagonal\n",
      "  warnings.warn(\n"
     ]
    }
   ],
   "source": [
    "f_preds = model(test_x)\n",
    "y_preds = likelihood(model(test_x))\n",
    "print(f_preds)\n",
    "\n",
    "f_mean = f_preds.mean\n",
    "f_var = f_preds.variance\n",
    "f_covar = f_preds.covariance_matrix\n",
    "f_samples = f_preds.sample(sample_shape=torch.Size((1000,)))"
   ]
  },
  {
   "cell_type": "code",
   "execution_count": 21,
   "id": "7e03e894",
   "metadata": {},
   "outputs": [
    {
     "data": {
      "image/png": "[encoded data removed]",
      "text/plain": [
       "<Figure size 720x360 with 1 Axes>"
      ]
     },
     "metadata": {
      "needs_background": "light"
     },
     "output_type": "display_data"
    }
   ],
   "source": [
    "with torch.no_grad():\n",
    "    # Initialize plot\n",
    "    f, ax = plt.subplots(1, 1, figsize=(10, 5))\n",
    "\n",
    "    # Get upper and lower confidence bounds\n",
    "    lower, upper = observed_pred.confidence_region()\n",
    "    # Plot training data as black stars\n",
    "    ax.plot(train_x.numpy(), train_y.numpy(), 'k*')\n",
    "    # Plot predictive means as blue line\n",
    "    ax.plot(test_x.numpy(), observed_pred.mean.numpy(), 'b')\n",
    "    # Shade between the lower and upper confidence bounds\n",
    "    ax.fill_between(test_x.numpy(), lower.numpy(), upper.numpy(), alpha=0.5)\n",
    "    ax.set_ylim([-3, 3])\n",
    "    ax.legend(['Observed Data', 'Mean', 'Confidence'])\n",
    "    \n",
    "    ax.scatter(test_x.numpy(), f_samples.mean(0).numpy(), color=\"orange\")"
   ]
  },
  {
   "cell_type": "code",
   "execution_count": null,
   "id": "61842ca8",
   "metadata": {},
   "outputs": [],
   "source": []
  }
 ],
 "metadata": {
  "kernelspec": {
   "display_name": "Python 3 (ipykernel)",
   "language": "python",
   "name": "python3"
  },
  "language_info": {
   "codemirror_mode": {
    "name": "ipython",
    "version": 3
   },
   "file_extension": ".py",
   "mimetype": "text/x-python",
   "name": "python",
   "nbconvert_exporter": "python",
   "pygments_lexer": "ipython3",
   "version": "3.9.7"
  }
 },
 "nbformat": 4,
 "nbformat_minor": 5
}
