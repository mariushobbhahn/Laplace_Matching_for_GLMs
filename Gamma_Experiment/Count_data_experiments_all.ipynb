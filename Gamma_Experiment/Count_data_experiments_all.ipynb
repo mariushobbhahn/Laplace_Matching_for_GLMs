{
 "cells": [
  {
   "cell_type": "code",
   "execution_count": 1,
   "metadata": {},
   "outputs": [],
   "source": [
    "import math\n",
    "import torch\n",
    "import numpy as np\n",
    "import pandas as pd\n",
    "import gpytorch\n",
    "from matplotlib import pyplot as plt\n",
    "from sklearn.model_selection import train_test_split"
   ]
  },
  {
   "cell_type": "code",
   "execution_count": 2,
   "metadata": {},
   "outputs": [],
   "source": [
    "import sys\n",
    "import os\n",
    "\n",
    "py_file_location = '../utils'\n",
    "sys.path.append(os.path.abspath(py_file_location))\n",
    "py_file_location = '../models'\n",
    "sys.path.append(os.path.abspath(py_file_location))\n",
    "\n",
    "import count_utils\n",
    "import classification_utils\n",
    "import count_models"
   ]
  },
  {
   "cell_type": "code",
   "execution_count": 3,
   "metadata": {},
   "outputs": [
    {
     "data": {
      "text/plain": [
       "<torch._C.Generator at 0x7fb8f02a4550>"
      ]
     },
     "execution_count": 3,
     "metadata": {},
     "output_type": "execute_result"
    }
   ],
   "source": [
    "seed = 5 #1,2,3,4,5\n",
    "np.random.seed(seed)\n",
    "torch.manual_seed(seed)"
   ]
  },
  {
   "cell_type": "code",
   "execution_count": 4,
   "metadata": {},
   "outputs": [
    {
     "name": "stdout",
     "output_type": "stream",
     "text": [
      "1179957600.0\n",
      "2007/24/05\n"
     ]
    }
   ],
   "source": [
    "import datetime\n",
    "def datetime_to_str(timestamp):\n",
    "\n",
    "    date_time = datetime.datetime.fromtimestamp(timestamp)\n",
    "    s = date_time.strftime(\"%Y/%d/%m\")\n",
    "    return(s)\n",
    "\n",
    "def str_to_datetime(s):\n",
    "    element = datetime.datetime.strptime(s, \"%Y/%d/%m\")\n",
    "    timestamp = datetime.datetime.timestamp(element)\n",
    "    return(timestamp)\n",
    "\n",
    "print(str_to_datetime(\"2007/24/05\"))\n",
    "print(datetime_to_str(1179957600.0))"
   ]
  },
  {
   "cell_type": "markdown",
   "metadata": {},
   "source": [
    "# Load data\n",
    "\n",
    "you can find an explanation for most of the data here: https://cran.r-project.org/web/packages/AER/AER.pdf"
   ]
  },
  {
   "cell_type": "markdown",
   "metadata": {},
   "source": [
    "## load credit card data"
   ]
  },
  {
   "cell_type": "code",
   "execution_count": 5,
   "metadata": {},
   "outputs": [
    {
     "data": {
      "text/html": [
       "<div>\n",
       "<style scoped>\n",
       "    .dataframe tbody tr th:only-of-type {\n",
       "        vertical-align: middle;\n",
       "    }\n",
       "\n",
       "    .dataframe tbody tr th {\n",
       "        vertical-align: top;\n",
       "    }\n",
       "\n",
       "    .dataframe thead th {\n",
       "        text-align: right;\n",
       "    }\n",
       "</style>\n",
       "<table border=\"1\" class=\"dataframe\">\n",
       "  <thead>\n",
       "    <tr style=\"text-align: right;\">\n",
       "      <th></th>\n",
       "      <th>card</th>\n",
       "      <th>reports</th>\n",
       "      <th>age</th>\n",
       "      <th>income</th>\n",
       "      <th>share</th>\n",
       "      <th>expenditure</th>\n",
       "      <th>owner</th>\n",
       "      <th>selfemp</th>\n",
       "      <th>dependents</th>\n",
       "      <th>months</th>\n",
       "      <th>majorcards</th>\n",
       "      <th>active</th>\n",
       "    </tr>\n",
       "  </thead>\n",
       "  <tbody>\n",
       "    <tr>\n",
       "      <th>0</th>\n",
       "      <td>1</td>\n",
       "      <td>0</td>\n",
       "      <td>37.66667</td>\n",
       "      <td>4.5200</td>\n",
       "      <td>0.033270</td>\n",
       "      <td>124.983300</td>\n",
       "      <td>1</td>\n",
       "      <td>0</td>\n",
       "      <td>3</td>\n",
       "      <td>54</td>\n",
       "      <td>1</td>\n",
       "      <td>12</td>\n",
       "    </tr>\n",
       "    <tr>\n",
       "      <th>1</th>\n",
       "      <td>1</td>\n",
       "      <td>0</td>\n",
       "      <td>33.25000</td>\n",
       "      <td>2.4200</td>\n",
       "      <td>0.005217</td>\n",
       "      <td>9.854167</td>\n",
       "      <td>0</td>\n",
       "      <td>0</td>\n",
       "      <td>3</td>\n",
       "      <td>34</td>\n",
       "      <td>1</td>\n",
       "      <td>13</td>\n",
       "    </tr>\n",
       "    <tr>\n",
       "      <th>2</th>\n",
       "      <td>1</td>\n",
       "      <td>0</td>\n",
       "      <td>33.66667</td>\n",
       "      <td>4.5000</td>\n",
       "      <td>0.004156</td>\n",
       "      <td>15.000000</td>\n",
       "      <td>1</td>\n",
       "      <td>0</td>\n",
       "      <td>4</td>\n",
       "      <td>58</td>\n",
       "      <td>1</td>\n",
       "      <td>5</td>\n",
       "    </tr>\n",
       "    <tr>\n",
       "      <th>3</th>\n",
       "      <td>1</td>\n",
       "      <td>0</td>\n",
       "      <td>30.50000</td>\n",
       "      <td>2.5400</td>\n",
       "      <td>0.065214</td>\n",
       "      <td>137.869200</td>\n",
       "      <td>0</td>\n",
       "      <td>0</td>\n",
       "      <td>0</td>\n",
       "      <td>25</td>\n",
       "      <td>1</td>\n",
       "      <td>7</td>\n",
       "    </tr>\n",
       "    <tr>\n",
       "      <th>4</th>\n",
       "      <td>1</td>\n",
       "      <td>0</td>\n",
       "      <td>32.16667</td>\n",
       "      <td>9.7867</td>\n",
       "      <td>0.067051</td>\n",
       "      <td>546.503300</td>\n",
       "      <td>1</td>\n",
       "      <td>0</td>\n",
       "      <td>2</td>\n",
       "      <td>64</td>\n",
       "      <td>1</td>\n",
       "      <td>5</td>\n",
       "    </tr>\n",
       "  </tbody>\n",
       "</table>\n",
       "</div>"
      ],
      "text/plain": [
       "   card  reports       age  income     share  expenditure  owner  selfemp  \\\n",
       "0     1        0  37.66667  4.5200  0.033270   124.983300      1        0   \n",
       "1     1        0  33.25000  2.4200  0.005217     9.854167      0        0   \n",
       "2     1        0  33.66667  4.5000  0.004156    15.000000      1        0   \n",
       "3     1        0  30.50000  2.5400  0.065214   137.869200      0        0   \n",
       "4     1        0  32.16667  9.7867  0.067051   546.503300      1        0   \n",
       "\n",
       "   dependents  months  majorcards  active  \n",
       "0           3      54           1      12  \n",
       "1           3      34           1      13  \n",
       "2           4      58           1       5  \n",
       "3           0      25           1       7  \n",
       "4           2      64           1       5  "
      ]
     },
     "execution_count": 5,
     "metadata": {},
     "output_type": "execute_result"
    }
   ],
   "source": [
    "# load credit card data\n",
    "df_CC = pd.read_csv(\"data/creditcard.csv\")\n",
    "df_CC.drop(columns=[\"Unnamed: 0\"], inplace=True)\n",
    "df_CC.replace({\"yes\":1, \"no\":0}, inplace=True)\n",
    "df_CC.head()"
   ]
  },
  {
   "cell_type": "markdown",
   "metadata": {},
   "source": [
    "## load doctor_visits data"
   ]
  },
  {
   "cell_type": "code",
   "execution_count": 6,
   "metadata": {},
   "outputs": [
    {
     "data": {
      "text/html": [
       "<div>\n",
       "<style scoped>\n",
       "    .dataframe tbody tr th:only-of-type {\n",
       "        vertical-align: middle;\n",
       "    }\n",
       "\n",
       "    .dataframe tbody tr th {\n",
       "        vertical-align: top;\n",
       "    }\n",
       "\n",
       "    .dataframe thead th {\n",
       "        text-align: right;\n",
       "    }\n",
       "</style>\n",
       "<table border=\"1\" class=\"dataframe\">\n",
       "  <thead>\n",
       "    <tr style=\"text-align: right;\">\n",
       "      <th></th>\n",
       "      <th>visits</th>\n",
       "      <th>gender</th>\n",
       "      <th>age</th>\n",
       "      <th>income</th>\n",
       "      <th>illness</th>\n",
       "      <th>reduced</th>\n",
       "      <th>health</th>\n",
       "      <th>private</th>\n",
       "      <th>freepoor</th>\n",
       "      <th>freerepat</th>\n",
       "      <th>nchronic</th>\n",
       "      <th>lchronic</th>\n",
       "    </tr>\n",
       "  </thead>\n",
       "  <tbody>\n",
       "    <tr>\n",
       "      <th>0</th>\n",
       "      <td>1</td>\n",
       "      <td>1</td>\n",
       "      <td>0.19</td>\n",
       "      <td>0.55</td>\n",
       "      <td>1</td>\n",
       "      <td>4</td>\n",
       "      <td>1</td>\n",
       "      <td>1</td>\n",
       "      <td>0</td>\n",
       "      <td>0</td>\n",
       "      <td>0</td>\n",
       "      <td>0</td>\n",
       "    </tr>\n",
       "    <tr>\n",
       "      <th>1</th>\n",
       "      <td>1</td>\n",
       "      <td>1</td>\n",
       "      <td>0.19</td>\n",
       "      <td>0.45</td>\n",
       "      <td>1</td>\n",
       "      <td>2</td>\n",
       "      <td>1</td>\n",
       "      <td>1</td>\n",
       "      <td>0</td>\n",
       "      <td>0</td>\n",
       "      <td>0</td>\n",
       "      <td>0</td>\n",
       "    </tr>\n",
       "    <tr>\n",
       "      <th>2</th>\n",
       "      <td>1</td>\n",
       "      <td>0</td>\n",
       "      <td>0.19</td>\n",
       "      <td>0.90</td>\n",
       "      <td>3</td>\n",
       "      <td>0</td>\n",
       "      <td>0</td>\n",
       "      <td>0</td>\n",
       "      <td>0</td>\n",
       "      <td>0</td>\n",
       "      <td>0</td>\n",
       "      <td>0</td>\n",
       "    </tr>\n",
       "    <tr>\n",
       "      <th>3</th>\n",
       "      <td>1</td>\n",
       "      <td>0</td>\n",
       "      <td>0.19</td>\n",
       "      <td>0.15</td>\n",
       "      <td>1</td>\n",
       "      <td>0</td>\n",
       "      <td>0</td>\n",
       "      <td>0</td>\n",
       "      <td>0</td>\n",
       "      <td>0</td>\n",
       "      <td>0</td>\n",
       "      <td>0</td>\n",
       "    </tr>\n",
       "    <tr>\n",
       "      <th>4</th>\n",
       "      <td>1</td>\n",
       "      <td>0</td>\n",
       "      <td>0.19</td>\n",
       "      <td>0.45</td>\n",
       "      <td>2</td>\n",
       "      <td>5</td>\n",
       "      <td>1</td>\n",
       "      <td>0</td>\n",
       "      <td>0</td>\n",
       "      <td>0</td>\n",
       "      <td>1</td>\n",
       "      <td>0</td>\n",
       "    </tr>\n",
       "  </tbody>\n",
       "</table>\n",
       "</div>"
      ],
      "text/plain": [
       "   visits  gender   age  income  illness  reduced  health  private  freepoor  \\\n",
       "0       1       1  0.19    0.55        1        4       1        1         0   \n",
       "1       1       1  0.19    0.45        1        2       1        1         0   \n",
       "2       1       0  0.19    0.90        3        0       0        0         0   \n",
       "3       1       0  0.19    0.15        1        0       0        0         0   \n",
       "4       1       0  0.19    0.45        2        5       1        0         0   \n",
       "\n",
       "   freerepat  nchronic  lchronic  \n",
       "0          0         0         0  \n",
       "1          0         0         0  \n",
       "2          0         0         0  \n",
       "3          0         0         0  \n",
       "4          0         1         0  "
      ]
     },
     "execution_count": 6,
     "metadata": {},
     "output_type": "execute_result"
    }
   ],
   "source": [
    "# load doctor visits data\n",
    "df_DOCTOR = pd.read_csv(\"data/doctor_visits.csv\")\n",
    "df_DOCTOR.drop(columns=[\"Unnamed: 0\"], inplace=True)\n",
    "df_DOCTOR.replace({\"yes\":1, \"no\":0, \"female\":1, \"male\":0}, inplace=True)\n",
    "df_DOCTOR.head()"
   ]
  },
  {
   "cell_type": "markdown",
   "metadata": {},
   "source": [
    "## load equation citations data"
   ]
  },
  {
   "cell_type": "code",
   "execution_count": 7,
   "metadata": {},
   "outputs": [
    {
     "data": {
      "text/html": [
       "<div>\n",
       "<style scoped>\n",
       "    .dataframe tbody tr th:only-of-type {\n",
       "        vertical-align: middle;\n",
       "    }\n",
       "\n",
       "    .dataframe tbody tr th {\n",
       "        vertical-align: top;\n",
       "    }\n",
       "\n",
       "    .dataframe thead th {\n",
       "        text-align: right;\n",
       "    }\n",
       "</style>\n",
       "<table border=\"1\" class=\"dataframe\">\n",
       "  <thead>\n",
       "    <tr style=\"text-align: right;\">\n",
       "      <th></th>\n",
       "      <th>journal</th>\n",
       "      <th>authors</th>\n",
       "      <th>volume</th>\n",
       "      <th>startpage</th>\n",
       "      <th>pages</th>\n",
       "      <th>equations</th>\n",
       "      <th>mainequations</th>\n",
       "      <th>appequations</th>\n",
       "      <th>cites</th>\n",
       "      <th>selfcites</th>\n",
       "      <th>othercites</th>\n",
       "      <th>theocites</th>\n",
       "      <th>nontheocites</th>\n",
       "    </tr>\n",
       "  </thead>\n",
       "  <tbody>\n",
       "    <tr>\n",
       "      <th>0</th>\n",
       "      <td>1</td>\n",
       "      <td>1</td>\n",
       "      <td>151</td>\n",
       "      <td>7</td>\n",
       "      <td>13</td>\n",
       "      <td>0</td>\n",
       "      <td>0</td>\n",
       "      <td>0</td>\n",
       "      <td>37</td>\n",
       "      <td>4</td>\n",
       "      <td>33</td>\n",
       "      <td>8</td>\n",
       "      <td>22</td>\n",
       "    </tr>\n",
       "    <tr>\n",
       "      <th>1</th>\n",
       "      <td>1</td>\n",
       "      <td>2</td>\n",
       "      <td>151</td>\n",
       "      <td>20</td>\n",
       "      <td>9</td>\n",
       "      <td>2</td>\n",
       "      <td>2</td>\n",
       "      <td>0</td>\n",
       "      <td>178</td>\n",
       "      <td>5</td>\n",
       "      <td>173</td>\n",
       "      <td>19</td>\n",
       "      <td>150</td>\n",
       "    </tr>\n",
       "    <tr>\n",
       "      <th>2</th>\n",
       "      <td>1</td>\n",
       "      <td>3</td>\n",
       "      <td>151</td>\n",
       "      <td>29</td>\n",
       "      <td>17</td>\n",
       "      <td>15</td>\n",
       "      <td>15</td>\n",
       "      <td>0</td>\n",
       "      <td>25</td>\n",
       "      <td>10</td>\n",
       "      <td>15</td>\n",
       "      <td>8</td>\n",
       "      <td>6</td>\n",
       "    </tr>\n",
       "    <tr>\n",
       "      <th>3</th>\n",
       "      <td>1</td>\n",
       "      <td>4</td>\n",
       "      <td>151</td>\n",
       "      <td>46</td>\n",
       "      <td>13</td>\n",
       "      <td>7</td>\n",
       "      <td>7</td>\n",
       "      <td>0</td>\n",
       "      <td>127</td>\n",
       "      <td>11</td>\n",
       "      <td>116</td>\n",
       "      <td>17</td>\n",
       "      <td>98</td>\n",
       "    </tr>\n",
       "    <tr>\n",
       "      <th>4</th>\n",
       "      <td>1</td>\n",
       "      <td>5</td>\n",
       "      <td>151</td>\n",
       "      <td>59</td>\n",
       "      <td>9</td>\n",
       "      <td>0</td>\n",
       "      <td>0</td>\n",
       "      <td>0</td>\n",
       "      <td>43</td>\n",
       "      <td>8</td>\n",
       "      <td>35</td>\n",
       "      <td>5</td>\n",
       "      <td>28</td>\n",
       "    </tr>\n",
       "  </tbody>\n",
       "</table>\n",
       "</div>"
      ],
      "text/plain": [
       "   journal  authors  volume  startpage  pages  equations  mainequations  \\\n",
       "0        1        1     151          7     13          0              0   \n",
       "1        1        2     151         20      9          2              2   \n",
       "2        1        3     151         29     17         15             15   \n",
       "3        1        4     151         46     13          7              7   \n",
       "4        1        5     151         59      9          0              0   \n",
       "\n",
       "   appequations  cites  selfcites  othercites  theocites  nontheocites  \n",
       "0             0     37          4          33          8            22  \n",
       "1             0    178          5         173         19           150  \n",
       "2             0     25         10          15          8             6  \n",
       "3             0    127         11         116         17            98  \n",
       "4             0     43          8          35          5            28  "
      ]
     },
     "execution_count": 7,
     "metadata": {},
     "output_type": "execute_result"
    }
   ],
   "source": [
    "# load EQUATION visits data\n",
    "df_EQUATION = pd.read_csv(\"data/equation_citations.csv\")\n",
    "df_EQUATION.drop(columns=[\"Unnamed: 0\"], inplace=True)\n",
    "cols = ['journal', 'authors']\n",
    "df_EQUATION[cols] = df_EQUATION[cols].apply(lambda x: pd.factorize(x)[0] + 1)\n",
    "df_EQUATION.head()"
   ]
  },
  {
   "cell_type": "markdown",
   "metadata": {},
   "source": [
    "## load GSS7402 data\n",
    "\n",
    "which stands for US General Social Survey 1974–2002"
   ]
  },
  {
   "cell_type": "code",
   "execution_count": 8,
   "metadata": {},
   "outputs": [
    {
     "data": {
      "text/html": [
       "<div>\n",
       "<style scoped>\n",
       "    .dataframe tbody tr th:only-of-type {\n",
       "        vertical-align: middle;\n",
       "    }\n",
       "\n",
       "    .dataframe tbody tr th {\n",
       "        vertical-align: top;\n",
       "    }\n",
       "\n",
       "    .dataframe thead th {\n",
       "        text-align: right;\n",
       "    }\n",
       "</style>\n",
       "<table border=\"1\" class=\"dataframe\">\n",
       "  <thead>\n",
       "    <tr style=\"text-align: right;\">\n",
       "      <th></th>\n",
       "      <th>kids</th>\n",
       "      <th>age</th>\n",
       "      <th>education</th>\n",
       "      <th>year</th>\n",
       "      <th>siblings</th>\n",
       "      <th>agefirstbirth</th>\n",
       "      <th>ethnicity</th>\n",
       "      <th>city16</th>\n",
       "      <th>lowincome16</th>\n",
       "      <th>immigrant</th>\n",
       "    </tr>\n",
       "  </thead>\n",
       "  <tbody>\n",
       "    <tr>\n",
       "      <th>1</th>\n",
       "      <td>1</td>\n",
       "      <td>30</td>\n",
       "      <td>13</td>\n",
       "      <td>2002</td>\n",
       "      <td>4</td>\n",
       "      <td>19.0</td>\n",
       "      <td>1</td>\n",
       "      <td>1</td>\n",
       "      <td>0</td>\n",
       "      <td>0</td>\n",
       "    </tr>\n",
       "    <tr>\n",
       "      <th>2</th>\n",
       "      <td>1</td>\n",
       "      <td>55</td>\n",
       "      <td>2</td>\n",
       "      <td>2002</td>\n",
       "      <td>1</td>\n",
       "      <td>27.0</td>\n",
       "      <td>1</td>\n",
       "      <td>0</td>\n",
       "      <td>0</td>\n",
       "      <td>1</td>\n",
       "    </tr>\n",
       "    <tr>\n",
       "      <th>3</th>\n",
       "      <td>2</td>\n",
       "      <td>57</td>\n",
       "      <td>16</td>\n",
       "      <td>2002</td>\n",
       "      <td>1</td>\n",
       "      <td>22.0</td>\n",
       "      <td>1</td>\n",
       "      <td>0</td>\n",
       "      <td>0</td>\n",
       "      <td>0</td>\n",
       "    </tr>\n",
       "    <tr>\n",
       "      <th>4</th>\n",
       "      <td>2</td>\n",
       "      <td>71</td>\n",
       "      <td>12</td>\n",
       "      <td>2002</td>\n",
       "      <td>6</td>\n",
       "      <td>29.0</td>\n",
       "      <td>1</td>\n",
       "      <td>1</td>\n",
       "      <td>0</td>\n",
       "      <td>0</td>\n",
       "    </tr>\n",
       "    <tr>\n",
       "      <th>8</th>\n",
       "      <td>1</td>\n",
       "      <td>35</td>\n",
       "      <td>12</td>\n",
       "      <td>2002</td>\n",
       "      <td>0</td>\n",
       "      <td>21.0</td>\n",
       "      <td>1</td>\n",
       "      <td>1</td>\n",
       "      <td>0</td>\n",
       "      <td>1</td>\n",
       "    </tr>\n",
       "  </tbody>\n",
       "</table>\n",
       "</div>"
      ],
      "text/plain": [
       "   kids  age  education  year  siblings  agefirstbirth  ethnicity  city16  \\\n",
       "1     1   30         13  2002         4           19.0          1       1   \n",
       "2     1   55          2  2002         1           27.0          1       0   \n",
       "3     2   57         16  2002         1           22.0          1       0   \n",
       "4     2   71         12  2002         6           29.0          1       1   \n",
       "8     1   35         12  2002         0           21.0          1       1   \n",
       "\n",
       "   lowincome16  immigrant  \n",
       "1            0          0  \n",
       "2            0          1  \n",
       "3            0          0  \n",
       "4            0          0  \n",
       "8            0          1  "
      ]
     },
     "execution_count": 8,
     "metadata": {},
     "output_type": "execute_result"
    }
   ],
   "source": [
    "# load GSS7402 visits data\n",
    "df_GSS7402 = pd.read_csv(\"data/GSS7402.csv\")\n",
    "df_GSS7402.drop(columns=[\"Unnamed: 0\"], inplace=True)\n",
    "df_GSS7402.replace({\"yes\":1, \"no\":0, \"female\":1, \"male\":0}, inplace=True)\n",
    "cols = ['ethnicity']\n",
    "df_GSS7402[cols] = df_GSS7402[cols].apply(lambda x: pd.factorize(x)[0] + 1)\n",
    "df_GSS7402.dropna(inplace=True)\n",
    "df_GSS7402.head()"
   ]
  },
  {
   "cell_type": "markdown",
   "metadata": {},
   "source": [
    "## load medicaid data"
   ]
  },
  {
   "cell_type": "code",
   "execution_count": 9,
   "metadata": {},
   "outputs": [
    {
     "data": {
      "text/html": [
       "<div>\n",
       "<style scoped>\n",
       "    .dataframe tbody tr th:only-of-type {\n",
       "        vertical-align: middle;\n",
       "    }\n",
       "\n",
       "    .dataframe tbody tr th {\n",
       "        vertical-align: top;\n",
       "    }\n",
       "\n",
       "    .dataframe thead th {\n",
       "        text-align: right;\n",
       "    }\n",
       "</style>\n",
       "<table border=\"1\" class=\"dataframe\">\n",
       "  <thead>\n",
       "    <tr style=\"text-align: right;\">\n",
       "      <th></th>\n",
       "      <th>visits</th>\n",
       "      <th>exposure</th>\n",
       "      <th>children</th>\n",
       "      <th>age</th>\n",
       "      <th>income</th>\n",
       "      <th>health1</th>\n",
       "      <th>health2</th>\n",
       "      <th>access</th>\n",
       "      <th>married</th>\n",
       "      <th>gender</th>\n",
       "      <th>ethnicity</th>\n",
       "      <th>school</th>\n",
       "      <th>enroll</th>\n",
       "      <th>program</th>\n",
       "    </tr>\n",
       "  </thead>\n",
       "  <tbody>\n",
       "    <tr>\n",
       "      <th>0</th>\n",
       "      <td>0</td>\n",
       "      <td>100</td>\n",
       "      <td>1</td>\n",
       "      <td>24</td>\n",
       "      <td>14.500</td>\n",
       "      <td>0.495</td>\n",
       "      <td>-0.854</td>\n",
       "      <td>0.50</td>\n",
       "      <td>0</td>\n",
       "      <td>1</td>\n",
       "      <td>1</td>\n",
       "      <td>13</td>\n",
       "      <td>1</td>\n",
       "      <td>1</td>\n",
       "    </tr>\n",
       "    <tr>\n",
       "      <th>1</th>\n",
       "      <td>1</td>\n",
       "      <td>90</td>\n",
       "      <td>3</td>\n",
       "      <td>19</td>\n",
       "      <td>6.000</td>\n",
       "      <td>0.520</td>\n",
       "      <td>-0.969</td>\n",
       "      <td>0.17</td>\n",
       "      <td>0</td>\n",
       "      <td>1</td>\n",
       "      <td>1</td>\n",
       "      <td>11</td>\n",
       "      <td>1</td>\n",
       "      <td>1</td>\n",
       "    </tr>\n",
       "    <tr>\n",
       "      <th>2</th>\n",
       "      <td>0</td>\n",
       "      <td>106</td>\n",
       "      <td>4</td>\n",
       "      <td>17</td>\n",
       "      <td>8.377</td>\n",
       "      <td>-1.227</td>\n",
       "      <td>0.317</td>\n",
       "      <td>0.42</td>\n",
       "      <td>0</td>\n",
       "      <td>1</td>\n",
       "      <td>1</td>\n",
       "      <td>12</td>\n",
       "      <td>1</td>\n",
       "      <td>1</td>\n",
       "    </tr>\n",
       "    <tr>\n",
       "      <th>3</th>\n",
       "      <td>0</td>\n",
       "      <td>114</td>\n",
       "      <td>2</td>\n",
       "      <td>29</td>\n",
       "      <td>6.000</td>\n",
       "      <td>-1.524</td>\n",
       "      <td>0.457</td>\n",
       "      <td>0.33</td>\n",
       "      <td>0</td>\n",
       "      <td>1</td>\n",
       "      <td>1</td>\n",
       "      <td>12</td>\n",
       "      <td>1</td>\n",
       "      <td>1</td>\n",
       "    </tr>\n",
       "    <tr>\n",
       "      <th>4</th>\n",
       "      <td>11</td>\n",
       "      <td>115</td>\n",
       "      <td>1</td>\n",
       "      <td>26</td>\n",
       "      <td>8.500</td>\n",
       "      <td>0.173</td>\n",
       "      <td>-0.599</td>\n",
       "      <td>0.67</td>\n",
       "      <td>0</td>\n",
       "      <td>1</td>\n",
       "      <td>1</td>\n",
       "      <td>16</td>\n",
       "      <td>1</td>\n",
       "      <td>1</td>\n",
       "    </tr>\n",
       "  </tbody>\n",
       "</table>\n",
       "</div>"
      ],
      "text/plain": [
       "   visits  exposure  children  age  income  health1  health2  access  married  \\\n",
       "0       0       100         1   24  14.500    0.495   -0.854    0.50        0   \n",
       "1       1        90         3   19   6.000    0.520   -0.969    0.17        0   \n",
       "2       0       106         4   17   8.377   -1.227    0.317    0.42        0   \n",
       "3       0       114         2   29   6.000   -1.524    0.457    0.33        0   \n",
       "4      11       115         1   26   8.500    0.173   -0.599    0.67        0   \n",
       "\n",
       "   gender  ethnicity  school  enroll  program  \n",
       "0       1          1      13       1        1  \n",
       "1       1          1      11       1        1  \n",
       "2       1          1      12       1        1  \n",
       "3       1          1      12       1        1  \n",
       "4       1          1      16       1        1  "
      ]
     },
     "execution_count": 9,
     "metadata": {},
     "output_type": "execute_result"
    }
   ],
   "source": [
    "df_MEDIC = pd.read_csv(\"data/Medicaid1986.csv\")\n",
    "df_MEDIC.drop(columns=[\"Unnamed: 0\"], inplace=True)\n",
    "df_MEDIC.replace({\"yes\":1, \"no\":0, \"female\":1, \"male\":0}, inplace=True)\n",
    "cols = ['ethnicity', 'program']\n",
    "df_MEDIC[cols] = df_MEDIC[cols].apply(lambda x: pd.factorize(x)[0] + 1)\n",
    "df_MEDIC.head()"
   ]
  },
  {
   "cell_type": "markdown",
   "metadata": {},
   "source": [
    "# Prepare datasets"
   ]
  },
  {
   "cell_type": "code",
   "execution_count": 10,
   "metadata": {},
   "outputs": [
    {
     "name": "stdout",
     "output_type": "stream",
     "text": [
      "torch.Size([1319, 12]) torch.Size([1319])\n",
      "X_CC_train torch.Size([883, 12])\n",
      "X_CC_test torch.Size([436, 12])\n",
      "y_CC_train torch.Size([883])\n",
      "y_CC_test torch.Size([436])\n"
     ]
    },
    {
     "name": "stderr",
     "output_type": "stream",
     "text": [
      "<ipython-input-10-69f12207b203>:14: UserWarning: To copy construct from a tensor, it is recommended to use sourceTensor.clone().detach() or sourceTensor.clone().detach().requires_grad_(True), rather than torch.tensor(sourceTensor).\n",
      "  X_CC_train, X_CC_test = torch.tensor(X_CC_train).float(), torch.tensor(X_CC_test).float()\n",
      "<ipython-input-10-69f12207b203>:15: UserWarning: To copy construct from a tensor, it is recommended to use sourceTensor.clone().detach() or sourceTensor.clone().detach().requires_grad_(True), rather than torch.tensor(sourceTensor).\n",
      "  y_CC_train, y_CC_test = torch.tensor(y_CC_train), torch.tensor(y_CC_test)\n"
     ]
    }
   ],
   "source": [
    "### prepare CC data\n",
    "\n",
    "## we want to predict\"active\", i.e. the number of active credit accounts\n",
    "X_CC = torch.tensor(df_CC[[\"card\", \"reports\", \"age\", \"income\", \"share\", \"expenditure\", \"owner\", \n",
    "                           \"selfemp\", \"months\", \"majorcards\", \"dependents\", \"active\"]].values).float()\n",
    "y_CC = torch.tensor(df_CC[[\"dependents\"]].values).long().view(-1)\n",
    "print(np.shape(X_CC), np.shape(y_CC))\n",
    "\n",
    "#### normalize the data\n",
    "#X_CC = classification_utils.standardise(X_CC)\n",
    "#X_CC = classification_utils.normalise_minusonetoone(X_CC)\n",
    "\n",
    "X_CC_train, X_CC_test, y_CC_train, y_CC_test = train_test_split(X_CC, y_CC, test_size=0.33, random_state=42)\n",
    "X_CC_train, X_CC_test = torch.tensor(X_CC_train).float(), torch.tensor(X_CC_test).float()\n",
    "y_CC_train, y_CC_test = torch.tensor(y_CC_train), torch.tensor(y_CC_test)\n",
    "print(\"X_CC_train\", X_CC_train.size())\n",
    "print(\"X_CC_test\", X_CC_test.size()) \n",
    "print(\"y_CC_train\", y_CC_train.size()) \n",
    "print(\"y_CC_test\", y_CC_test.size())\n",
    "\n",
    "alpha_eps = 0.01\n",
    "y_CC_train_mu, y_CC_train_var = count_models.transform_y_Gamma_LM(y_CC_train, alpha_eps=alpha_eps, counts=1)\n",
    "y_CC_test_mu, y_CC_test_var = count_models.transform_y_Gamma_LM(y_CC_test, alpha_eps=alpha_eps, counts=1)"
   ]
  },
  {
   "cell_type": "code",
   "execution_count": 11,
   "metadata": {},
   "outputs": [
    {
     "name": "stdout",
     "output_type": "stream",
     "text": [
      "torch.Size([5190, 11]) torch.Size([5190])\n",
      "X_DOCTOR_train torch.Size([3477, 11])\n",
      "X_DOCTOR_test torch.Size([1713, 11])\n",
      "y_DOCTOR_train torch.Size([3477])\n",
      "y_DOCTOR_test torch.Size([1713])\n"
     ]
    },
    {
     "name": "stderr",
     "output_type": "stream",
     "text": [
      "<ipython-input-11-748d6e654d66>:12: UserWarning: To copy construct from a tensor, it is recommended to use sourceTensor.clone().detach() or sourceTensor.clone().detach().requires_grad_(True), rather than torch.tensor(sourceTensor).\n",
      "  X_DOCTOR_train, X_DOCTOR_test = torch.tensor(X_DOCTOR_train).float(), torch.tensor(X_DOCTOR_test).float()\n",
      "<ipython-input-11-748d6e654d66>:13: UserWarning: To copy construct from a tensor, it is recommended to use sourceTensor.clone().detach() or sourceTensor.clone().detach().requires_grad_(True), rather than torch.tensor(sourceTensor).\n",
      "  y_DOCTOR_train, y_DOCTOR_test = torch.tensor(y_DOCTOR_train), torch.tensor(y_DOCTOR_test)\n"
     ]
    }
   ],
   "source": [
    "### prepare doctor data\n",
    "X_DOCTOR = torch.tensor(df_DOCTOR[[\"gender\", \"age\", \"income\", \"illness\", \"reduced\", \"health\", \n",
    "                                   \"private\", \"freepoor\", \"freerepat\", \"nchronic\", \"lchronic\"]].values).float()\n",
    "y_DOCTOR = torch.tensor(df_DOCTOR[[\"visits\"]].values).long().view(-1)\n",
    "print(np.shape(X_DOCTOR), np.shape(y_DOCTOR))\n",
    "\n",
    "#### normalize the data\n",
    "#X_DOCTOR = classification_utils.standardise(X_DOCTOR)\n",
    "#X_DOCTOR = classification_utils.normalise_minusonetoone(X_DOCTOR)\n",
    "\n",
    "X_DOCTOR_train, X_DOCTOR_test, y_DOCTOR_train, y_DOCTOR_test = train_test_split(X_DOCTOR, y_DOCTOR, test_size=0.33, random_state=42)\n",
    "X_DOCTOR_train, X_DOCTOR_test = torch.tensor(X_DOCTOR_train).float(), torch.tensor(X_DOCTOR_test).float()\n",
    "y_DOCTOR_train, y_DOCTOR_test = torch.tensor(y_DOCTOR_train), torch.tensor(y_DOCTOR_test)\n",
    "print(\"X_DOCTOR_train\", X_DOCTOR_train.size())\n",
    "print(\"X_DOCTOR_test\", X_DOCTOR_test.size()) \n",
    "print(\"y_DOCTOR_train\", y_DOCTOR_train.size()) \n",
    "print(\"y_DOCTOR_test\", y_DOCTOR_test.size())\n",
    "\n",
    "alpha_eps = 0.01\n",
    "y_DOCTOR_train_mu, y_DOCTOR_train_var = count_models.transform_y_Gamma_LM(y_DOCTOR_train, alpha_eps=alpha_eps, counts=1)\n",
    "y_DOCTOR_test_mu, y_DOCTOR_test_var = count_models.transform_y_Gamma_LM(y_DOCTOR_test, alpha_eps=alpha_eps, counts=1)"
   ]
  },
  {
   "cell_type": "code",
   "execution_count": 12,
   "metadata": {},
   "outputs": [
    {
     "name": "stdout",
     "output_type": "stream",
     "text": [
      "torch.Size([649, 12]) torch.Size([649])\n",
      "X_EQUATION_train torch.Size([434, 12])\n",
      "X_EQUATION_test torch.Size([215, 12])\n",
      "y_EQUATION_train torch.Size([434])\n",
      "y_EQUATION_test torch.Size([215])\n"
     ]
    },
    {
     "name": "stderr",
     "output_type": "stream",
     "text": [
      "<ipython-input-12-186431b3d6a6>:13: UserWarning: To copy construct from a tensor, it is recommended to use sourceTensor.clone().detach() or sourceTensor.clone().detach().requires_grad_(True), rather than torch.tensor(sourceTensor).\n",
      "  X_EQUATION_train, X_EQUATION_test = torch.tensor(X_EQUATION_train).float(), torch.tensor(X_EQUATION_test).float()\n",
      "<ipython-input-12-186431b3d6a6>:14: UserWarning: To copy construct from a tensor, it is recommended to use sourceTensor.clone().detach() or sourceTensor.clone().detach().requires_grad_(True), rather than torch.tensor(sourceTensor).\n",
      "  y_EQUATION_train, y_EQUATION_test = torch.tensor(y_EQUATION_train), torch.tensor(y_EQUATION_test)\n"
     ]
    }
   ],
   "source": [
    "### prepare equation data\n",
    "X_EQUATION = torch.tensor(df_EQUATION[[\"journal\", \"authors\", \"volume\", \"startpage\", \"pages\", \"equations\",\n",
    "                                       \"mainequations\", \"appequations\", \"selfcites\", \"othercites\",\n",
    "                                       \"theocites\", \"nontheocites\"]].values).float()\n",
    "y_EQUATION = torch.tensor(df_EQUATION[[\"cites\"]].values).long().view(-1)\n",
    "print(np.shape(X_EQUATION), np.shape(y_EQUATION))\n",
    "\n",
    "#### normalize the data\n",
    "#X_EQUATION = classification_utils.standardise(X_EQUATION)\n",
    "#X_EQUATION = classification_utils.normalise_minusonetoone(X_EQUATION)\n",
    "\n",
    "X_EQUATION_train, X_EQUATION_test, y_EQUATION_train, y_EQUATION_test = train_test_split(X_EQUATION, y_EQUATION, test_size=0.33, random_state=42)\n",
    "X_EQUATION_train, X_EQUATION_test = torch.tensor(X_EQUATION_train).float(), torch.tensor(X_EQUATION_test).float()\n",
    "y_EQUATION_train, y_EQUATION_test = torch.tensor(y_EQUATION_train), torch.tensor(y_EQUATION_test)\n",
    "print(\"X_EQUATION_train\", X_EQUATION_train.size())\n",
    "print(\"X_EQUATION_test\", X_EQUATION_test.size()) \n",
    "print(\"y_EQUATION_train\", y_EQUATION_train.size()) \n",
    "print(\"y_EQUATION_test\", y_EQUATION_test.size())\n",
    "\n",
    "alpha_eps = 0.01\n",
    "y_EQUATION_train_mu, y_EQUATION_train_var = count_models.transform_y_Gamma_LM(y_EQUATION_train, alpha_eps=alpha_eps, counts=1)\n",
    "y_EQUATION_test_mu, y_EQUATION_test_var = count_models.transform_y_Gamma_LM(y_EQUATION_test, alpha_eps=alpha_eps, counts=1)"
   ]
  },
  {
   "cell_type": "code",
   "execution_count": 13,
   "metadata": {},
   "outputs": [
    {
     "name": "stdout",
     "output_type": "stream",
     "text": [
      "torch.Size([3312, 9]) torch.Size([3312])\n",
      "X_GSS7402_train torch.Size([2219, 9])\n",
      "X_GSS7402_test torch.Size([1093, 9])\n",
      "y_GSS7402_train torch.Size([2219])\n",
      "y_GSS7402_test torch.Size([1093])\n"
     ]
    },
    {
     "name": "stderr",
     "output_type": "stream",
     "text": [
      "<ipython-input-13-19bd7b41f6ba>:12: UserWarning: To copy construct from a tensor, it is recommended to use sourceTensor.clone().detach() or sourceTensor.clone().detach().requires_grad_(True), rather than torch.tensor(sourceTensor).\n",
      "  X_GSS7402_train, X_GSS7402_test = torch.tensor(X_GSS7402_train).float(), torch.tensor(X_GSS7402_test).float()\n",
      "<ipython-input-13-19bd7b41f6ba>:13: UserWarning: To copy construct from a tensor, it is recommended to use sourceTensor.clone().detach() or sourceTensor.clone().detach().requires_grad_(True), rather than torch.tensor(sourceTensor).\n",
      "  y_GSS7402_train, y_GSS7402_test = torch.tensor(y_GSS7402_train), torch.tensor(y_GSS7402_test)\n"
     ]
    }
   ],
   "source": [
    "### prepare GSS7402 data\n",
    "X_GSS7402 = torch.tensor(df_GSS7402[[\"age\", \"education\", \"year\", \"siblings\", \"agefirstbirth\",\n",
    "                                     \"ethnicity\", \"city16\", \"lowincome16\", \"immigrant\"]].values).float()\n",
    "y_GSS7402 = torch.tensor(df_GSS7402[[\"kids\"]].values).long().view(-1)\n",
    "print(np.shape(X_GSS7402), np.shape(y_GSS7402))\n",
    "\n",
    "#### normalize the data\n",
    "#X_GSS7402 = classification_utils.standardise(X_GSS7402)\n",
    "#X_GSS7402 = classification_utils.normalise_minusonetoone(X_GSS7402)\n",
    "\n",
    "X_GSS7402_train, X_GSS7402_test, y_GSS7402_train, y_GSS7402_test = train_test_split(X_GSS7402, y_GSS7402, test_size=0.33, random_state=42)\n",
    "X_GSS7402_train, X_GSS7402_test = torch.tensor(X_GSS7402_train).float(), torch.tensor(X_GSS7402_test).float()\n",
    "y_GSS7402_train, y_GSS7402_test = torch.tensor(y_GSS7402_train), torch.tensor(y_GSS7402_test)\n",
    "print(\"X_GSS7402_train\", X_GSS7402_train.size())\n",
    "print(\"X_GSS7402_test\", X_GSS7402_test.size()) \n",
    "print(\"y_GSS7402_train\", y_GSS7402_train.size()) \n",
    "print(\"y_GSS7402_test\", y_GSS7402_test.size())\n",
    "\n",
    "alpha_eps = 0.01\n",
    "y_GSS7402_train_mu, y_GSS7402_train_var = count_models.transform_y_Gamma_LM(y_GSS7402_train, alpha_eps=alpha_eps, counts=1)\n",
    "y_GSS7402_test_mu, y_GSS7402_test_var = count_models.transform_y_Gamma_LM(y_GSS7402_test, alpha_eps=alpha_eps, counts=1)"
   ]
  },
  {
   "cell_type": "code",
   "execution_count": 14,
   "metadata": {},
   "outputs": [
    {
     "name": "stdout",
     "output_type": "stream",
     "text": [
      "torch.Size([996, 13]) torch.Size([996])\n",
      "X_MEDIC_train torch.Size([667, 13])\n",
      "X_MEDIC_test torch.Size([329, 13])\n",
      "y_MEDIC_train torch.Size([667])\n",
      "y_MEDIC_test torch.Size([329])\n"
     ]
    },
    {
     "name": "stderr",
     "output_type": "stream",
     "text": [
      "<ipython-input-14-d9c6cff6a280>:12: UserWarning: To copy construct from a tensor, it is recommended to use sourceTensor.clone().detach() or sourceTensor.clone().detach().requires_grad_(True), rather than torch.tensor(sourceTensor).\n",
      "  X_MEDIC_train, X_MEDIC_test = torch.tensor(X_MEDIC_train).float(), torch.tensor(X_MEDIC_test).float()\n",
      "<ipython-input-14-d9c6cff6a280>:13: UserWarning: To copy construct from a tensor, it is recommended to use sourceTensor.clone().detach() or sourceTensor.clone().detach().requires_grad_(True), rather than torch.tensor(sourceTensor).\n",
      "  y_MEDIC_train, y_MEDIC_test = torch.tensor(y_MEDIC_train), torch.tensor(y_MEDIC_test)\n"
     ]
    }
   ],
   "source": [
    "### prepare medicaid data\n",
    "X_MEDIC = torch.tensor(df_MEDIC[[\"exposure\", \"children\", \"age\", \"income\", \"health1\", \"health2\", \"access\", \"married\", \n",
    "                                 \"gender\", \"ethnicity\", \"school\", \"enroll\", \"program\"]].values).float()\n",
    "y_MEDIC = torch.tensor(df_MEDIC[[\"visits\"]].values).long().view(-1)\n",
    "print(np.shape(X_MEDIC), np.shape(y_MEDIC))\n",
    "\n",
    "#### normalize the data\n",
    "#X_MEDIC = classification_utils.standardise(X_MEDIC)\n",
    "#X_MEDIC = classification_utils.normalise_minusonetoone(X_MEDIC)\n",
    "\n",
    "X_MEDIC_train, X_MEDIC_test, y_MEDIC_train, y_MEDIC_test = train_test_split(X_MEDIC, y_MEDIC, test_size=0.33, random_state=42)\n",
    "X_MEDIC_train, X_MEDIC_test = torch.tensor(X_MEDIC_train).float(), torch.tensor(X_MEDIC_test).float()\n",
    "y_MEDIC_train, y_MEDIC_test = torch.tensor(y_MEDIC_train), torch.tensor(y_MEDIC_test)\n",
    "print(\"X_MEDIC_train\", X_MEDIC_train.size())\n",
    "print(\"X_MEDIC_test\", X_MEDIC_test.size()) \n",
    "print(\"y_MEDIC_train\", y_MEDIC_train.size()) \n",
    "print(\"y_MEDIC_test\", y_MEDIC_test.size())\n",
    "\n",
    "alpha_eps = 0.01\n",
    "y_MEDIC_train_mu, y_MEDIC_train_var = count_models.transform_y_Gamma_LM(y_MEDIC_train, alpha_eps=alpha_eps, counts=1)\n",
    "y_MEDIC_test_mu, y_MEDIC_test_var = count_models.transform_y_Gamma_LM(y_MEDIC_test, alpha_eps=alpha_eps, counts=1)"
   ]
  },
  {
   "cell_type": "markdown",
   "metadata": {},
   "source": [
    "# Check optimal lengthscales"
   ]
  },
  {
   "cell_type": "code",
   "execution_count": 15,
   "metadata": {},
   "outputs": [],
   "source": [
    "LENGTHSCALES = [0.1, 1, 10, 100] # 20, 50, 100"
   ]
  },
  {
   "cell_type": "code",
   "execution_count": 16,
   "metadata": {},
   "outputs": [
    {
     "data": {
      "text/plain": [
       "'\\nres = count_models.select_init_lengthscale_with_CV_Gamma(X_CC_train, y_CC_train, mode=\"LMGP_gamma\", num_inducing_points=NUM_INDUCING_POINTS, \\n                                    learn_noise=True, num_iter=100, lr=0.1,\\n                                    lengthscales=LENGTHSCALES, max_test_size=1000)\\n\\nprint(res)    \\ncount_utils.plot_res(res)\\n'"
      ]
     },
     "execution_count": 16,
     "metadata": {},
     "output_type": "execute_result"
    }
   ],
   "source": [
    "NUM_INDUCING_POINTS=10000 # just a dummy, we want all training points\n",
    "\"\"\"\n",
    "res = count_models.select_init_lengthscale_with_CV_Gamma(X_CC_train, y_CC_train, mode=\"LMGP_gamma\", num_inducing_points=NUM_INDUCING_POINTS, \n",
    "                                    learn_noise=True, num_iter=100, lr=0.1,\n",
    "                                    lengthscales=LENGTHSCALES, max_test_size=1000)\n",
    "\n",
    "print(res)    \n",
    "count_utils.plot_res(res)\n",
    "\"\"\"\n",
    "# 10 looks like a good initial value for ExactGP_log\n",
    "# 1-10 looks like a good initial value for LMGP_gamma"
   ]
  },
  {
   "cell_type": "code",
   "execution_count": 17,
   "metadata": {},
   "outputs": [
    {
     "data": {
      "text/plain": [
       "'\\nNUM_INDUCING_POINTS=10000 # just a dummy, we want all training points\\nres = count_models.select_init_lengthscale_with_CV_Gamma(X_DOCTOR_train, y_DOCTOR_train, mode=\"LMGP_gamma\", num_inducing_points=NUM_INDUCING_POINTS, \\n                                    learn_noise=True, num_iter=100, lr=0.1,\\n                                    lengthscales=LENGTHSCALES, max_test_size=1000)\\n\\nprint(res)    \\ncount_utils.plot_res(res)\\n'"
      ]
     },
     "execution_count": 17,
     "metadata": {},
     "output_type": "execute_result"
    }
   ],
   "source": [
    "\"\"\"\n",
    "NUM_INDUCING_POINTS=10000 # just a dummy, we want all training points\n",
    "res = count_models.select_init_lengthscale_with_CV_Gamma(X_DOCTOR_train, y_DOCTOR_train, mode=\"LMGP_gamma\", num_inducing_points=NUM_INDUCING_POINTS, \n",
    "                                    learn_noise=True, num_iter=100, lr=0.1,\n",
    "                                    lengthscales=LENGTHSCALES, max_test_size=1000)\n",
    "\n",
    "print(res)    \n",
    "count_utils.plot_res(res)\n",
    "\"\"\"\n",
    "# 0.1 looks like a good initial value for ExactGP_log\n",
    "# 100 looks like a good initial value for LMGP_gamma"
   ]
  },
  {
   "cell_type": "code",
   "execution_count": 18,
   "metadata": {},
   "outputs": [
    {
     "data": {
      "text/plain": [
       "'\\nNUM_INDUCING_POINTS=10000 # just a dummy, we want all training points\\nres = count_models.select_init_lengthscale_with_CV_Gamma(X_EQUATION_train, y_EQUATION_train, mode=\"LMGP_gamma\", num_inducing_points=NUM_INDUCING_POINTS, \\n                                    learn_noise=True, num_iter=100, lr=0.1,\\n                                    lengthscales=LENGTHSCALES, max_test_size=1000)\\n\\nprint(res)    \\ncount_utils.plot_res(res)\\n'"
      ]
     },
     "execution_count": 18,
     "metadata": {},
     "output_type": "execute_result"
    }
   ],
   "source": [
    "\"\"\"\n",
    "NUM_INDUCING_POINTS=10000 # just a dummy, we want all training points\n",
    "res = count_models.select_init_lengthscale_with_CV_Gamma(X_EQUATION_train, y_EQUATION_train, mode=\"LMGP_gamma\", num_inducing_points=NUM_INDUCING_POINTS, \n",
    "                                    learn_noise=True, num_iter=100, lr=0.1,\n",
    "                                    lengthscales=LENGTHSCALES, max_test_size=1000)\n",
    "\n",
    "print(res)    \n",
    "count_utils.plot_res(res)\n",
    "\"\"\"\n",
    "# 0.1 looks like a good initial value for ExactGP_log\n",
    "# 100 looks like a good initial value for LMGP_gamma"
   ]
  },
  {
   "cell_type": "code",
   "execution_count": 19,
   "metadata": {},
   "outputs": [
    {
     "data": {
      "text/plain": [
       "'\\nNUM_INDUCING_POINTS=100000 # just a dummy, we want all training points\\nres = count_models.select_init_lengthscale_with_CV_Gamma(X_GSS7402_train, y_GSS7402_train,\\n                                                         mode=\"ExactGP_log\", \\n                                    num_inducing_points=NUM_INDUCING_POINTS, \\n                                    learn_noise=True, num_iter=100, lr=0.1,\\n                                    lengthscales=LENGTHSCALES, max_test_size=10000)\\n\\nprint(res)    \\ncount_utils.plot_res(res)\\n'"
      ]
     },
     "execution_count": 19,
     "metadata": {},
     "output_type": "execute_result"
    }
   ],
   "source": [
    "\"\"\"\n",
    "NUM_INDUCING_POINTS=100000 # just a dummy, we want all training points\n",
    "res = count_models.select_init_lengthscale_with_CV_Gamma(X_GSS7402_train, y_GSS7402_train,\n",
    "                                                         mode=\"ExactGP_log\", \n",
    "                                    num_inducing_points=NUM_INDUCING_POINTS, \n",
    "                                    learn_noise=True, num_iter=100, lr=0.1,\n",
    "                                    lengthscales=LENGTHSCALES, max_test_size=10000)\n",
    "\n",
    "print(res)    \n",
    "count_utils.plot_res(res)\n",
    "\"\"\"\n",
    "# ? looks like a good initial value for ExactGP_log\n",
    "# 10 looks like a good initial value for LMGP_gamma"
   ]
  },
  {
   "cell_type": "code",
   "execution_count": 20,
   "metadata": {},
   "outputs": [
    {
     "data": {
      "text/plain": [
       "'\\nNUM_INDUCING_POINTS=10000 # just a dummy, we want all training points\\nres = count_models.select_init_lengthscale_with_CV_Gamma(X_MEDIC_train, y_MEDIC_train, mode=\"ExactGP_log\", num_inducing_points=NUM_INDUCING_POINTS, \\n                                    learn_noise=True, num_iter=100, lr=0.1,\\n                                    lengthscales=LENGTHSCALES, max_test_size=1000)\\n\\nprint(res)    \\ncount_utils.plot_res(res)\\n'"
      ]
     },
     "execution_count": 20,
     "metadata": {},
     "output_type": "execute_result"
    }
   ],
   "source": [
    "\"\"\"\n",
    "NUM_INDUCING_POINTS=10000 # just a dummy, we want all training points\n",
    "res = count_models.select_init_lengthscale_with_CV_Gamma(X_MEDIC_train, y_MEDIC_train, mode=\"ExactGP_log\", num_inducing_points=NUM_INDUCING_POINTS, \n",
    "                                    learn_noise=True, num_iter=100, lr=0.1,\n",
    "                                    lengthscales=LENGTHSCALES, max_test_size=1000)\n",
    "\n",
    "print(res)    \n",
    "count_utils.plot_res(res)\n",
    "\"\"\"\n",
    "# 0.1 looks like a good initial value for ExactGP_log\n",
    "# 10 looks like a good initial value for LMGP_gamma"
   ]
  },
  {
   "cell_type": "markdown",
   "metadata": {},
   "source": [
    "# Run experiments and compare results"
   ]
  },
  {
   "cell_type": "markdown",
   "metadata": {},
   "source": [
    "## Credit card"
   ]
  },
  {
   "cell_type": "code",
   "execution_count": 21,
   "metadata": {},
   "outputs": [],
   "source": [
    "from torch.utils.data import TensorDataset, DataLoader\n",
    "NUM_ITER_CC = 100\n",
    "INIT_LENGTHSCALE_CC = 5\n",
    "KERNEL_CC = \"RBF\""
   ]
  },
  {
   "cell_type": "code",
   "execution_count": 22,
   "metadata": {},
   "outputs": [
    {
     "name": "stdout",
     "output_type": "stream",
     "text": [
      "Iter 1/100 - Loss: 1.908   lengthscale: 5.000\n",
      "Iter 11/100 - Loss: 1.620   lengthscale: 5.900\n",
      "Iter 21/100 - Loss: 1.598   lengthscale: 6.631\n",
      "Iter 31/100 - Loss: 1.574   lengthscale: 7.318\n",
      "Iter 41/100 - Loss: 1.546   lengthscale: 7.926\n",
      "Iter 51/100 - Loss: 1.535   lengthscale: 8.512\n",
      "Iter 61/100 - Loss: 1.524   lengthscale: 9.190\n",
      "Iter 71/100 - Loss: 1.486   lengthscale: 9.950\n",
      "Iter 81/100 - Loss: 1.485   lengthscale: 10.901\n",
      "Iter 91/100 - Loss: 1.452   lengthscale: 12.159\n",
      "(0.9658703804016113, -1.2501798868179321, 0.9908257126808167)\n"
     ]
    }
   ],
   "source": [
    "# Exact GP\n",
    "ExactGP_model_CC, ExactGP_likelihood_CC = count_models.create_ExactGP_model(X_CC_train, y_CC_train, \n",
    "                                                    init_lengthscale=INIT_LENGTHSCALE_CC, kernel=KERNEL_CC)\n",
    "ExactGP_model_CC, ExactGP_likelihood_CC = count_models.train_ExactGP_model(X_CC_train, y_CC_train, ExactGP_model_CC, \n",
    "                            ExactGP_likelihood_CC, num_iter=NUM_ITER_CC, lr=0.1, report_iter=NUM_ITER_CC//10)\n",
    "CC_ExactGP_res = count_models.evaluate_ExactGP(ExactGP_model_CC, ExactGP_likelihood_CC, X_CC_test, y_CC_test)\n",
    "print(CC_ExactGP_res)"
   ]
  },
  {
   "cell_type": "code",
   "execution_count": 23,
   "metadata": {},
   "outputs": [
    {
     "name": "stdout",
     "output_type": "stream",
     "text": [
      "Iter 1/100 - Loss: 2.020   lengthscale: 5.000\n",
      "Iter 11/100 - Loss: 1.778   lengthscale: 5.860\n",
      "Iter 21/100 - Loss: 1.787   lengthscale: 6.556\n",
      "Iter 31/100 - Loss: 1.765   lengthscale: 7.255\n",
      "Iter 41/100 - Loss: 1.776   lengthscale: 7.808\n",
      "Iter 51/100 - Loss: 1.758   lengthscale: 8.156\n",
      "Iter 61/100 - Loss: 1.770   lengthscale: 8.434\n",
      "Iter 71/100 - Loss: 1.766   lengthscale: 8.706\n",
      "Iter 81/100 - Loss: 1.772   lengthscale: 8.957\n",
      "Iter 91/100 - Loss: 1.760   lengthscale: 9.161\n",
      "(1.5215251445770264, -11.840005874633789, 0.8440366983413696)\n"
     ]
    }
   ],
   "source": [
    "# ExactGP_log\n",
    "y_CC_train_log = torch.log(torch.maximum(y_CC_train, 0.1*torch.ones_like(y_CC_train)))\n",
    "ExactGP_model_CC_log, ExactGP_likelihood_CC_log = count_models.create_ExactGP_model(X_CC_train, y_CC_train_log, \n",
    "                                                    init_lengthscale=INIT_LENGTHSCALE_CC, kernel=KERNEL_CC)\n",
    "ExactGP_model_CC_log, ExactGP_likelihood_CC_log = count_models.train_ExactGP_model(X_CC_train, y_CC_train_log, ExactGP_model_CC_log, \n",
    "                            ExactGP_likelihood_CC_log, num_iter=NUM_ITER_CC, lr=0.1, report_iter=NUM_ITER_CC//10)\n",
    "CC_ExactGP_log_res = count_models.evaluate_ExactGP(ExactGP_model_CC_log, ExactGP_likelihood_CC_log, X_CC_test, y_CC_test)\n",
    "print(CC_ExactGP_log_res)"
   ]
  },
  {
   "cell_type": "code",
   "execution_count": 24,
   "metadata": {},
   "outputs": [
    {
     "name": "stdout",
     "output_type": "stream",
     "text": [
      "Iter 1/100 - Loss: 2.224; lengthscale: 5.000; noise: 6.003\n"
     ]
    },
    {
     "name": "stderr",
     "output_type": "stream",
     "text": [
      "/Users/mariushobbhahn/Desktop/Laplace_Matching_for_GLMs/models/count_models.py:49: UserWarning: To copy construct from a tensor, it is recommended to use sourceTensor.clone().detach() or sourceTensor.clone().detach().requires_grad_(True), rather than torch.tensor(sourceTensor).\n",
      "  likelihood = gpytorch.likelihoods.FixedNoiseGaussianLikelihood(noise=torch.tensor(np.sqrt(train_y_var)),\n"
     ]
    },
    {
     "name": "stdout",
     "output_type": "stream",
     "text": [
      "Iter 11/100 - Loss: 2.186; lengthscale: 5.991; noise: 5.634\n",
      "Iter 21/100 - Loss: 2.161; lengthscale: 6.891; noise: 5.451\n",
      "Iter 31/100 - Loss: 2.164; lengthscale: 7.630; noise: 5.380\n",
      "Iter 41/100 - Loss: 2.158; lengthscale: 8.196; noise: 5.352\n",
      "Iter 51/100 - Loss: 2.159; lengthscale: 8.637; noise: 5.339\n",
      "Iter 61/100 - Loss: 2.134; lengthscale: 9.002; noise: 5.333\n",
      "Iter 71/100 - Loss: 2.146; lengthscale: 9.323; noise: 5.329\n",
      "Iter 81/100 - Loss: 2.145; lengthscale: 9.629; noise: 5.326\n",
      "Iter 91/100 - Loss: 2.142; lengthscale: 9.926; noise: 5.324\n",
      "(1.3002536296844482, -1.4895167350769043, 0.34403669834136963)\n"
     ]
    }
   ],
   "source": [
    "# LMGP_gamma\n",
    "y_CC_train_mu, y_CC_train_var = count_models.transform_y_Gamma_LM(y_CC_train, alpha_eps=alpha_eps, counts=1)\n",
    "LMGP_model_CC, LMGP_likelihood_CC = count_models.create_LM_Gamma_GP_model(X_CC_train, y_CC_train_mu, y_CC_train_var,\n",
    "                                    kernel=KERNEL_CC, init_lengthscale=INIT_LENGTHSCALE_CC, fixed_likelihood=True)\n",
    "LMGP_model_CC, LMGP_likelihood_CC = count_models.train_LM_Gamma_GP_model(X_CC_train, y_CC_train_mu,\n",
    "                                LMGP_model_CC, LMGP_likelihood_CC, num_iter=NUM_ITER_CC, lr=0.1, report_iter=NUM_ITER_CC//10)\n",
    "CC_LMGP_res = count_models.evaluate_LM_Gamma_GP(LMGP_model_CC, LMGP_likelihood_CC, X_CC_test, y_CC_test)\n",
    "print(CC_LMGP_res)"
   ]
  },
  {
   "cell_type": "code",
   "execution_count": 25,
   "metadata": {},
   "outputs": [
    {
     "data": {
      "application/vnd.jupyter.widget-view+json": {
       "model_id": "b190852c7c364fc88ad6ce5d24e5e477",
       "version_major": 2,
       "version_minor": 0
      },
      "text/plain": [
       "HBox(children=(HTML(value='Epoch'), FloatProgress(value=0.0), HTML(value='')))"
      ]
     },
     "metadata": {},
     "output_type": "display_data"
    },
    {
     "data": {
      "application/vnd.jupyter.widget-view+json": {
       "model_id": "",
       "version_major": 2,
       "version_minor": 0
      },
      "text/plain": [
       "HBox(children=(HTML(value='Minibatch'), FloatProgress(value=0.0, max=1.0), HTML(value='')))"
      ]
     },
     "metadata": {},
     "output_type": "display_data"
    },
    {
     "name": "stdout",
     "output_type": "stream",
     "text": [
      "iter: 0/100\n",
      "loss:  3.32356333732605\n",
      "lengthscale:  5.099323272705078\n"
     ]
    },
    {
     "data": {
      "application/vnd.jupyter.widget-view+json": {
       "model_id": "",
       "version_major": 2,
       "version_minor": 0
      },
      "text/plain": [
       "HBox(children=(HTML(value='Minibatch'), FloatProgress(value=0.0, max=1.0), HTML(value='')))"
      ]
     },
     "metadata": {},
     "output_type": "display_data"
    },
    {
     "data": {
      "application/vnd.jupyter.widget-view+json": {
       "model_id": "",
       "version_major": 2,
       "version_minor": 0
      },
      "text/plain": [
       "HBox(children=(HTML(value='Minibatch'), FloatProgress(value=0.0, max=1.0), HTML(value='')))"
      ]
     },
     "metadata": {},
     "output_type": "display_data"
    },
    {
     "data": {
      "application/vnd.jupyter.widget-view+json": {
       "model_id": "",
       "version_major": 2,
       "version_minor": 0
      },
      "text/plain": [
       "HBox(children=(HTML(value='Minibatch'), FloatProgress(value=0.0, max=1.0), HTML(value='')))"
      ]
     },
     "metadata": {},
     "output_type": "display_data"
    },
    {
     "data": {
      "application/vnd.jupyter.widget-view+json": {
       "model_id": "",
       "version_major": 2,
       "version_minor": 0
      },
      "text/plain": [
       "HBox(children=(HTML(value='Minibatch'), FloatProgress(value=0.0, max=1.0), HTML(value='')))"
      ]
     },
     "metadata": {},
     "output_type": "display_data"
    },
    {
     "data": {
      "application/vnd.jupyter.widget-view+json": {
       "model_id": "",
       "version_major": 2,
       "version_minor": 0
      },
      "text/plain": [
       "HBox(children=(HTML(value='Minibatch'), FloatProgress(value=0.0, max=1.0), HTML(value='')))"
      ]
     },
     "metadata": {},
     "output_type": "display_data"
    },
    {
     "data": {
      "application/vnd.jupyter.widget-view+json": {
       "model_id": "",
       "version_major": 2,
       "version_minor": 0
      },
      "text/plain": [
       "HBox(children=(HTML(value='Minibatch'), FloatProgress(value=0.0, max=1.0), HTML(value='')))"
      ]
     },
     "metadata": {},
     "output_type": "display_data"
    },
    {
     "data": {
      "application/vnd.jupyter.widget-view+json": {
       "model_id": "",
       "version_major": 2,
       "version_minor": 0
      },
      "text/plain": [
       "HBox(children=(HTML(value='Minibatch'), FloatProgress(value=0.0, max=1.0), HTML(value='')))"
      ]
     },
     "metadata": {},
     "output_type": "display_data"
    },
    {
     "data": {
      "application/vnd.jupyter.widget-view+json": {
       "model_id": "",
       "version_major": 2,
       "version_minor": 0
      },
      "text/plain": [
       "HBox(children=(HTML(value='Minibatch'), FloatProgress(value=0.0, max=1.0), HTML(value='')))"
      ]
     },
     "metadata": {},
     "output_type": "display_data"
    },
    {
     "data": {
      "application/vnd.jupyter.widget-view+json": {
       "model_id": "",
       "version_major": 2,
       "version_minor": 0
      },
      "text/plain": [
       "HBox(children=(HTML(value='Minibatch'), FloatProgress(value=0.0, max=1.0), HTML(value='')))"
      ]
     },
     "metadata": {},
     "output_type": "display_data"
    },
    {
     "data": {
      "application/vnd.jupyter.widget-view+json": {
       "model_id": "",
       "version_major": 2,
       "version_minor": 0
      },
      "text/plain": [
       "HBox(children=(HTML(value='Minibatch'), FloatProgress(value=0.0, max=1.0), HTML(value='')))"
      ]
     },
     "metadata": {},
     "output_type": "display_data"
    },
    {
     "name": "stdout",
     "output_type": "stream",
     "text": [
      "iter: 10/100\n",
      "loss:  2.0517570972442627\n",
      "lengthscale:  5.825964450836182\n"
     ]
    },
    {
     "data": {
      "application/vnd.jupyter.widget-view+json": {
       "model_id": "",
       "version_major": 2,
       "version_minor": 0
      },
      "text/plain": [
       "HBox(children=(HTML(value='Minibatch'), FloatProgress(value=0.0, max=1.0), HTML(value='')))"
      ]
     },
     "metadata": {},
     "output_type": "display_data"
    },
    {
     "data": {
      "application/vnd.jupyter.widget-view+json": {
       "model_id": "",
       "version_major": 2,
       "version_minor": 0
      },
      "text/plain": [
       "HBox(children=(HTML(value='Minibatch'), FloatProgress(value=0.0, max=1.0), HTML(value='')))"
      ]
     },
     "metadata": {},
     "output_type": "display_data"
    },
    {
     "data": {
      "application/vnd.jupyter.widget-view+json": {
       "model_id": "",
       "version_major": 2,
       "version_minor": 0
      },
      "text/plain": [
       "HBox(children=(HTML(value='Minibatch'), FloatProgress(value=0.0, max=1.0), HTML(value='')))"
      ]
     },
     "metadata": {},
     "output_type": "display_data"
    },
    {
     "data": {
      "application/vnd.jupyter.widget-view+json": {
       "model_id": "",
       "version_major": 2,
       "version_minor": 0
      },
      "text/plain": [
       "HBox(children=(HTML(value='Minibatch'), FloatProgress(value=0.0, max=1.0), HTML(value='')))"
      ]
     },
     "metadata": {},
     "output_type": "display_data"
    },
    {
     "data": {
      "application/vnd.jupyter.widget-view+json": {
       "model_id": "",
       "version_major": 2,
       "version_minor": 0
      },
      "text/plain": [
       "HBox(children=(HTML(value='Minibatch'), FloatProgress(value=0.0, max=1.0), HTML(value='')))"
      ]
     },
     "metadata": {},
     "output_type": "display_data"
    },
    {
     "data": {
      "application/vnd.jupyter.widget-view+json": {
       "model_id": "",
       "version_major": 2,
       "version_minor": 0
      },
      "text/plain": [
       "HBox(children=(HTML(value='Minibatch'), FloatProgress(value=0.0, max=1.0), HTML(value='')))"
      ]
     },
     "metadata": {},
     "output_type": "display_data"
    },
    {
     "data": {
      "application/vnd.jupyter.widget-view+json": {
       "model_id": "",
       "version_major": 2,
       "version_minor": 0
      },
      "text/plain": [
       "HBox(children=(HTML(value='Minibatch'), FloatProgress(value=0.0, max=1.0), HTML(value='')))"
      ]
     },
     "metadata": {},
     "output_type": "display_data"
    },
    {
     "data": {
      "application/vnd.jupyter.widget-view+json": {
       "model_id": "",
       "version_major": 2,
       "version_minor": 0
      },
      "text/plain": [
       "HBox(children=(HTML(value='Minibatch'), FloatProgress(value=0.0, max=1.0), HTML(value='')))"
      ]
     },
     "metadata": {},
     "output_type": "display_data"
    },
    {
     "data": {
      "application/vnd.jupyter.widget-view+json": {
       "model_id": "",
       "version_major": 2,
       "version_minor": 0
      },
      "text/plain": [
       "HBox(children=(HTML(value='Minibatch'), FloatProgress(value=0.0, max=1.0), HTML(value='')))"
      ]
     },
     "metadata": {},
     "output_type": "display_data"
    },
    {
     "data": {
      "application/vnd.jupyter.widget-view+json": {
       "model_id": "",
       "version_major": 2,
       "version_minor": 0
      },
      "text/plain": [
       "HBox(children=(HTML(value='Minibatch'), FloatProgress(value=0.0, max=1.0), HTML(value='')))"
      ]
     },
     "metadata": {},
     "output_type": "display_data"
    },
    {
     "name": "stdout",
     "output_type": "stream",
     "text": [
      "iter: 20/100\n",
      "loss:  1.9645495414733887\n",
      "lengthscale:  6.265061855316162\n"
     ]
    },
    {
     "data": {
      "application/vnd.jupyter.widget-view+json": {
       "model_id": "",
       "version_major": 2,
       "version_minor": 0
      },
      "text/plain": [
       "HBox(children=(HTML(value='Minibatch'), FloatProgress(value=0.0, max=1.0), HTML(value='')))"
      ]
     },
     "metadata": {},
     "output_type": "display_data"
    },
    {
     "data": {
      "application/vnd.jupyter.widget-view+json": {
       "model_id": "",
       "version_major": 2,
       "version_minor": 0
      },
      "text/plain": [
       "HBox(children=(HTML(value='Minibatch'), FloatProgress(value=0.0, max=1.0), HTML(value='')))"
      ]
     },
     "metadata": {},
     "output_type": "display_data"
    },
    {
     "data": {
      "application/vnd.jupyter.widget-view+json": {
       "model_id": "",
       "version_major": 2,
       "version_minor": 0
      },
      "text/plain": [
       "HBox(children=(HTML(value='Minibatch'), FloatProgress(value=0.0, max=1.0), HTML(value='')))"
      ]
     },
     "metadata": {},
     "output_type": "display_data"
    },
    {
     "data": {
      "application/vnd.jupyter.widget-view+json": {
       "model_id": "",
       "version_major": 2,
       "version_minor": 0
      },
      "text/plain": [
       "HBox(children=(HTML(value='Minibatch'), FloatProgress(value=0.0, max=1.0), HTML(value='')))"
      ]
     },
     "metadata": {},
     "output_type": "display_data"
    },
    {
     "data": {
      "application/vnd.jupyter.widget-view+json": {
       "model_id": "",
       "version_major": 2,
       "version_minor": 0
      },
      "text/plain": [
       "HBox(children=(HTML(value='Minibatch'), FloatProgress(value=0.0, max=1.0), HTML(value='')))"
      ]
     },
     "metadata": {},
     "output_type": "display_data"
    },
    {
     "data": {
      "application/vnd.jupyter.widget-view+json": {
       "model_id": "",
       "version_major": 2,
       "version_minor": 0
      },
      "text/plain": [
       "HBox(children=(HTML(value='Minibatch'), FloatProgress(value=0.0, max=1.0), HTML(value='')))"
      ]
     },
     "metadata": {},
     "output_type": "display_data"
    },
    {
     "data": {
      "application/vnd.jupyter.widget-view+json": {
       "model_id": "",
       "version_major": 2,
       "version_minor": 0
      },
      "text/plain": [
       "HBox(children=(HTML(value='Minibatch'), FloatProgress(value=0.0, max=1.0), HTML(value='')))"
      ]
     },
     "metadata": {},
     "output_type": "display_data"
    },
    {
     "data": {
      "application/vnd.jupyter.widget-view+json": {
       "model_id": "",
       "version_major": 2,
       "version_minor": 0
      },
      "text/plain": [
       "HBox(children=(HTML(value='Minibatch'), FloatProgress(value=0.0, max=1.0), HTML(value='')))"
      ]
     },
     "metadata": {},
     "output_type": "display_data"
    },
    {
     "data": {
      "application/vnd.jupyter.widget-view+json": {
       "model_id": "",
       "version_major": 2,
       "version_minor": 0
      },
      "text/plain": [
       "HBox(children=(HTML(value='Minibatch'), FloatProgress(value=0.0, max=1.0), HTML(value='')))"
      ]
     },
     "metadata": {},
     "output_type": "display_data"
    },
    {
     "data": {
      "application/vnd.jupyter.widget-view+json": {
       "model_id": "",
       "version_major": 2,
       "version_minor": 0
      },
      "text/plain": [
       "HBox(children=(HTML(value='Minibatch'), FloatProgress(value=0.0, max=1.0), HTML(value='')))"
      ]
     },
     "metadata": {},
     "output_type": "display_data"
    },
    {
     "name": "stdout",
     "output_type": "stream",
     "text": [
      "iter: 30/100\n",
      "loss:  1.850985050201416\n",
      "lengthscale:  6.726329803466797\n"
     ]
    },
    {
     "data": {
      "application/vnd.jupyter.widget-view+json": {
       "model_id": "",
       "version_major": 2,
       "version_minor": 0
      },
      "text/plain": [
       "HBox(children=(HTML(value='Minibatch'), FloatProgress(value=0.0, max=1.0), HTML(value='')))"
      ]
     },
     "metadata": {},
     "output_type": "display_data"
    },
    {
     "data": {
      "application/vnd.jupyter.widget-view+json": {
       "model_id": "",
       "version_major": 2,
       "version_minor": 0
      },
      "text/plain": [
       "HBox(children=(HTML(value='Minibatch'), FloatProgress(value=0.0, max=1.0), HTML(value='')))"
      ]
     },
     "metadata": {},
     "output_type": "display_data"
    },
    {
     "data": {
      "application/vnd.jupyter.widget-view+json": {
       "model_id": "",
       "version_major": 2,
       "version_minor": 0
      },
      "text/plain": [
       "HBox(children=(HTML(value='Minibatch'), FloatProgress(value=0.0, max=1.0), HTML(value='')))"
      ]
     },
     "metadata": {},
     "output_type": "display_data"
    },
    {
     "data": {
      "application/vnd.jupyter.widget-view+json": {
       "model_id": "",
       "version_major": 2,
       "version_minor": 0
      },
      "text/plain": [
       "HBox(children=(HTML(value='Minibatch'), FloatProgress(value=0.0, max=1.0), HTML(value='')))"
      ]
     },
     "metadata": {},
     "output_type": "display_data"
    },
    {
     "data": {
      "application/vnd.jupyter.widget-view+json": {
       "model_id": "",
       "version_major": 2,
       "version_minor": 0
      },
      "text/plain": [
       "HBox(children=(HTML(value='Minibatch'), FloatProgress(value=0.0, max=1.0), HTML(value='')))"
      ]
     },
     "metadata": {},
     "output_type": "display_data"
    },
    {
     "data": {
      "application/vnd.jupyter.widget-view+json": {
       "model_id": "",
       "version_major": 2,
       "version_minor": 0
      },
      "text/plain": [
       "HBox(children=(HTML(value='Minibatch'), FloatProgress(value=0.0, max=1.0), HTML(value='')))"
      ]
     },
     "metadata": {},
     "output_type": "display_data"
    },
    {
     "data": {
      "application/vnd.jupyter.widget-view+json": {
       "model_id": "",
       "version_major": 2,
       "version_minor": 0
      },
      "text/plain": [
       "HBox(children=(HTML(value='Minibatch'), FloatProgress(value=0.0, max=1.0), HTML(value='')))"
      ]
     },
     "metadata": {},
     "output_type": "display_data"
    },
    {
     "data": {
      "application/vnd.jupyter.widget-view+json": {
       "model_id": "",
       "version_major": 2,
       "version_minor": 0
      },
      "text/plain": [
       "HBox(children=(HTML(value='Minibatch'), FloatProgress(value=0.0, max=1.0), HTML(value='')))"
      ]
     },
     "metadata": {},
     "output_type": "display_data"
    },
    {
     "data": {
      "application/vnd.jupyter.widget-view+json": {
       "model_id": "",
       "version_major": 2,
       "version_minor": 0
      },
      "text/plain": [
       "HBox(children=(HTML(value='Minibatch'), FloatProgress(value=0.0, max=1.0), HTML(value='')))"
      ]
     },
     "metadata": {},
     "output_type": "display_data"
    },
    {
     "data": {
      "application/vnd.jupyter.widget-view+json": {
       "model_id": "",
       "version_major": 2,
       "version_minor": 0
      },
      "text/plain": [
       "HBox(children=(HTML(value='Minibatch'), FloatProgress(value=0.0, max=1.0), HTML(value='')))"
      ]
     },
     "metadata": {},
     "output_type": "display_data"
    },
    {
     "name": "stdout",
     "output_type": "stream",
     "text": [
      "iter: 40/100\n",
      "loss:  1.819808840751648\n",
      "lengthscale:  7.330045700073242\n"
     ]
    },
    {
     "data": {
      "application/vnd.jupyter.widget-view+json": {
       "model_id": "",
       "version_major": 2,
       "version_minor": 0
      },
      "text/plain": [
       "HBox(children=(HTML(value='Minibatch'), FloatProgress(value=0.0, max=1.0), HTML(value='')))"
      ]
     },
     "metadata": {},
     "output_type": "display_data"
    },
    {
     "data": {
      "application/vnd.jupyter.widget-view+json": {
       "model_id": "",
       "version_major": 2,
       "version_minor": 0
      },
      "text/plain": [
       "HBox(children=(HTML(value='Minibatch'), FloatProgress(value=0.0, max=1.0), HTML(value='')))"
      ]
     },
     "metadata": {},
     "output_type": "display_data"
    },
    {
     "data": {
      "application/vnd.jupyter.widget-view+json": {
       "model_id": "",
       "version_major": 2,
       "version_minor": 0
      },
      "text/plain": [
       "HBox(children=(HTML(value='Minibatch'), FloatProgress(value=0.0, max=1.0), HTML(value='')))"
      ]
     },
     "metadata": {},
     "output_type": "display_data"
    },
    {
     "data": {
      "application/vnd.jupyter.widget-view+json": {
       "model_id": "",
       "version_major": 2,
       "version_minor": 0
      },
      "text/plain": [
       "HBox(children=(HTML(value='Minibatch'), FloatProgress(value=0.0, max=1.0), HTML(value='')))"
      ]
     },
     "metadata": {},
     "output_type": "display_data"
    },
    {
     "data": {
      "application/vnd.jupyter.widget-view+json": {
       "model_id": "",
       "version_major": 2,
       "version_minor": 0
      },
      "text/plain": [
       "HBox(children=(HTML(value='Minibatch'), FloatProgress(value=0.0, max=1.0), HTML(value='')))"
      ]
     },
     "metadata": {},
     "output_type": "display_data"
    },
    {
     "data": {
      "application/vnd.jupyter.widget-view+json": {
       "model_id": "",
       "version_major": 2,
       "version_minor": 0
      },
      "text/plain": [
       "HBox(children=(HTML(value='Minibatch'), FloatProgress(value=0.0, max=1.0), HTML(value='')))"
      ]
     },
     "metadata": {},
     "output_type": "display_data"
    },
    {
     "data": {
      "application/vnd.jupyter.widget-view+json": {
       "model_id": "",
       "version_major": 2,
       "version_minor": 0
      },
      "text/plain": [
       "HBox(children=(HTML(value='Minibatch'), FloatProgress(value=0.0, max=1.0), HTML(value='')))"
      ]
     },
     "metadata": {},
     "output_type": "display_data"
    },
    {
     "data": {
      "application/vnd.jupyter.widget-view+json": {
       "model_id": "",
       "version_major": 2,
       "version_minor": 0
      },
      "text/plain": [
       "HBox(children=(HTML(value='Minibatch'), FloatProgress(value=0.0, max=1.0), HTML(value='')))"
      ]
     },
     "metadata": {},
     "output_type": "display_data"
    },
    {
     "data": {
      "application/vnd.jupyter.widget-view+json": {
       "model_id": "",
       "version_major": 2,
       "version_minor": 0
      },
      "text/plain": [
       "HBox(children=(HTML(value='Minibatch'), FloatProgress(value=0.0, max=1.0), HTML(value='')))"
      ]
     },
     "metadata": {},
     "output_type": "display_data"
    },
    {
     "data": {
      "application/vnd.jupyter.widget-view+json": {
       "model_id": "",
       "version_major": 2,
       "version_minor": 0
      },
      "text/plain": [
       "HBox(children=(HTML(value='Minibatch'), FloatProgress(value=0.0, max=1.0), HTML(value='')))"
      ]
     },
     "metadata": {},
     "output_type": "display_data"
    },
    {
     "name": "stdout",
     "output_type": "stream",
     "text": [
      "iter: 50/100\n",
      "loss:  1.8032501935958862\n",
      "lengthscale:  7.937541961669922\n"
     ]
    },
    {
     "data": {
      "application/vnd.jupyter.widget-view+json": {
       "model_id": "",
       "version_major": 2,
       "version_minor": 0
      },
      "text/plain": [
       "HBox(children=(HTML(value='Minibatch'), FloatProgress(value=0.0, max=1.0), HTML(value='')))"
      ]
     },
     "metadata": {},
     "output_type": "display_data"
    },
    {
     "data": {
      "application/vnd.jupyter.widget-view+json": {
       "model_id": "",
       "version_major": 2,
       "version_minor": 0
      },
      "text/plain": [
       "HBox(children=(HTML(value='Minibatch'), FloatProgress(value=0.0, max=1.0), HTML(value='')))"
      ]
     },
     "metadata": {},
     "output_type": "display_data"
    },
    {
     "data": {
      "application/vnd.jupyter.widget-view+json": {
       "model_id": "",
       "version_major": 2,
       "version_minor": 0
      },
      "text/plain": [
       "HBox(children=(HTML(value='Minibatch'), FloatProgress(value=0.0, max=1.0), HTML(value='')))"
      ]
     },
     "metadata": {},
     "output_type": "display_data"
    },
    {
     "data": {
      "application/vnd.jupyter.widget-view+json": {
       "model_id": "",
       "version_major": 2,
       "version_minor": 0
      },
      "text/plain": [
       "HBox(children=(HTML(value='Minibatch'), FloatProgress(value=0.0, max=1.0), HTML(value='')))"
      ]
     },
     "metadata": {},
     "output_type": "display_data"
    },
    {
     "data": {
      "application/vnd.jupyter.widget-view+json": {
       "model_id": "",
       "version_major": 2,
       "version_minor": 0
      },
      "text/plain": [
       "HBox(children=(HTML(value='Minibatch'), FloatProgress(value=0.0, max=1.0), HTML(value='')))"
      ]
     },
     "metadata": {},
     "output_type": "display_data"
    },
    {
     "data": {
      "application/vnd.jupyter.widget-view+json": {
       "model_id": "",
       "version_major": 2,
       "version_minor": 0
      },
      "text/plain": [
       "HBox(children=(HTML(value='Minibatch'), FloatProgress(value=0.0, max=1.0), HTML(value='')))"
      ]
     },
     "metadata": {},
     "output_type": "display_data"
    },
    {
     "data": {
      "application/vnd.jupyter.widget-view+json": {
       "model_id": "",
       "version_major": 2,
       "version_minor": 0
      },
      "text/plain": [
       "HBox(children=(HTML(value='Minibatch'), FloatProgress(value=0.0, max=1.0), HTML(value='')))"
      ]
     },
     "metadata": {},
     "output_type": "display_data"
    },
    {
     "data": {
      "application/vnd.jupyter.widget-view+json": {
       "model_id": "",
       "version_major": 2,
       "version_minor": 0
      },
      "text/plain": [
       "HBox(children=(HTML(value='Minibatch'), FloatProgress(value=0.0, max=1.0), HTML(value='')))"
      ]
     },
     "metadata": {},
     "output_type": "display_data"
    },
    {
     "data": {
      "application/vnd.jupyter.widget-view+json": {
       "model_id": "",
       "version_major": 2,
       "version_minor": 0
      },
      "text/plain": [
       "HBox(children=(HTML(value='Minibatch'), FloatProgress(value=0.0, max=1.0), HTML(value='')))"
      ]
     },
     "metadata": {},
     "output_type": "display_data"
    },
    {
     "data": {
      "application/vnd.jupyter.widget-view+json": {
       "model_id": "",
       "version_major": 2,
       "version_minor": 0
      },
      "text/plain": [
       "HBox(children=(HTML(value='Minibatch'), FloatProgress(value=0.0, max=1.0), HTML(value='')))"
      ]
     },
     "metadata": {},
     "output_type": "display_data"
    },
    {
     "name": "stdout",
     "output_type": "stream",
     "text": [
      "iter: 60/100\n",
      "loss:  1.793608546257019\n",
      "lengthscale:  8.420943260192871\n"
     ]
    },
    {
     "data": {
      "application/vnd.jupyter.widget-view+json": {
       "model_id": "",
       "version_major": 2,
       "version_minor": 0
      },
      "text/plain": [
       "HBox(children=(HTML(value='Minibatch'), FloatProgress(value=0.0, max=1.0), HTML(value='')))"
      ]
     },
     "metadata": {},
     "output_type": "display_data"
    },
    {
     "data": {
      "application/vnd.jupyter.widget-view+json": {
       "model_id": "",
       "version_major": 2,
       "version_minor": 0
      },
      "text/plain": [
       "HBox(children=(HTML(value='Minibatch'), FloatProgress(value=0.0, max=1.0), HTML(value='')))"
      ]
     },
     "metadata": {},
     "output_type": "display_data"
    },
    {
     "data": {
      "application/vnd.jupyter.widget-view+json": {
       "model_id": "",
       "version_major": 2,
       "version_minor": 0
      },
      "text/plain": [
       "HBox(children=(HTML(value='Minibatch'), FloatProgress(value=0.0, max=1.0), HTML(value='')))"
      ]
     },
     "metadata": {},
     "output_type": "display_data"
    },
    {
     "data": {
      "application/vnd.jupyter.widget-view+json": {
       "model_id": "",
       "version_major": 2,
       "version_minor": 0
      },
      "text/plain": [
       "HBox(children=(HTML(value='Minibatch'), FloatProgress(value=0.0, max=1.0), HTML(value='')))"
      ]
     },
     "metadata": {},
     "output_type": "display_data"
    },
    {
     "data": {
      "application/vnd.jupyter.widget-view+json": {
       "model_id": "",
       "version_major": 2,
       "version_minor": 0
      },
      "text/plain": [
       "HBox(children=(HTML(value='Minibatch'), FloatProgress(value=0.0, max=1.0), HTML(value='')))"
      ]
     },
     "metadata": {},
     "output_type": "display_data"
    },
    {
     "data": {
      "application/vnd.jupyter.widget-view+json": {
       "model_id": "",
       "version_major": 2,
       "version_minor": 0
      },
      "text/plain": [
       "HBox(children=(HTML(value='Minibatch'), FloatProgress(value=0.0, max=1.0), HTML(value='')))"
      ]
     },
     "metadata": {},
     "output_type": "display_data"
    },
    {
     "data": {
      "application/vnd.jupyter.widget-view+json": {
       "model_id": "",
       "version_major": 2,
       "version_minor": 0
      },
      "text/plain": [
       "HBox(children=(HTML(value='Minibatch'), FloatProgress(value=0.0, max=1.0), HTML(value='')))"
      ]
     },
     "metadata": {},
     "output_type": "display_data"
    },
    {
     "data": {
      "application/vnd.jupyter.widget-view+json": {
       "model_id": "",
       "version_major": 2,
       "version_minor": 0
      },
      "text/plain": [
       "HBox(children=(HTML(value='Minibatch'), FloatProgress(value=0.0, max=1.0), HTML(value='')))"
      ]
     },
     "metadata": {},
     "output_type": "display_data"
    },
    {
     "data": {
      "application/vnd.jupyter.widget-view+json": {
       "model_id": "",
       "version_major": 2,
       "version_minor": 0
      },
      "text/plain": [
       "HBox(children=(HTML(value='Minibatch'), FloatProgress(value=0.0, max=1.0), HTML(value='')))"
      ]
     },
     "metadata": {},
     "output_type": "display_data"
    },
    {
     "data": {
      "application/vnd.jupyter.widget-view+json": {
       "model_id": "",
       "version_major": 2,
       "version_minor": 0
      },
      "text/plain": [
       "HBox(children=(HTML(value='Minibatch'), FloatProgress(value=0.0, max=1.0), HTML(value='')))"
      ]
     },
     "metadata": {},
     "output_type": "display_data"
    },
    {
     "name": "stdout",
     "output_type": "stream",
     "text": [
      "iter: 70/100\n",
      "loss:  1.7864222526550293\n",
      "lengthscale:  8.812482833862305\n"
     ]
    },
    {
     "data": {
      "application/vnd.jupyter.widget-view+json": {
       "model_id": "",
       "version_major": 2,
       "version_minor": 0
      },
      "text/plain": [
       "HBox(children=(HTML(value='Minibatch'), FloatProgress(value=0.0, max=1.0), HTML(value='')))"
      ]
     },
     "metadata": {},
     "output_type": "display_data"
    },
    {
     "data": {
      "application/vnd.jupyter.widget-view+json": {
       "model_id": "",
       "version_major": 2,
       "version_minor": 0
      },
      "text/plain": [
       "HBox(children=(HTML(value='Minibatch'), FloatProgress(value=0.0, max=1.0), HTML(value='')))"
      ]
     },
     "metadata": {},
     "output_type": "display_data"
    },
    {
     "data": {
      "application/vnd.jupyter.widget-view+json": {
       "model_id": "",
       "version_major": 2,
       "version_minor": 0
      },
      "text/plain": [
       "HBox(children=(HTML(value='Minibatch'), FloatProgress(value=0.0, max=1.0), HTML(value='')))"
      ]
     },
     "metadata": {},
     "output_type": "display_data"
    },
    {
     "data": {
      "application/vnd.jupyter.widget-view+json": {
       "model_id": "",
       "version_major": 2,
       "version_minor": 0
      },
      "text/plain": [
       "HBox(children=(HTML(value='Minibatch'), FloatProgress(value=0.0, max=1.0), HTML(value='')))"
      ]
     },
     "metadata": {},
     "output_type": "display_data"
    },
    {
     "data": {
      "application/vnd.jupyter.widget-view+json": {
       "model_id": "",
       "version_major": 2,
       "version_minor": 0
      },
      "text/plain": [
       "HBox(children=(HTML(value='Minibatch'), FloatProgress(value=0.0, max=1.0), HTML(value='')))"
      ]
     },
     "metadata": {},
     "output_type": "display_data"
    },
    {
     "data": {
      "application/vnd.jupyter.widget-view+json": {
       "model_id": "",
       "version_major": 2,
       "version_minor": 0
      },
      "text/plain": [
       "HBox(children=(HTML(value='Minibatch'), FloatProgress(value=0.0, max=1.0), HTML(value='')))"
      ]
     },
     "metadata": {},
     "output_type": "display_data"
    },
    {
     "data": {
      "application/vnd.jupyter.widget-view+json": {
       "model_id": "",
       "version_major": 2,
       "version_minor": 0
      },
      "text/plain": [
       "HBox(children=(HTML(value='Minibatch'), FloatProgress(value=0.0, max=1.0), HTML(value='')))"
      ]
     },
     "metadata": {},
     "output_type": "display_data"
    },
    {
     "data": {
      "application/vnd.jupyter.widget-view+json": {
       "model_id": "",
       "version_major": 2,
       "version_minor": 0
      },
      "text/plain": [
       "HBox(children=(HTML(value='Minibatch'), FloatProgress(value=0.0, max=1.0), HTML(value='')))"
      ]
     },
     "metadata": {},
     "output_type": "display_data"
    },
    {
     "data": {
      "application/vnd.jupyter.widget-view+json": {
       "model_id": "",
       "version_major": 2,
       "version_minor": 0
      },
      "text/plain": [
       "HBox(children=(HTML(value='Minibatch'), FloatProgress(value=0.0, max=1.0), HTML(value='')))"
      ]
     },
     "metadata": {},
     "output_type": "display_data"
    },
    {
     "data": {
      "application/vnd.jupyter.widget-view+json": {
       "model_id": "",
       "version_major": 2,
       "version_minor": 0
      },
      "text/plain": [
       "HBox(children=(HTML(value='Minibatch'), FloatProgress(value=0.0, max=1.0), HTML(value='')))"
      ]
     },
     "metadata": {},
     "output_type": "display_data"
    },
    {
     "name": "stdout",
     "output_type": "stream",
     "text": [
      "iter: 80/100\n",
      "loss:  1.7836689949035645\n",
      "lengthscale:  9.179678916931152\n"
     ]
    },
    {
     "data": {
      "application/vnd.jupyter.widget-view+json": {
       "model_id": "",
       "version_major": 2,
       "version_minor": 0
      },
      "text/plain": [
       "HBox(children=(HTML(value='Minibatch'), FloatProgress(value=0.0, max=1.0), HTML(value='')))"
      ]
     },
     "metadata": {},
     "output_type": "display_data"
    },
    {
     "data": {
      "application/vnd.jupyter.widget-view+json": {
       "model_id": "",
       "version_major": 2,
       "version_minor": 0
      },
      "text/plain": [
       "HBox(children=(HTML(value='Minibatch'), FloatProgress(value=0.0, max=1.0), HTML(value='')))"
      ]
     },
     "metadata": {},
     "output_type": "display_data"
    },
    {
     "data": {
      "application/vnd.jupyter.widget-view+json": {
       "model_id": "",
       "version_major": 2,
       "version_minor": 0
      },
      "text/plain": [
       "HBox(children=(HTML(value='Minibatch'), FloatProgress(value=0.0, max=1.0), HTML(value='')))"
      ]
     },
     "metadata": {},
     "output_type": "display_data"
    },
    {
     "data": {
      "application/vnd.jupyter.widget-view+json": {
       "model_id": "",
       "version_major": 2,
       "version_minor": 0
      },
      "text/plain": [
       "HBox(children=(HTML(value='Minibatch'), FloatProgress(value=0.0, max=1.0), HTML(value='')))"
      ]
     },
     "metadata": {},
     "output_type": "display_data"
    },
    {
     "data": {
      "application/vnd.jupyter.widget-view+json": {
       "model_id": "",
       "version_major": 2,
       "version_minor": 0
      },
      "text/plain": [
       "HBox(children=(HTML(value='Minibatch'), FloatProgress(value=0.0, max=1.0), HTML(value='')))"
      ]
     },
     "metadata": {},
     "output_type": "display_data"
    },
    {
     "data": {
      "application/vnd.jupyter.widget-view+json": {
       "model_id": "",
       "version_major": 2,
       "version_minor": 0
      },
      "text/plain": [
       "HBox(children=(HTML(value='Minibatch'), FloatProgress(value=0.0, max=1.0), HTML(value='')))"
      ]
     },
     "metadata": {},
     "output_type": "display_data"
    },
    {
     "data": {
      "application/vnd.jupyter.widget-view+json": {
       "model_id": "",
       "version_major": 2,
       "version_minor": 0
      },
      "text/plain": [
       "HBox(children=(HTML(value='Minibatch'), FloatProgress(value=0.0, max=1.0), HTML(value='')))"
      ]
     },
     "metadata": {},
     "output_type": "display_data"
    },
    {
     "data": {
      "application/vnd.jupyter.widget-view+json": {
       "model_id": "",
       "version_major": 2,
       "version_minor": 0
      },
      "text/plain": [
       "HBox(children=(HTML(value='Minibatch'), FloatProgress(value=0.0, max=1.0), HTML(value='')))"
      ]
     },
     "metadata": {},
     "output_type": "display_data"
    },
    {
     "data": {
      "application/vnd.jupyter.widget-view+json": {
       "model_id": "",
       "version_major": 2,
       "version_minor": 0
      },
      "text/plain": [
       "HBox(children=(HTML(value='Minibatch'), FloatProgress(value=0.0, max=1.0), HTML(value='')))"
      ]
     },
     "metadata": {},
     "output_type": "display_data"
    },
    {
     "data": {
      "application/vnd.jupyter.widget-view+json": {
       "model_id": "",
       "version_major": 2,
       "version_minor": 0
      },
      "text/plain": [
       "HBox(children=(HTML(value='Minibatch'), FloatProgress(value=0.0, max=1.0), HTML(value='')))"
      ]
     },
     "metadata": {},
     "output_type": "display_data"
    },
    {
     "name": "stdout",
     "output_type": "stream",
     "text": [
      "iter: 90/100\n",
      "loss:  1.7797781229019165\n",
      "lengthscale:  9.518479347229004\n"
     ]
    },
    {
     "data": {
      "application/vnd.jupyter.widget-view+json": {
       "model_id": "",
       "version_major": 2,
       "version_minor": 0
      },
      "text/plain": [
       "HBox(children=(HTML(value='Minibatch'), FloatProgress(value=0.0, max=1.0), HTML(value='')))"
      ]
     },
     "metadata": {},
     "output_type": "display_data"
    },
    {
     "data": {
      "application/vnd.jupyter.widget-view+json": {
       "model_id": "",
       "version_major": 2,
       "version_minor": 0
      },
      "text/plain": [
       "HBox(children=(HTML(value='Minibatch'), FloatProgress(value=0.0, max=1.0), HTML(value='')))"
      ]
     },
     "metadata": {},
     "output_type": "display_data"
    },
    {
     "data": {
      "application/vnd.jupyter.widget-view+json": {
       "model_id": "",
       "version_major": 2,
       "version_minor": 0
      },
      "text/plain": [
       "HBox(children=(HTML(value='Minibatch'), FloatProgress(value=0.0, max=1.0), HTML(value='')))"
      ]
     },
     "metadata": {},
     "output_type": "display_data"
    },
    {
     "data": {
      "application/vnd.jupyter.widget-view+json": {
       "model_id": "",
       "version_major": 2,
       "version_minor": 0
      },
      "text/plain": [
       "HBox(children=(HTML(value='Minibatch'), FloatProgress(value=0.0, max=1.0), HTML(value='')))"
      ]
     },
     "metadata": {},
     "output_type": "display_data"
    },
    {
     "data": {
      "application/vnd.jupyter.widget-view+json": {
       "model_id": "",
       "version_major": 2,
       "version_minor": 0
      },
      "text/plain": [
       "HBox(children=(HTML(value='Minibatch'), FloatProgress(value=0.0, max=1.0), HTML(value='')))"
      ]
     },
     "metadata": {},
     "output_type": "display_data"
    },
    {
     "data": {
      "application/vnd.jupyter.widget-view+json": {
       "model_id": "",
       "version_major": 2,
       "version_minor": 0
      },
      "text/plain": [
       "HBox(children=(HTML(value='Minibatch'), FloatProgress(value=0.0, max=1.0), HTML(value='')))"
      ]
     },
     "metadata": {},
     "output_type": "display_data"
    },
    {
     "data": {
      "application/vnd.jupyter.widget-view+json": {
       "model_id": "",
       "version_major": 2,
       "version_minor": 0
      },
      "text/plain": [
       "HBox(children=(HTML(value='Minibatch'), FloatProgress(value=0.0, max=1.0), HTML(value='')))"
      ]
     },
     "metadata": {},
     "output_type": "display_data"
    },
    {
     "data": {
      "application/vnd.jupyter.widget-view+json": {
       "model_id": "",
       "version_major": 2,
       "version_minor": 0
      },
      "text/plain": [
       "HBox(children=(HTML(value='Minibatch'), FloatProgress(value=0.0, max=1.0), HTML(value='')))"
      ]
     },
     "metadata": {},
     "output_type": "display_data"
    },
    {
     "data": {
      "application/vnd.jupyter.widget-view+json": {
       "model_id": "",
       "version_major": 2,
       "version_minor": 0
      },
      "text/plain": [
       "HBox(children=(HTML(value='Minibatch'), FloatProgress(value=0.0, max=1.0), HTML(value='')))"
      ]
     },
     "metadata": {},
     "output_type": "display_data"
    },
    {
     "name": "stdout",
     "output_type": "stream",
     "text": [
      "\n",
      "(1.303755760192871, -1.5761126279830933, 0.2752293646335602)\n"
     ]
    }
   ],
   "source": [
    "# SVIGP_log\n",
    "train_dataset_CC_log = TensorDataset(X_CC_train, torch.log(torch.maximum(y_CC_train, 0.1*torch.ones_like(y_CC_train))))\n",
    "train_loader_CC_log = DataLoader(train_dataset_CC_log, batch_size=1024, shuffle=True)\n",
    "test_dataset_CC_log = TensorDataset(X_CC_test, y_CC_test)\n",
    "test_loader_CC_log = DataLoader(test_dataset_CC_log, batch_size=1024, shuffle=False)\n",
    "\n",
    "y_CC_train_log = torch.log(torch.maximum(y_CC_train, 0.1*torch.ones_like(y_CC_train)))\n",
    "model_SVI_CC_log, likelihood_SVI_CC_log = count_models.create_SVIGP_model(X_CC_train, kernel=KERNEL_CC, \n",
    "                                        init_lengthscale=INIT_LENGTHSCALE_CC, num_inducing_points=NUM_INDUCING_POINTS)\n",
    "model_SVI_CC_log, likelihood_SVI_CC_log = count_models.train_SVIGP_model(train_loader_CC_log, y_CC_train, \n",
    "                                            model_SVI_CC_log, likelihood_SVI_CC_log,\n",
    "                                num_iter=NUM_ITER_CC, lr=0.1, report_iter=NUM_ITER_CC//10)\n",
    "CC_SVIGP_log_res = count_models.evaluate_SVIGP_log(model_SVI_CC_log, likelihood_SVI_CC_log, test_loader_CC_log, y_CC_test)\n",
    "print(CC_SVIGP_log_res)"
   ]
  },
  {
   "cell_type": "markdown",
   "metadata": {},
   "source": [
    "## Doctor"
   ]
  },
  {
   "cell_type": "code",
   "execution_count": 26,
   "metadata": {},
   "outputs": [],
   "source": [
    "NUM_ITER_DOCTOR = 100\n",
    "INIT_LENGTHSCALE_DOCTOR = 10\n",
    "KERNEL_DOCTOR = \"RBF\""
   ]
  },
  {
   "cell_type": "code",
   "execution_count": 27,
   "metadata": {},
   "outputs": [
    {
     "name": "stdout",
     "output_type": "stream",
     "text": [
      "Iter 1/100 - Loss: 1.079   lengthscale: 10.000\n",
      "Iter 11/100 - Loss: 1.046   lengthscale: 8.993\n",
      "Iter 21/100 - Loss: 1.039   lengthscale: 7.956\n",
      "Iter 31/100 - Loss: 1.035   lengthscale: 6.997\n",
      "Iter 41/100 - Loss: 1.032   lengthscale: 5.856\n",
      "Iter 51/100 - Loss: 1.021   lengthscale: 4.426\n",
      "Iter 61/100 - Loss: 0.961   lengthscale: 2.811\n",
      "Iter 71/100 - Loss: 1.145   lengthscale: 1.275\n",
      "Iter 81/100 - Loss: 1.228   lengthscale: 0.916\n",
      "Iter 91/100 - Loss: 0.957   lengthscale: 1.563\n",
      "(0.8511543273925781, -1.2585303783416748, 0.9830706119537354)\n"
     ]
    }
   ],
   "source": [
    "# Exact GP\n",
    "ExactGP_model_DOCTOR, ExactGP_likelihood_DOCTOR = count_models.create_ExactGP_model(X_DOCTOR_train, y_DOCTOR_train, \n",
    "                                                    init_lengthscale=INIT_LENGTHSCALE_DOCTOR, kernel=KERNEL_DOCTOR)\n",
    "ExactGP_model_DOCTOR, ExactGP_likelihood_DOCTOR = count_models.train_ExactGP_model(X_DOCTOR_train, y_DOCTOR_train, ExactGP_model_DOCTOR, \n",
    "                            ExactGP_likelihood_DOCTOR, num_iter=NUM_ITER_DOCTOR, lr=0.1, report_iter=NUM_ITER_DOCTOR//10)\n",
    "DOCTOR_ExactGP_res = count_models.evaluate_ExactGP(ExactGP_model_DOCTOR, ExactGP_likelihood_DOCTOR, X_DOCTOR_test, y_DOCTOR_test)\n",
    "print(DOCTOR_ExactGP_res)"
   ]
  },
  {
   "cell_type": "code",
   "execution_count": 28,
   "metadata": {},
   "outputs": [
    {
     "name": "stdout",
     "output_type": "stream",
     "text": [
      "Iter 1/100 - Loss: 1.371   lengthscale: 10.000\n",
      "Iter 11/100 - Loss: 1.356   lengthscale: 9.036\n",
      "Iter 21/100 - Loss: 1.353   lengthscale: 8.135\n",
      "Iter 31/100 - Loss: 1.352   lengthscale: 7.296\n",
      "Iter 41/100 - Loss: 1.352   lengthscale: 6.692\n",
      "Iter 51/100 - Loss: 1.352   lengthscale: 6.242\n",
      "Iter 61/100 - Loss: 1.353   lengthscale: 5.979\n",
      "Iter 71/100 - Loss: 1.351   lengthscale: 5.798\n",
      "Iter 81/100 - Loss: 1.352   lengthscale: 5.400\n",
      "Iter 91/100 - Loss: 1.351   lengthscale: 5.146\n",
      "(0.9105246067047119, -4.6184916496276855, 0.26561588048934937)\n"
     ]
    }
   ],
   "source": [
    "# ExactGP_log\n",
    "y_DOCTOR_train_log = torch.log(torch.maximum(y_DOCTOR_train, 0.1*torch.ones_like(y_DOCTOR_train)))\n",
    "ExactGP_model_DOCTOR_log, ExactGP_likelihood_DOCTOR_log = count_models.create_ExactGP_model(X_DOCTOR_train, y_DOCTOR_train_log, \n",
    "                                                    init_lengthscale=INIT_LENGTHSCALE_DOCTOR, kernel=KERNEL_DOCTOR)\n",
    "ExactGP_model_DOCTOR_log, ExactGP_likelihood_DOCTOR_log = count_models.train_ExactGP_model(X_DOCTOR_train, y_DOCTOR_train_log, ExactGP_model_DOCTOR_log, \n",
    "                            ExactGP_likelihood_DOCTOR_log, num_iter=NUM_ITER_DOCTOR, lr=0.1, report_iter=NUM_ITER_DOCTOR//10)\n",
    "DOCTOR_ExactGP_log_res = count_models.evaluate_ExactGP(ExactGP_model_DOCTOR_log, ExactGP_likelihood_DOCTOR_log, X_DOCTOR_test, y_DOCTOR_test)\n",
    "print(DOCTOR_ExactGP_log_res)"
   ]
  },
  {
   "cell_type": "code",
   "execution_count": 29,
   "metadata": {},
   "outputs": [
    {
     "name": "stdout",
     "output_type": "stream",
     "text": [
      "Iter 1/100 - Loss: 2.387; lengthscale: 10.000; noise: 8.909\n",
      "Iter 11/100 - Loss: 2.358; lengthscale: 9.011; noise: 9.516\n",
      "Iter 21/100 - Loss: 2.347; lengthscale: 8.080; noise: 10.159\n",
      "Iter 31/100 - Loss: 2.345; lengthscale: 7.254; noise: 10.519\n",
      "Iter 41/100 - Loss: 2.345; lengthscale: 6.565; noise: 10.534\n",
      "Iter 51/100 - Loss: 2.344; lengthscale: 6.036; noise: 10.381\n",
      "Iter 61/100 - Loss: 2.344; lengthscale: 5.661; noise: 10.246\n",
      "Iter 71/100 - Loss: 2.343; lengthscale: 5.463; noise: 10.207\n",
      "Iter 81/100 - Loss: 2.343; lengthscale: 5.387; noise: 10.233\n",
      "Iter 91/100 - Loss: 2.343; lengthscale: 5.395; noise: 10.261\n",
      "(0.7793981432914734, -0.7025154232978821, 0.16929364204406738)\n"
     ]
    }
   ],
   "source": [
    "# LMGP_gamma\n",
    "y_DOCTOR_train_mu, y_DOCTOR_train_var = count_models.transform_y_Gamma_LM(y_DOCTOR_train, alpha_eps=alpha_eps, counts=1)\n",
    "LMGP_model_DOCTOR, LMGP_likelihood_DOCTOR = count_models.create_LM_Gamma_GP_model(X_DOCTOR_train, y_DOCTOR_train_mu, y_DOCTOR_train_var,\n",
    "                                    kernel=KERNEL_DOCTOR, init_lengthscale=INIT_LENGTHSCALE_DOCTOR, fixed_likelihood=True)\n",
    "LMGP_model_DOCTOR, LMGP_likelihood_DOCTOR = count_models.train_LM_Gamma_GP_model(X_DOCTOR_train, y_DOCTOR_train_mu,\n",
    "                                LMGP_model_DOCTOR, LMGP_likelihood_DOCTOR, num_iter=NUM_ITER_DOCTOR, lr=0.1, report_iter=NUM_ITER_DOCTOR//10)\n",
    "DOCTOR_LMGP_res = count_models.evaluate_LM_Gamma_GP(LMGP_model_DOCTOR, LMGP_likelihood_DOCTOR, X_DOCTOR_test, y_DOCTOR_test)\n",
    "print(DOCTOR_LMGP_res)"
   ]
  },
  {
   "cell_type": "code",
   "execution_count": 30,
   "metadata": {},
   "outputs": [
    {
     "data": {
      "application/vnd.jupyter.widget-view+json": {
       "model_id": "b03c57cf6fde48ccbc88f5b8a716e981",
       "version_major": 2,
       "version_minor": 0
      },
      "text/plain": [
       "HBox(children=(HTML(value='Epoch'), FloatProgress(value=0.0), HTML(value='')))"
      ]
     },
     "metadata": {},
     "output_type": "display_data"
    },
    {
     "data": {
      "application/vnd.jupyter.widget-view+json": {
       "model_id": "",
       "version_major": 2,
       "version_minor": 0
      },
      "text/plain": [
       "HBox(children=(HTML(value='Minibatch'), FloatProgress(value=0.0, max=7.0), HTML(value='')))"
      ]
     },
     "metadata": {},
     "output_type": "display_data"
    },
    {
     "name": "stdout",
     "output_type": "stream",
     "text": [
      "iter: 0/100\n",
      "loss:  18.999914050102234\n",
      "lengthscale:  9.395347595214844\n"
     ]
    },
    {
     "data": {
      "application/vnd.jupyter.widget-view+json": {
       "model_id": "",
       "version_major": 2,
       "version_minor": 0
      },
      "text/plain": [
       "HBox(children=(HTML(value='Minibatch'), FloatProgress(value=0.0, max=7.0), HTML(value='')))"
      ]
     },
     "metadata": {},
     "output_type": "display_data"
    },
    {
     "data": {
      "application/vnd.jupyter.widget-view+json": {
       "model_id": "",
       "version_major": 2,
       "version_minor": 0
      },
      "text/plain": [
       "HBox(children=(HTML(value='Minibatch'), FloatProgress(value=0.0, max=7.0), HTML(value='')))"
      ]
     },
     "metadata": {},
     "output_type": "display_data"
    },
    {
     "data": {
      "application/vnd.jupyter.widget-view+json": {
       "model_id": "",
       "version_major": 2,
       "version_minor": 0
      },
      "text/plain": [
       "HBox(children=(HTML(value='Minibatch'), FloatProgress(value=0.0, max=7.0), HTML(value='')))"
      ]
     },
     "metadata": {},
     "output_type": "display_data"
    },
    {
     "data": {
      "application/vnd.jupyter.widget-view+json": {
       "model_id": "",
       "version_major": 2,
       "version_minor": 0
      },
      "text/plain": [
       "HBox(children=(HTML(value='Minibatch'), FloatProgress(value=0.0, max=7.0), HTML(value='')))"
      ]
     },
     "metadata": {},
     "output_type": "display_data"
    },
    {
     "data": {
      "application/vnd.jupyter.widget-view+json": {
       "model_id": "",
       "version_major": 2,
       "version_minor": 0
      },
      "text/plain": [
       "HBox(children=(HTML(value='Minibatch'), FloatProgress(value=0.0, max=7.0), HTML(value='')))"
      ]
     },
     "metadata": {},
     "output_type": "display_data"
    },
    {
     "data": {
      "application/vnd.jupyter.widget-view+json": {
       "model_id": "",
       "version_major": 2,
       "version_minor": 0
      },
      "text/plain": [
       "HBox(children=(HTML(value='Minibatch'), FloatProgress(value=0.0, max=7.0), HTML(value='')))"
      ]
     },
     "metadata": {},
     "output_type": "display_data"
    },
    {
     "data": {
      "application/vnd.jupyter.widget-view+json": {
       "model_id": "",
       "version_major": 2,
       "version_minor": 0
      },
      "text/plain": [
       "HBox(children=(HTML(value='Minibatch'), FloatProgress(value=0.0, max=7.0), HTML(value='')))"
      ]
     },
     "metadata": {},
     "output_type": "display_data"
    },
    {
     "data": {
      "application/vnd.jupyter.widget-view+json": {
       "model_id": "",
       "version_major": 2,
       "version_minor": 0
      },
      "text/plain": [
       "HBox(children=(HTML(value='Minibatch'), FloatProgress(value=0.0, max=7.0), HTML(value='')))"
      ]
     },
     "metadata": {},
     "output_type": "display_data"
    },
    {
     "data": {
      "application/vnd.jupyter.widget-view+json": {
       "model_id": "",
       "version_major": 2,
       "version_minor": 0
      },
      "text/plain": [
       "HBox(children=(HTML(value='Minibatch'), FloatProgress(value=0.0, max=7.0), HTML(value='')))"
      ]
     },
     "metadata": {},
     "output_type": "display_data"
    },
    {
     "data": {
      "application/vnd.jupyter.widget-view+json": {
       "model_id": "",
       "version_major": 2,
       "version_minor": 0
      },
      "text/plain": [
       "HBox(children=(HTML(value='Minibatch'), FloatProgress(value=0.0, max=7.0), HTML(value='')))"
      ]
     },
     "metadata": {},
     "output_type": "display_data"
    },
    {
     "name": "stdout",
     "output_type": "stream",
     "text": [
      "iter: 10/100\n",
      "loss:  9.5329008102417\n",
      "lengthscale:  9.428936004638672\n"
     ]
    },
    {
     "data": {
      "application/vnd.jupyter.widget-view+json": {
       "model_id": "",
       "version_major": 2,
       "version_minor": 0
      },
      "text/plain": [
       "HBox(children=(HTML(value='Minibatch'), FloatProgress(value=0.0, max=7.0), HTML(value='')))"
      ]
     },
     "metadata": {},
     "output_type": "display_data"
    },
    {
     "data": {
      "application/vnd.jupyter.widget-view+json": {
       "model_id": "",
       "version_major": 2,
       "version_minor": 0
      },
      "text/plain": [
       "HBox(children=(HTML(value='Minibatch'), FloatProgress(value=0.0, max=7.0), HTML(value='')))"
      ]
     },
     "metadata": {},
     "output_type": "display_data"
    },
    {
     "data": {
      "application/vnd.jupyter.widget-view+json": {
       "model_id": "",
       "version_major": 2,
       "version_minor": 0
      },
      "text/plain": [
       "HBox(children=(HTML(value='Minibatch'), FloatProgress(value=0.0, max=7.0), HTML(value='')))"
      ]
     },
     "metadata": {},
     "output_type": "display_data"
    },
    {
     "data": {
      "application/vnd.jupyter.widget-view+json": {
       "model_id": "",
       "version_major": 2,
       "version_minor": 0
      },
      "text/plain": [
       "HBox(children=(HTML(value='Minibatch'), FloatProgress(value=0.0, max=7.0), HTML(value='')))"
      ]
     },
     "metadata": {},
     "output_type": "display_data"
    },
    {
     "data": {
      "application/vnd.jupyter.widget-view+json": {
       "model_id": "",
       "version_major": 2,
       "version_minor": 0
      },
      "text/plain": [
       "HBox(children=(HTML(value='Minibatch'), FloatProgress(value=0.0, max=7.0), HTML(value='')))"
      ]
     },
     "metadata": {},
     "output_type": "display_data"
    },
    {
     "data": {
      "application/vnd.jupyter.widget-view+json": {
       "model_id": "",
       "version_major": 2,
       "version_minor": 0
      },
      "text/plain": [
       "HBox(children=(HTML(value='Minibatch'), FloatProgress(value=0.0, max=7.0), HTML(value='')))"
      ]
     },
     "metadata": {},
     "output_type": "display_data"
    },
    {
     "data": {
      "application/vnd.jupyter.widget-view+json": {
       "model_id": "",
       "version_major": 2,
       "version_minor": 0
      },
      "text/plain": [
       "HBox(children=(HTML(value='Minibatch'), FloatProgress(value=0.0, max=7.0), HTML(value='')))"
      ]
     },
     "metadata": {},
     "output_type": "display_data"
    },
    {
     "data": {
      "application/vnd.jupyter.widget-view+json": {
       "model_id": "",
       "version_major": 2,
       "version_minor": 0
      },
      "text/plain": [
       "HBox(children=(HTML(value='Minibatch'), FloatProgress(value=0.0, max=7.0), HTML(value='')))"
      ]
     },
     "metadata": {},
     "output_type": "display_data"
    },
    {
     "data": {
      "application/vnd.jupyter.widget-view+json": {
       "model_id": "",
       "version_major": 2,
       "version_minor": 0
      },
      "text/plain": [
       "HBox(children=(HTML(value='Minibatch'), FloatProgress(value=0.0, max=7.0), HTML(value='')))"
      ]
     },
     "metadata": {},
     "output_type": "display_data"
    },
    {
     "data": {
      "application/vnd.jupyter.widget-view+json": {
       "model_id": "",
       "version_major": 2,
       "version_minor": 0
      },
      "text/plain": [
       "HBox(children=(HTML(value='Minibatch'), FloatProgress(value=0.0, max=7.0), HTML(value='')))"
      ]
     },
     "metadata": {},
     "output_type": "display_data"
    },
    {
     "name": "stdout",
     "output_type": "stream",
     "text": [
      "iter: 20/100\n",
      "loss:  9.512720584869385\n",
      "lengthscale:  8.533100128173828\n"
     ]
    },
    {
     "data": {
      "application/vnd.jupyter.widget-view+json": {
       "model_id": "",
       "version_major": 2,
       "version_minor": 0
      },
      "text/plain": [
       "HBox(children=(HTML(value='Minibatch'), FloatProgress(value=0.0, max=7.0), HTML(value='')))"
      ]
     },
     "metadata": {},
     "output_type": "display_data"
    },
    {
     "data": {
      "application/vnd.jupyter.widget-view+json": {
       "model_id": "",
       "version_major": 2,
       "version_minor": 0
      },
      "text/plain": [
       "HBox(children=(HTML(value='Minibatch'), FloatProgress(value=0.0, max=7.0), HTML(value='')))"
      ]
     },
     "metadata": {},
     "output_type": "display_data"
    },
    {
     "data": {
      "application/vnd.jupyter.widget-view+json": {
       "model_id": "",
       "version_major": 2,
       "version_minor": 0
      },
      "text/plain": [
       "HBox(children=(HTML(value='Minibatch'), FloatProgress(value=0.0, max=7.0), HTML(value='')))"
      ]
     },
     "metadata": {},
     "output_type": "display_data"
    },
    {
     "data": {
      "application/vnd.jupyter.widget-view+json": {
       "model_id": "",
       "version_major": 2,
       "version_minor": 0
      },
      "text/plain": [
       "HBox(children=(HTML(value='Minibatch'), FloatProgress(value=0.0, max=7.0), HTML(value='')))"
      ]
     },
     "metadata": {},
     "output_type": "display_data"
    },
    {
     "data": {
      "application/vnd.jupyter.widget-view+json": {
       "model_id": "",
       "version_major": 2,
       "version_minor": 0
      },
      "text/plain": [
       "HBox(children=(HTML(value='Minibatch'), FloatProgress(value=0.0, max=7.0), HTML(value='')))"
      ]
     },
     "metadata": {},
     "output_type": "display_data"
    },
    {
     "data": {
      "application/vnd.jupyter.widget-view+json": {
       "model_id": "",
       "version_major": 2,
       "version_minor": 0
      },
      "text/plain": [
       "HBox(children=(HTML(value='Minibatch'), FloatProgress(value=0.0, max=7.0), HTML(value='')))"
      ]
     },
     "metadata": {},
     "output_type": "display_data"
    },
    {
     "data": {
      "application/vnd.jupyter.widget-view+json": {
       "model_id": "",
       "version_major": 2,
       "version_minor": 0
      },
      "text/plain": [
       "HBox(children=(HTML(value='Minibatch'), FloatProgress(value=0.0, max=7.0), HTML(value='')))"
      ]
     },
     "metadata": {},
     "output_type": "display_data"
    },
    {
     "data": {
      "application/vnd.jupyter.widget-view+json": {
       "model_id": "",
       "version_major": 2,
       "version_minor": 0
      },
      "text/plain": [
       "HBox(children=(HTML(value='Minibatch'), FloatProgress(value=0.0, max=7.0), HTML(value='')))"
      ]
     },
     "metadata": {},
     "output_type": "display_data"
    },
    {
     "data": {
      "application/vnd.jupyter.widget-view+json": {
       "model_id": "",
       "version_major": 2,
       "version_minor": 0
      },
      "text/plain": [
       "HBox(children=(HTML(value='Minibatch'), FloatProgress(value=0.0, max=7.0), HTML(value='')))"
      ]
     },
     "metadata": {},
     "output_type": "display_data"
    },
    {
     "data": {
      "application/vnd.jupyter.widget-view+json": {
       "model_id": "",
       "version_major": 2,
       "version_minor": 0
      },
      "text/plain": [
       "HBox(children=(HTML(value='Minibatch'), FloatProgress(value=0.0, max=7.0), HTML(value='')))"
      ]
     },
     "metadata": {},
     "output_type": "display_data"
    },
    {
     "name": "stdout",
     "output_type": "stream",
     "text": [
      "iter: 30/100\n",
      "loss:  9.522634148597717\n",
      "lengthscale:  7.588165760040283\n"
     ]
    },
    {
     "data": {
      "application/vnd.jupyter.widget-view+json": {
       "model_id": "",
       "version_major": 2,
       "version_minor": 0
      },
      "text/plain": [
       "HBox(children=(HTML(value='Minibatch'), FloatProgress(value=0.0, max=7.0), HTML(value='')))"
      ]
     },
     "metadata": {},
     "output_type": "display_data"
    },
    {
     "data": {
      "application/vnd.jupyter.widget-view+json": {
       "model_id": "",
       "version_major": 2,
       "version_minor": 0
      },
      "text/plain": [
       "HBox(children=(HTML(value='Minibatch'), FloatProgress(value=0.0, max=7.0), HTML(value='')))"
      ]
     },
     "metadata": {},
     "output_type": "display_data"
    },
    {
     "data": {
      "application/vnd.jupyter.widget-view+json": {
       "model_id": "",
       "version_major": 2,
       "version_minor": 0
      },
      "text/plain": [
       "HBox(children=(HTML(value='Minibatch'), FloatProgress(value=0.0, max=7.0), HTML(value='')))"
      ]
     },
     "metadata": {},
     "output_type": "display_data"
    },
    {
     "data": {
      "application/vnd.jupyter.widget-view+json": {
       "model_id": "",
       "version_major": 2,
       "version_minor": 0
      },
      "text/plain": [
       "HBox(children=(HTML(value='Minibatch'), FloatProgress(value=0.0, max=7.0), HTML(value='')))"
      ]
     },
     "metadata": {},
     "output_type": "display_data"
    },
    {
     "data": {
      "application/vnd.jupyter.widget-view+json": {
       "model_id": "",
       "version_major": 2,
       "version_minor": 0
      },
      "text/plain": [
       "HBox(children=(HTML(value='Minibatch'), FloatProgress(value=0.0, max=7.0), HTML(value='')))"
      ]
     },
     "metadata": {},
     "output_type": "display_data"
    },
    {
     "data": {
      "application/vnd.jupyter.widget-view+json": {
       "model_id": "",
       "version_major": 2,
       "version_minor": 0
      },
      "text/plain": [
       "HBox(children=(HTML(value='Minibatch'), FloatProgress(value=0.0, max=7.0), HTML(value='')))"
      ]
     },
     "metadata": {},
     "output_type": "display_data"
    },
    {
     "data": {
      "application/vnd.jupyter.widget-view+json": {
       "model_id": "",
       "version_major": 2,
       "version_minor": 0
      },
      "text/plain": [
       "HBox(children=(HTML(value='Minibatch'), FloatProgress(value=0.0, max=7.0), HTML(value='')))"
      ]
     },
     "metadata": {},
     "output_type": "display_data"
    },
    {
     "data": {
      "application/vnd.jupyter.widget-view+json": {
       "model_id": "",
       "version_major": 2,
       "version_minor": 0
      },
      "text/plain": [
       "HBox(children=(HTML(value='Minibatch'), FloatProgress(value=0.0, max=7.0), HTML(value='')))"
      ]
     },
     "metadata": {},
     "output_type": "display_data"
    },
    {
     "data": {
      "application/vnd.jupyter.widget-view+json": {
       "model_id": "",
       "version_major": 2,
       "version_minor": 0
      },
      "text/plain": [
       "HBox(children=(HTML(value='Minibatch'), FloatProgress(value=0.0, max=7.0), HTML(value='')))"
      ]
     },
     "metadata": {},
     "output_type": "display_data"
    },
    {
     "data": {
      "application/vnd.jupyter.widget-view+json": {
       "model_id": "",
       "version_major": 2,
       "version_minor": 0
      },
      "text/plain": [
       "HBox(children=(HTML(value='Minibatch'), FloatProgress(value=0.0, max=7.0), HTML(value='')))"
      ]
     },
     "metadata": {},
     "output_type": "display_data"
    },
    {
     "name": "stdout",
     "output_type": "stream",
     "text": [
      "iter: 40/100\n",
      "loss:  9.506025791168213\n",
      "lengthscale:  6.962098598480225\n"
     ]
    },
    {
     "data": {
      "application/vnd.jupyter.widget-view+json": {
       "model_id": "",
       "version_major": 2,
       "version_minor": 0
      },
      "text/plain": [
       "HBox(children=(HTML(value='Minibatch'), FloatProgress(value=0.0, max=7.0), HTML(value='')))"
      ]
     },
     "metadata": {},
     "output_type": "display_data"
    },
    {
     "data": {
      "application/vnd.jupyter.widget-view+json": {
       "model_id": "",
       "version_major": 2,
       "version_minor": 0
      },
      "text/plain": [
       "HBox(children=(HTML(value='Minibatch'), FloatProgress(value=0.0, max=7.0), HTML(value='')))"
      ]
     },
     "metadata": {},
     "output_type": "display_data"
    },
    {
     "data": {
      "application/vnd.jupyter.widget-view+json": {
       "model_id": "",
       "version_major": 2,
       "version_minor": 0
      },
      "text/plain": [
       "HBox(children=(HTML(value='Minibatch'), FloatProgress(value=0.0, max=7.0), HTML(value='')))"
      ]
     },
     "metadata": {},
     "output_type": "display_data"
    },
    {
     "data": {
      "application/vnd.jupyter.widget-view+json": {
       "model_id": "",
       "version_major": 2,
       "version_minor": 0
      },
      "text/plain": [
       "HBox(children=(HTML(value='Minibatch'), FloatProgress(value=0.0, max=7.0), HTML(value='')))"
      ]
     },
     "metadata": {},
     "output_type": "display_data"
    },
    {
     "data": {
      "application/vnd.jupyter.widget-view+json": {
       "model_id": "",
       "version_major": 2,
       "version_minor": 0
      },
      "text/plain": [
       "HBox(children=(HTML(value='Minibatch'), FloatProgress(value=0.0, max=7.0), HTML(value='')))"
      ]
     },
     "metadata": {},
     "output_type": "display_data"
    },
    {
     "data": {
      "application/vnd.jupyter.widget-view+json": {
       "model_id": "",
       "version_major": 2,
       "version_minor": 0
      },
      "text/plain": [
       "HBox(children=(HTML(value='Minibatch'), FloatProgress(value=0.0, max=7.0), HTML(value='')))"
      ]
     },
     "metadata": {},
     "output_type": "display_data"
    },
    {
     "data": {
      "application/vnd.jupyter.widget-view+json": {
       "model_id": "",
       "version_major": 2,
       "version_minor": 0
      },
      "text/plain": [
       "HBox(children=(HTML(value='Minibatch'), FloatProgress(value=0.0, max=7.0), HTML(value='')))"
      ]
     },
     "metadata": {},
     "output_type": "display_data"
    },
    {
     "data": {
      "application/vnd.jupyter.widget-view+json": {
       "model_id": "",
       "version_major": 2,
       "version_minor": 0
      },
      "text/plain": [
       "HBox(children=(HTML(value='Minibatch'), FloatProgress(value=0.0, max=7.0), HTML(value='')))"
      ]
     },
     "metadata": {},
     "output_type": "display_data"
    },
    {
     "data": {
      "application/vnd.jupyter.widget-view+json": {
       "model_id": "",
       "version_major": 2,
       "version_minor": 0
      },
      "text/plain": [
       "HBox(children=(HTML(value='Minibatch'), FloatProgress(value=0.0, max=7.0), HTML(value='')))"
      ]
     },
     "metadata": {},
     "output_type": "display_data"
    },
    {
     "data": {
      "application/vnd.jupyter.widget-view+json": {
       "model_id": "",
       "version_major": 2,
       "version_minor": 0
      },
      "text/plain": [
       "HBox(children=(HTML(value='Minibatch'), FloatProgress(value=0.0, max=7.0), HTML(value='')))"
      ]
     },
     "metadata": {},
     "output_type": "display_data"
    },
    {
     "name": "stdout",
     "output_type": "stream",
     "text": [
      "iter: 50/100\n",
      "loss:  9.509626388549805\n",
      "lengthscale:  6.445206165313721\n"
     ]
    },
    {
     "data": {
      "application/vnd.jupyter.widget-view+json": {
       "model_id": "",
       "version_major": 2,
       "version_minor": 0
      },
      "text/plain": [
       "HBox(children=(HTML(value='Minibatch'), FloatProgress(value=0.0, max=7.0), HTML(value='')))"
      ]
     },
     "metadata": {},
     "output_type": "display_data"
    },
    {
     "data": {
      "application/vnd.jupyter.widget-view+json": {
       "model_id": "",
       "version_major": 2,
       "version_minor": 0
      },
      "text/plain": [
       "HBox(children=(HTML(value='Minibatch'), FloatProgress(value=0.0, max=7.0), HTML(value='')))"
      ]
     },
     "metadata": {},
     "output_type": "display_data"
    },
    {
     "data": {
      "application/vnd.jupyter.widget-view+json": {
       "model_id": "",
       "version_major": 2,
       "version_minor": 0
      },
      "text/plain": [
       "HBox(children=(HTML(value='Minibatch'), FloatProgress(value=0.0, max=7.0), HTML(value='')))"
      ]
     },
     "metadata": {},
     "output_type": "display_data"
    },
    {
     "data": {
      "application/vnd.jupyter.widget-view+json": {
       "model_id": "",
       "version_major": 2,
       "version_minor": 0
      },
      "text/plain": [
       "HBox(children=(HTML(value='Minibatch'), FloatProgress(value=0.0, max=7.0), HTML(value='')))"
      ]
     },
     "metadata": {},
     "output_type": "display_data"
    },
    {
     "data": {
      "application/vnd.jupyter.widget-view+json": {
       "model_id": "",
       "version_major": 2,
       "version_minor": 0
      },
      "text/plain": [
       "HBox(children=(HTML(value='Minibatch'), FloatProgress(value=0.0, max=7.0), HTML(value='')))"
      ]
     },
     "metadata": {},
     "output_type": "display_data"
    },
    {
     "data": {
      "application/vnd.jupyter.widget-view+json": {
       "model_id": "",
       "version_major": 2,
       "version_minor": 0
      },
      "text/plain": [
       "HBox(children=(HTML(value='Minibatch'), FloatProgress(value=0.0, max=7.0), HTML(value='')))"
      ]
     },
     "metadata": {},
     "output_type": "display_data"
    },
    {
     "data": {
      "application/vnd.jupyter.widget-view+json": {
       "model_id": "",
       "version_major": 2,
       "version_minor": 0
      },
      "text/plain": [
       "HBox(children=(HTML(value='Minibatch'), FloatProgress(value=0.0, max=7.0), HTML(value='')))"
      ]
     },
     "metadata": {},
     "output_type": "display_data"
    },
    {
     "data": {
      "application/vnd.jupyter.widget-view+json": {
       "model_id": "",
       "version_major": 2,
       "version_minor": 0
      },
      "text/plain": [
       "HBox(children=(HTML(value='Minibatch'), FloatProgress(value=0.0, max=7.0), HTML(value='')))"
      ]
     },
     "metadata": {},
     "output_type": "display_data"
    },
    {
     "data": {
      "application/vnd.jupyter.widget-view+json": {
       "model_id": "",
       "version_major": 2,
       "version_minor": 0
      },
      "text/plain": [
       "HBox(children=(HTML(value='Minibatch'), FloatProgress(value=0.0, max=7.0), HTML(value='')))"
      ]
     },
     "metadata": {},
     "output_type": "display_data"
    },
    {
     "data": {
      "application/vnd.jupyter.widget-view+json": {
       "model_id": "",
       "version_major": 2,
       "version_minor": 0
      },
      "text/plain": [
       "HBox(children=(HTML(value='Minibatch'), FloatProgress(value=0.0, max=7.0), HTML(value='')))"
      ]
     },
     "metadata": {},
     "output_type": "display_data"
    },
    {
     "name": "stdout",
     "output_type": "stream",
     "text": [
      "iter: 60/100\n",
      "loss:  9.49718713760376\n",
      "lengthscale:  6.166930675506592\n"
     ]
    },
    {
     "data": {
      "application/vnd.jupyter.widget-view+json": {
       "model_id": "",
       "version_major": 2,
       "version_minor": 0
      },
      "text/plain": [
       "HBox(children=(HTML(value='Minibatch'), FloatProgress(value=0.0, max=7.0), HTML(value='')))"
      ]
     },
     "metadata": {},
     "output_type": "display_data"
    },
    {
     "data": {
      "application/vnd.jupyter.widget-view+json": {
       "model_id": "",
       "version_major": 2,
       "version_minor": 0
      },
      "text/plain": [
       "HBox(children=(HTML(value='Minibatch'), FloatProgress(value=0.0, max=7.0), HTML(value='')))"
      ]
     },
     "metadata": {},
     "output_type": "display_data"
    },
    {
     "data": {
      "application/vnd.jupyter.widget-view+json": {
       "model_id": "",
       "version_major": 2,
       "version_minor": 0
      },
      "text/plain": [
       "HBox(children=(HTML(value='Minibatch'), FloatProgress(value=0.0, max=7.0), HTML(value='')))"
      ]
     },
     "metadata": {},
     "output_type": "display_data"
    },
    {
     "data": {
      "application/vnd.jupyter.widget-view+json": {
       "model_id": "",
       "version_major": 2,
       "version_minor": 0
      },
      "text/plain": [
       "HBox(children=(HTML(value='Minibatch'), FloatProgress(value=0.0, max=7.0), HTML(value='')))"
      ]
     },
     "metadata": {},
     "output_type": "display_data"
    },
    {
     "data": {
      "application/vnd.jupyter.widget-view+json": {
       "model_id": "",
       "version_major": 2,
       "version_minor": 0
      },
      "text/plain": [
       "HBox(children=(HTML(value='Minibatch'), FloatProgress(value=0.0, max=7.0), HTML(value='')))"
      ]
     },
     "metadata": {},
     "output_type": "display_data"
    },
    {
     "data": {
      "application/vnd.jupyter.widget-view+json": {
       "model_id": "",
       "version_major": 2,
       "version_minor": 0
      },
      "text/plain": [
       "HBox(children=(HTML(value='Minibatch'), FloatProgress(value=0.0, max=7.0), HTML(value='')))"
      ]
     },
     "metadata": {},
     "output_type": "display_data"
    },
    {
     "data": {
      "application/vnd.jupyter.widget-view+json": {
       "model_id": "",
       "version_major": 2,
       "version_minor": 0
      },
      "text/plain": [
       "HBox(children=(HTML(value='Minibatch'), FloatProgress(value=0.0, max=7.0), HTML(value='')))"
      ]
     },
     "metadata": {},
     "output_type": "display_data"
    },
    {
     "data": {
      "application/vnd.jupyter.widget-view+json": {
       "model_id": "",
       "version_major": 2,
       "version_minor": 0
      },
      "text/plain": [
       "HBox(children=(HTML(value='Minibatch'), FloatProgress(value=0.0, max=7.0), HTML(value='')))"
      ]
     },
     "metadata": {},
     "output_type": "display_data"
    },
    {
     "data": {
      "application/vnd.jupyter.widget-view+json": {
       "model_id": "",
       "version_major": 2,
       "version_minor": 0
      },
      "text/plain": [
       "HBox(children=(HTML(value='Minibatch'), FloatProgress(value=0.0, max=7.0), HTML(value='')))"
      ]
     },
     "metadata": {},
     "output_type": "display_data"
    },
    {
     "data": {
      "application/vnd.jupyter.widget-view+json": {
       "model_id": "",
       "version_major": 2,
       "version_minor": 0
      },
      "text/plain": [
       "HBox(children=(HTML(value='Minibatch'), FloatProgress(value=0.0, max=7.0), HTML(value='')))"
      ]
     },
     "metadata": {},
     "output_type": "display_data"
    },
    {
     "name": "stdout",
     "output_type": "stream",
     "text": [
      "iter: 70/100\n",
      "loss:  9.498128056526184\n",
      "lengthscale:  5.959087371826172\n"
     ]
    },
    {
     "data": {
      "application/vnd.jupyter.widget-view+json": {
       "model_id": "",
       "version_major": 2,
       "version_minor": 0
      },
      "text/plain": [
       "HBox(children=(HTML(value='Minibatch'), FloatProgress(value=0.0, max=7.0), HTML(value='')))"
      ]
     },
     "metadata": {},
     "output_type": "display_data"
    },
    {
     "data": {
      "application/vnd.jupyter.widget-view+json": {
       "model_id": "",
       "version_major": 2,
       "version_minor": 0
      },
      "text/plain": [
       "HBox(children=(HTML(value='Minibatch'), FloatProgress(value=0.0, max=7.0), HTML(value='')))"
      ]
     },
     "metadata": {},
     "output_type": "display_data"
    },
    {
     "data": {
      "application/vnd.jupyter.widget-view+json": {
       "model_id": "",
       "version_major": 2,
       "version_minor": 0
      },
      "text/plain": [
       "HBox(children=(HTML(value='Minibatch'), FloatProgress(value=0.0, max=7.0), HTML(value='')))"
      ]
     },
     "metadata": {},
     "output_type": "display_data"
    },
    {
     "data": {
      "application/vnd.jupyter.widget-view+json": {
       "model_id": "",
       "version_major": 2,
       "version_minor": 0
      },
      "text/plain": [
       "HBox(children=(HTML(value='Minibatch'), FloatProgress(value=0.0, max=7.0), HTML(value='')))"
      ]
     },
     "metadata": {},
     "output_type": "display_data"
    },
    {
     "data": {
      "application/vnd.jupyter.widget-view+json": {
       "model_id": "",
       "version_major": 2,
       "version_minor": 0
      },
      "text/plain": [
       "HBox(children=(HTML(value='Minibatch'), FloatProgress(value=0.0, max=7.0), HTML(value='')))"
      ]
     },
     "metadata": {},
     "output_type": "display_data"
    },
    {
     "data": {
      "application/vnd.jupyter.widget-view+json": {
       "model_id": "",
       "version_major": 2,
       "version_minor": 0
      },
      "text/plain": [
       "HBox(children=(HTML(value='Minibatch'), FloatProgress(value=0.0, max=7.0), HTML(value='')))"
      ]
     },
     "metadata": {},
     "output_type": "display_data"
    },
    {
     "data": {
      "application/vnd.jupyter.widget-view+json": {
       "model_id": "",
       "version_major": 2,
       "version_minor": 0
      },
      "text/plain": [
       "HBox(children=(HTML(value='Minibatch'), FloatProgress(value=0.0, max=7.0), HTML(value='')))"
      ]
     },
     "metadata": {},
     "output_type": "display_data"
    },
    {
     "data": {
      "application/vnd.jupyter.widget-view+json": {
       "model_id": "",
       "version_major": 2,
       "version_minor": 0
      },
      "text/plain": [
       "HBox(children=(HTML(value='Minibatch'), FloatProgress(value=0.0, max=7.0), HTML(value='')))"
      ]
     },
     "metadata": {},
     "output_type": "display_data"
    },
    {
     "data": {
      "application/vnd.jupyter.widget-view+json": {
       "model_id": "",
       "version_major": 2,
       "version_minor": 0
      },
      "text/plain": [
       "HBox(children=(HTML(value='Minibatch'), FloatProgress(value=0.0, max=7.0), HTML(value='')))"
      ]
     },
     "metadata": {},
     "output_type": "display_data"
    },
    {
     "data": {
      "application/vnd.jupyter.widget-view+json": {
       "model_id": "",
       "version_major": 2,
       "version_minor": 0
      },
      "text/plain": [
       "HBox(children=(HTML(value='Minibatch'), FloatProgress(value=0.0, max=7.0), HTML(value='')))"
      ]
     },
     "metadata": {},
     "output_type": "display_data"
    },
    {
     "name": "stdout",
     "output_type": "stream",
     "text": [
      "iter: 80/100\n",
      "loss:  9.530816555023193\n",
      "lengthscale:  5.841510772705078\n"
     ]
    },
    {
     "data": {
      "application/vnd.jupyter.widget-view+json": {
       "model_id": "",
       "version_major": 2,
       "version_minor": 0
      },
      "text/plain": [
       "HBox(children=(HTML(value='Minibatch'), FloatProgress(value=0.0, max=7.0), HTML(value='')))"
      ]
     },
     "metadata": {},
     "output_type": "display_data"
    },
    {
     "data": {
      "application/vnd.jupyter.widget-view+json": {
       "model_id": "",
       "version_major": 2,
       "version_minor": 0
      },
      "text/plain": [
       "HBox(children=(HTML(value='Minibatch'), FloatProgress(value=0.0, max=7.0), HTML(value='')))"
      ]
     },
     "metadata": {},
     "output_type": "display_data"
    },
    {
     "data": {
      "application/vnd.jupyter.widget-view+json": {
       "model_id": "",
       "version_major": 2,
       "version_minor": 0
      },
      "text/plain": [
       "HBox(children=(HTML(value='Minibatch'), FloatProgress(value=0.0, max=7.0), HTML(value='')))"
      ]
     },
     "metadata": {},
     "output_type": "display_data"
    },
    {
     "data": {
      "application/vnd.jupyter.widget-view+json": {
       "model_id": "",
       "version_major": 2,
       "version_minor": 0
      },
      "text/plain": [
       "HBox(children=(HTML(value='Minibatch'), FloatProgress(value=0.0, max=7.0), HTML(value='')))"
      ]
     },
     "metadata": {},
     "output_type": "display_data"
    },
    {
     "data": {
      "application/vnd.jupyter.widget-view+json": {
       "model_id": "",
       "version_major": 2,
       "version_minor": 0
      },
      "text/plain": [
       "HBox(children=(HTML(value='Minibatch'), FloatProgress(value=0.0, max=7.0), HTML(value='')))"
      ]
     },
     "metadata": {},
     "output_type": "display_data"
    },
    {
     "data": {
      "application/vnd.jupyter.widget-view+json": {
       "model_id": "",
       "version_major": 2,
       "version_minor": 0
      },
      "text/plain": [
       "HBox(children=(HTML(value='Minibatch'), FloatProgress(value=0.0, max=7.0), HTML(value='')))"
      ]
     },
     "metadata": {},
     "output_type": "display_data"
    },
    {
     "data": {
      "application/vnd.jupyter.widget-view+json": {
       "model_id": "",
       "version_major": 2,
       "version_minor": 0
      },
      "text/plain": [
       "HBox(children=(HTML(value='Minibatch'), FloatProgress(value=0.0, max=7.0), HTML(value='')))"
      ]
     },
     "metadata": {},
     "output_type": "display_data"
    },
    {
     "data": {
      "application/vnd.jupyter.widget-view+json": {
       "model_id": "",
       "version_major": 2,
       "version_minor": 0
      },
      "text/plain": [
       "HBox(children=(HTML(value='Minibatch'), FloatProgress(value=0.0, max=7.0), HTML(value='')))"
      ]
     },
     "metadata": {},
     "output_type": "display_data"
    },
    {
     "data": {
      "application/vnd.jupyter.widget-view+json": {
       "model_id": "",
       "version_major": 2,
       "version_minor": 0
      },
      "text/plain": [
       "HBox(children=(HTML(value='Minibatch'), FloatProgress(value=0.0, max=7.0), HTML(value='')))"
      ]
     },
     "metadata": {},
     "output_type": "display_data"
    },
    {
     "data": {
      "application/vnd.jupyter.widget-view+json": {
       "model_id": "",
       "version_major": 2,
       "version_minor": 0
      },
      "text/plain": [
       "HBox(children=(HTML(value='Minibatch'), FloatProgress(value=0.0, max=7.0), HTML(value='')))"
      ]
     },
     "metadata": {},
     "output_type": "display_data"
    },
    {
     "name": "stdout",
     "output_type": "stream",
     "text": [
      "iter: 90/100\n",
      "loss:  9.514747738838196\n",
      "lengthscale:  5.7638630867004395\n"
     ]
    },
    {
     "data": {
      "application/vnd.jupyter.widget-view+json": {
       "model_id": "",
       "version_major": 2,
       "version_minor": 0
      },
      "text/plain": [
       "HBox(children=(HTML(value='Minibatch'), FloatProgress(value=0.0, max=7.0), HTML(value='')))"
      ]
     },
     "metadata": {},
     "output_type": "display_data"
    },
    {
     "data": {
      "application/vnd.jupyter.widget-view+json": {
       "model_id": "",
       "version_major": 2,
       "version_minor": 0
      },
      "text/plain": [
       "HBox(children=(HTML(value='Minibatch'), FloatProgress(value=0.0, max=7.0), HTML(value='')))"
      ]
     },
     "metadata": {},
     "output_type": "display_data"
    },
    {
     "data": {
      "application/vnd.jupyter.widget-view+json": {
       "model_id": "",
       "version_major": 2,
       "version_minor": 0
      },
      "text/plain": [
       "HBox(children=(HTML(value='Minibatch'), FloatProgress(value=0.0, max=7.0), HTML(value='')))"
      ]
     },
     "metadata": {},
     "output_type": "display_data"
    },
    {
     "data": {
      "application/vnd.jupyter.widget-view+json": {
       "model_id": "",
       "version_major": 2,
       "version_minor": 0
      },
      "text/plain": [
       "HBox(children=(HTML(value='Minibatch'), FloatProgress(value=0.0, max=7.0), HTML(value='')))"
      ]
     },
     "metadata": {},
     "output_type": "display_data"
    },
    {
     "data": {
      "application/vnd.jupyter.widget-view+json": {
       "model_id": "",
       "version_major": 2,
       "version_minor": 0
      },
      "text/plain": [
       "HBox(children=(HTML(value='Minibatch'), FloatProgress(value=0.0, max=7.0), HTML(value='')))"
      ]
     },
     "metadata": {},
     "output_type": "display_data"
    },
    {
     "data": {
      "application/vnd.jupyter.widget-view+json": {
       "model_id": "",
       "version_major": 2,
       "version_minor": 0
      },
      "text/plain": [
       "HBox(children=(HTML(value='Minibatch'), FloatProgress(value=0.0, max=7.0), HTML(value='')))"
      ]
     },
     "metadata": {},
     "output_type": "display_data"
    },
    {
     "data": {
      "application/vnd.jupyter.widget-view+json": {
       "model_id": "",
       "version_major": 2,
       "version_minor": 0
      },
      "text/plain": [
       "HBox(children=(HTML(value='Minibatch'), FloatProgress(value=0.0, max=7.0), HTML(value='')))"
      ]
     },
     "metadata": {},
     "output_type": "display_data"
    },
    {
     "data": {
      "application/vnd.jupyter.widget-view+json": {
       "model_id": "",
       "version_major": 2,
       "version_minor": 0
      },
      "text/plain": [
       "HBox(children=(HTML(value='Minibatch'), FloatProgress(value=0.0, max=7.0), HTML(value='')))"
      ]
     },
     "metadata": {},
     "output_type": "display_data"
    },
    {
     "data": {
      "application/vnd.jupyter.widget-view+json": {
       "model_id": "",
       "version_major": 2,
       "version_minor": 0
      },
      "text/plain": [
       "HBox(children=(HTML(value='Minibatch'), FloatProgress(value=0.0, max=7.0), HTML(value='')))"
      ]
     },
     "metadata": {},
     "output_type": "display_data"
    },
    {
     "name": "stdout",
     "output_type": "stream",
     "text": [
      "\n",
      "(0.8117740750312805, -0.7255872488021851, 0.007005253806710243)\n"
     ]
    }
   ],
   "source": [
    "# SVIGP_log\n",
    "NUM_INDUCING_POINTS_SVI=1000\n",
    "train_dataset_DOCTOR_log = TensorDataset(X_DOCTOR_train, torch.log(torch.maximum(y_DOCTOR_train, 0.1*torch.ones_like(y_DOCTOR_train))))\n",
    "train_loader_DOCTOR_log = DataLoader(train_dataset_DOCTOR_log, batch_size=512, shuffle=True)\n",
    "test_dataset_DOCTOR_log = TensorDataset(X_DOCTOR_test, y_DOCTOR_test)\n",
    "test_loader_DOCTOR_log = DataLoader(test_dataset_DOCTOR_log, batch_size=512, shuffle=False)\n",
    "\n",
    "y_DOCTOR_train_log = torch.log(torch.maximum(y_DOCTOR_train, 0.1*torch.ones_like(y_DOCTOR_train)))\n",
    "model_SVI_DOCTOR_log, likelihood_SVI_DOCTOR_log = count_models.create_SVIGP_model(X_DOCTOR_train, kernel=KERNEL_DOCTOR, \n",
    "                                        init_lengthscale=INIT_LENGTHSCALE_DOCTOR, num_inducing_points=NUM_INDUCING_POINTS_SVI)\n",
    "model_SVI_DOCTOR_log, likelihood_SVI_DOCTOR_log = count_models.train_SVIGP_model(train_loader_DOCTOR_log, y_DOCTOR_train, \n",
    "                                            model_SVI_DOCTOR_log, likelihood_SVI_DOCTOR_log,\n",
    "                                num_iter=NUM_ITER_DOCTOR, lr=0.1, report_iter=NUM_ITER_DOCTOR//10)\n",
    "DOCTOR_SVIGP_log_res = count_models.evaluate_SVIGP_log(model_SVI_DOCTOR_log, likelihood_SVI_DOCTOR_log, test_loader_DOCTOR_log, y_DOCTOR_test)\n",
    "print(DOCTOR_SVIGP_log_res)"
   ]
  },
  {
   "cell_type": "markdown",
   "metadata": {},
   "source": [
    "## Equations"
   ]
  },
  {
   "cell_type": "code",
   "execution_count": 31,
   "metadata": {},
   "outputs": [],
   "source": [
    "NUM_ITER_EQUATION = 100\n",
    "INIT_LENGTHSCALE_EQUATION = 20 # 10\n",
    "KERNEL_EQUATION = \"RBF\""
   ]
  },
  {
   "cell_type": "code",
   "execution_count": 32,
   "metadata": {},
   "outputs": [
    {
     "name": "stdout",
     "output_type": "stream",
     "text": [
      "Iter 1/100 - Loss: 2102.825   lengthscale: 20.000\n",
      "Iter 11/100 - Loss: 1112.275   lengthscale: 20.971\n",
      "Iter 21/100 - Loss: 735.166   lengthscale: 21.826\n",
      "Iter 31/100 - Loss: 567.667   lengthscale: 22.550\n",
      "Iter 41/100 - Loss: 478.509   lengthscale: 23.171\n",
      "Iter 51/100 - Loss: 423.217   lengthscale: 23.724\n",
      "Iter 61/100 - Loss: 384.657   lengthscale: 24.233\n",
      "Iter 71/100 - Loss: 355.417   lengthscale: 24.714\n",
      "Iter 81/100 - Loss: 331.954   lengthscale: 25.175\n",
      "Iter 91/100 - Loss: 312.411   lengthscale: 25.621\n",
      "(57.996402740478516, -46.393009185791016, 0.25581395626068115)\n"
     ]
    }
   ],
   "source": [
    "# Exact GP\n",
    "ExactGP_model_EQUATION, ExactGP_likelihood_EQUATION = count_models.create_ExactGP_model(X_EQUATION_train, y_EQUATION_train, \n",
    "                                                    init_lengthscale=INIT_LENGTHSCALE_EQUATION, kernel=KERNEL_EQUATION)\n",
    "ExactGP_model_EQUATION, ExactGP_likelihood_EQUATION = count_models.train_ExactGP_model(X_EQUATION_train, y_EQUATION_train, ExactGP_model_EQUATION, \n",
    "                            ExactGP_likelihood_EQUATION, num_iter=NUM_ITER_EQUATION, lr=0.1, report_iter=NUM_ITER_EQUATION//10)\n",
    "EQUATION_ExactGP_res = count_models.evaluate_ExactGP(ExactGP_model_EQUATION, ExactGP_likelihood_EQUATION, X_EQUATION_test, y_EQUATION_test)\n",
    "print(EQUATION_ExactGP_res)"
   ]
  },
  {
   "cell_type": "code",
   "execution_count": 33,
   "metadata": {},
   "outputs": [
    {
     "name": "stdout",
     "output_type": "stream",
     "text": [
      "Iter 1/100 - Loss: 5.038   lengthscale: 20.000\n",
      "Iter 11/100 - Loss: 2.612   lengthscale: 20.942\n",
      "Iter 21/100 - Loss: 2.024   lengthscale: 21.657\n",
      "Iter 31/100 - Loss: 1.826   lengthscale: 22.142\n",
      "Iter 41/100 - Loss: 1.722   lengthscale: 22.469\n",
      "Iter 51/100 - Loss: 1.642   lengthscale: 22.708\n",
      "Iter 61/100 - Loss: 1.565   lengthscale: 22.909\n",
      "Iter 71/100 - Loss: 1.483   lengthscale: 23.107\n",
      "Iter 81/100 - Loss: 1.396   lengthscale: 23.328\n",
      "Iter 91/100 - Loss: 1.308   lengthscale: 23.592\n",
      "(66.49095153808594, -104.15615844726562, 0.04651162773370743)\n"
     ]
    }
   ],
   "source": [
    "# ExactGP_log\n",
    "y_EQUATION_train_log = torch.log(torch.maximum(y_EQUATION_train, 0.1*torch.ones_like(y_EQUATION_train)))\n",
    "ExactGP_model_EQUATION_log, ExactGP_likelihood_EQUATION_log = count_models.create_ExactGP_model(X_EQUATION_train, y_EQUATION_train_log, \n",
    "                                                    init_lengthscale=INIT_LENGTHSCALE_EQUATION, kernel=KERNEL_EQUATION)\n",
    "ExactGP_model_EQUATION_log, ExactGP_likelihood_EQUATION_log = count_models.train_ExactGP_model(X_EQUATION_train, y_EQUATION_train_log, ExactGP_model_EQUATION_log, \n",
    "                            ExactGP_likelihood_EQUATION_log, num_iter=NUM_ITER_EQUATION, lr=0.1, report_iter=NUM_ITER_EQUATION//10)\n",
    "EQUATION_ExactGP_log_res = count_models.evaluate_ExactGP(ExactGP_model_EQUATION_log, ExactGP_likelihood_EQUATION_log, X_EQUATION_test, y_EQUATION_test)\n",
    "print(EQUATION_ExactGP_log_res)"
   ]
  },
  {
   "cell_type": "code",
   "execution_count": 34,
   "metadata": {},
   "outputs": [
    {
     "name": "stdout",
     "output_type": "stream",
     "text": [
      "Iter 1/100 - Loss: 4.818; lengthscale: 20.000; noise: 0.876\n",
      "Iter 11/100 - Loss: 2.598; lengthscale: 20.947; noise: 1.431\n",
      "Iter 21/100 - Loss: 2.034; lengthscale: 21.676; noise: 1.840\n",
      "Iter 31/100 - Loss: 1.842; lengthscale: 22.176; noise: 1.968\n",
      "Iter 41/100 - Loss: 1.740; lengthscale: 22.514; noise: 1.882\n",
      "Iter 51/100 - Loss: 1.659; lengthscale: 22.762; noise: 1.667\n",
      "Iter 61/100 - Loss: 1.581; lengthscale: 22.970; noise: 1.385\n",
      "Iter 71/100 - Loss: 1.499; lengthscale: 23.173; noise: 1.086\n",
      "Iter 81/100 - Loss: 1.412; lengthscale: 23.398; noise: 0.814\n",
      "Iter 91/100 - Loss: 1.326; lengthscale: 23.664; noise: 0.601\n",
      "(41.924068450927734, -15.218390464782715, 0.9720930457115173)\n"
     ]
    }
   ],
   "source": [
    "# LMGP_gamma\n",
    "y_EQUATION_train_mu, y_EQUATION_train_var = count_models.transform_y_Gamma_LM(y_EQUATION_train, alpha_eps=alpha_eps, counts=1)\n",
    "LMGP_model_EQUATION, LMGP_likelihood_EQUATION = count_models.create_LM_Gamma_GP_model(X_EQUATION_train, y_EQUATION_train_mu, y_EQUATION_train_var,\n",
    "                                    kernel=KERNEL_EQUATION, init_lengthscale=INIT_LENGTHSCALE_EQUATION, fixed_likelihood=True)\n",
    "LMGP_model_EQUATION, LMGP_likelihood_EQUATION = count_models.train_LM_Gamma_GP_model(X_EQUATION_train, y_EQUATION_train_mu,\n",
    "                                LMGP_model_EQUATION, LMGP_likelihood_EQUATION, num_iter=NUM_ITER_EQUATION, lr=0.1, report_iter=NUM_ITER_EQUATION//10)\n",
    "EQUATION_LMGP_res = count_models.evaluate_LM_Gamma_GP(LMGP_model_EQUATION, LMGP_likelihood_EQUATION, X_EQUATION_test, y_EQUATION_test)\n",
    "print(EQUATION_LMGP_res)"
   ]
  },
  {
   "cell_type": "code",
   "execution_count": 35,
   "metadata": {},
   "outputs": [
    {
     "data": {
      "application/vnd.jupyter.widget-view+json": {
       "model_id": "5132093442ee49ac8121d9dccc442909",
       "version_major": 2,
       "version_minor": 0
      },
      "text/plain": [
       "HBox(children=(HTML(value='Epoch'), FloatProgress(value=0.0), HTML(value='')))"
      ]
     },
     "metadata": {},
     "output_type": "display_data"
    },
    {
     "data": {
      "application/vnd.jupyter.widget-view+json": {
       "model_id": "",
       "version_major": 2,
       "version_minor": 0
      },
      "text/plain": [
       "HBox(children=(HTML(value='Minibatch'), FloatProgress(value=0.0, max=1.0), HTML(value='')))"
      ]
     },
     "metadata": {},
     "output_type": "display_data"
    },
    {
     "name": "stdout",
     "output_type": "stream",
     "text": [
      "iter: 0/100\n",
      "loss:  11.268662452697754\n",
      "lengthscale:  20.099658966064453\n"
     ]
    },
    {
     "data": {
      "application/vnd.jupyter.widget-view+json": {
       "model_id": "",
       "version_major": 2,
       "version_minor": 0
      },
      "text/plain": [
       "HBox(children=(HTML(value='Minibatch'), FloatProgress(value=0.0, max=1.0), HTML(value='')))"
      ]
     },
     "metadata": {},
     "output_type": "display_data"
    },
    {
     "data": {
      "application/vnd.jupyter.widget-view+json": {
       "model_id": "",
       "version_major": 2,
       "version_minor": 0
      },
      "text/plain": [
       "HBox(children=(HTML(value='Minibatch'), FloatProgress(value=0.0, max=1.0), HTML(value='')))"
      ]
     },
     "metadata": {},
     "output_type": "display_data"
    },
    {
     "data": {
      "application/vnd.jupyter.widget-view+json": {
       "model_id": "",
       "version_major": 2,
       "version_minor": 0
      },
      "text/plain": [
       "HBox(children=(HTML(value='Minibatch'), FloatProgress(value=0.0, max=1.0), HTML(value='')))"
      ]
     },
     "metadata": {},
     "output_type": "display_data"
    },
    {
     "data": {
      "application/vnd.jupyter.widget-view+json": {
       "model_id": "",
       "version_major": 2,
       "version_minor": 0
      },
      "text/plain": [
       "HBox(children=(HTML(value='Minibatch'), FloatProgress(value=0.0, max=1.0), HTML(value='')))"
      ]
     },
     "metadata": {},
     "output_type": "display_data"
    },
    {
     "data": {
      "application/vnd.jupyter.widget-view+json": {
       "model_id": "",
       "version_major": 2,
       "version_minor": 0
      },
      "text/plain": [
       "HBox(children=(HTML(value='Minibatch'), FloatProgress(value=0.0, max=1.0), HTML(value='')))"
      ]
     },
     "metadata": {},
     "output_type": "display_data"
    },
    {
     "data": {
      "application/vnd.jupyter.widget-view+json": {
       "model_id": "",
       "version_major": 2,
       "version_minor": 0
      },
      "text/plain": [
       "HBox(children=(HTML(value='Minibatch'), FloatProgress(value=0.0, max=1.0), HTML(value='')))"
      ]
     },
     "metadata": {},
     "output_type": "display_data"
    },
    {
     "data": {
      "application/vnd.jupyter.widget-view+json": {
       "model_id": "",
       "version_major": 2,
       "version_minor": 0
      },
      "text/plain": [
       "HBox(children=(HTML(value='Minibatch'), FloatProgress(value=0.0, max=1.0), HTML(value='')))"
      ]
     },
     "metadata": {},
     "output_type": "display_data"
    },
    {
     "data": {
      "application/vnd.jupyter.widget-view+json": {
       "model_id": "",
       "version_major": 2,
       "version_minor": 0
      },
      "text/plain": [
       "HBox(children=(HTML(value='Minibatch'), FloatProgress(value=0.0, max=1.0), HTML(value='')))"
      ]
     },
     "metadata": {},
     "output_type": "display_data"
    },
    {
     "data": {
      "application/vnd.jupyter.widget-view+json": {
       "model_id": "",
       "version_major": 2,
       "version_minor": 0
      },
      "text/plain": [
       "HBox(children=(HTML(value='Minibatch'), FloatProgress(value=0.0, max=1.0), HTML(value='')))"
      ]
     },
     "metadata": {},
     "output_type": "display_data"
    },
    {
     "data": {
      "application/vnd.jupyter.widget-view+json": {
       "model_id": "",
       "version_major": 2,
       "version_minor": 0
      },
      "text/plain": [
       "HBox(children=(HTML(value='Minibatch'), FloatProgress(value=0.0, max=1.0), HTML(value='')))"
      ]
     },
     "metadata": {},
     "output_type": "display_data"
    },
    {
     "name": "stdout",
     "output_type": "stream",
     "text": [
      "iter: 10/100\n",
      "loss:  3.250016212463379\n",
      "lengthscale:  21.042499542236328\n"
     ]
    },
    {
     "data": {
      "application/vnd.jupyter.widget-view+json": {
       "model_id": "",
       "version_major": 2,
       "version_minor": 0
      },
      "text/plain": [
       "HBox(children=(HTML(value='Minibatch'), FloatProgress(value=0.0, max=1.0), HTML(value='')))"
      ]
     },
     "metadata": {},
     "output_type": "display_data"
    },
    {
     "data": {
      "application/vnd.jupyter.widget-view+json": {
       "model_id": "",
       "version_major": 2,
       "version_minor": 0
      },
      "text/plain": [
       "HBox(children=(HTML(value='Minibatch'), FloatProgress(value=0.0, max=1.0), HTML(value='')))"
      ]
     },
     "metadata": {},
     "output_type": "display_data"
    },
    {
     "data": {
      "application/vnd.jupyter.widget-view+json": {
       "model_id": "",
       "version_major": 2,
       "version_minor": 0
      },
      "text/plain": [
       "HBox(children=(HTML(value='Minibatch'), FloatProgress(value=0.0, max=1.0), HTML(value='')))"
      ]
     },
     "metadata": {},
     "output_type": "display_data"
    },
    {
     "data": {
      "application/vnd.jupyter.widget-view+json": {
       "model_id": "",
       "version_major": 2,
       "version_minor": 0
      },
      "text/plain": [
       "HBox(children=(HTML(value='Minibatch'), FloatProgress(value=0.0, max=1.0), HTML(value='')))"
      ]
     },
     "metadata": {},
     "output_type": "display_data"
    },
    {
     "data": {
      "application/vnd.jupyter.widget-view+json": {
       "model_id": "",
       "version_major": 2,
       "version_minor": 0
      },
      "text/plain": [
       "HBox(children=(HTML(value='Minibatch'), FloatProgress(value=0.0, max=1.0), HTML(value='')))"
      ]
     },
     "metadata": {},
     "output_type": "display_data"
    },
    {
     "data": {
      "application/vnd.jupyter.widget-view+json": {
       "model_id": "",
       "version_major": 2,
       "version_minor": 0
      },
      "text/plain": [
       "HBox(children=(HTML(value='Minibatch'), FloatProgress(value=0.0, max=1.0), HTML(value='')))"
      ]
     },
     "metadata": {},
     "output_type": "display_data"
    },
    {
     "data": {
      "application/vnd.jupyter.widget-view+json": {
       "model_id": "",
       "version_major": 2,
       "version_minor": 0
      },
      "text/plain": [
       "HBox(children=(HTML(value='Minibatch'), FloatProgress(value=0.0, max=1.0), HTML(value='')))"
      ]
     },
     "metadata": {},
     "output_type": "display_data"
    },
    {
     "data": {
      "application/vnd.jupyter.widget-view+json": {
       "model_id": "",
       "version_major": 2,
       "version_minor": 0
      },
      "text/plain": [
       "HBox(children=(HTML(value='Minibatch'), FloatProgress(value=0.0, max=1.0), HTML(value='')))"
      ]
     },
     "metadata": {},
     "output_type": "display_data"
    },
    {
     "data": {
      "application/vnd.jupyter.widget-view+json": {
       "model_id": "",
       "version_major": 2,
       "version_minor": 0
      },
      "text/plain": [
       "HBox(children=(HTML(value='Minibatch'), FloatProgress(value=0.0, max=1.0), HTML(value='')))"
      ]
     },
     "metadata": {},
     "output_type": "display_data"
    },
    {
     "data": {
      "application/vnd.jupyter.widget-view+json": {
       "model_id": "",
       "version_major": 2,
       "version_minor": 0
      },
      "text/plain": [
       "HBox(children=(HTML(value='Minibatch'), FloatProgress(value=0.0, max=1.0), HTML(value='')))"
      ]
     },
     "metadata": {},
     "output_type": "display_data"
    },
    {
     "name": "stdout",
     "output_type": "stream",
     "text": [
      "iter: 20/100\n",
      "loss:  2.494063377380371\n",
      "lengthscale:  21.953031539916992\n"
     ]
    },
    {
     "data": {
      "application/vnd.jupyter.widget-view+json": {
       "model_id": "",
       "version_major": 2,
       "version_minor": 0
      },
      "text/plain": [
       "HBox(children=(HTML(value='Minibatch'), FloatProgress(value=0.0, max=1.0), HTML(value='')))"
      ]
     },
     "metadata": {},
     "output_type": "display_data"
    },
    {
     "data": {
      "application/vnd.jupyter.widget-view+json": {
       "model_id": "",
       "version_major": 2,
       "version_minor": 0
      },
      "text/plain": [
       "HBox(children=(HTML(value='Minibatch'), FloatProgress(value=0.0, max=1.0), HTML(value='')))"
      ]
     },
     "metadata": {},
     "output_type": "display_data"
    },
    {
     "data": {
      "application/vnd.jupyter.widget-view+json": {
       "model_id": "",
       "version_major": 2,
       "version_minor": 0
      },
      "text/plain": [
       "HBox(children=(HTML(value='Minibatch'), FloatProgress(value=0.0, max=1.0), HTML(value='')))"
      ]
     },
     "metadata": {},
     "output_type": "display_data"
    },
    {
     "data": {
      "application/vnd.jupyter.widget-view+json": {
       "model_id": "",
       "version_major": 2,
       "version_minor": 0
      },
      "text/plain": [
       "HBox(children=(HTML(value='Minibatch'), FloatProgress(value=0.0, max=1.0), HTML(value='')))"
      ]
     },
     "metadata": {},
     "output_type": "display_data"
    },
    {
     "data": {
      "application/vnd.jupyter.widget-view+json": {
       "model_id": "",
       "version_major": 2,
       "version_minor": 0
      },
      "text/plain": [
       "HBox(children=(HTML(value='Minibatch'), FloatProgress(value=0.0, max=1.0), HTML(value='')))"
      ]
     },
     "metadata": {},
     "output_type": "display_data"
    },
    {
     "data": {
      "application/vnd.jupyter.widget-view+json": {
       "model_id": "",
       "version_major": 2,
       "version_minor": 0
      },
      "text/plain": [
       "HBox(children=(HTML(value='Minibatch'), FloatProgress(value=0.0, max=1.0), HTML(value='')))"
      ]
     },
     "metadata": {},
     "output_type": "display_data"
    },
    {
     "data": {
      "application/vnd.jupyter.widget-view+json": {
       "model_id": "",
       "version_major": 2,
       "version_minor": 0
      },
      "text/plain": [
       "HBox(children=(HTML(value='Minibatch'), FloatProgress(value=0.0, max=1.0), HTML(value='')))"
      ]
     },
     "metadata": {},
     "output_type": "display_data"
    },
    {
     "data": {
      "application/vnd.jupyter.widget-view+json": {
       "model_id": "",
       "version_major": 2,
       "version_minor": 0
      },
      "text/plain": [
       "HBox(children=(HTML(value='Minibatch'), FloatProgress(value=0.0, max=1.0), HTML(value='')))"
      ]
     },
     "metadata": {},
     "output_type": "display_data"
    },
    {
     "data": {
      "application/vnd.jupyter.widget-view+json": {
       "model_id": "",
       "version_major": 2,
       "version_minor": 0
      },
      "text/plain": [
       "HBox(children=(HTML(value='Minibatch'), FloatProgress(value=0.0, max=1.0), HTML(value='')))"
      ]
     },
     "metadata": {},
     "output_type": "display_data"
    },
    {
     "data": {
      "application/vnd.jupyter.widget-view+json": {
       "model_id": "",
       "version_major": 2,
       "version_minor": 0
      },
      "text/plain": [
       "HBox(children=(HTML(value='Minibatch'), FloatProgress(value=0.0, max=1.0), HTML(value='')))"
      ]
     },
     "metadata": {},
     "output_type": "display_data"
    },
    {
     "name": "stdout",
     "output_type": "stream",
     "text": [
      "iter: 30/100\n",
      "loss:  2.1920852661132812\n",
      "lengthscale:  22.378110885620117\n"
     ]
    },
    {
     "data": {
      "application/vnd.jupyter.widget-view+json": {
       "model_id": "",
       "version_major": 2,
       "version_minor": 0
      },
      "text/plain": [
       "HBox(children=(HTML(value='Minibatch'), FloatProgress(value=0.0, max=1.0), HTML(value='')))"
      ]
     },
     "metadata": {},
     "output_type": "display_data"
    },
    {
     "data": {
      "application/vnd.jupyter.widget-view+json": {
       "model_id": "",
       "version_major": 2,
       "version_minor": 0
      },
      "text/plain": [
       "HBox(children=(HTML(value='Minibatch'), FloatProgress(value=0.0, max=1.0), HTML(value='')))"
      ]
     },
     "metadata": {},
     "output_type": "display_data"
    },
    {
     "data": {
      "application/vnd.jupyter.widget-view+json": {
       "model_id": "",
       "version_major": 2,
       "version_minor": 0
      },
      "text/plain": [
       "HBox(children=(HTML(value='Minibatch'), FloatProgress(value=0.0, max=1.0), HTML(value='')))"
      ]
     },
     "metadata": {},
     "output_type": "display_data"
    },
    {
     "data": {
      "application/vnd.jupyter.widget-view+json": {
       "model_id": "",
       "version_major": 2,
       "version_minor": 0
      },
      "text/plain": [
       "HBox(children=(HTML(value='Minibatch'), FloatProgress(value=0.0, max=1.0), HTML(value='')))"
      ]
     },
     "metadata": {},
     "output_type": "display_data"
    },
    {
     "data": {
      "application/vnd.jupyter.widget-view+json": {
       "model_id": "",
       "version_major": 2,
       "version_minor": 0
      },
      "text/plain": [
       "HBox(children=(HTML(value='Minibatch'), FloatProgress(value=0.0, max=1.0), HTML(value='')))"
      ]
     },
     "metadata": {},
     "output_type": "display_data"
    },
    {
     "data": {
      "application/vnd.jupyter.widget-view+json": {
       "model_id": "",
       "version_major": 2,
       "version_minor": 0
      },
      "text/plain": [
       "HBox(children=(HTML(value='Minibatch'), FloatProgress(value=0.0, max=1.0), HTML(value='')))"
      ]
     },
     "metadata": {},
     "output_type": "display_data"
    },
    {
     "data": {
      "application/vnd.jupyter.widget-view+json": {
       "model_id": "",
       "version_major": 2,
       "version_minor": 0
      },
      "text/plain": [
       "HBox(children=(HTML(value='Minibatch'), FloatProgress(value=0.0, max=1.0), HTML(value='')))"
      ]
     },
     "metadata": {},
     "output_type": "display_data"
    },
    {
     "data": {
      "application/vnd.jupyter.widget-view+json": {
       "model_id": "",
       "version_major": 2,
       "version_minor": 0
      },
      "text/plain": [
       "HBox(children=(HTML(value='Minibatch'), FloatProgress(value=0.0, max=1.0), HTML(value='')))"
      ]
     },
     "metadata": {},
     "output_type": "display_data"
    },
    {
     "data": {
      "application/vnd.jupyter.widget-view+json": {
       "model_id": "",
       "version_major": 2,
       "version_minor": 0
      },
      "text/plain": [
       "HBox(children=(HTML(value='Minibatch'), FloatProgress(value=0.0, max=1.0), HTML(value='')))"
      ]
     },
     "metadata": {},
     "output_type": "display_data"
    },
    {
     "data": {
      "application/vnd.jupyter.widget-view+json": {
       "model_id": "",
       "version_major": 2,
       "version_minor": 0
      },
      "text/plain": [
       "HBox(children=(HTML(value='Minibatch'), FloatProgress(value=0.0, max=1.0), HTML(value='')))"
      ]
     },
     "metadata": {},
     "output_type": "display_data"
    },
    {
     "name": "stdout",
     "output_type": "stream",
     "text": [
      "iter: 40/100\n",
      "loss:  1.960990071296692\n",
      "lengthscale:  22.840709686279297\n"
     ]
    },
    {
     "data": {
      "application/vnd.jupyter.widget-view+json": {
       "model_id": "",
       "version_major": 2,
       "version_minor": 0
      },
      "text/plain": [
       "HBox(children=(HTML(value='Minibatch'), FloatProgress(value=0.0, max=1.0), HTML(value='')))"
      ]
     },
     "metadata": {},
     "output_type": "display_data"
    },
    {
     "data": {
      "application/vnd.jupyter.widget-view+json": {
       "model_id": "",
       "version_major": 2,
       "version_minor": 0
      },
      "text/plain": [
       "HBox(children=(HTML(value='Minibatch'), FloatProgress(value=0.0, max=1.0), HTML(value='')))"
      ]
     },
     "metadata": {},
     "output_type": "display_data"
    },
    {
     "data": {
      "application/vnd.jupyter.widget-view+json": {
       "model_id": "",
       "version_major": 2,
       "version_minor": 0
      },
      "text/plain": [
       "HBox(children=(HTML(value='Minibatch'), FloatProgress(value=0.0, max=1.0), HTML(value='')))"
      ]
     },
     "metadata": {},
     "output_type": "display_data"
    },
    {
     "data": {
      "application/vnd.jupyter.widget-view+json": {
       "model_id": "",
       "version_major": 2,
       "version_minor": 0
      },
      "text/plain": [
       "HBox(children=(HTML(value='Minibatch'), FloatProgress(value=0.0, max=1.0), HTML(value='')))"
      ]
     },
     "metadata": {},
     "output_type": "display_data"
    },
    {
     "data": {
      "application/vnd.jupyter.widget-view+json": {
       "model_id": "",
       "version_major": 2,
       "version_minor": 0
      },
      "text/plain": [
       "HBox(children=(HTML(value='Minibatch'), FloatProgress(value=0.0, max=1.0), HTML(value='')))"
      ]
     },
     "metadata": {},
     "output_type": "display_data"
    },
    {
     "data": {
      "application/vnd.jupyter.widget-view+json": {
       "model_id": "",
       "version_major": 2,
       "version_minor": 0
      },
      "text/plain": [
       "HBox(children=(HTML(value='Minibatch'), FloatProgress(value=0.0, max=1.0), HTML(value='')))"
      ]
     },
     "metadata": {},
     "output_type": "display_data"
    },
    {
     "data": {
      "application/vnd.jupyter.widget-view+json": {
       "model_id": "",
       "version_major": 2,
       "version_minor": 0
      },
      "text/plain": [
       "HBox(children=(HTML(value='Minibatch'), FloatProgress(value=0.0, max=1.0), HTML(value='')))"
      ]
     },
     "metadata": {},
     "output_type": "display_data"
    },
    {
     "data": {
      "application/vnd.jupyter.widget-view+json": {
       "model_id": "",
       "version_major": 2,
       "version_minor": 0
      },
      "text/plain": [
       "HBox(children=(HTML(value='Minibatch'), FloatProgress(value=0.0, max=1.0), HTML(value='')))"
      ]
     },
     "metadata": {},
     "output_type": "display_data"
    },
    {
     "data": {
      "application/vnd.jupyter.widget-view+json": {
       "model_id": "",
       "version_major": 2,
       "version_minor": 0
      },
      "text/plain": [
       "HBox(children=(HTML(value='Minibatch'), FloatProgress(value=0.0, max=1.0), HTML(value='')))"
      ]
     },
     "metadata": {},
     "output_type": "display_data"
    },
    {
     "data": {
      "application/vnd.jupyter.widget-view+json": {
       "model_id": "",
       "version_major": 2,
       "version_minor": 0
      },
      "text/plain": [
       "HBox(children=(HTML(value='Minibatch'), FloatProgress(value=0.0, max=1.0), HTML(value='')))"
      ]
     },
     "metadata": {},
     "output_type": "display_data"
    },
    {
     "name": "stdout",
     "output_type": "stream",
     "text": [
      "iter: 50/100\n",
      "loss:  1.8369061946868896\n",
      "lengthscale:  23.555133819580078\n"
     ]
    },
    {
     "data": {
      "application/vnd.jupyter.widget-view+json": {
       "model_id": "",
       "version_major": 2,
       "version_minor": 0
      },
      "text/plain": [
       "HBox(children=(HTML(value='Minibatch'), FloatProgress(value=0.0, max=1.0), HTML(value='')))"
      ]
     },
     "metadata": {},
     "output_type": "display_data"
    },
    {
     "data": {
      "application/vnd.jupyter.widget-view+json": {
       "model_id": "",
       "version_major": 2,
       "version_minor": 0
      },
      "text/plain": [
       "HBox(children=(HTML(value='Minibatch'), FloatProgress(value=0.0, max=1.0), HTML(value='')))"
      ]
     },
     "metadata": {},
     "output_type": "display_data"
    },
    {
     "data": {
      "application/vnd.jupyter.widget-view+json": {
       "model_id": "",
       "version_major": 2,
       "version_minor": 0
      },
      "text/plain": [
       "HBox(children=(HTML(value='Minibatch'), FloatProgress(value=0.0, max=1.0), HTML(value='')))"
      ]
     },
     "metadata": {},
     "output_type": "display_data"
    },
    {
     "data": {
      "application/vnd.jupyter.widget-view+json": {
       "model_id": "",
       "version_major": 2,
       "version_minor": 0
      },
      "text/plain": [
       "HBox(children=(HTML(value='Minibatch'), FloatProgress(value=0.0, max=1.0), HTML(value='')))"
      ]
     },
     "metadata": {},
     "output_type": "display_data"
    },
    {
     "data": {
      "application/vnd.jupyter.widget-view+json": {
       "model_id": "",
       "version_major": 2,
       "version_minor": 0
      },
      "text/plain": [
       "HBox(children=(HTML(value='Minibatch'), FloatProgress(value=0.0, max=1.0), HTML(value='')))"
      ]
     },
     "metadata": {},
     "output_type": "display_data"
    },
    {
     "data": {
      "application/vnd.jupyter.widget-view+json": {
       "model_id": "",
       "version_major": 2,
       "version_minor": 0
      },
      "text/plain": [
       "HBox(children=(HTML(value='Minibatch'), FloatProgress(value=0.0, max=1.0), HTML(value='')))"
      ]
     },
     "metadata": {},
     "output_type": "display_data"
    },
    {
     "data": {
      "application/vnd.jupyter.widget-view+json": {
       "model_id": "",
       "version_major": 2,
       "version_minor": 0
      },
      "text/plain": [
       "HBox(children=(HTML(value='Minibatch'), FloatProgress(value=0.0, max=1.0), HTML(value='')))"
      ]
     },
     "metadata": {},
     "output_type": "display_data"
    },
    {
     "data": {
      "application/vnd.jupyter.widget-view+json": {
       "model_id": "",
       "version_major": 2,
       "version_minor": 0
      },
      "text/plain": [
       "HBox(children=(HTML(value='Minibatch'), FloatProgress(value=0.0, max=1.0), HTML(value='')))"
      ]
     },
     "metadata": {},
     "output_type": "display_data"
    },
    {
     "data": {
      "application/vnd.jupyter.widget-view+json": {
       "model_id": "",
       "version_major": 2,
       "version_minor": 0
      },
      "text/plain": [
       "HBox(children=(HTML(value='Minibatch'), FloatProgress(value=0.0, max=1.0), HTML(value='')))"
      ]
     },
     "metadata": {},
     "output_type": "display_data"
    },
    {
     "data": {
      "application/vnd.jupyter.widget-view+json": {
       "model_id": "",
       "version_major": 2,
       "version_minor": 0
      },
      "text/plain": [
       "HBox(children=(HTML(value='Minibatch'), FloatProgress(value=0.0, max=1.0), HTML(value='')))"
      ]
     },
     "metadata": {},
     "output_type": "display_data"
    },
    {
     "name": "stdout",
     "output_type": "stream",
     "text": [
      "iter: 60/100\n",
      "loss:  1.7476305961608887\n",
      "lengthscale:  24.27902603149414\n"
     ]
    },
    {
     "data": {
      "application/vnd.jupyter.widget-view+json": {
       "model_id": "",
       "version_major": 2,
       "version_minor": 0
      },
      "text/plain": [
       "HBox(children=(HTML(value='Minibatch'), FloatProgress(value=0.0, max=1.0), HTML(value='')))"
      ]
     },
     "metadata": {},
     "output_type": "display_data"
    },
    {
     "data": {
      "application/vnd.jupyter.widget-view+json": {
       "model_id": "",
       "version_major": 2,
       "version_minor": 0
      },
      "text/plain": [
       "HBox(children=(HTML(value='Minibatch'), FloatProgress(value=0.0, max=1.0), HTML(value='')))"
      ]
     },
     "metadata": {},
     "output_type": "display_data"
    },
    {
     "data": {
      "application/vnd.jupyter.widget-view+json": {
       "model_id": "",
       "version_major": 2,
       "version_minor": 0
      },
      "text/plain": [
       "HBox(children=(HTML(value='Minibatch'), FloatProgress(value=0.0, max=1.0), HTML(value='')))"
      ]
     },
     "metadata": {},
     "output_type": "display_data"
    },
    {
     "data": {
      "application/vnd.jupyter.widget-view+json": {
       "model_id": "",
       "version_major": 2,
       "version_minor": 0
      },
      "text/plain": [
       "HBox(children=(HTML(value='Minibatch'), FloatProgress(value=0.0, max=1.0), HTML(value='')))"
      ]
     },
     "metadata": {},
     "output_type": "display_data"
    },
    {
     "data": {
      "application/vnd.jupyter.widget-view+json": {
       "model_id": "",
       "version_major": 2,
       "version_minor": 0
      },
      "text/plain": [
       "HBox(children=(HTML(value='Minibatch'), FloatProgress(value=0.0, max=1.0), HTML(value='')))"
      ]
     },
     "metadata": {},
     "output_type": "display_data"
    },
    {
     "data": {
      "application/vnd.jupyter.widget-view+json": {
       "model_id": "",
       "version_major": 2,
       "version_minor": 0
      },
      "text/plain": [
       "HBox(children=(HTML(value='Minibatch'), FloatProgress(value=0.0, max=1.0), HTML(value='')))"
      ]
     },
     "metadata": {},
     "output_type": "display_data"
    },
    {
     "data": {
      "application/vnd.jupyter.widget-view+json": {
       "model_id": "",
       "version_major": 2,
       "version_minor": 0
      },
      "text/plain": [
       "HBox(children=(HTML(value='Minibatch'), FloatProgress(value=0.0, max=1.0), HTML(value='')))"
      ]
     },
     "metadata": {},
     "output_type": "display_data"
    },
    {
     "data": {
      "application/vnd.jupyter.widget-view+json": {
       "model_id": "",
       "version_major": 2,
       "version_minor": 0
      },
      "text/plain": [
       "HBox(children=(HTML(value='Minibatch'), FloatProgress(value=0.0, max=1.0), HTML(value='')))"
      ]
     },
     "metadata": {},
     "output_type": "display_data"
    },
    {
     "data": {
      "application/vnd.jupyter.widget-view+json": {
       "model_id": "",
       "version_major": 2,
       "version_minor": 0
      },
      "text/plain": [
       "HBox(children=(HTML(value='Minibatch'), FloatProgress(value=0.0, max=1.0), HTML(value='')))"
      ]
     },
     "metadata": {},
     "output_type": "display_data"
    },
    {
     "data": {
      "application/vnd.jupyter.widget-view+json": {
       "model_id": "",
       "version_major": 2,
       "version_minor": 0
      },
      "text/plain": [
       "HBox(children=(HTML(value='Minibatch'), FloatProgress(value=0.0, max=1.0), HTML(value='')))"
      ]
     },
     "metadata": {},
     "output_type": "display_data"
    },
    {
     "name": "stdout",
     "output_type": "stream",
     "text": [
      "iter: 70/100\n",
      "loss:  1.676235318183899\n",
      "lengthscale:  24.879241943359375\n"
     ]
    },
    {
     "data": {
      "application/vnd.jupyter.widget-view+json": {
       "model_id": "",
       "version_major": 2,
       "version_minor": 0
      },
      "text/plain": [
       "HBox(children=(HTML(value='Minibatch'), FloatProgress(value=0.0, max=1.0), HTML(value='')))"
      ]
     },
     "metadata": {},
     "output_type": "display_data"
    },
    {
     "data": {
      "application/vnd.jupyter.widget-view+json": {
       "model_id": "",
       "version_major": 2,
       "version_minor": 0
      },
      "text/plain": [
       "HBox(children=(HTML(value='Minibatch'), FloatProgress(value=0.0, max=1.0), HTML(value='')))"
      ]
     },
     "metadata": {},
     "output_type": "display_data"
    },
    {
     "data": {
      "application/vnd.jupyter.widget-view+json": {
       "model_id": "",
       "version_major": 2,
       "version_minor": 0
      },
      "text/plain": [
       "HBox(children=(HTML(value='Minibatch'), FloatProgress(value=0.0, max=1.0), HTML(value='')))"
      ]
     },
     "metadata": {},
     "output_type": "display_data"
    },
    {
     "data": {
      "application/vnd.jupyter.widget-view+json": {
       "model_id": "",
       "version_major": 2,
       "version_minor": 0
      },
      "text/plain": [
       "HBox(children=(HTML(value='Minibatch'), FloatProgress(value=0.0, max=1.0), HTML(value='')))"
      ]
     },
     "metadata": {},
     "output_type": "display_data"
    },
    {
     "data": {
      "application/vnd.jupyter.widget-view+json": {
       "model_id": "",
       "version_major": 2,
       "version_minor": 0
      },
      "text/plain": [
       "HBox(children=(HTML(value='Minibatch'), FloatProgress(value=0.0, max=1.0), HTML(value='')))"
      ]
     },
     "metadata": {},
     "output_type": "display_data"
    },
    {
     "data": {
      "application/vnd.jupyter.widget-view+json": {
       "model_id": "",
       "version_major": 2,
       "version_minor": 0
      },
      "text/plain": [
       "HBox(children=(HTML(value='Minibatch'), FloatProgress(value=0.0, max=1.0), HTML(value='')))"
      ]
     },
     "metadata": {},
     "output_type": "display_data"
    },
    {
     "data": {
      "application/vnd.jupyter.widget-view+json": {
       "model_id": "",
       "version_major": 2,
       "version_minor": 0
      },
      "text/plain": [
       "HBox(children=(HTML(value='Minibatch'), FloatProgress(value=0.0, max=1.0), HTML(value='')))"
      ]
     },
     "metadata": {},
     "output_type": "display_data"
    },
    {
     "data": {
      "application/vnd.jupyter.widget-view+json": {
       "model_id": "",
       "version_major": 2,
       "version_minor": 0
      },
      "text/plain": [
       "HBox(children=(HTML(value='Minibatch'), FloatProgress(value=0.0, max=1.0), HTML(value='')))"
      ]
     },
     "metadata": {},
     "output_type": "display_data"
    },
    {
     "data": {
      "application/vnd.jupyter.widget-view+json": {
       "model_id": "",
       "version_major": 2,
       "version_minor": 0
      },
      "text/plain": [
       "HBox(children=(HTML(value='Minibatch'), FloatProgress(value=0.0, max=1.0), HTML(value='')))"
      ]
     },
     "metadata": {},
     "output_type": "display_data"
    },
    {
     "data": {
      "application/vnd.jupyter.widget-view+json": {
       "model_id": "",
       "version_major": 2,
       "version_minor": 0
      },
      "text/plain": [
       "HBox(children=(HTML(value='Minibatch'), FloatProgress(value=0.0, max=1.0), HTML(value='')))"
      ]
     },
     "metadata": {},
     "output_type": "display_data"
    },
    {
     "name": "stdout",
     "output_type": "stream",
     "text": [
      "iter: 80/100\n",
      "loss:  1.6119868755340576\n",
      "lengthscale:  25.360116958618164\n"
     ]
    },
    {
     "data": {
      "application/vnd.jupyter.widget-view+json": {
       "model_id": "",
       "version_major": 2,
       "version_minor": 0
      },
      "text/plain": [
       "HBox(children=(HTML(value='Minibatch'), FloatProgress(value=0.0, max=1.0), HTML(value='')))"
      ]
     },
     "metadata": {},
     "output_type": "display_data"
    },
    {
     "data": {
      "application/vnd.jupyter.widget-view+json": {
       "model_id": "",
       "version_major": 2,
       "version_minor": 0
      },
      "text/plain": [
       "HBox(children=(HTML(value='Minibatch'), FloatProgress(value=0.0, max=1.0), HTML(value='')))"
      ]
     },
     "metadata": {},
     "output_type": "display_data"
    },
    {
     "data": {
      "application/vnd.jupyter.widget-view+json": {
       "model_id": "",
       "version_major": 2,
       "version_minor": 0
      },
      "text/plain": [
       "HBox(children=(HTML(value='Minibatch'), FloatProgress(value=0.0, max=1.0), HTML(value='')))"
      ]
     },
     "metadata": {},
     "output_type": "display_data"
    },
    {
     "data": {
      "application/vnd.jupyter.widget-view+json": {
       "model_id": "",
       "version_major": 2,
       "version_minor": 0
      },
      "text/plain": [
       "HBox(children=(HTML(value='Minibatch'), FloatProgress(value=0.0, max=1.0), HTML(value='')))"
      ]
     },
     "metadata": {},
     "output_type": "display_data"
    },
    {
     "data": {
      "application/vnd.jupyter.widget-view+json": {
       "model_id": "",
       "version_major": 2,
       "version_minor": 0
      },
      "text/plain": [
       "HBox(children=(HTML(value='Minibatch'), FloatProgress(value=0.0, max=1.0), HTML(value='')))"
      ]
     },
     "metadata": {},
     "output_type": "display_data"
    },
    {
     "data": {
      "application/vnd.jupyter.widget-view+json": {
       "model_id": "",
       "version_major": 2,
       "version_minor": 0
      },
      "text/plain": [
       "HBox(children=(HTML(value='Minibatch'), FloatProgress(value=0.0, max=1.0), HTML(value='')))"
      ]
     },
     "metadata": {},
     "output_type": "display_data"
    },
    {
     "data": {
      "application/vnd.jupyter.widget-view+json": {
       "model_id": "",
       "version_major": 2,
       "version_minor": 0
      },
      "text/plain": [
       "HBox(children=(HTML(value='Minibatch'), FloatProgress(value=0.0, max=1.0), HTML(value='')))"
      ]
     },
     "metadata": {},
     "output_type": "display_data"
    },
    {
     "data": {
      "application/vnd.jupyter.widget-view+json": {
       "model_id": "",
       "version_major": 2,
       "version_minor": 0
      },
      "text/plain": [
       "HBox(children=(HTML(value='Minibatch'), FloatProgress(value=0.0, max=1.0), HTML(value='')))"
      ]
     },
     "metadata": {},
     "output_type": "display_data"
    },
    {
     "data": {
      "application/vnd.jupyter.widget-view+json": {
       "model_id": "",
       "version_major": 2,
       "version_minor": 0
      },
      "text/plain": [
       "HBox(children=(HTML(value='Minibatch'), FloatProgress(value=0.0, max=1.0), HTML(value='')))"
      ]
     },
     "metadata": {},
     "output_type": "display_data"
    },
    {
     "data": {
      "application/vnd.jupyter.widget-view+json": {
       "model_id": "",
       "version_major": 2,
       "version_minor": 0
      },
      "text/plain": [
       "HBox(children=(HTML(value='Minibatch'), FloatProgress(value=0.0, max=1.0), HTML(value='')))"
      ]
     },
     "metadata": {},
     "output_type": "display_data"
    },
    {
     "name": "stdout",
     "output_type": "stream",
     "text": [
      "iter: 90/100\n",
      "loss:  1.5517796277999878\n",
      "lengthscale:  25.75360107421875\n"
     ]
    },
    {
     "data": {
      "application/vnd.jupyter.widget-view+json": {
       "model_id": "",
       "version_major": 2,
       "version_minor": 0
      },
      "text/plain": [
       "HBox(children=(HTML(value='Minibatch'), FloatProgress(value=0.0, max=1.0), HTML(value='')))"
      ]
     },
     "metadata": {},
     "output_type": "display_data"
    },
    {
     "data": {
      "application/vnd.jupyter.widget-view+json": {
       "model_id": "",
       "version_major": 2,
       "version_minor": 0
      },
      "text/plain": [
       "HBox(children=(HTML(value='Minibatch'), FloatProgress(value=0.0, max=1.0), HTML(value='')))"
      ]
     },
     "metadata": {},
     "output_type": "display_data"
    },
    {
     "data": {
      "application/vnd.jupyter.widget-view+json": {
       "model_id": "",
       "version_major": 2,
       "version_minor": 0
      },
      "text/plain": [
       "HBox(children=(HTML(value='Minibatch'), FloatProgress(value=0.0, max=1.0), HTML(value='')))"
      ]
     },
     "metadata": {},
     "output_type": "display_data"
    },
    {
     "data": {
      "application/vnd.jupyter.widget-view+json": {
       "model_id": "",
       "version_major": 2,
       "version_minor": 0
      },
      "text/plain": [
       "HBox(children=(HTML(value='Minibatch'), FloatProgress(value=0.0, max=1.0), HTML(value='')))"
      ]
     },
     "metadata": {},
     "output_type": "display_data"
    },
    {
     "data": {
      "application/vnd.jupyter.widget-view+json": {
       "model_id": "",
       "version_major": 2,
       "version_minor": 0
      },
      "text/plain": [
       "HBox(children=(HTML(value='Minibatch'), FloatProgress(value=0.0, max=1.0), HTML(value='')))"
      ]
     },
     "metadata": {},
     "output_type": "display_data"
    },
    {
     "data": {
      "application/vnd.jupyter.widget-view+json": {
       "model_id": "",
       "version_major": 2,
       "version_minor": 0
      },
      "text/plain": [
       "HBox(children=(HTML(value='Minibatch'), FloatProgress(value=0.0, max=1.0), HTML(value='')))"
      ]
     },
     "metadata": {},
     "output_type": "display_data"
    },
    {
     "data": {
      "application/vnd.jupyter.widget-view+json": {
       "model_id": "",
       "version_major": 2,
       "version_minor": 0
      },
      "text/plain": [
       "HBox(children=(HTML(value='Minibatch'), FloatProgress(value=0.0, max=1.0), HTML(value='')))"
      ]
     },
     "metadata": {},
     "output_type": "display_data"
    },
    {
     "data": {
      "application/vnd.jupyter.widget-view+json": {
       "model_id": "",
       "version_major": 2,
       "version_minor": 0
      },
      "text/plain": [
       "HBox(children=(HTML(value='Minibatch'), FloatProgress(value=0.0, max=1.0), HTML(value='')))"
      ]
     },
     "metadata": {},
     "output_type": "display_data"
    },
    {
     "data": {
      "application/vnd.jupyter.widget-view+json": {
       "model_id": "",
       "version_major": 2,
       "version_minor": 0
      },
      "text/plain": [
       "HBox(children=(HTML(value='Minibatch'), FloatProgress(value=0.0, max=1.0), HTML(value='')))"
      ]
     },
     "metadata": {},
     "output_type": "display_data"
    },
    {
     "name": "stdout",
     "output_type": "stream",
     "text": [
      "\n",
      "(51.94932174682617, -26.336755752563477, 0.8883720636367798)\n"
     ]
    }
   ],
   "source": [
    "# SVIGP_log\n",
    "train_dataset_EQUATION_log = TensorDataset(X_EQUATION_train, torch.log(torch.maximum(y_EQUATION_train, 0.1*torch.ones_like(y_EQUATION_train))))\n",
    "train_loader_EQUATION_log = DataLoader(train_dataset_EQUATION_log, batch_size=1024, shuffle=True)\n",
    "test_dataset_EQUATION_log = TensorDataset(X_EQUATION_test, y_EQUATION_test)\n",
    "test_loader_EQUATION_log = DataLoader(test_dataset_EQUATION_log, batch_size=1024, shuffle=False)\n",
    "\n",
    "y_EQUATION_train_log = torch.log(torch.maximum(y_EQUATION_train, 0.1*torch.ones_like(y_EQUATION_train)))\n",
    "model_SVI_EQUATION_log, likelihood_SVI_EQUATION_log = count_models.create_SVIGP_model(X_EQUATION_train, kernel=KERNEL_EQUATION, \n",
    "                                        init_lengthscale=INIT_LENGTHSCALE_EQUATION, num_inducing_points=NUM_INDUCING_POINTS)\n",
    "model_SVI_EQUATION_log, likelihood_SVI_EQUATION_log = count_models.train_SVIGP_model(train_loader_EQUATION_log, y_EQUATION_train, \n",
    "                                            model_SVI_EQUATION_log, likelihood_SVI_EQUATION_log,\n",
    "                                num_iter=NUM_ITER_EQUATION, lr=0.1, report_iter=NUM_ITER_EQUATION//10)\n",
    "EQUATION_SVIGP_log_res = count_models.evaluate_SVIGP_log(model_SVI_EQUATION_log, likelihood_SVI_EQUATION_log, test_loader_EQUATION_log, y_EQUATION_test)\n",
    "print(EQUATION_SVIGP_log_res)"
   ]
  },
  {
   "cell_type": "markdown",
   "metadata": {},
   "source": [
    "## GSS7402"
   ]
  },
  {
   "cell_type": "code",
   "execution_count": 36,
   "metadata": {},
   "outputs": [],
   "source": [
    "NUM_ITER_GSS7402 = 100\n",
    "INIT_LENGTHSCALE_GSS7402 = 10\n",
    "KERNEL_GSS7402 = \"RBF\""
   ]
  },
  {
   "cell_type": "code",
   "execution_count": 37,
   "metadata": {},
   "outputs": [
    {
     "name": "stdout",
     "output_type": "stream",
     "text": [
      "Iter 1/100 - Loss: 1.844   lengthscale: 10.000\n",
      "Iter 11/100 - Loss: 1.655   lengthscale: 10.974\n",
      "Iter 21/100 - Loss: 1.645   lengthscale: 11.922\n",
      "Iter 31/100 - Loss: 1.646   lengthscale: 12.810\n",
      "Iter 41/100 - Loss: 1.642   lengthscale: 13.520\n",
      "Iter 51/100 - Loss: 1.639   lengthscale: 14.020\n",
      "Iter 61/100 - Loss: 1.641   lengthscale: 14.283\n",
      "Iter 71/100 - Loss: 1.641   lengthscale: 14.361\n",
      "Iter 81/100 - Loss: 1.640   lengthscale: 14.434\n",
      "Iter 91/100 - Loss: 1.641   lengthscale: 14.498\n",
      "(1.2553945779800415, -1.6279582977294922, 0.9487648606300354)\n"
     ]
    }
   ],
   "source": [
    "# Exact GP\n",
    "ExactGP_model_GSS7402, ExactGP_likelihood_GSS7402 = count_models.create_ExactGP_model(X_GSS7402_train, y_GSS7402_train, \n",
    "                                                    init_lengthscale=INIT_LENGTHSCALE_GSS7402, kernel=KERNEL_GSS7402)\n",
    "ExactGP_model_GSS7402, ExactGP_likelihood_GSS7402 = count_models.train_ExactGP_model(X_GSS7402_train, y_GSS7402_train, ExactGP_model_GSS7402, \n",
    "                            ExactGP_likelihood_GSS7402, num_iter=NUM_ITER_GSS7402, lr=0.1, report_iter=NUM_ITER_GSS7402//10)\n",
    "GSS7402_ExactGP_res = count_models.evaluate_ExactGP(ExactGP_model_GSS7402, ExactGP_likelihood_GSS7402, X_GSS7402_test, y_GSS7402_test)\n",
    "print(GSS7402_ExactGP_res)"
   ]
  },
  {
   "cell_type": "code",
   "execution_count": 38,
   "metadata": {},
   "outputs": [
    {
     "name": "stdout",
     "output_type": "stream",
     "text": [
      "Iter 1/100 - Loss: 0.931   lengthscale: 10.000\n",
      "Iter 11/100 - Loss: 0.711   lengthscale: 10.968\n",
      "Iter 21/100 - Loss: 0.681   lengthscale: 11.744\n",
      "Iter 31/100 - Loss: 0.673   lengthscale: 12.123\n",
      "Iter 41/100 - Loss: 0.671   lengthscale: 12.307\n",
      "Iter 51/100 - Loss: 0.670   lengthscale: 12.520\n",
      "Iter 61/100 - Loss: 0.671   lengthscale: 12.734\n",
      "Iter 71/100 - Loss: 0.670   lengthscale: 12.942\n",
      "Iter 81/100 - Loss: 0.670   lengthscale: 13.167\n",
      "Iter 91/100 - Loss: 0.669   lengthscale: 13.376\n",
      "(2.2491579055786133, -2.922682046890259, 0.25343093276023865)\n"
     ]
    }
   ],
   "source": [
    "# ExactGP_log\n",
    "y_GSS7402_train_log = torch.log(torch.maximum(y_GSS7402_train, 0.1*torch.ones_like(y_GSS7402_train)))\n",
    "ExactGP_model_GSS7402_log, ExactGP_likelihood_GSS7402_log = count_models.create_ExactGP_model(X_GSS7402_train, y_GSS7402_train_log, \n",
    "                                                    init_lengthscale=INIT_LENGTHSCALE_GSS7402, kernel=KERNEL_GSS7402)\n",
    "ExactGP_model_GSS7402_log, ExactGP_likelihood_GSS7402_log = count_models.train_ExactGP_model(X_GSS7402_train, y_GSS7402_train_log, ExactGP_model_GSS7402_log, \n",
    "                            ExactGP_likelihood_GSS7402_log, num_iter=NUM_ITER_GSS7402, lr=0.1, report_iter=NUM_ITER_GSS7402//10)\n",
    "GSS7402_ExactGP_log_res = count_models.evaluate_ExactGP(ExactGP_model_GSS7402_log, ExactGP_likelihood_GSS7402_log, X_GSS7402_test, y_GSS7402_test)\n",
    "print(GSS7402_ExactGP_log_res)"
   ]
  },
  {
   "cell_type": "code",
   "execution_count": 39,
   "metadata": {},
   "outputs": [
    {
     "name": "stdout",
     "output_type": "stream",
     "text": [
      "Iter 1/100 - Loss: 1.187; lengthscale: 10.000; noise: 1.391\n",
      "Iter 11/100 - Loss: 1.043; lengthscale: 10.973; noise: 1.014\n",
      "Iter 21/100 - Loss: 0.965; lengthscale: 11.804; noise: 0.838\n",
      "Iter 31/100 - Loss: 0.932; lengthscale: 12.429; noise: 0.769\n",
      "Iter 41/100 - Loss: 0.917; lengthscale: 12.853; noise: 0.741\n",
      "Iter 51/100 - Loss: 0.910; lengthscale: 13.170; noise: 0.728\n",
      "Iter 61/100 - Loss: 0.907; lengthscale: 13.437; noise: 0.721\n",
      "Iter 71/100 - Loss: 0.904; lengthscale: 13.697; noise: 0.716\n",
      "Iter 81/100 - Loss: 0.903; lengthscale: 13.975; noise: 0.713\n",
      "Iter 91/100 - Loss: 0.901; lengthscale: 14.268; noise: 0.711\n",
      "(1.2611503601074219, -1.6326239109039307, 0.4300091564655304)\n"
     ]
    }
   ],
   "source": [
    "# LMGP_gamma\n",
    "y_GSS7402_train_mu, y_GSS7402_train_var = count_models.transform_y_Gamma_LM(y_GSS7402_train, alpha_eps=alpha_eps, counts=1)\n",
    "LMGP_model_GSS7402, LMGP_likelihood_GSS7402 = count_models.create_LM_Gamma_GP_model(X_GSS7402_train, y_GSS7402_train_mu, y_GSS7402_train_var,\n",
    "                                    kernel=KERNEL_GSS7402, init_lengthscale=INIT_LENGTHSCALE_GSS7402, fixed_likelihood=True)\n",
    "LMGP_model_GSS7402, LMGP_likelihood_GSS7402 = count_models.train_LM_Gamma_GP_model(X_GSS7402_train, y_GSS7402_train_mu,\n",
    "                                LMGP_model_GSS7402, LMGP_likelihood_GSS7402, num_iter=NUM_ITER_GSS7402, lr=0.1, report_iter=NUM_ITER_GSS7402//10)\n",
    "GSS7402_LMGP_res = count_models.evaluate_LM_Gamma_GP(LMGP_model_GSS7402, LMGP_likelihood_GSS7402, X_GSS7402_test, y_GSS7402_test)\n",
    "print(GSS7402_LMGP_res)"
   ]
  },
  {
   "cell_type": "code",
   "execution_count": 40,
   "metadata": {},
   "outputs": [
    {
     "data": {
      "application/vnd.jupyter.widget-view+json": {
       "model_id": "3742f54b9ddd4f93afd04acd96d2ccf2",
       "version_major": 2,
       "version_minor": 0
      },
      "text/plain": [
       "HBox(children=(HTML(value='Epoch'), FloatProgress(value=0.0), HTML(value='')))"
      ]
     },
     "metadata": {},
     "output_type": "display_data"
    },
    {
     "data": {
      "application/vnd.jupyter.widget-view+json": {
       "model_id": "",
       "version_major": 2,
       "version_minor": 0
      },
      "text/plain": [
       "HBox(children=(HTML(value='Minibatch'), FloatProgress(value=0.0, max=5.0), HTML(value='')))"
      ]
     },
     "metadata": {},
     "output_type": "display_data"
    },
    {
     "name": "stdout",
     "output_type": "stream",
     "text": [
      "iter: 0/100\n",
      "loss:  8.821420073509216\n",
      "lengthscale:  10.428129196166992\n"
     ]
    },
    {
     "data": {
      "application/vnd.jupyter.widget-view+json": {
       "model_id": "",
       "version_major": 2,
       "version_minor": 0
      },
      "text/plain": [
       "HBox(children=(HTML(value='Minibatch'), FloatProgress(value=0.0, max=5.0), HTML(value='')))"
      ]
     },
     "metadata": {},
     "output_type": "display_data"
    },
    {
     "data": {
      "application/vnd.jupyter.widget-view+json": {
       "model_id": "",
       "version_major": 2,
       "version_minor": 0
      },
      "text/plain": [
       "HBox(children=(HTML(value='Minibatch'), FloatProgress(value=0.0, max=5.0), HTML(value='')))"
      ]
     },
     "metadata": {},
     "output_type": "display_data"
    },
    {
     "data": {
      "application/vnd.jupyter.widget-view+json": {
       "model_id": "",
       "version_major": 2,
       "version_minor": 0
      },
      "text/plain": [
       "HBox(children=(HTML(value='Minibatch'), FloatProgress(value=0.0, max=5.0), HTML(value='')))"
      ]
     },
     "metadata": {},
     "output_type": "display_data"
    },
    {
     "data": {
      "application/vnd.jupyter.widget-view+json": {
       "model_id": "",
       "version_major": 2,
       "version_minor": 0
      },
      "text/plain": [
       "HBox(children=(HTML(value='Minibatch'), FloatProgress(value=0.0, max=5.0), HTML(value='')))"
      ]
     },
     "metadata": {},
     "output_type": "display_data"
    },
    {
     "data": {
      "application/vnd.jupyter.widget-view+json": {
       "model_id": "",
       "version_major": 2,
       "version_minor": 0
      },
      "text/plain": [
       "HBox(children=(HTML(value='Minibatch'), FloatProgress(value=0.0, max=5.0), HTML(value='')))"
      ]
     },
     "metadata": {},
     "output_type": "display_data"
    },
    {
     "data": {
      "application/vnd.jupyter.widget-view+json": {
       "model_id": "",
       "version_major": 2,
       "version_minor": 0
      },
      "text/plain": [
       "HBox(children=(HTML(value='Minibatch'), FloatProgress(value=0.0, max=5.0), HTML(value='')))"
      ]
     },
     "metadata": {},
     "output_type": "display_data"
    },
    {
     "data": {
      "application/vnd.jupyter.widget-view+json": {
       "model_id": "",
       "version_major": 2,
       "version_minor": 0
      },
      "text/plain": [
       "HBox(children=(HTML(value='Minibatch'), FloatProgress(value=0.0, max=5.0), HTML(value='')))"
      ]
     },
     "metadata": {},
     "output_type": "display_data"
    },
    {
     "data": {
      "application/vnd.jupyter.widget-view+json": {
       "model_id": "",
       "version_major": 2,
       "version_minor": 0
      },
      "text/plain": [
       "HBox(children=(HTML(value='Minibatch'), FloatProgress(value=0.0, max=5.0), HTML(value='')))"
      ]
     },
     "metadata": {},
     "output_type": "display_data"
    },
    {
     "data": {
      "application/vnd.jupyter.widget-view+json": {
       "model_id": "",
       "version_major": 2,
       "version_minor": 0
      },
      "text/plain": [
       "HBox(children=(HTML(value='Minibatch'), FloatProgress(value=0.0, max=5.0), HTML(value='')))"
      ]
     },
     "metadata": {},
     "output_type": "display_data"
    },
    {
     "data": {
      "application/vnd.jupyter.widget-view+json": {
       "model_id": "",
       "version_major": 2,
       "version_minor": 0
      },
      "text/plain": [
       "HBox(children=(HTML(value='Minibatch'), FloatProgress(value=0.0, max=5.0), HTML(value='')))"
      ]
     },
     "metadata": {},
     "output_type": "display_data"
    },
    {
     "name": "stdout",
     "output_type": "stream",
     "text": [
      "iter: 10/100\n",
      "loss:  3.4452205300331116\n",
      "lengthscale:  12.14412784576416\n"
     ]
    },
    {
     "data": {
      "application/vnd.jupyter.widget-view+json": {
       "model_id": "",
       "version_major": 2,
       "version_minor": 0
      },
      "text/plain": [
       "HBox(children=(HTML(value='Minibatch'), FloatProgress(value=0.0, max=5.0), HTML(value='')))"
      ]
     },
     "metadata": {},
     "output_type": "display_data"
    },
    {
     "data": {
      "application/vnd.jupyter.widget-view+json": {
       "model_id": "",
       "version_major": 2,
       "version_minor": 0
      },
      "text/plain": [
       "HBox(children=(HTML(value='Minibatch'), FloatProgress(value=0.0, max=5.0), HTML(value='')))"
      ]
     },
     "metadata": {},
     "output_type": "display_data"
    },
    {
     "data": {
      "application/vnd.jupyter.widget-view+json": {
       "model_id": "",
       "version_major": 2,
       "version_minor": 0
      },
      "text/plain": [
       "HBox(children=(HTML(value='Minibatch'), FloatProgress(value=0.0, max=5.0), HTML(value='')))"
      ]
     },
     "metadata": {},
     "output_type": "display_data"
    },
    {
     "data": {
      "application/vnd.jupyter.widget-view+json": {
       "model_id": "",
       "version_major": 2,
       "version_minor": 0
      },
      "text/plain": [
       "HBox(children=(HTML(value='Minibatch'), FloatProgress(value=0.0, max=5.0), HTML(value='')))"
      ]
     },
     "metadata": {},
     "output_type": "display_data"
    },
    {
     "data": {
      "application/vnd.jupyter.widget-view+json": {
       "model_id": "",
       "version_major": 2,
       "version_minor": 0
      },
      "text/plain": [
       "HBox(children=(HTML(value='Minibatch'), FloatProgress(value=0.0, max=5.0), HTML(value='')))"
      ]
     },
     "metadata": {},
     "output_type": "display_data"
    },
    {
     "data": {
      "application/vnd.jupyter.widget-view+json": {
       "model_id": "",
       "version_major": 2,
       "version_minor": 0
      },
      "text/plain": [
       "HBox(children=(HTML(value='Minibatch'), FloatProgress(value=0.0, max=5.0), HTML(value='')))"
      ]
     },
     "metadata": {},
     "output_type": "display_data"
    },
    {
     "data": {
      "application/vnd.jupyter.widget-view+json": {
       "model_id": "",
       "version_major": 2,
       "version_minor": 0
      },
      "text/plain": [
       "HBox(children=(HTML(value='Minibatch'), FloatProgress(value=0.0, max=5.0), HTML(value='')))"
      ]
     },
     "metadata": {},
     "output_type": "display_data"
    },
    {
     "data": {
      "application/vnd.jupyter.widget-view+json": {
       "model_id": "",
       "version_major": 2,
       "version_minor": 0
      },
      "text/plain": [
       "HBox(children=(HTML(value='Minibatch'), FloatProgress(value=0.0, max=5.0), HTML(value='')))"
      ]
     },
     "metadata": {},
     "output_type": "display_data"
    },
    {
     "data": {
      "application/vnd.jupyter.widget-view+json": {
       "model_id": "",
       "version_major": 2,
       "version_minor": 0
      },
      "text/plain": [
       "HBox(children=(HTML(value='Minibatch'), FloatProgress(value=0.0, max=5.0), HTML(value='')))"
      ]
     },
     "metadata": {},
     "output_type": "display_data"
    },
    {
     "data": {
      "application/vnd.jupyter.widget-view+json": {
       "model_id": "",
       "version_major": 2,
       "version_minor": 0
      },
      "text/plain": [
       "HBox(children=(HTML(value='Minibatch'), FloatProgress(value=0.0, max=5.0), HTML(value='')))"
      ]
     },
     "metadata": {},
     "output_type": "display_data"
    },
    {
     "name": "stdout",
     "output_type": "stream",
     "text": [
      "iter: 20/100\n",
      "loss:  3.351140320301056\n",
      "lengthscale:  12.558817863464355\n"
     ]
    },
    {
     "data": {
      "application/vnd.jupyter.widget-view+json": {
       "model_id": "",
       "version_major": 2,
       "version_minor": 0
      },
      "text/plain": [
       "HBox(children=(HTML(value='Minibatch'), FloatProgress(value=0.0, max=5.0), HTML(value='')))"
      ]
     },
     "metadata": {},
     "output_type": "display_data"
    },
    {
     "data": {
      "application/vnd.jupyter.widget-view+json": {
       "model_id": "",
       "version_major": 2,
       "version_minor": 0
      },
      "text/plain": [
       "HBox(children=(HTML(value='Minibatch'), FloatProgress(value=0.0, max=5.0), HTML(value='')))"
      ]
     },
     "metadata": {},
     "output_type": "display_data"
    },
    {
     "data": {
      "application/vnd.jupyter.widget-view+json": {
       "model_id": "",
       "version_major": 2,
       "version_minor": 0
      },
      "text/plain": [
       "HBox(children=(HTML(value='Minibatch'), FloatProgress(value=0.0, max=5.0), HTML(value='')))"
      ]
     },
     "metadata": {},
     "output_type": "display_data"
    },
    {
     "data": {
      "application/vnd.jupyter.widget-view+json": {
       "model_id": "",
       "version_major": 2,
       "version_minor": 0
      },
      "text/plain": [
       "HBox(children=(HTML(value='Minibatch'), FloatProgress(value=0.0, max=5.0), HTML(value='')))"
      ]
     },
     "metadata": {},
     "output_type": "display_data"
    },
    {
     "data": {
      "application/vnd.jupyter.widget-view+json": {
       "model_id": "",
       "version_major": 2,
       "version_minor": 0
      },
      "text/plain": [
       "HBox(children=(HTML(value='Minibatch'), FloatProgress(value=0.0, max=5.0), HTML(value='')))"
      ]
     },
     "metadata": {},
     "output_type": "display_data"
    },
    {
     "data": {
      "application/vnd.jupyter.widget-view+json": {
       "model_id": "",
       "version_major": 2,
       "version_minor": 0
      },
      "text/plain": [
       "HBox(children=(HTML(value='Minibatch'), FloatProgress(value=0.0, max=5.0), HTML(value='')))"
      ]
     },
     "metadata": {},
     "output_type": "display_data"
    },
    {
     "data": {
      "application/vnd.jupyter.widget-view+json": {
       "model_id": "",
       "version_major": 2,
       "version_minor": 0
      },
      "text/plain": [
       "HBox(children=(HTML(value='Minibatch'), FloatProgress(value=0.0, max=5.0), HTML(value='')))"
      ]
     },
     "metadata": {},
     "output_type": "display_data"
    },
    {
     "data": {
      "application/vnd.jupyter.widget-view+json": {
       "model_id": "",
       "version_major": 2,
       "version_minor": 0
      },
      "text/plain": [
       "HBox(children=(HTML(value='Minibatch'), FloatProgress(value=0.0, max=5.0), HTML(value='')))"
      ]
     },
     "metadata": {},
     "output_type": "display_data"
    },
    {
     "data": {
      "application/vnd.jupyter.widget-view+json": {
       "model_id": "",
       "version_major": 2,
       "version_minor": 0
      },
      "text/plain": [
       "HBox(children=(HTML(value='Minibatch'), FloatProgress(value=0.0, max=5.0), HTML(value='')))"
      ]
     },
     "metadata": {},
     "output_type": "display_data"
    },
    {
     "data": {
      "application/vnd.jupyter.widget-view+json": {
       "model_id": "",
       "version_major": 2,
       "version_minor": 0
      },
      "text/plain": [
       "HBox(children=(HTML(value='Minibatch'), FloatProgress(value=0.0, max=5.0), HTML(value='')))"
      ]
     },
     "metadata": {},
     "output_type": "display_data"
    },
    {
     "name": "stdout",
     "output_type": "stream",
     "text": [
      "iter: 30/100\n",
      "loss:  3.392125189304352\n",
      "lengthscale:  12.88306713104248\n"
     ]
    },
    {
     "data": {
      "application/vnd.jupyter.widget-view+json": {
       "model_id": "",
       "version_major": 2,
       "version_minor": 0
      },
      "text/plain": [
       "HBox(children=(HTML(value='Minibatch'), FloatProgress(value=0.0, max=5.0), HTML(value='')))"
      ]
     },
     "metadata": {},
     "output_type": "display_data"
    },
    {
     "data": {
      "application/vnd.jupyter.widget-view+json": {
       "model_id": "",
       "version_major": 2,
       "version_minor": 0
      },
      "text/plain": [
       "HBox(children=(HTML(value='Minibatch'), FloatProgress(value=0.0, max=5.0), HTML(value='')))"
      ]
     },
     "metadata": {},
     "output_type": "display_data"
    },
    {
     "data": {
      "application/vnd.jupyter.widget-view+json": {
       "model_id": "",
       "version_major": 2,
       "version_minor": 0
      },
      "text/plain": [
       "HBox(children=(HTML(value='Minibatch'), FloatProgress(value=0.0, max=5.0), HTML(value='')))"
      ]
     },
     "metadata": {},
     "output_type": "display_data"
    },
    {
     "data": {
      "application/vnd.jupyter.widget-view+json": {
       "model_id": "",
       "version_major": 2,
       "version_minor": 0
      },
      "text/plain": [
       "HBox(children=(HTML(value='Minibatch'), FloatProgress(value=0.0, max=5.0), HTML(value='')))"
      ]
     },
     "metadata": {},
     "output_type": "display_data"
    },
    {
     "data": {
      "application/vnd.jupyter.widget-view+json": {
       "model_id": "",
       "version_major": 2,
       "version_minor": 0
      },
      "text/plain": [
       "HBox(children=(HTML(value='Minibatch'), FloatProgress(value=0.0, max=5.0), HTML(value='')))"
      ]
     },
     "metadata": {},
     "output_type": "display_data"
    },
    {
     "data": {
      "application/vnd.jupyter.widget-view+json": {
       "model_id": "",
       "version_major": 2,
       "version_minor": 0
      },
      "text/plain": [
       "HBox(children=(HTML(value='Minibatch'), FloatProgress(value=0.0, max=5.0), HTML(value='')))"
      ]
     },
     "metadata": {},
     "output_type": "display_data"
    },
    {
     "data": {
      "application/vnd.jupyter.widget-view+json": {
       "model_id": "",
       "version_major": 2,
       "version_minor": 0
      },
      "text/plain": [
       "HBox(children=(HTML(value='Minibatch'), FloatProgress(value=0.0, max=5.0), HTML(value='')))"
      ]
     },
     "metadata": {},
     "output_type": "display_data"
    },
    {
     "data": {
      "application/vnd.jupyter.widget-view+json": {
       "model_id": "",
       "version_major": 2,
       "version_minor": 0
      },
      "text/plain": [
       "HBox(children=(HTML(value='Minibatch'), FloatProgress(value=0.0, max=5.0), HTML(value='')))"
      ]
     },
     "metadata": {},
     "output_type": "display_data"
    },
    {
     "data": {
      "application/vnd.jupyter.widget-view+json": {
       "model_id": "",
       "version_major": 2,
       "version_minor": 0
      },
      "text/plain": [
       "HBox(children=(HTML(value='Minibatch'), FloatProgress(value=0.0, max=5.0), HTML(value='')))"
      ]
     },
     "metadata": {},
     "output_type": "display_data"
    },
    {
     "data": {
      "application/vnd.jupyter.widget-view+json": {
       "model_id": "",
       "version_major": 2,
       "version_minor": 0
      },
      "text/plain": [
       "HBox(children=(HTML(value='Minibatch'), FloatProgress(value=0.0, max=5.0), HTML(value='')))"
      ]
     },
     "metadata": {},
     "output_type": "display_data"
    },
    {
     "name": "stdout",
     "output_type": "stream",
     "text": [
      "iter: 40/100\n",
      "loss:  3.4345131516456604\n",
      "lengthscale:  13.12226676940918\n"
     ]
    },
    {
     "data": {
      "application/vnd.jupyter.widget-view+json": {
       "model_id": "",
       "version_major": 2,
       "version_minor": 0
      },
      "text/plain": [
       "HBox(children=(HTML(value='Minibatch'), FloatProgress(value=0.0, max=5.0), HTML(value='')))"
      ]
     },
     "metadata": {},
     "output_type": "display_data"
    },
    {
     "data": {
      "application/vnd.jupyter.widget-view+json": {
       "model_id": "",
       "version_major": 2,
       "version_minor": 0
      },
      "text/plain": [
       "HBox(children=(HTML(value='Minibatch'), FloatProgress(value=0.0, max=5.0), HTML(value='')))"
      ]
     },
     "metadata": {},
     "output_type": "display_data"
    },
    {
     "data": {
      "application/vnd.jupyter.widget-view+json": {
       "model_id": "",
       "version_major": 2,
       "version_minor": 0
      },
      "text/plain": [
       "HBox(children=(HTML(value='Minibatch'), FloatProgress(value=0.0, max=5.0), HTML(value='')))"
      ]
     },
     "metadata": {},
     "output_type": "display_data"
    },
    {
     "data": {
      "application/vnd.jupyter.widget-view+json": {
       "model_id": "",
       "version_major": 2,
       "version_minor": 0
      },
      "text/plain": [
       "HBox(children=(HTML(value='Minibatch'), FloatProgress(value=0.0, max=5.0), HTML(value='')))"
      ]
     },
     "metadata": {},
     "output_type": "display_data"
    },
    {
     "data": {
      "application/vnd.jupyter.widget-view+json": {
       "model_id": "",
       "version_major": 2,
       "version_minor": 0
      },
      "text/plain": [
       "HBox(children=(HTML(value='Minibatch'), FloatProgress(value=0.0, max=5.0), HTML(value='')))"
      ]
     },
     "metadata": {},
     "output_type": "display_data"
    },
    {
     "data": {
      "application/vnd.jupyter.widget-view+json": {
       "model_id": "",
       "version_major": 2,
       "version_minor": 0
      },
      "text/plain": [
       "HBox(children=(HTML(value='Minibatch'), FloatProgress(value=0.0, max=5.0), HTML(value='')))"
      ]
     },
     "metadata": {},
     "output_type": "display_data"
    },
    {
     "data": {
      "application/vnd.jupyter.widget-view+json": {
       "model_id": "",
       "version_major": 2,
       "version_minor": 0
      },
      "text/plain": [
       "HBox(children=(HTML(value='Minibatch'), FloatProgress(value=0.0, max=5.0), HTML(value='')))"
      ]
     },
     "metadata": {},
     "output_type": "display_data"
    },
    {
     "data": {
      "application/vnd.jupyter.widget-view+json": {
       "model_id": "",
       "version_major": 2,
       "version_minor": 0
      },
      "text/plain": [
       "HBox(children=(HTML(value='Minibatch'), FloatProgress(value=0.0, max=5.0), HTML(value='')))"
      ]
     },
     "metadata": {},
     "output_type": "display_data"
    },
    {
     "data": {
      "application/vnd.jupyter.widget-view+json": {
       "model_id": "",
       "version_major": 2,
       "version_minor": 0
      },
      "text/plain": [
       "HBox(children=(HTML(value='Minibatch'), FloatProgress(value=0.0, max=5.0), HTML(value='')))"
      ]
     },
     "metadata": {},
     "output_type": "display_data"
    },
    {
     "data": {
      "application/vnd.jupyter.widget-view+json": {
       "model_id": "",
       "version_major": 2,
       "version_minor": 0
      },
      "text/plain": [
       "HBox(children=(HTML(value='Minibatch'), FloatProgress(value=0.0, max=5.0), HTML(value='')))"
      ]
     },
     "metadata": {},
     "output_type": "display_data"
    },
    {
     "name": "stdout",
     "output_type": "stream",
     "text": [
      "iter: 50/100\n",
      "loss:  3.3109476566314697\n",
      "lengthscale:  13.316186904907227\n"
     ]
    },
    {
     "data": {
      "application/vnd.jupyter.widget-view+json": {
       "model_id": "",
       "version_major": 2,
       "version_minor": 0
      },
      "text/plain": [
       "HBox(children=(HTML(value='Minibatch'), FloatProgress(value=0.0, max=5.0), HTML(value='')))"
      ]
     },
     "metadata": {},
     "output_type": "display_data"
    },
    {
     "data": {
      "application/vnd.jupyter.widget-view+json": {
       "model_id": "",
       "version_major": 2,
       "version_minor": 0
      },
      "text/plain": [
       "HBox(children=(HTML(value='Minibatch'), FloatProgress(value=0.0, max=5.0), HTML(value='')))"
      ]
     },
     "metadata": {},
     "output_type": "display_data"
    },
    {
     "data": {
      "application/vnd.jupyter.widget-view+json": {
       "model_id": "",
       "version_major": 2,
       "version_minor": 0
      },
      "text/plain": [
       "HBox(children=(HTML(value='Minibatch'), FloatProgress(value=0.0, max=5.0), HTML(value='')))"
      ]
     },
     "metadata": {},
     "output_type": "display_data"
    },
    {
     "data": {
      "application/vnd.jupyter.widget-view+json": {
       "model_id": "",
       "version_major": 2,
       "version_minor": 0
      },
      "text/plain": [
       "HBox(children=(HTML(value='Minibatch'), FloatProgress(value=0.0, max=5.0), HTML(value='')))"
      ]
     },
     "metadata": {},
     "output_type": "display_data"
    },
    {
     "data": {
      "application/vnd.jupyter.widget-view+json": {
       "model_id": "",
       "version_major": 2,
       "version_minor": 0
      },
      "text/plain": [
       "HBox(children=(HTML(value='Minibatch'), FloatProgress(value=0.0, max=5.0), HTML(value='')))"
      ]
     },
     "metadata": {},
     "output_type": "display_data"
    },
    {
     "data": {
      "application/vnd.jupyter.widget-view+json": {
       "model_id": "",
       "version_major": 2,
       "version_minor": 0
      },
      "text/plain": [
       "HBox(children=(HTML(value='Minibatch'), FloatProgress(value=0.0, max=5.0), HTML(value='')))"
      ]
     },
     "metadata": {},
     "output_type": "display_data"
    },
    {
     "data": {
      "application/vnd.jupyter.widget-view+json": {
       "model_id": "",
       "version_major": 2,
       "version_minor": 0
      },
      "text/plain": [
       "HBox(children=(HTML(value='Minibatch'), FloatProgress(value=0.0, max=5.0), HTML(value='')))"
      ]
     },
     "metadata": {},
     "output_type": "display_data"
    },
    {
     "data": {
      "application/vnd.jupyter.widget-view+json": {
       "model_id": "",
       "version_major": 2,
       "version_minor": 0
      },
      "text/plain": [
       "HBox(children=(HTML(value='Minibatch'), FloatProgress(value=0.0, max=5.0), HTML(value='')))"
      ]
     },
     "metadata": {},
     "output_type": "display_data"
    },
    {
     "data": {
      "application/vnd.jupyter.widget-view+json": {
       "model_id": "",
       "version_major": 2,
       "version_minor": 0
      },
      "text/plain": [
       "HBox(children=(HTML(value='Minibatch'), FloatProgress(value=0.0, max=5.0), HTML(value='')))"
      ]
     },
     "metadata": {},
     "output_type": "display_data"
    },
    {
     "data": {
      "application/vnd.jupyter.widget-view+json": {
       "model_id": "",
       "version_major": 2,
       "version_minor": 0
      },
      "text/plain": [
       "HBox(children=(HTML(value='Minibatch'), FloatProgress(value=0.0, max=5.0), HTML(value='')))"
      ]
     },
     "metadata": {},
     "output_type": "display_data"
    },
    {
     "name": "stdout",
     "output_type": "stream",
     "text": [
      "iter: 60/100\n",
      "loss:  3.3539559841156006\n",
      "lengthscale:  13.507547378540039\n"
     ]
    },
    {
     "data": {
      "application/vnd.jupyter.widget-view+json": {
       "model_id": "",
       "version_major": 2,
       "version_minor": 0
      },
      "text/plain": [
       "HBox(children=(HTML(value='Minibatch'), FloatProgress(value=0.0, max=5.0), HTML(value='')))"
      ]
     },
     "metadata": {},
     "output_type": "display_data"
    },
    {
     "data": {
      "application/vnd.jupyter.widget-view+json": {
       "model_id": "",
       "version_major": 2,
       "version_minor": 0
      },
      "text/plain": [
       "HBox(children=(HTML(value='Minibatch'), FloatProgress(value=0.0, max=5.0), HTML(value='')))"
      ]
     },
     "metadata": {},
     "output_type": "display_data"
    },
    {
     "data": {
      "application/vnd.jupyter.widget-view+json": {
       "model_id": "",
       "version_major": 2,
       "version_minor": 0
      },
      "text/plain": [
       "HBox(children=(HTML(value='Minibatch'), FloatProgress(value=0.0, max=5.0), HTML(value='')))"
      ]
     },
     "metadata": {},
     "output_type": "display_data"
    },
    {
     "data": {
      "application/vnd.jupyter.widget-view+json": {
       "model_id": "",
       "version_major": 2,
       "version_minor": 0
      },
      "text/plain": [
       "HBox(children=(HTML(value='Minibatch'), FloatProgress(value=0.0, max=5.0), HTML(value='')))"
      ]
     },
     "metadata": {},
     "output_type": "display_data"
    },
    {
     "data": {
      "application/vnd.jupyter.widget-view+json": {
       "model_id": "",
       "version_major": 2,
       "version_minor": 0
      },
      "text/plain": [
       "HBox(children=(HTML(value='Minibatch'), FloatProgress(value=0.0, max=5.0), HTML(value='')))"
      ]
     },
     "metadata": {},
     "output_type": "display_data"
    },
    {
     "data": {
      "application/vnd.jupyter.widget-view+json": {
       "model_id": "",
       "version_major": 2,
       "version_minor": 0
      },
      "text/plain": [
       "HBox(children=(HTML(value='Minibatch'), FloatProgress(value=0.0, max=5.0), HTML(value='')))"
      ]
     },
     "metadata": {},
     "output_type": "display_data"
    },
    {
     "data": {
      "application/vnd.jupyter.widget-view+json": {
       "model_id": "",
       "version_major": 2,
       "version_minor": 0
      },
      "text/plain": [
       "HBox(children=(HTML(value='Minibatch'), FloatProgress(value=0.0, max=5.0), HTML(value='')))"
      ]
     },
     "metadata": {},
     "output_type": "display_data"
    },
    {
     "data": {
      "application/vnd.jupyter.widget-view+json": {
       "model_id": "",
       "version_major": 2,
       "version_minor": 0
      },
      "text/plain": [
       "HBox(children=(HTML(value='Minibatch'), FloatProgress(value=0.0, max=5.0), HTML(value='')))"
      ]
     },
     "metadata": {},
     "output_type": "display_data"
    },
    {
     "data": {
      "application/vnd.jupyter.widget-view+json": {
       "model_id": "",
       "version_major": 2,
       "version_minor": 0
      },
      "text/plain": [
       "HBox(children=(HTML(value='Minibatch'), FloatProgress(value=0.0, max=5.0), HTML(value='')))"
      ]
     },
     "metadata": {},
     "output_type": "display_data"
    },
    {
     "data": {
      "application/vnd.jupyter.widget-view+json": {
       "model_id": "",
       "version_major": 2,
       "version_minor": 0
      },
      "text/plain": [
       "HBox(children=(HTML(value='Minibatch'), FloatProgress(value=0.0, max=5.0), HTML(value='')))"
      ]
     },
     "metadata": {},
     "output_type": "display_data"
    },
    {
     "name": "stdout",
     "output_type": "stream",
     "text": [
      "iter: 70/100\n",
      "loss:  3.385593831539154\n",
      "lengthscale:  13.694103240966797\n"
     ]
    },
    {
     "data": {
      "application/vnd.jupyter.widget-view+json": {
       "model_id": "",
       "version_major": 2,
       "version_minor": 0
      },
      "text/plain": [
       "HBox(children=(HTML(value='Minibatch'), FloatProgress(value=0.0, max=5.0), HTML(value='')))"
      ]
     },
     "metadata": {},
     "output_type": "display_data"
    },
    {
     "data": {
      "application/vnd.jupyter.widget-view+json": {
       "model_id": "",
       "version_major": 2,
       "version_minor": 0
      },
      "text/plain": [
       "HBox(children=(HTML(value='Minibatch'), FloatProgress(value=0.0, max=5.0), HTML(value='')))"
      ]
     },
     "metadata": {},
     "output_type": "display_data"
    },
    {
     "data": {
      "application/vnd.jupyter.widget-view+json": {
       "model_id": "",
       "version_major": 2,
       "version_minor": 0
      },
      "text/plain": [
       "HBox(children=(HTML(value='Minibatch'), FloatProgress(value=0.0, max=5.0), HTML(value='')))"
      ]
     },
     "metadata": {},
     "output_type": "display_data"
    },
    {
     "data": {
      "application/vnd.jupyter.widget-view+json": {
       "model_id": "",
       "version_major": 2,
       "version_minor": 0
      },
      "text/plain": [
       "HBox(children=(HTML(value='Minibatch'), FloatProgress(value=0.0, max=5.0), HTML(value='')))"
      ]
     },
     "metadata": {},
     "output_type": "display_data"
    },
    {
     "data": {
      "application/vnd.jupyter.widget-view+json": {
       "model_id": "",
       "version_major": 2,
       "version_minor": 0
      },
      "text/plain": [
       "HBox(children=(HTML(value='Minibatch'), FloatProgress(value=0.0, max=5.0), HTML(value='')))"
      ]
     },
     "metadata": {},
     "output_type": "display_data"
    },
    {
     "data": {
      "application/vnd.jupyter.widget-view+json": {
       "model_id": "",
       "version_major": 2,
       "version_minor": 0
      },
      "text/plain": [
       "HBox(children=(HTML(value='Minibatch'), FloatProgress(value=0.0, max=5.0), HTML(value='')))"
      ]
     },
     "metadata": {},
     "output_type": "display_data"
    },
    {
     "data": {
      "application/vnd.jupyter.widget-view+json": {
       "model_id": "",
       "version_major": 2,
       "version_minor": 0
      },
      "text/plain": [
       "HBox(children=(HTML(value='Minibatch'), FloatProgress(value=0.0, max=5.0), HTML(value='')))"
      ]
     },
     "metadata": {},
     "output_type": "display_data"
    },
    {
     "data": {
      "application/vnd.jupyter.widget-view+json": {
       "model_id": "",
       "version_major": 2,
       "version_minor": 0
      },
      "text/plain": [
       "HBox(children=(HTML(value='Minibatch'), FloatProgress(value=0.0, max=5.0), HTML(value='')))"
      ]
     },
     "metadata": {},
     "output_type": "display_data"
    },
    {
     "data": {
      "application/vnd.jupyter.widget-view+json": {
       "model_id": "",
       "version_major": 2,
       "version_minor": 0
      },
      "text/plain": [
       "HBox(children=(HTML(value='Minibatch'), FloatProgress(value=0.0, max=5.0), HTML(value='')))"
      ]
     },
     "metadata": {},
     "output_type": "display_data"
    },
    {
     "data": {
      "application/vnd.jupyter.widget-view+json": {
       "model_id": "",
       "version_major": 2,
       "version_minor": 0
      },
      "text/plain": [
       "HBox(children=(HTML(value='Minibatch'), FloatProgress(value=0.0, max=5.0), HTML(value='')))"
      ]
     },
     "metadata": {},
     "output_type": "display_data"
    },
    {
     "name": "stdout",
     "output_type": "stream",
     "text": [
      "iter: 80/100\n",
      "loss:  3.402866780757904\n",
      "lengthscale:  13.835494041442871\n"
     ]
    },
    {
     "data": {
      "application/vnd.jupyter.widget-view+json": {
       "model_id": "",
       "version_major": 2,
       "version_minor": 0
      },
      "text/plain": [
       "HBox(children=(HTML(value='Minibatch'), FloatProgress(value=0.0, max=5.0), HTML(value='')))"
      ]
     },
     "metadata": {},
     "output_type": "display_data"
    },
    {
     "data": {
      "application/vnd.jupyter.widget-view+json": {
       "model_id": "",
       "version_major": 2,
       "version_minor": 0
      },
      "text/plain": [
       "HBox(children=(HTML(value='Minibatch'), FloatProgress(value=0.0, max=5.0), HTML(value='')))"
      ]
     },
     "metadata": {},
     "output_type": "display_data"
    },
    {
     "data": {
      "application/vnd.jupyter.widget-view+json": {
       "model_id": "",
       "version_major": 2,
       "version_minor": 0
      },
      "text/plain": [
       "HBox(children=(HTML(value='Minibatch'), FloatProgress(value=0.0, max=5.0), HTML(value='')))"
      ]
     },
     "metadata": {},
     "output_type": "display_data"
    },
    {
     "data": {
      "application/vnd.jupyter.widget-view+json": {
       "model_id": "",
       "version_major": 2,
       "version_minor": 0
      },
      "text/plain": [
       "HBox(children=(HTML(value='Minibatch'), FloatProgress(value=0.0, max=5.0), HTML(value='')))"
      ]
     },
     "metadata": {},
     "output_type": "display_data"
    },
    {
     "data": {
      "application/vnd.jupyter.widget-view+json": {
       "model_id": "",
       "version_major": 2,
       "version_minor": 0
      },
      "text/plain": [
       "HBox(children=(HTML(value='Minibatch'), FloatProgress(value=0.0, max=5.0), HTML(value='')))"
      ]
     },
     "metadata": {},
     "output_type": "display_data"
    },
    {
     "data": {
      "application/vnd.jupyter.widget-view+json": {
       "model_id": "",
       "version_major": 2,
       "version_minor": 0
      },
      "text/plain": [
       "HBox(children=(HTML(value='Minibatch'), FloatProgress(value=0.0, max=5.0), HTML(value='')))"
      ]
     },
     "metadata": {},
     "output_type": "display_data"
    },
    {
     "data": {
      "application/vnd.jupyter.widget-view+json": {
       "model_id": "",
       "version_major": 2,
       "version_minor": 0
      },
      "text/plain": [
       "HBox(children=(HTML(value='Minibatch'), FloatProgress(value=0.0, max=5.0), HTML(value='')))"
      ]
     },
     "metadata": {},
     "output_type": "display_data"
    },
    {
     "data": {
      "application/vnd.jupyter.widget-view+json": {
       "model_id": "",
       "version_major": 2,
       "version_minor": 0
      },
      "text/plain": [
       "HBox(children=(HTML(value='Minibatch'), FloatProgress(value=0.0, max=5.0), HTML(value='')))"
      ]
     },
     "metadata": {},
     "output_type": "display_data"
    },
    {
     "data": {
      "application/vnd.jupyter.widget-view+json": {
       "model_id": "",
       "version_major": 2,
       "version_minor": 0
      },
      "text/plain": [
       "HBox(children=(HTML(value='Minibatch'), FloatProgress(value=0.0, max=5.0), HTML(value='')))"
      ]
     },
     "metadata": {},
     "output_type": "display_data"
    },
    {
     "data": {
      "application/vnd.jupyter.widget-view+json": {
       "model_id": "",
       "version_major": 2,
       "version_minor": 0
      },
      "text/plain": [
       "HBox(children=(HTML(value='Minibatch'), FloatProgress(value=0.0, max=5.0), HTML(value='')))"
      ]
     },
     "metadata": {},
     "output_type": "display_data"
    },
    {
     "name": "stdout",
     "output_type": "stream",
     "text": [
      "iter: 90/100\n",
      "loss:  3.3855857253074646\n",
      "lengthscale:  13.881141662597656\n"
     ]
    },
    {
     "data": {
      "application/vnd.jupyter.widget-view+json": {
       "model_id": "",
       "version_major": 2,
       "version_minor": 0
      },
      "text/plain": [
       "HBox(children=(HTML(value='Minibatch'), FloatProgress(value=0.0, max=5.0), HTML(value='')))"
      ]
     },
     "metadata": {},
     "output_type": "display_data"
    },
    {
     "data": {
      "application/vnd.jupyter.widget-view+json": {
       "model_id": "",
       "version_major": 2,
       "version_minor": 0
      },
      "text/plain": [
       "HBox(children=(HTML(value='Minibatch'), FloatProgress(value=0.0, max=5.0), HTML(value='')))"
      ]
     },
     "metadata": {},
     "output_type": "display_data"
    },
    {
     "data": {
      "application/vnd.jupyter.widget-view+json": {
       "model_id": "",
       "version_major": 2,
       "version_minor": 0
      },
      "text/plain": [
       "HBox(children=(HTML(value='Minibatch'), FloatProgress(value=0.0, max=5.0), HTML(value='')))"
      ]
     },
     "metadata": {},
     "output_type": "display_data"
    },
    {
     "data": {
      "application/vnd.jupyter.widget-view+json": {
       "model_id": "",
       "version_major": 2,
       "version_minor": 0
      },
      "text/plain": [
       "HBox(children=(HTML(value='Minibatch'), FloatProgress(value=0.0, max=5.0), HTML(value='')))"
      ]
     },
     "metadata": {},
     "output_type": "display_data"
    },
    {
     "data": {
      "application/vnd.jupyter.widget-view+json": {
       "model_id": "",
       "version_major": 2,
       "version_minor": 0
      },
      "text/plain": [
       "HBox(children=(HTML(value='Minibatch'), FloatProgress(value=0.0, max=5.0), HTML(value='')))"
      ]
     },
     "metadata": {},
     "output_type": "display_data"
    },
    {
     "data": {
      "application/vnd.jupyter.widget-view+json": {
       "model_id": "",
       "version_major": 2,
       "version_minor": 0
      },
      "text/plain": [
       "HBox(children=(HTML(value='Minibatch'), FloatProgress(value=0.0, max=5.0), HTML(value='')))"
      ]
     },
     "metadata": {},
     "output_type": "display_data"
    },
    {
     "data": {
      "application/vnd.jupyter.widget-view+json": {
       "model_id": "",
       "version_major": 2,
       "version_minor": 0
      },
      "text/plain": [
       "HBox(children=(HTML(value='Minibatch'), FloatProgress(value=0.0, max=5.0), HTML(value='')))"
      ]
     },
     "metadata": {},
     "output_type": "display_data"
    },
    {
     "data": {
      "application/vnd.jupyter.widget-view+json": {
       "model_id": "",
       "version_major": 2,
       "version_minor": 0
      },
      "text/plain": [
       "HBox(children=(HTML(value='Minibatch'), FloatProgress(value=0.0, max=5.0), HTML(value='')))"
      ]
     },
     "metadata": {},
     "output_type": "display_data"
    },
    {
     "data": {
      "application/vnd.jupyter.widget-view+json": {
       "model_id": "",
       "version_major": 2,
       "version_minor": 0
      },
      "text/plain": [
       "HBox(children=(HTML(value='Minibatch'), FloatProgress(value=0.0, max=5.0), HTML(value='')))"
      ]
     },
     "metadata": {},
     "output_type": "display_data"
    },
    {
     "name": "stdout",
     "output_type": "stream",
     "text": [
      "\n",
      "(1.3273024559020996, -1.6629081964492798, 0.20219579339027405)\n"
     ]
    }
   ],
   "source": [
    "# SVIGP_log\n",
    "NUM_INDUCING_POINTS_SVI=1000\n",
    "train_dataset_GSS7402_log = TensorDataset(X_GSS7402_train, torch.log(torch.maximum(y_GSS7402_train, 0.1*torch.ones_like(y_GSS7402_train))))\n",
    "train_loader_GSS7402_log = DataLoader(train_dataset_GSS7402_log, batch_size=512, shuffle=True)\n",
    "test_dataset_GSS7402_log = TensorDataset(X_GSS7402_test, y_GSS7402_test)\n",
    "test_loader_GSS7402_log = DataLoader(test_dataset_GSS7402_log, batch_size=512, shuffle=False)\n",
    "\n",
    "y_GSS7402_train_log = torch.log(torch.maximum(y_GSS7402_train, 0.1*torch.ones_like(y_GSS7402_train)))\n",
    "model_SVI_GSS7402_log, likelihood_SVI_GSS7402_log = count_models.create_SVIGP_model(X_GSS7402_train, kernel=KERNEL_GSS7402, \n",
    "                                        init_lengthscale=INIT_LENGTHSCALE_GSS7402, num_inducing_points=NUM_INDUCING_POINTS_SVI)\n",
    "model_SVI_GSS7402_log, likelihood_SVI_GSS7402_log = count_models.train_SVIGP_model(train_loader_GSS7402_log, y_GSS7402_train, \n",
    "                                            model_SVI_GSS7402_log, likelihood_SVI_GSS7402_log,\n",
    "                                num_iter=NUM_ITER_GSS7402, lr=0.1, report_iter=NUM_ITER_GSS7402//10)\n",
    "GSS7402_SVIGP_log_res = count_models.evaluate_SVIGP_log(model_SVI_GSS7402_log, likelihood_SVI_GSS7402_log, test_loader_GSS7402_log, y_GSS7402_test)\n",
    "print(GSS7402_SVIGP_log_res)"
   ]
  },
  {
   "cell_type": "markdown",
   "metadata": {},
   "source": [
    "## MEDICAID"
   ]
  },
  {
   "cell_type": "code",
   "execution_count": 41,
   "metadata": {},
   "outputs": [],
   "source": [
    "NUM_ITER_MEDIC = 100\n",
    "INIT_LENGTHSCALE_MEDIC = 10\n",
    "KERNEL_MEDIC = \"RBF\""
   ]
  },
  {
   "cell_type": "code",
   "execution_count": 42,
   "metadata": {},
   "outputs": [
    {
     "name": "stdout",
     "output_type": "stream",
     "text": [
      "Iter 1/100 - Loss: 6.736   lengthscale: 10.000\n",
      "Iter 11/100 - Loss: 4.253   lengthscale: 9.018\n",
      "Iter 21/100 - Loss: 3.406   lengthscale: 8.112\n",
      "Iter 31/100 - Loss: 3.069   lengthscale: 7.293\n",
      "Iter 41/100 - Loss: 2.902   lengthscale: 6.536\n",
      "Iter 51/100 - Loss: 2.802   lengthscale: 5.805\n",
      "Iter 61/100 - Loss: 2.730   lengthscale: 5.068\n",
      "Iter 71/100 - Loss: 2.673   lengthscale: 4.311\n",
      "Iter 81/100 - Loss: 2.628   lengthscale: 3.568\n",
      "Iter 91/100 - Loss: 2.601   lengthscale: 2.930\n",
      "(3.662048816680908, -2.6649694442749023, 0.9483282566070557)\n"
     ]
    }
   ],
   "source": [
    "# Exact GP\n",
    "ExactGP_model_MEDIC, ExactGP_likelihood_MEDIC = count_models.create_ExactGP_model(X_MEDIC_train, y_MEDIC_train, \n",
    "                                                    init_lengthscale=INIT_LENGTHSCALE_MEDIC, kernel=KERNEL_MEDIC)\n",
    "ExactGP_model_MEDIC, ExactGP_likelihood_MEDIC = count_models.train_ExactGP_model(X_MEDIC_train, y_MEDIC_train, ExactGP_model_MEDIC, \n",
    "                            ExactGP_likelihood_MEDIC, num_iter=NUM_ITER_MEDIC, lr=0.1, report_iter=NUM_ITER_MEDIC//10)\n",
    "MEDIC_ExactGP_res = count_models.evaluate_ExactGP(ExactGP_model_MEDIC, ExactGP_likelihood_MEDIC, X_MEDIC_test, y_MEDIC_test)\n",
    "print(MEDIC_ExactGP_res)"
   ]
  },
  {
   "cell_type": "code",
   "execution_count": 43,
   "metadata": {},
   "outputs": [
    {
     "name": "stdout",
     "output_type": "stream",
     "text": [
      "Iter 1/100 - Loss: 2.366   lengthscale: 10.000\n",
      "Iter 11/100 - Loss: 1.967   lengthscale: 9.054\n",
      "Iter 21/100 - Loss: 1.903   lengthscale: 8.456\n",
      "Iter 31/100 - Loss: 1.895   lengthscale: 8.385\n",
      "Iter 41/100 - Loss: 1.892   lengthscale: 8.672\n",
      "Iter 51/100 - Loss: 1.889   lengthscale: 9.088\n",
      "Iter 61/100 - Loss: 1.887   lengthscale: 9.491\n",
      "Iter 71/100 - Loss: 1.886   lengthscale: 9.818\n",
      "Iter 81/100 - Loss: 1.885   lengthscale: 10.058\n",
      "Iter 91/100 - Loss: 1.885   lengthscale: 10.236\n",
      "(4.119610786437988, -22.337148666381836, 0.7477203607559204)\n"
     ]
    }
   ],
   "source": [
    "# ExactGP_log\n",
    "y_MEDIC_train_log = torch.log(torch.maximum(y_MEDIC_train, 0.1*torch.ones_like(y_MEDIC_train)))\n",
    "ExactGP_model_MEDIC_log, ExactGP_likelihood_MEDIC_log = count_models.create_ExactGP_model(X_MEDIC_train, y_MEDIC_train_log, \n",
    "                                                    init_lengthscale=INIT_LENGTHSCALE_MEDIC, kernel=KERNEL_MEDIC)\n",
    "ExactGP_model_MEDIC_log, ExactGP_likelihood_MEDIC_log = count_models.train_ExactGP_model(X_MEDIC_train, y_MEDIC_train_log, ExactGP_model_MEDIC_log, \n",
    "                            ExactGP_likelihood_MEDIC_log, num_iter=NUM_ITER_MEDIC, lr=0.1, report_iter=NUM_ITER_MEDIC//10)\n",
    "MEDIC_ExactGP_log_res = count_models.evaluate_ExactGP(ExactGP_model_MEDIC_log, ExactGP_likelihood_MEDIC_log, X_MEDIC_test, y_MEDIC_test)\n",
    "print(MEDIC_ExactGP_log_res)"
   ]
  },
  {
   "cell_type": "code",
   "execution_count": 44,
   "metadata": {},
   "outputs": [
    {
     "name": "stdout",
     "output_type": "stream",
     "text": [
      "Iter 1/100 - Loss: 2.152; lengthscale: 10.000; noise: 5.147\n",
      "Iter 11/100 - Loss: 2.139; lengthscale: 10.753; noise: 4.787\n",
      "Iter 21/100 - Loss: 2.138; lengthscale: 10.700; noise: 4.679\n",
      "Iter 31/100 - Loss: 2.138; lengthscale: 10.695; noise: 4.668\n",
      "Iter 41/100 - Loss: 2.138; lengthscale: 10.835; noise: 4.695\n",
      "Iter 51/100 - Loss: 2.138; lengthscale: 10.850; noise: 4.729\n",
      "Iter 61/100 - Loss: 2.138; lengthscale: 11.088; noise: 4.729\n",
      "Iter 71/100 - Loss: 2.138; lengthscale: 11.418; noise: 4.720\n",
      "Iter 81/100 - Loss: 2.138; lengthscale: 11.850; noise: 4.723\n",
      "Iter 91/100 - Loss: 2.138; lengthscale: 12.463; noise: 4.731\n",
      "(3.5896575450897217, -2.579904794692993, 0.4893617033958435)\n"
     ]
    }
   ],
   "source": [
    "# LMGP_gamma\n",
    "y_MEDIC_train_mu, y_MEDIC_train_var = count_models.transform_y_Gamma_LM(y_MEDIC_train, alpha_eps=alpha_eps, counts=1)\n",
    "LMGP_model_MEDIC, LMGP_likelihood_MEDIC = count_models.create_LM_Gamma_GP_model(X_MEDIC_train, y_MEDIC_train_mu, y_MEDIC_train_var,\n",
    "                                    kernel=KERNEL_MEDIC, init_lengthscale=INIT_LENGTHSCALE_MEDIC, fixed_likelihood=True)\n",
    "LMGP_model_MEDIC, LMGP_likelihood_MEDIC = count_models.train_LM_Gamma_GP_model(X_MEDIC_train, y_MEDIC_train_mu,\n",
    "                                LMGP_model_MEDIC, LMGP_likelihood_MEDIC, num_iter=NUM_ITER_MEDIC, lr=0.1, report_iter=NUM_ITER_MEDIC//10)\n",
    "MEDIC_LMGP_res = count_models.evaluate_LM_Gamma_GP(LMGP_model_MEDIC, LMGP_likelihood_MEDIC, X_MEDIC_test, y_MEDIC_test)\n",
    "print(MEDIC_LMGP_res)"
   ]
  },
  {
   "cell_type": "code",
   "execution_count": 45,
   "metadata": {},
   "outputs": [
    {
     "data": {
      "application/vnd.jupyter.widget-view+json": {
       "model_id": "6180d6133db44b3ea36a441074660f11",
       "version_major": 2,
       "version_minor": 0
      },
      "text/plain": [
       "HBox(children=(HTML(value='Epoch'), FloatProgress(value=0.0), HTML(value='')))"
      ]
     },
     "metadata": {},
     "output_type": "display_data"
    },
    {
     "data": {
      "application/vnd.jupyter.widget-view+json": {
       "model_id": "",
       "version_major": 2,
       "version_minor": 0
      },
      "text/plain": [
       "HBox(children=(HTML(value='Minibatch'), FloatProgress(value=0.0, max=1.0), HTML(value='')))"
      ]
     },
     "metadata": {},
     "output_type": "display_data"
    },
    {
     "name": "stdout",
     "output_type": "stream",
     "text": [
      "iter: 0/100\n",
      "loss:  3.3281748294830322\n",
      "lengthscale:  10.099835395812988\n"
     ]
    },
    {
     "data": {
      "application/vnd.jupyter.widget-view+json": {
       "model_id": "",
       "version_major": 2,
       "version_minor": 0
      },
      "text/plain": [
       "HBox(children=(HTML(value='Minibatch'), FloatProgress(value=0.0, max=1.0), HTML(value='')))"
      ]
     },
     "metadata": {},
     "output_type": "display_data"
    },
    {
     "data": {
      "application/vnd.jupyter.widget-view+json": {
       "model_id": "",
       "version_major": 2,
       "version_minor": 0
      },
      "text/plain": [
       "HBox(children=(HTML(value='Minibatch'), FloatProgress(value=0.0, max=1.0), HTML(value='')))"
      ]
     },
     "metadata": {},
     "output_type": "display_data"
    },
    {
     "data": {
      "application/vnd.jupyter.widget-view+json": {
       "model_id": "",
       "version_major": 2,
       "version_minor": 0
      },
      "text/plain": [
       "HBox(children=(HTML(value='Minibatch'), FloatProgress(value=0.0, max=1.0), HTML(value='')))"
      ]
     },
     "metadata": {},
     "output_type": "display_data"
    },
    {
     "data": {
      "application/vnd.jupyter.widget-view+json": {
       "model_id": "",
       "version_major": 2,
       "version_minor": 0
      },
      "text/plain": [
       "HBox(children=(HTML(value='Minibatch'), FloatProgress(value=0.0, max=1.0), HTML(value='')))"
      ]
     },
     "metadata": {},
     "output_type": "display_data"
    },
    {
     "data": {
      "application/vnd.jupyter.widget-view+json": {
       "model_id": "",
       "version_major": 2,
       "version_minor": 0
      },
      "text/plain": [
       "HBox(children=(HTML(value='Minibatch'), FloatProgress(value=0.0, max=1.0), HTML(value='')))"
      ]
     },
     "metadata": {},
     "output_type": "display_data"
    },
    {
     "data": {
      "application/vnd.jupyter.widget-view+json": {
       "model_id": "",
       "version_major": 2,
       "version_minor": 0
      },
      "text/plain": [
       "HBox(children=(HTML(value='Minibatch'), FloatProgress(value=0.0, max=1.0), HTML(value='')))"
      ]
     },
     "metadata": {},
     "output_type": "display_data"
    },
    {
     "data": {
      "application/vnd.jupyter.widget-view+json": {
       "model_id": "",
       "version_major": 2,
       "version_minor": 0
      },
      "text/plain": [
       "HBox(children=(HTML(value='Minibatch'), FloatProgress(value=0.0, max=1.0), HTML(value='')))"
      ]
     },
     "metadata": {},
     "output_type": "display_data"
    },
    {
     "data": {
      "application/vnd.jupyter.widget-view+json": {
       "model_id": "",
       "version_major": 2,
       "version_minor": 0
      },
      "text/plain": [
       "HBox(children=(HTML(value='Minibatch'), FloatProgress(value=0.0, max=1.0), HTML(value='')))"
      ]
     },
     "metadata": {},
     "output_type": "display_data"
    },
    {
     "data": {
      "application/vnd.jupyter.widget-view+json": {
       "model_id": "",
       "version_major": 2,
       "version_minor": 0
      },
      "text/plain": [
       "HBox(children=(HTML(value='Minibatch'), FloatProgress(value=0.0, max=1.0), HTML(value='')))"
      ]
     },
     "metadata": {},
     "output_type": "display_data"
    },
    {
     "data": {
      "application/vnd.jupyter.widget-view+json": {
       "model_id": "",
       "version_major": 2,
       "version_minor": 0
      },
      "text/plain": [
       "HBox(children=(HTML(value='Minibatch'), FloatProgress(value=0.0, max=1.0), HTML(value='')))"
      ]
     },
     "metadata": {},
     "output_type": "display_data"
    },
    {
     "name": "stdout",
     "output_type": "stream",
     "text": [
      "iter: 10/100\n",
      "loss:  2.4223732948303223\n",
      "lengthscale:  10.650980949401855\n"
     ]
    },
    {
     "data": {
      "application/vnd.jupyter.widget-view+json": {
       "model_id": "",
       "version_major": 2,
       "version_minor": 0
      },
      "text/plain": [
       "HBox(children=(HTML(value='Minibatch'), FloatProgress(value=0.0, max=1.0), HTML(value='')))"
      ]
     },
     "metadata": {},
     "output_type": "display_data"
    },
    {
     "data": {
      "application/vnd.jupyter.widget-view+json": {
       "model_id": "",
       "version_major": 2,
       "version_minor": 0
      },
      "text/plain": [
       "HBox(children=(HTML(value='Minibatch'), FloatProgress(value=0.0, max=1.0), HTML(value='')))"
      ]
     },
     "metadata": {},
     "output_type": "display_data"
    },
    {
     "data": {
      "application/vnd.jupyter.widget-view+json": {
       "model_id": "",
       "version_major": 2,
       "version_minor": 0
      },
      "text/plain": [
       "HBox(children=(HTML(value='Minibatch'), FloatProgress(value=0.0, max=1.0), HTML(value='')))"
      ]
     },
     "metadata": {},
     "output_type": "display_data"
    },
    {
     "data": {
      "application/vnd.jupyter.widget-view+json": {
       "model_id": "",
       "version_major": 2,
       "version_minor": 0
      },
      "text/plain": [
       "HBox(children=(HTML(value='Minibatch'), FloatProgress(value=0.0, max=1.0), HTML(value='')))"
      ]
     },
     "metadata": {},
     "output_type": "display_data"
    },
    {
     "data": {
      "application/vnd.jupyter.widget-view+json": {
       "model_id": "",
       "version_major": 2,
       "version_minor": 0
      },
      "text/plain": [
       "HBox(children=(HTML(value='Minibatch'), FloatProgress(value=0.0, max=1.0), HTML(value='')))"
      ]
     },
     "metadata": {},
     "output_type": "display_data"
    },
    {
     "data": {
      "application/vnd.jupyter.widget-view+json": {
       "model_id": "",
       "version_major": 2,
       "version_minor": 0
      },
      "text/plain": [
       "HBox(children=(HTML(value='Minibatch'), FloatProgress(value=0.0, max=1.0), HTML(value='')))"
      ]
     },
     "metadata": {},
     "output_type": "display_data"
    },
    {
     "data": {
      "application/vnd.jupyter.widget-view+json": {
       "model_id": "",
       "version_major": 2,
       "version_minor": 0
      },
      "text/plain": [
       "HBox(children=(HTML(value='Minibatch'), FloatProgress(value=0.0, max=1.0), HTML(value='')))"
      ]
     },
     "metadata": {},
     "output_type": "display_data"
    },
    {
     "data": {
      "application/vnd.jupyter.widget-view+json": {
       "model_id": "",
       "version_major": 2,
       "version_minor": 0
      },
      "text/plain": [
       "HBox(children=(HTML(value='Minibatch'), FloatProgress(value=0.0, max=1.0), HTML(value='')))"
      ]
     },
     "metadata": {},
     "output_type": "display_data"
    },
    {
     "data": {
      "application/vnd.jupyter.widget-view+json": {
       "model_id": "",
       "version_major": 2,
       "version_minor": 0
      },
      "text/plain": [
       "HBox(children=(HTML(value='Minibatch'), FloatProgress(value=0.0, max=1.0), HTML(value='')))"
      ]
     },
     "metadata": {},
     "output_type": "display_data"
    },
    {
     "data": {
      "application/vnd.jupyter.widget-view+json": {
       "model_id": "",
       "version_major": 2,
       "version_minor": 0
      },
      "text/plain": [
       "HBox(children=(HTML(value='Minibatch'), FloatProgress(value=0.0, max=1.0), HTML(value='')))"
      ]
     },
     "metadata": {},
     "output_type": "display_data"
    },
    {
     "name": "stdout",
     "output_type": "stream",
     "text": [
      "iter: 20/100\n",
      "loss:  2.0240936279296875\n",
      "lengthscale:  10.73399543762207\n"
     ]
    },
    {
     "data": {
      "application/vnd.jupyter.widget-view+json": {
       "model_id": "",
       "version_major": 2,
       "version_minor": 0
      },
      "text/plain": [
       "HBox(children=(HTML(value='Minibatch'), FloatProgress(value=0.0, max=1.0), HTML(value='')))"
      ]
     },
     "metadata": {},
     "output_type": "display_data"
    },
    {
     "data": {
      "application/vnd.jupyter.widget-view+json": {
       "model_id": "",
       "version_major": 2,
       "version_minor": 0
      },
      "text/plain": [
       "HBox(children=(HTML(value='Minibatch'), FloatProgress(value=0.0, max=1.0), HTML(value='')))"
      ]
     },
     "metadata": {},
     "output_type": "display_data"
    },
    {
     "data": {
      "application/vnd.jupyter.widget-view+json": {
       "model_id": "",
       "version_major": 2,
       "version_minor": 0
      },
      "text/plain": [
       "HBox(children=(HTML(value='Minibatch'), FloatProgress(value=0.0, max=1.0), HTML(value='')))"
      ]
     },
     "metadata": {},
     "output_type": "display_data"
    },
    {
     "data": {
      "application/vnd.jupyter.widget-view+json": {
       "model_id": "",
       "version_major": 2,
       "version_minor": 0
      },
      "text/plain": [
       "HBox(children=(HTML(value='Minibatch'), FloatProgress(value=0.0, max=1.0), HTML(value='')))"
      ]
     },
     "metadata": {},
     "output_type": "display_data"
    },
    {
     "data": {
      "application/vnd.jupyter.widget-view+json": {
       "model_id": "",
       "version_major": 2,
       "version_minor": 0
      },
      "text/plain": [
       "HBox(children=(HTML(value='Minibatch'), FloatProgress(value=0.0, max=1.0), HTML(value='')))"
      ]
     },
     "metadata": {},
     "output_type": "display_data"
    },
    {
     "data": {
      "application/vnd.jupyter.widget-view+json": {
       "model_id": "",
       "version_major": 2,
       "version_minor": 0
      },
      "text/plain": [
       "HBox(children=(HTML(value='Minibatch'), FloatProgress(value=0.0, max=1.0), HTML(value='')))"
      ]
     },
     "metadata": {},
     "output_type": "display_data"
    },
    {
     "data": {
      "application/vnd.jupyter.widget-view+json": {
       "model_id": "",
       "version_major": 2,
       "version_minor": 0
      },
      "text/plain": [
       "HBox(children=(HTML(value='Minibatch'), FloatProgress(value=0.0, max=1.0), HTML(value='')))"
      ]
     },
     "metadata": {},
     "output_type": "display_data"
    },
    {
     "data": {
      "application/vnd.jupyter.widget-view+json": {
       "model_id": "",
       "version_major": 2,
       "version_minor": 0
      },
      "text/plain": [
       "HBox(children=(HTML(value='Minibatch'), FloatProgress(value=0.0, max=1.0), HTML(value='')))"
      ]
     },
     "metadata": {},
     "output_type": "display_data"
    },
    {
     "data": {
      "application/vnd.jupyter.widget-view+json": {
       "model_id": "",
       "version_major": 2,
       "version_minor": 0
      },
      "text/plain": [
       "HBox(children=(HTML(value='Minibatch'), FloatProgress(value=0.0, max=1.0), HTML(value='')))"
      ]
     },
     "metadata": {},
     "output_type": "display_data"
    },
    {
     "data": {
      "application/vnd.jupyter.widget-view+json": {
       "model_id": "",
       "version_major": 2,
       "version_minor": 0
      },
      "text/plain": [
       "HBox(children=(HTML(value='Minibatch'), FloatProgress(value=0.0, max=1.0), HTML(value='')))"
      ]
     },
     "metadata": {},
     "output_type": "display_data"
    },
    {
     "name": "stdout",
     "output_type": "stream",
     "text": [
      "iter: 30/100\n",
      "loss:  1.9238126277923584\n",
      "lengthscale:  10.73316478729248\n"
     ]
    },
    {
     "data": {
      "application/vnd.jupyter.widget-view+json": {
       "model_id": "",
       "version_major": 2,
       "version_minor": 0
      },
      "text/plain": [
       "HBox(children=(HTML(value='Minibatch'), FloatProgress(value=0.0, max=1.0), HTML(value='')))"
      ]
     },
     "metadata": {},
     "output_type": "display_data"
    },
    {
     "data": {
      "application/vnd.jupyter.widget-view+json": {
       "model_id": "",
       "version_major": 2,
       "version_minor": 0
      },
      "text/plain": [
       "HBox(children=(HTML(value='Minibatch'), FloatProgress(value=0.0, max=1.0), HTML(value='')))"
      ]
     },
     "metadata": {},
     "output_type": "display_data"
    },
    {
     "data": {
      "application/vnd.jupyter.widget-view+json": {
       "model_id": "",
       "version_major": 2,
       "version_minor": 0
      },
      "text/plain": [
       "HBox(children=(HTML(value='Minibatch'), FloatProgress(value=0.0, max=1.0), HTML(value='')))"
      ]
     },
     "metadata": {},
     "output_type": "display_data"
    },
    {
     "data": {
      "application/vnd.jupyter.widget-view+json": {
       "model_id": "",
       "version_major": 2,
       "version_minor": 0
      },
      "text/plain": [
       "HBox(children=(HTML(value='Minibatch'), FloatProgress(value=0.0, max=1.0), HTML(value='')))"
      ]
     },
     "metadata": {},
     "output_type": "display_data"
    },
    {
     "data": {
      "application/vnd.jupyter.widget-view+json": {
       "model_id": "",
       "version_major": 2,
       "version_minor": 0
      },
      "text/plain": [
       "HBox(children=(HTML(value='Minibatch'), FloatProgress(value=0.0, max=1.0), HTML(value='')))"
      ]
     },
     "metadata": {},
     "output_type": "display_data"
    },
    {
     "data": {
      "application/vnd.jupyter.widget-view+json": {
       "model_id": "",
       "version_major": 2,
       "version_minor": 0
      },
      "text/plain": [
       "HBox(children=(HTML(value='Minibatch'), FloatProgress(value=0.0, max=1.0), HTML(value='')))"
      ]
     },
     "metadata": {},
     "output_type": "display_data"
    },
    {
     "data": {
      "application/vnd.jupyter.widget-view+json": {
       "model_id": "",
       "version_major": 2,
       "version_minor": 0
      },
      "text/plain": [
       "HBox(children=(HTML(value='Minibatch'), FloatProgress(value=0.0, max=1.0), HTML(value='')))"
      ]
     },
     "metadata": {},
     "output_type": "display_data"
    },
    {
     "data": {
      "application/vnd.jupyter.widget-view+json": {
       "model_id": "",
       "version_major": 2,
       "version_minor": 0
      },
      "text/plain": [
       "HBox(children=(HTML(value='Minibatch'), FloatProgress(value=0.0, max=1.0), HTML(value='')))"
      ]
     },
     "metadata": {},
     "output_type": "display_data"
    },
    {
     "data": {
      "application/vnd.jupyter.widget-view+json": {
       "model_id": "",
       "version_major": 2,
       "version_minor": 0
      },
      "text/plain": [
       "HBox(children=(HTML(value='Minibatch'), FloatProgress(value=0.0, max=1.0), HTML(value='')))"
      ]
     },
     "metadata": {},
     "output_type": "display_data"
    },
    {
     "data": {
      "application/vnd.jupyter.widget-view+json": {
       "model_id": "",
       "version_major": 2,
       "version_minor": 0
      },
      "text/plain": [
       "HBox(children=(HTML(value='Minibatch'), FloatProgress(value=0.0, max=1.0), HTML(value='')))"
      ]
     },
     "metadata": {},
     "output_type": "display_data"
    },
    {
     "name": "stdout",
     "output_type": "stream",
     "text": [
      "iter: 40/100\n",
      "loss:  1.9015421867370605\n",
      "lengthscale:  10.719270706176758\n"
     ]
    },
    {
     "data": {
      "application/vnd.jupyter.widget-view+json": {
       "model_id": "",
       "version_major": 2,
       "version_minor": 0
      },
      "text/plain": [
       "HBox(children=(HTML(value='Minibatch'), FloatProgress(value=0.0, max=1.0), HTML(value='')))"
      ]
     },
     "metadata": {},
     "output_type": "display_data"
    },
    {
     "data": {
      "application/vnd.jupyter.widget-view+json": {
       "model_id": "",
       "version_major": 2,
       "version_minor": 0
      },
      "text/plain": [
       "HBox(children=(HTML(value='Minibatch'), FloatProgress(value=0.0, max=1.0), HTML(value='')))"
      ]
     },
     "metadata": {},
     "output_type": "display_data"
    },
    {
     "data": {
      "application/vnd.jupyter.widget-view+json": {
       "model_id": "",
       "version_major": 2,
       "version_minor": 0
      },
      "text/plain": [
       "HBox(children=(HTML(value='Minibatch'), FloatProgress(value=0.0, max=1.0), HTML(value='')))"
      ]
     },
     "metadata": {},
     "output_type": "display_data"
    },
    {
     "data": {
      "application/vnd.jupyter.widget-view+json": {
       "model_id": "",
       "version_major": 2,
       "version_minor": 0
      },
      "text/plain": [
       "HBox(children=(HTML(value='Minibatch'), FloatProgress(value=0.0, max=1.0), HTML(value='')))"
      ]
     },
     "metadata": {},
     "output_type": "display_data"
    },
    {
     "data": {
      "application/vnd.jupyter.widget-view+json": {
       "model_id": "",
       "version_major": 2,
       "version_minor": 0
      },
      "text/plain": [
       "HBox(children=(HTML(value='Minibatch'), FloatProgress(value=0.0, max=1.0), HTML(value='')))"
      ]
     },
     "metadata": {},
     "output_type": "display_data"
    },
    {
     "data": {
      "application/vnd.jupyter.widget-view+json": {
       "model_id": "",
       "version_major": 2,
       "version_minor": 0
      },
      "text/plain": [
       "HBox(children=(HTML(value='Minibatch'), FloatProgress(value=0.0, max=1.0), HTML(value='')))"
      ]
     },
     "metadata": {},
     "output_type": "display_data"
    },
    {
     "data": {
      "application/vnd.jupyter.widget-view+json": {
       "model_id": "",
       "version_major": 2,
       "version_minor": 0
      },
      "text/plain": [
       "HBox(children=(HTML(value='Minibatch'), FloatProgress(value=0.0, max=1.0), HTML(value='')))"
      ]
     },
     "metadata": {},
     "output_type": "display_data"
    },
    {
     "data": {
      "application/vnd.jupyter.widget-view+json": {
       "model_id": "",
       "version_major": 2,
       "version_minor": 0
      },
      "text/plain": [
       "HBox(children=(HTML(value='Minibatch'), FloatProgress(value=0.0, max=1.0), HTML(value='')))"
      ]
     },
     "metadata": {},
     "output_type": "display_data"
    },
    {
     "data": {
      "application/vnd.jupyter.widget-view+json": {
       "model_id": "",
       "version_major": 2,
       "version_minor": 0
      },
      "text/plain": [
       "HBox(children=(HTML(value='Minibatch'), FloatProgress(value=0.0, max=1.0), HTML(value='')))"
      ]
     },
     "metadata": {},
     "output_type": "display_data"
    },
    {
     "data": {
      "application/vnd.jupyter.widget-view+json": {
       "model_id": "",
       "version_major": 2,
       "version_minor": 0
      },
      "text/plain": [
       "HBox(children=(HTML(value='Minibatch'), FloatProgress(value=0.0, max=1.0), HTML(value='')))"
      ]
     },
     "metadata": {},
     "output_type": "display_data"
    },
    {
     "name": "stdout",
     "output_type": "stream",
     "text": [
      "iter: 50/100\n",
      "loss:  1.8926416635513306\n",
      "lengthscale:  10.701947212219238\n"
     ]
    },
    {
     "data": {
      "application/vnd.jupyter.widget-view+json": {
       "model_id": "",
       "version_major": 2,
       "version_minor": 0
      },
      "text/plain": [
       "HBox(children=(HTML(value='Minibatch'), FloatProgress(value=0.0, max=1.0), HTML(value='')))"
      ]
     },
     "metadata": {},
     "output_type": "display_data"
    },
    {
     "data": {
      "application/vnd.jupyter.widget-view+json": {
       "model_id": "",
       "version_major": 2,
       "version_minor": 0
      },
      "text/plain": [
       "HBox(children=(HTML(value='Minibatch'), FloatProgress(value=0.0, max=1.0), HTML(value='')))"
      ]
     },
     "metadata": {},
     "output_type": "display_data"
    },
    {
     "data": {
      "application/vnd.jupyter.widget-view+json": {
       "model_id": "",
       "version_major": 2,
       "version_minor": 0
      },
      "text/plain": [
       "HBox(children=(HTML(value='Minibatch'), FloatProgress(value=0.0, max=1.0), HTML(value='')))"
      ]
     },
     "metadata": {},
     "output_type": "display_data"
    },
    {
     "data": {
      "application/vnd.jupyter.widget-view+json": {
       "model_id": "",
       "version_major": 2,
       "version_minor": 0
      },
      "text/plain": [
       "HBox(children=(HTML(value='Minibatch'), FloatProgress(value=0.0, max=1.0), HTML(value='')))"
      ]
     },
     "metadata": {},
     "output_type": "display_data"
    },
    {
     "data": {
      "application/vnd.jupyter.widget-view+json": {
       "model_id": "",
       "version_major": 2,
       "version_minor": 0
      },
      "text/plain": [
       "HBox(children=(HTML(value='Minibatch'), FloatProgress(value=0.0, max=1.0), HTML(value='')))"
      ]
     },
     "metadata": {},
     "output_type": "display_data"
    },
    {
     "data": {
      "application/vnd.jupyter.widget-view+json": {
       "model_id": "",
       "version_major": 2,
       "version_minor": 0
      },
      "text/plain": [
       "HBox(children=(HTML(value='Minibatch'), FloatProgress(value=0.0, max=1.0), HTML(value='')))"
      ]
     },
     "metadata": {},
     "output_type": "display_data"
    },
    {
     "data": {
      "application/vnd.jupyter.widget-view+json": {
       "model_id": "",
       "version_major": 2,
       "version_minor": 0
      },
      "text/plain": [
       "HBox(children=(HTML(value='Minibatch'), FloatProgress(value=0.0, max=1.0), HTML(value='')))"
      ]
     },
     "metadata": {},
     "output_type": "display_data"
    },
    {
     "data": {
      "application/vnd.jupyter.widget-view+json": {
       "model_id": "",
       "version_major": 2,
       "version_minor": 0
      },
      "text/plain": [
       "HBox(children=(HTML(value='Minibatch'), FloatProgress(value=0.0, max=1.0), HTML(value='')))"
      ]
     },
     "metadata": {},
     "output_type": "display_data"
    },
    {
     "data": {
      "application/vnd.jupyter.widget-view+json": {
       "model_id": "",
       "version_major": 2,
       "version_minor": 0
      },
      "text/plain": [
       "HBox(children=(HTML(value='Minibatch'), FloatProgress(value=0.0, max=1.0), HTML(value='')))"
      ]
     },
     "metadata": {},
     "output_type": "display_data"
    },
    {
     "data": {
      "application/vnd.jupyter.widget-view+json": {
       "model_id": "",
       "version_major": 2,
       "version_minor": 0
      },
      "text/plain": [
       "HBox(children=(HTML(value='Minibatch'), FloatProgress(value=0.0, max=1.0), HTML(value='')))"
      ]
     },
     "metadata": {},
     "output_type": "display_data"
    },
    {
     "name": "stdout",
     "output_type": "stream",
     "text": [
      "iter: 60/100\n",
      "loss:  1.8887238502502441\n",
      "lengthscale:  10.681997299194336\n"
     ]
    },
    {
     "data": {
      "application/vnd.jupyter.widget-view+json": {
       "model_id": "",
       "version_major": 2,
       "version_minor": 0
      },
      "text/plain": [
       "HBox(children=(HTML(value='Minibatch'), FloatProgress(value=0.0, max=1.0), HTML(value='')))"
      ]
     },
     "metadata": {},
     "output_type": "display_data"
    },
    {
     "data": {
      "application/vnd.jupyter.widget-view+json": {
       "model_id": "",
       "version_major": 2,
       "version_minor": 0
      },
      "text/plain": [
       "HBox(children=(HTML(value='Minibatch'), FloatProgress(value=0.0, max=1.0), HTML(value='')))"
      ]
     },
     "metadata": {},
     "output_type": "display_data"
    },
    {
     "data": {
      "application/vnd.jupyter.widget-view+json": {
       "model_id": "",
       "version_major": 2,
       "version_minor": 0
      },
      "text/plain": [
       "HBox(children=(HTML(value='Minibatch'), FloatProgress(value=0.0, max=1.0), HTML(value='')))"
      ]
     },
     "metadata": {},
     "output_type": "display_data"
    },
    {
     "data": {
      "application/vnd.jupyter.widget-view+json": {
       "model_id": "",
       "version_major": 2,
       "version_minor": 0
      },
      "text/plain": [
       "HBox(children=(HTML(value='Minibatch'), FloatProgress(value=0.0, max=1.0), HTML(value='')))"
      ]
     },
     "metadata": {},
     "output_type": "display_data"
    },
    {
     "data": {
      "application/vnd.jupyter.widget-view+json": {
       "model_id": "",
       "version_major": 2,
       "version_minor": 0
      },
      "text/plain": [
       "HBox(children=(HTML(value='Minibatch'), FloatProgress(value=0.0, max=1.0), HTML(value='')))"
      ]
     },
     "metadata": {},
     "output_type": "display_data"
    },
    {
     "data": {
      "application/vnd.jupyter.widget-view+json": {
       "model_id": "",
       "version_major": 2,
       "version_minor": 0
      },
      "text/plain": [
       "HBox(children=(HTML(value='Minibatch'), FloatProgress(value=0.0, max=1.0), HTML(value='')))"
      ]
     },
     "metadata": {},
     "output_type": "display_data"
    },
    {
     "data": {
      "application/vnd.jupyter.widget-view+json": {
       "model_id": "",
       "version_major": 2,
       "version_minor": 0
      },
      "text/plain": [
       "HBox(children=(HTML(value='Minibatch'), FloatProgress(value=0.0, max=1.0), HTML(value='')))"
      ]
     },
     "metadata": {},
     "output_type": "display_data"
    },
    {
     "data": {
      "application/vnd.jupyter.widget-view+json": {
       "model_id": "",
       "version_major": 2,
       "version_minor": 0
      },
      "text/plain": [
       "HBox(children=(HTML(value='Minibatch'), FloatProgress(value=0.0, max=1.0), HTML(value='')))"
      ]
     },
     "metadata": {},
     "output_type": "display_data"
    },
    {
     "data": {
      "application/vnd.jupyter.widget-view+json": {
       "model_id": "",
       "version_major": 2,
       "version_minor": 0
      },
      "text/plain": [
       "HBox(children=(HTML(value='Minibatch'), FloatProgress(value=0.0, max=1.0), HTML(value='')))"
      ]
     },
     "metadata": {},
     "output_type": "display_data"
    },
    {
     "data": {
      "application/vnd.jupyter.widget-view+json": {
       "model_id": "",
       "version_major": 2,
       "version_minor": 0
      },
      "text/plain": [
       "HBox(children=(HTML(value='Minibatch'), FloatProgress(value=0.0, max=1.0), HTML(value='')))"
      ]
     },
     "metadata": {},
     "output_type": "display_data"
    },
    {
     "name": "stdout",
     "output_type": "stream",
     "text": [
      "iter: 70/100\n",
      "loss:  1.887150526046753\n",
      "lengthscale:  10.663776397705078\n"
     ]
    },
    {
     "data": {
      "application/vnd.jupyter.widget-view+json": {
       "model_id": "",
       "version_major": 2,
       "version_minor": 0
      },
      "text/plain": [
       "HBox(children=(HTML(value='Minibatch'), FloatProgress(value=0.0, max=1.0), HTML(value='')))"
      ]
     },
     "metadata": {},
     "output_type": "display_data"
    },
    {
     "data": {
      "application/vnd.jupyter.widget-view+json": {
       "model_id": "",
       "version_major": 2,
       "version_minor": 0
      },
      "text/plain": [
       "HBox(children=(HTML(value='Minibatch'), FloatProgress(value=0.0, max=1.0), HTML(value='')))"
      ]
     },
     "metadata": {},
     "output_type": "display_data"
    },
    {
     "data": {
      "application/vnd.jupyter.widget-view+json": {
       "model_id": "",
       "version_major": 2,
       "version_minor": 0
      },
      "text/plain": [
       "HBox(children=(HTML(value='Minibatch'), FloatProgress(value=0.0, max=1.0), HTML(value='')))"
      ]
     },
     "metadata": {},
     "output_type": "display_data"
    },
    {
     "data": {
      "application/vnd.jupyter.widget-view+json": {
       "model_id": "",
       "version_major": 2,
       "version_minor": 0
      },
      "text/plain": [
       "HBox(children=(HTML(value='Minibatch'), FloatProgress(value=0.0, max=1.0), HTML(value='')))"
      ]
     },
     "metadata": {},
     "output_type": "display_data"
    },
    {
     "data": {
      "application/vnd.jupyter.widget-view+json": {
       "model_id": "",
       "version_major": 2,
       "version_minor": 0
      },
      "text/plain": [
       "HBox(children=(HTML(value='Minibatch'), FloatProgress(value=0.0, max=1.0), HTML(value='')))"
      ]
     },
     "metadata": {},
     "output_type": "display_data"
    },
    {
     "data": {
      "application/vnd.jupyter.widget-view+json": {
       "model_id": "",
       "version_major": 2,
       "version_minor": 0
      },
      "text/plain": [
       "HBox(children=(HTML(value='Minibatch'), FloatProgress(value=0.0, max=1.0), HTML(value='')))"
      ]
     },
     "metadata": {},
     "output_type": "display_data"
    },
    {
     "data": {
      "application/vnd.jupyter.widget-view+json": {
       "model_id": "",
       "version_major": 2,
       "version_minor": 0
      },
      "text/plain": [
       "HBox(children=(HTML(value='Minibatch'), FloatProgress(value=0.0, max=1.0), HTML(value='')))"
      ]
     },
     "metadata": {},
     "output_type": "display_data"
    },
    {
     "data": {
      "application/vnd.jupyter.widget-view+json": {
       "model_id": "",
       "version_major": 2,
       "version_minor": 0
      },
      "text/plain": [
       "HBox(children=(HTML(value='Minibatch'), FloatProgress(value=0.0, max=1.0), HTML(value='')))"
      ]
     },
     "metadata": {},
     "output_type": "display_data"
    },
    {
     "data": {
      "application/vnd.jupyter.widget-view+json": {
       "model_id": "",
       "version_major": 2,
       "version_minor": 0
      },
      "text/plain": [
       "HBox(children=(HTML(value='Minibatch'), FloatProgress(value=0.0, max=1.0), HTML(value='')))"
      ]
     },
     "metadata": {},
     "output_type": "display_data"
    },
    {
     "data": {
      "application/vnd.jupyter.widget-view+json": {
       "model_id": "",
       "version_major": 2,
       "version_minor": 0
      },
      "text/plain": [
       "HBox(children=(HTML(value='Minibatch'), FloatProgress(value=0.0, max=1.0), HTML(value='')))"
      ]
     },
     "metadata": {},
     "output_type": "display_data"
    },
    {
     "name": "stdout",
     "output_type": "stream",
     "text": [
      "iter: 80/100\n",
      "loss:  1.8865563869476318\n",
      "lengthscale:  10.6519136428833\n"
     ]
    },
    {
     "data": {
      "application/vnd.jupyter.widget-view+json": {
       "model_id": "",
       "version_major": 2,
       "version_minor": 0
      },
      "text/plain": [
       "HBox(children=(HTML(value='Minibatch'), FloatProgress(value=0.0, max=1.0), HTML(value='')))"
      ]
     },
     "metadata": {},
     "output_type": "display_data"
    },
    {
     "data": {
      "application/vnd.jupyter.widget-view+json": {
       "model_id": "",
       "version_major": 2,
       "version_minor": 0
      },
      "text/plain": [
       "HBox(children=(HTML(value='Minibatch'), FloatProgress(value=0.0, max=1.0), HTML(value='')))"
      ]
     },
     "metadata": {},
     "output_type": "display_data"
    },
    {
     "data": {
      "application/vnd.jupyter.widget-view+json": {
       "model_id": "",
       "version_major": 2,
       "version_minor": 0
      },
      "text/plain": [
       "HBox(children=(HTML(value='Minibatch'), FloatProgress(value=0.0, max=1.0), HTML(value='')))"
      ]
     },
     "metadata": {},
     "output_type": "display_data"
    },
    {
     "data": {
      "application/vnd.jupyter.widget-view+json": {
       "model_id": "",
       "version_major": 2,
       "version_minor": 0
      },
      "text/plain": [
       "HBox(children=(HTML(value='Minibatch'), FloatProgress(value=0.0, max=1.0), HTML(value='')))"
      ]
     },
     "metadata": {},
     "output_type": "display_data"
    },
    {
     "data": {
      "application/vnd.jupyter.widget-view+json": {
       "model_id": "",
       "version_major": 2,
       "version_minor": 0
      },
      "text/plain": [
       "HBox(children=(HTML(value='Minibatch'), FloatProgress(value=0.0, max=1.0), HTML(value='')))"
      ]
     },
     "metadata": {},
     "output_type": "display_data"
    },
    {
     "data": {
      "application/vnd.jupyter.widget-view+json": {
       "model_id": "",
       "version_major": 2,
       "version_minor": 0
      },
      "text/plain": [
       "HBox(children=(HTML(value='Minibatch'), FloatProgress(value=0.0, max=1.0), HTML(value='')))"
      ]
     },
     "metadata": {},
     "output_type": "display_data"
    },
    {
     "data": {
      "application/vnd.jupyter.widget-view+json": {
       "model_id": "",
       "version_major": 2,
       "version_minor": 0
      },
      "text/plain": [
       "HBox(children=(HTML(value='Minibatch'), FloatProgress(value=0.0, max=1.0), HTML(value='')))"
      ]
     },
     "metadata": {},
     "output_type": "display_data"
    },
    {
     "data": {
      "application/vnd.jupyter.widget-view+json": {
       "model_id": "",
       "version_major": 2,
       "version_minor": 0
      },
      "text/plain": [
       "HBox(children=(HTML(value='Minibatch'), FloatProgress(value=0.0, max=1.0), HTML(value='')))"
      ]
     },
     "metadata": {},
     "output_type": "display_data"
    },
    {
     "data": {
      "application/vnd.jupyter.widget-view+json": {
       "model_id": "",
       "version_major": 2,
       "version_minor": 0
      },
      "text/plain": [
       "HBox(children=(HTML(value='Minibatch'), FloatProgress(value=0.0, max=1.0), HTML(value='')))"
      ]
     },
     "metadata": {},
     "output_type": "display_data"
    },
    {
     "data": {
      "application/vnd.jupyter.widget-view+json": {
       "model_id": "",
       "version_major": 2,
       "version_minor": 0
      },
      "text/plain": [
       "HBox(children=(HTML(value='Minibatch'), FloatProgress(value=0.0, max=1.0), HTML(value='')))"
      ]
     },
     "metadata": {},
     "output_type": "display_data"
    },
    {
     "name": "stdout",
     "output_type": "stream",
     "text": [
      "iter: 90/100\n",
      "loss:  1.886289119720459\n",
      "lengthscale:  10.646249771118164\n"
     ]
    },
    {
     "data": {
      "application/vnd.jupyter.widget-view+json": {
       "model_id": "",
       "version_major": 2,
       "version_minor": 0
      },
      "text/plain": [
       "HBox(children=(HTML(value='Minibatch'), FloatProgress(value=0.0, max=1.0), HTML(value='')))"
      ]
     },
     "metadata": {},
     "output_type": "display_data"
    },
    {
     "data": {
      "application/vnd.jupyter.widget-view+json": {
       "model_id": "",
       "version_major": 2,
       "version_minor": 0
      },
      "text/plain": [
       "HBox(children=(HTML(value='Minibatch'), FloatProgress(value=0.0, max=1.0), HTML(value='')))"
      ]
     },
     "metadata": {},
     "output_type": "display_data"
    },
    {
     "data": {
      "application/vnd.jupyter.widget-view+json": {
       "model_id": "",
       "version_major": 2,
       "version_minor": 0
      },
      "text/plain": [
       "HBox(children=(HTML(value='Minibatch'), FloatProgress(value=0.0, max=1.0), HTML(value='')))"
      ]
     },
     "metadata": {},
     "output_type": "display_data"
    },
    {
     "data": {
      "application/vnd.jupyter.widget-view+json": {
       "model_id": "",
       "version_major": 2,
       "version_minor": 0
      },
      "text/plain": [
       "HBox(children=(HTML(value='Minibatch'), FloatProgress(value=0.0, max=1.0), HTML(value='')))"
      ]
     },
     "metadata": {},
     "output_type": "display_data"
    },
    {
     "data": {
      "application/vnd.jupyter.widget-view+json": {
       "model_id": "",
       "version_major": 2,
       "version_minor": 0
      },
      "text/plain": [
       "HBox(children=(HTML(value='Minibatch'), FloatProgress(value=0.0, max=1.0), HTML(value='')))"
      ]
     },
     "metadata": {},
     "output_type": "display_data"
    },
    {
     "data": {
      "application/vnd.jupyter.widget-view+json": {
       "model_id": "",
       "version_major": 2,
       "version_minor": 0
      },
      "text/plain": [
       "HBox(children=(HTML(value='Minibatch'), FloatProgress(value=0.0, max=1.0), HTML(value='')))"
      ]
     },
     "metadata": {},
     "output_type": "display_data"
    },
    {
     "data": {
      "application/vnd.jupyter.widget-view+json": {
       "model_id": "",
       "version_major": 2,
       "version_minor": 0
      },
      "text/plain": [
       "HBox(children=(HTML(value='Minibatch'), FloatProgress(value=0.0, max=1.0), HTML(value='')))"
      ]
     },
     "metadata": {},
     "output_type": "display_data"
    },
    {
     "data": {
      "application/vnd.jupyter.widget-view+json": {
       "model_id": "",
       "version_major": 2,
       "version_minor": 0
      },
      "text/plain": [
       "HBox(children=(HTML(value='Minibatch'), FloatProgress(value=0.0, max=1.0), HTML(value='')))"
      ]
     },
     "metadata": {},
     "output_type": "display_data"
    },
    {
     "data": {
      "application/vnd.jupyter.widget-view+json": {
       "model_id": "",
       "version_major": 2,
       "version_minor": 0
      },
      "text/plain": [
       "HBox(children=(HTML(value='Minibatch'), FloatProgress(value=0.0, max=1.0), HTML(value='')))"
      ]
     },
     "metadata": {},
     "output_type": "display_data"
    },
    {
     "name": "stdout",
     "output_type": "stream",
     "text": [
      "\n",
      "(3.830596923828125, -3.3668692111968994, 0.13069908320903778)\n"
     ]
    }
   ],
   "source": [
    "# SVIGP_log\n",
    "train_dataset_MEDIC_log = TensorDataset(X_MEDIC_train, torch.log(torch.maximum(y_MEDIC_train, 0.1*torch.ones_like(y_MEDIC_train))))\n",
    "train_loader_MEDIC_log = DataLoader(train_dataset_MEDIC_log, batch_size=1024, shuffle=True)\n",
    "test_dataset_MEDIC_log = TensorDataset(X_MEDIC_test, y_MEDIC_test)\n",
    "test_loader_MEDIC_log = DataLoader(test_dataset_MEDIC_log, batch_size=1024, shuffle=False)\n",
    "\n",
    "y_MEDIC_train_log = torch.log(torch.maximum(y_MEDIC_train, 0.1*torch.ones_like(y_MEDIC_train)))\n",
    "model_SVI_MEDIC_log, likelihood_SVI_MEDIC_log = count_models.create_SVIGP_model(X_MEDIC_train, kernel=KERNEL_MEDIC, \n",
    "                                        init_lengthscale=INIT_LENGTHSCALE_MEDIC, num_inducing_points=NUM_INDUCING_POINTS)\n",
    "model_SVI_MEDIC_log, likelihood_SVI_MEDIC_log = count_models.train_SVIGP_model(train_loader_MEDIC_log, y_MEDIC_train, \n",
    "                                            model_SVI_MEDIC_log, likelihood_SVI_MEDIC_log,\n",
    "                                num_iter=NUM_ITER_MEDIC, lr=0.1, report_iter=NUM_ITER_MEDIC//10)\n",
    "MEDIC_SVIGP_log_res = count_models.evaluate_SVIGP_log(model_SVI_MEDIC_log, likelihood_SVI_MEDIC_log, test_loader_MEDIC_log, y_MEDIC_test)\n",
    "print(MEDIC_SVIGP_log_res)"
   ]
  },
  {
   "cell_type": "markdown",
   "metadata": {},
   "source": [
    "# Save results"
   ]
  },
  {
   "cell_type": "code",
   "execution_count": 46,
   "metadata": {},
   "outputs": [],
   "source": [
    "all_res = {\n",
    "    \"CC_res\":{\n",
    "        \"LMGP\":list(CC_LMGP_res),\n",
    "        \"ExactGP\":list(CC_ExactGP_res), \n",
    "        \"ExactGP_log\":list(CC_ExactGP_log_res), \n",
    "        \"SVIGP_log\":list(CC_SVIGP_log_res)\n",
    "    }, \n",
    "    \"DOCTOR_res\":{\n",
    "        \"LMGP\":list(DOCTOR_LMGP_res), \n",
    "        \"ExactGP\":list(DOCTOR_ExactGP_res), \n",
    "        \"ExactGP_log\":list(DOCTOR_ExactGP_log_res), \n",
    "        \"SVIGP_log\":list(DOCTOR_SVIGP_log_res)\n",
    "    },\n",
    "    \"EQUATION_res\":{\n",
    "        \"LMGP\":list(EQUATION_LMGP_res),\n",
    "        \"ExactGP\":list(EQUATION_ExactGP_res), \n",
    "        \"ExactGP_log\":list(EQUATION_ExactGP_log_res), \n",
    "        \"SVIGP_log\":list(EQUATION_SVIGP_log_res)\n",
    "    }, \n",
    "    \"GSS7402_res\":{\n",
    "        \"LMGP\":list(GSS7402_LMGP_res), \n",
    "        \"ExactGP\":list(GSS7402_ExactGP_res), \n",
    "        \"ExactGP_log\":list(GSS7402_ExactGP_log_res), \n",
    "        \"SVIGP_log\":list(GSS7402_SVIGP_log_res)\n",
    "    }, \n",
    "    \"MEDIC_res\":{\n",
    "        \"LMGP\":list(MEDIC_LMGP_res),\n",
    "        \"ExactGP\":list(MEDIC_ExactGP_res), \n",
    "        \"ExactGP_log\":list(MEDIC_ExactGP_log_res),  \n",
    "        \"SVIGP_log\":list(MEDIC_SVIGP_log_res)\n",
    "    }\n",
    "}"
   ]
  },
  {
   "cell_type": "code",
   "execution_count": 47,
   "metadata": {},
   "outputs": [
    {
     "name": "stdout",
     "output_type": "stream",
     "text": [
      "{'CC_res': {'LMGP': [1.3002536296844482, -1.4895167350769043, 0.34403669834136963], 'ExactGP': [0.9658703804016113, -1.2501798868179321, 0.9908257126808167], 'ExactGP_log': [1.5215251445770264, -11.840005874633789, 0.8440366983413696], 'SVIGP_log': [1.303755760192871, -1.5761126279830933, 0.2752293646335602]}, 'DOCTOR_res': {'LMGP': [0.7793981432914734, -0.7025154232978821, 0.16929364204406738], 'ExactGP': [0.8511543273925781, -1.2585303783416748, 0.9830706119537354], 'ExactGP_log': [0.9105246067047119, -4.6184916496276855, 0.26561588048934937], 'SVIGP_log': [0.8117740750312805, -0.7255872488021851, 0.007005253806710243]}, 'EQUATION_res': {'LMGP': [41.924068450927734, -15.218390464782715, 0.9720930457115173], 'ExactGP': [57.996402740478516, -46.393009185791016, 0.25581395626068115], 'ExactGP_log': [66.49095153808594, -104.15615844726562, 0.04651162773370743], 'SVIGP_log': [51.94932174682617, -26.336755752563477, 0.8883720636367798]}, 'GSS7402_res': {'LMGP': [1.2611503601074219, -1.6326239109039307, 0.4300091564655304], 'ExactGP': [1.2553945779800415, -1.6279582977294922, 0.9487648606300354], 'ExactGP_log': [2.2491579055786133, -2.922682046890259, 0.25343093276023865], 'SVIGP_log': [1.3273024559020996, -1.6629081964492798, 0.20219579339027405]}, 'MEDIC_res': {'LMGP': [3.5896575450897217, -2.579904794692993, 0.4893617033958435], 'ExactGP': [3.662048816680908, -2.6649694442749023, 0.9483282566070557], 'ExactGP_log': [4.119610786437988, -22.337148666381836, 0.7477203607559204], 'SVIGP_log': [3.830596923828125, -3.3668692111968994, 0.13069908320903778]}}\n"
     ]
    }
   ],
   "source": [
    "import json\n",
    "print(all_res)\n",
    "#save results for this seed\n",
    "\n",
    "res_file = open(\"results/count_GP_seed_{}.json\".format(seed), \"w\")\n",
    "json.dump(all_res, res_file)\n",
    "res_file.close()"
   ]
  },
  {
   "cell_type": "markdown",
   "metadata": {},
   "source": [
    "# Make plot & table of results"
   ]
  },
  {
   "cell_type": "code",
   "execution_count": 56,
   "metadata": {},
   "outputs": [
    {
     "name": "stdout",
     "output_type": "stream",
     "text": [
      "{'CC_res': {'LMGP': [1.3012430667877197, -1.4905065298080444, 0.34403669834136963], 'ExactGP': [0.9635015726089478, -1.2691714763641357, 0.9908257126808167], 'ExactGP_log': [1.5209567546844482, -11.833683967590332, 0.8371559381484985], 'SVIGP_log': [1.3040447235107422, -1.576693058013916, 0.2752293646335602]}, 'DOCTOR_res': {'LMGP': [0.7802770733833313, -0.7038429975509644, 0.16929364204406738], 'ExactGP': [0.8516539931297302, -1.2574377059936523, 0.978400468826294], 'ExactGP_log': [0.9104921221733093, -4.618226051330566, 0.2650321125984192], 'SVIGP_log': [0.8071590065956116, -0.7195351719856262, 0.009924110025167465]}, 'EQUATION_res': {'LMGP': [41.527549743652344, -15.008914947509766, 0.9720930457115173], 'ExactGP': [57.996402740478516, -46.393009185791016, 0.25581395626068115], 'ExactGP_log': [66.49095153808594, -104.15615844726562, 0.04651162773370743], 'SVIGP_log': [51.951236724853516, -26.34016990661621, 0.8883720636367798]}, 'GSS7402_res': {'LMGP': [1.2626006603240967, -1.63329017162323, 0.42726442217826843], 'ExactGP': [1.2552895545959473, -1.627938985824585, 0.9478499293327332], 'ExactGP_log': [2.249260902404785, -2.921835422515869, 0.25343093276023865], 'SVIGP_log': [1.3101624250411987, -1.6552982330322266, 0.20677036046981812]}, 'MEDIC_res': {'LMGP': [3.5928761959075928, -2.5836896896362305, 0.4893617033958435], 'ExactGP': [3.662048816680908, -2.6649694442749023, 0.9483282566070557], 'ExactGP_log': [4.119610786437988, -22.337148666381836, 0.7477203607559204], 'SVIGP_log': [3.8304390907287598, -3.366410493850708, 0.13069908320903778]}}\n",
      "{'CC_res': {'LMGP': [1.3023738861083984, -1.4915547370910645, 0.34403669834136963], 'ExactGP': [0.9641478657722473, -1.2706621885299683, 0.9908257126808167], 'ExactGP_log': [1.52031409740448, -11.793950080871582, 0.8302752375602722], 'SVIGP_log': [1.3036895990371704, -1.5760008096694946, 0.2752293646335602]}, 'DOCTOR_res': {'LMGP': [0.7805773019790649, -0.7036859393119812, 0.16929364204406738], 'ExactGP': [0.8489543795585632, -1.2337390184402466, 0.9813193082809448], 'ExactGP_log': [0.9104903340339661, -4.61830472946167, 0.26561588048934937], 'SVIGP_log': [0.8153783679008484, -0.7335150241851807, 0.005837711505591869]}, 'EQUATION_res': {'LMGP': [41.646385192871094, -15.094558715820312, 0.9720930457115173], 'ExactGP': [57.996402740478516, -46.393009185791016, 0.25581395626068115], 'ExactGP_log': [66.49095153808594, -104.15615844726562, 0.04651162773370743], 'SVIGP_log': [51.95215606689453, -26.34200096130371, 0.8883720636367798]}, 'GSS7402_res': {'LMGP': [1.2619459629058838, -1.6329920291900635, 0.4281793236732483], 'ExactGP': [1.255228877067566, -1.6279464960098267, 0.9487648606300354], 'ExactGP_log': [2.2491698265075684, -2.9224843978881836, 0.25343093276023865], 'SVIGP_log': [1.3154183626174927, -1.6563113927841187, 0.191216841340065]}, 'MEDIC_res': {'LMGP': [3.5872631072998047, -2.576329469680786, 0.4893617033958435], 'ExactGP': [3.662048816680908, -2.6649694442749023, 0.9483282566070557], 'ExactGP_log': [4.119610786437988, -22.337148666381836, 0.7477203607559204], 'SVIGP_log': [3.830573320388794, -3.3667874336242676, 0.13069908320903778]}}\n",
      "{'CC_res': {'LMGP': [1.3011043071746826, -1.4904398918151855, 0.34403669834136963], 'ExactGP': [0.9612106680870056, -1.266671895980835, 0.9908257126808167], 'ExactGP_log': [1.5200868844985962, -11.79287052154541, 0.8325688242912292], 'SVIGP_log': [1.303808331489563, -1.5761973857879639, 0.2752293646335602]}, 'DOCTOR_res': {'LMGP': [0.7816464900970459, -0.7038971185684204, 0.16929364204406738], 'ExactGP': [0.8488887548446655, -1.1988980770111084, 0.9842382073402405], 'ExactGP_log': [0.9104787111282349, -4.618016719818115, 0.264448344707489], 'SVIGP_log': [0.8087769746780396, -0.7178540825843811, 0.007005253806710243]}, 'EQUATION_res': {'LMGP': [41.43229293823242, -14.972249031066895, 0.9720930457115173], 'ExactGP': [57.996402740478516, -46.393009185791016, 0.25581395626068115], 'ExactGP_log': [66.49095153808594, -104.15615844726562, 0.04651162773370743], 'SVIGP_log': [51.94582748413086, -26.32665252685547, 0.8883720636367798]}, 'GSS7402_res': {'LMGP': [1.2615917921066284, -1.6328872442245483, 0.4281793236732483], 'ExactGP': [1.255305528640747, -1.6279733180999756, 0.9487648606300354], 'ExactGP_log': [2.249117136001587, -2.922060012817383, 0.25343093276023865], 'SVIGP_log': [1.3236148357391357, -1.662479281425476, 0.2268984466791153]}, 'MEDIC_res': {'LMGP': [3.5910089015960693, -2.5819778442382812, 0.4893617033958435], 'ExactGP': [3.662048816680908, -2.6649694442749023, 0.9483282566070557], 'ExactGP_log': [4.119610786437988, -22.337148666381836, 0.7477203607559204], 'SVIGP_log': [3.8306996822357178, -3.367354154586792, 0.13373860716819763]}}\n",
      "{'CC_res': {'LMGP': [1.2995622158050537, -1.488898515701294, 0.34403669834136963], 'ExactGP': [0.9609828591346741, -1.2696856260299683, 0.9908257126808167], 'ExactGP_log': [1.520115613937378, -11.829648971557617, 0.8417431116104126], 'SVIGP_log': [1.3040788173675537, -1.576809048652649, 0.2752293646335602]}, 'DOCTOR_res': {'LMGP': [0.7803896069526672, -0.7035714983940125, 0.16929364204406738], 'ExactGP': [0.8520580530166626, -1.2858580350875854, 0.9807355403900146], 'ExactGP_log': [0.9104856848716736, -4.6181321144104, 0.264448344707489], 'SVIGP_log': [0.8108497262001038, -0.7247219085693359, 0.008172796107828617]}, 'EQUATION_res': {'LMGP': [41.25211715698242, -14.893512725830078, 0.9720930457115173], 'ExactGP': [57.996402740478516, -46.393009185791016, 0.25581395626068115], 'ExactGP_log': [66.49095153808594, -104.15615844726562, 0.04651162773370743], 'SVIGP_log': [51.95204544067383, -26.341880798339844, 0.8883720636367798]}, 'GSS7402_res': {'LMGP': [1.2625389099121094, -1.6332706212997437, 0.4281793236732483], 'ExactGP': [1.255330204963684, -1.6279709339141846, 0.9487648606300354], 'ExactGP_log': [2.2481353282928467, -2.916853904724121, 0.25160109996795654], 'SVIGP_log': [1.283084511756897, -1.6416670083999634, 0.20860017836093903]}, 'MEDIC_res': {'LMGP': [3.5897998809814453, -2.578139066696167, 0.4893617033958435], 'ExactGP': [3.662048816680908, -2.6649694442749023, 0.9483282566070557], 'ExactGP_log': [4.119610786437988, -22.337148666381836, 0.7477203607559204], 'SVIGP_log': [3.8305439949035645, -3.3668885231018066, 0.13373860716819763]}}\n",
      "{'CC_res': {'LMGP': [1.3002536296844482, -1.4895167350769043, 0.34403669834136963], 'ExactGP': [0.9658703804016113, -1.2501798868179321, 0.9908257126808167], 'ExactGP_log': [1.5215251445770264, -11.840005874633789, 0.8440366983413696], 'SVIGP_log': [1.303755760192871, -1.5761126279830933, 0.2752293646335602]}, 'DOCTOR_res': {'LMGP': [0.7793981432914734, -0.7025154232978821, 0.16929364204406738], 'ExactGP': [0.8511543273925781, -1.2585303783416748, 0.9830706119537354], 'ExactGP_log': [0.9105246067047119, -4.6184916496276855, 0.26561588048934937], 'SVIGP_log': [0.8117740750312805, -0.7255872488021851, 0.007005253806710243]}, 'EQUATION_res': {'LMGP': [41.924068450927734, -15.218390464782715, 0.9720930457115173], 'ExactGP': [57.996402740478516, -46.393009185791016, 0.25581395626068115], 'ExactGP_log': [66.49095153808594, -104.15615844726562, 0.04651162773370743], 'SVIGP_log': [51.94932174682617, -26.336755752563477, 0.8883720636367798]}, 'GSS7402_res': {'LMGP': [1.2611503601074219, -1.6326239109039307, 0.4300091564655304], 'ExactGP': [1.2553945779800415, -1.6279582977294922, 0.9487648606300354], 'ExactGP_log': [2.2491579055786133, -2.922682046890259, 0.25343093276023865], 'SVIGP_log': [1.3273024559020996, -1.6629081964492798, 0.20219579339027405]}, 'MEDIC_res': {'LMGP': [3.5896575450897217, -2.579904794692993, 0.4893617033958435], 'ExactGP': [3.662048816680908, -2.6649694442749023, 0.9483282566070557], 'ExactGP_log': [4.119610786437988, -22.337148666381836, 0.7477203607559204], 'SVIGP_log': [3.830596923828125, -3.3668692111968994, 0.13069908320903778]}}\n"
     ]
    }
   ],
   "source": [
    "### over all seeds\n",
    "\n",
    "ExactGP_rmse_all = []\n",
    "ExactGP_log_rmse_all = []\n",
    "LMGP_rmse_all = []\n",
    "SVIGP_log_rmse_all = []\n",
    "ExactGP_mnll_all = []\n",
    "ExactGP_log_mnll_all = []\n",
    "LMGP_mnll_all = []\n",
    "SVIGP_log_mnll_all = []\n",
    "ExactGP_in2std_all = []\n",
    "ExactGP_log_in2std_all = []\n",
    "LMGP_in2std_all = []\n",
    "SVIGP_log_in2std_all = []\n",
    "\n",
    "\n",
    "for seed in range(5):\n",
    "    seed +=1\n",
    "\n",
    "    with open('results/count_GP_seed_{}.json'.format(seed)) as json_file:\n",
    "        all_res = json.load(json_file)\n",
    "    print(all_res)\n",
    "\n",
    "    ExactGP_rmse = []\n",
    "    ExactGP_log_rmse = []\n",
    "    LMGP_rmse = []\n",
    "    SVIGP_log_rmse = []\n",
    "    ExactGP_mnll = []\n",
    "    ExactGP_log_mnll = []\n",
    "    LMGP_mnll = []\n",
    "    SVIGP_log_mnll = []\n",
    "    ExactGP_in2std = []\n",
    "    ExactGP_log_in2std = []\n",
    "    LMGP_in2std = []\n",
    "    SVIGP_log_in2std = []\n",
    "\n",
    "    for dataset in [\"CC_res\", \"DOCTOR_res\", \"EQUATION_res\", \"GSS7402_res\", \"MEDIC_res\"]:\n",
    "\n",
    "        ExactGP_rmse.append(all_res[dataset][\"ExactGP\"][0])\n",
    "        ExactGP_log_rmse.append(all_res[dataset][\"ExactGP_log\"][0])\n",
    "        LMGP_rmse.append(all_res[dataset][\"LMGP\"][0])\n",
    "        SVIGP_log_rmse.append(all_res[dataset][\"SVIGP_log\"][0])\n",
    "        ExactGP_mnll.append(all_res[dataset][\"ExactGP\"][1])\n",
    "        ExactGP_log_mnll.append(all_res[dataset][\"ExactGP_log\"][1])\n",
    "        LMGP_mnll.append(all_res[dataset][\"LMGP\"][1])\n",
    "        SVIGP_log_mnll.append(all_res[dataset][\"SVIGP_log\"][1])\n",
    "        ExactGP_in2std.append(all_res[dataset][\"ExactGP\"][2])\n",
    "        ExactGP_log_in2std.append(all_res[dataset][\"ExactGP_log\"][2])\n",
    "        LMGP_in2std.append(all_res[dataset][\"LMGP\"][2])\n",
    "        SVIGP_log_in2std.append(all_res[dataset][\"SVIGP_log\"][2])\n",
    "        \n",
    "    ExactGP_rmse_all.append(ExactGP_rmse)\n",
    "    ExactGP_log_rmse_all.append(ExactGP_log_rmse)\n",
    "    LMGP_rmse_all.append(LMGP_rmse)\n",
    "    SVIGP_log_rmse_all.append(SVIGP_log_rmse)\n",
    "    ExactGP_mnll_all.append(ExactGP_mnll)\n",
    "    ExactGP_log_mnll_all.append(ExactGP_log_mnll)\n",
    "    LMGP_mnll_all.append(LMGP_mnll)\n",
    "    SVIGP_log_mnll_all.append(SVIGP_log_mnll)\n",
    "    ExactGP_in2std_all.append(ExactGP_in2std)\n",
    "    ExactGP_log_in2std_all.append(ExactGP_log_in2std)\n",
    "    LMGP_in2std_all.append(LMGP_in2std)\n",
    "    SVIGP_log_in2std_all.append(SVIGP_log_in2std)\n",
    "    \n",
    "ExactGP_rmse_mean = np.array(ExactGP_rmse_all).mean(0)\n",
    "ExactGP_log_rmse_mean = np.array(ExactGP_log_rmse_all).mean(0)\n",
    "LMGP_rmse_mean = np.array(LMGP_rmse_all).mean(0)\n",
    "SVIGP_log_rmse_mean = np.array(SVIGP_log_rmse_all).mean(0)\n",
    "ExactGP_mnll_mean = np.array(ExactGP_mnll_all).mean(0)\n",
    "ExactGP_log_mnll_mean = np.array(ExactGP_log_mnll_all).mean(0)\n",
    "LMGP_mnll_mean = np.array(LMGP_mnll_all).mean(0)\n",
    "SVIGP_log_mnll_mean = np.array(SVIGP_log_mnll_all).mean(0)\n",
    "ExactGP_in2std_mean = np.array(ExactGP_in2std_all).mean(0)\n",
    "ExactGP_log_in2std_mean = np.array(ExactGP_log_in2std_all).mean(0)\n",
    "LMGP_in2std_mean = np.array(LMGP_in2std_all).mean(0)\n",
    "SVIGP_log_in2std_mean = np.array(SVIGP_log_in2std_all).mean(0)    \n",
    "\n",
    "ExactGP_rmse_std = np.array(ExactGP_rmse_all).std(0)\n",
    "ExactGP_log_rmse_std = np.array(ExactGP_log_rmse_all).std(0)\n",
    "LMGP_rmse_std = np.array(LMGP_rmse_all).std(0)\n",
    "SVIGP_log_rmse_std = np.array(SVIGP_log_rmse_all).std(0)\n",
    "ExactGP_mnll_std = np.array(ExactGP_mnll_all).std(0)\n",
    "ExactGP_log_mnll_std = np.array(ExactGP_log_mnll_all).std(0)\n",
    "LMGP_mnll_std = np.array(LMGP_mnll_all).std(0)\n",
    "SVIGP_log_mnll_std = np.array(SVIGP_log_mnll_all).std(0)\n",
    "ExactGP_in2std_std = np.array(ExactGP_in2std_all).std(0)\n",
    "ExactGP_log_in2std_std = np.array(ExactGP_log_in2std_all).std(0)\n",
    "LMGP_in2std_std = np.array(LMGP_in2std_all).std(0)\n",
    "SVIGP_log_in2std_std = np.array(SVIGP_log_in2std_all).std(0)"
   ]
  },
  {
   "cell_type": "code",
   "execution_count": 59,
   "metadata": {},
   "outputs": [
    {
     "data": {
      "text/plain": [
       "(array([ 0.96314267,  0.8505419 , 57.99640274,  1.25530975,  3.66204882]),\n",
       " array([1.84266373e-03, 1.35378347e-03, 0.00000000e+00, 5.40005503e-05,\n",
       "        0.00000000e+00]))"
      ]
     },
     "execution_count": 59,
     "metadata": {},
     "output_type": "execute_result"
    }
   ],
   "source": [
    "ExactGP_rmse_mean, ExactGP_rmse_std"
   ]
  },
  {
   "cell_type": "code",
   "execution_count": 63,
   "metadata": {},
   "outputs": [
    {
     "data": {
      "image/png": "[encoded data removed]",
      "text/plain": [
       "<Figure size 1600x1000 with 3 Axes>"
      ]
     },
     "metadata": {
      "needs_background": "light"
     },
     "output_type": "display_data"
    }
   ],
   "source": [
    "# plot the results\n",
    "w=0.2\n",
    "c=0.23\n",
    "x=np.arange(5)\n",
    "\n",
    "fig, ax = plt.subplots(3, 1, figsize=(8, 5), dpi=200, sharex=True)\n",
    "\n",
    "ax[0].bar(x-1.5*c, ExactGP_rmse_mean, width=w, yerr=2*ExactGP_rmse_std, color=\"firebrick\", label=\"ExactGP\")\n",
    "ax[0].bar(x-0.5*c, ExactGP_log_rmse_mean, width=w, yerr=2*ExactGP_log_rmse_std, color=\"cornflowerblue\", label=\"ExactGP_log\")\n",
    "ax[0].bar(x+0.5*c, LMGP_rmse_mean, width=w, yerr=2*LMGP_rmse_std, color=\"green\", label=\"LM(Gamma)+GP\")\n",
    "ax[0].bar(x+1.5*c, SVIGP_log_rmse_mean, width=w, yerr=2*SVIGP_log_rmse_std, color=\"orange\", label=\"SVIGP_log\")\n",
    "ax[0].grid()\n",
    "#ax[0].set_ylim(0, 1.05)\n",
    "ax[0].set_ylabel(u\"RMSE \\u2190\")\n",
    "#ax[0].legend()\n",
    "\n",
    "ax[1].bar(x-1.5*c, -ExactGP_mnll_mean, width=w, yerr=2*ExactGP_mnll_std, color=\"firebrick\", label=\"ExactGP\")\n",
    "ax[1].bar(x-0.5*c, -ExactGP_log_mnll_mean, width=w, yerr=2*ExactGP_log_mnll_std, color=\"cornflowerblue\", label=\"ExactGP_log\")\n",
    "ax[1].bar(x+0.5*c, -LMGP_mnll_mean, width=w, yerr=2*LMGP_mnll_std, color=\"green\", label=\"LM(Gamma)+GP\")\n",
    "ax[1].bar(x+1.5*c, -SVIGP_log_mnll_mean, width=w, yerr=2*SVIGP_log_mnll_std, color=\"orange\", label=\"SVIGP_log\")\n",
    "ax[1].grid()\n",
    "ax[1].set_ylabel(u\"MNLL \\u2190\")\n",
    "\n",
    "ax[2].bar(x-1.5*c, ExactGP_in2std_mean, width=w, yerr=2*ExactGP_in2std_std, color=\"firebrick\", label=\"ExactGP\")\n",
    "ax[2].bar(x-0.5*c, ExactGP_log_in2std_mean, width=w, yerr=2*ExactGP_log_in2std_std, color=\"cornflowerblue\", label=\"ExactGP_log\")\n",
    "ax[2].bar(x+0.5*c, LMGP_in2std_mean, width=w, yerr=2*LMGP_in2std_std, color=\"green\", label=\"LM(Gamma)+GP\")\n",
    "ax[2].bar(x+1.5*c, SVIGP_log_in2std_mean, width=w, yerr=2*SVIGP_log_in2std_std, color=\"orange\", label=\"SVIGP_log\")\n",
    "ax[2].grid()\n",
    "ax[2].set_ylabel(u\"in2std\")\n",
    "ax[2].legend()\n",
    "\n",
    "ax[2].set_xticks(x)\n",
    "ax[2].set_xticklabels([\"CreditCard\", \"Doctor\", \"Citations\", \"GSS7402\", \"Medicaid\"])\n",
    "\n",
    "plt.show();"
   ]
  },
  {
   "cell_type": "markdown",
   "metadata": {},
   "source": [
    "### make a table\n",
    "\n",
    "the table should have the 5 datasets on the y axis and the 4 methods x 3 metrics on the x-axis"
   ]
  },
  {
   "cell_type": "code",
   "execution_count": 75,
   "metadata": {},
   "outputs": [
    {
     "name": "stdout",
     "output_type": "stream",
     "text": [
      "(5, 12)\n"
     ]
    },
    {
     "data": {
      "text/html": [
       "<div>\n",
       "<style scoped>\n",
       "    .dataframe tbody tr th:only-of-type {\n",
       "        vertical-align: middle;\n",
       "    }\n",
       "\n",
       "    .dataframe tbody tr th {\n",
       "        vertical-align: top;\n",
       "    }\n",
       "\n",
       "    .dataframe thead th {\n",
       "        text-align: right;\n",
       "    }\n",
       "</style>\n",
       "<table border=\"1\" class=\"dataframe\">\n",
       "  <thead>\n",
       "    <tr style=\"text-align: right;\">\n",
       "      <th></th>\n",
       "      <th>0</th>\n",
       "      <th>1</th>\n",
       "      <th>2</th>\n",
       "      <th>3</th>\n",
       "      <th>4</th>\n",
       "      <th>5</th>\n",
       "      <th>6</th>\n",
       "      <th>7</th>\n",
       "      <th>8</th>\n",
       "      <th>9</th>\n",
       "      <th>10</th>\n",
       "      <th>11</th>\n",
       "    </tr>\n",
       "  </thead>\n",
       "  <tbody>\n",
       "    <tr>\n",
       "      <th>0</th>\n",
       "      <td>0.963</td>\n",
       "      <td>1.265</td>\n",
       "      <td>0.991</td>\n",
       "      <td>1.521</td>\n",
       "      <td>11.818</td>\n",
       "      <td>0.837</td>\n",
       "      <td>1.301</td>\n",
       "      <td>1.490</td>\n",
       "      <td>0.344</td>\n",
       "      <td>1.304</td>\n",
       "      <td>1.576</td>\n",
       "      <td>0.275</td>\n",
       "    </tr>\n",
       "    <tr>\n",
       "      <th>1</th>\n",
       "      <td>0.851</td>\n",
       "      <td>1.247</td>\n",
       "      <td>0.982</td>\n",
       "      <td>0.910</td>\n",
       "      <td>4.618</td>\n",
       "      <td>0.265</td>\n",
       "      <td>0.780</td>\n",
       "      <td>0.704</td>\n",
       "      <td>0.169</td>\n",
       "      <td>0.811</td>\n",
       "      <td>0.724</td>\n",
       "      <td>0.008</td>\n",
       "    </tr>\n",
       "    <tr>\n",
       "      <th>2</th>\n",
       "      <td>57.996</td>\n",
       "      <td>46.393</td>\n",
       "      <td>0.256</td>\n",
       "      <td>66.491</td>\n",
       "      <td>104.156</td>\n",
       "      <td>0.047</td>\n",
       "      <td>41.556</td>\n",
       "      <td>15.038</td>\n",
       "      <td>0.972</td>\n",
       "      <td>51.950</td>\n",
       "      <td>26.337</td>\n",
       "      <td>0.888</td>\n",
       "    </tr>\n",
       "    <tr>\n",
       "      <th>3</th>\n",
       "      <td>1.255</td>\n",
       "      <td>1.628</td>\n",
       "      <td>0.949</td>\n",
       "      <td>2.249</td>\n",
       "      <td>2.921</td>\n",
       "      <td>0.253</td>\n",
       "      <td>1.262</td>\n",
       "      <td>1.633</td>\n",
       "      <td>0.428</td>\n",
       "      <td>1.312</td>\n",
       "      <td>1.656</td>\n",
       "      <td>0.207</td>\n",
       "    </tr>\n",
       "    <tr>\n",
       "      <th>4</th>\n",
       "      <td>3.662</td>\n",
       "      <td>2.665</td>\n",
       "      <td>0.948</td>\n",
       "      <td>4.120</td>\n",
       "      <td>22.337</td>\n",
       "      <td>0.748</td>\n",
       "      <td>3.590</td>\n",
       "      <td>2.580</td>\n",
       "      <td>0.489</td>\n",
       "      <td>3.831</td>\n",
       "      <td>3.367</td>\n",
       "      <td>0.132</td>\n",
       "    </tr>\n",
       "  </tbody>\n",
       "</table>\n",
       "</div>"
      ],
      "text/plain": [
       "       0       1      2       3        4      5       6       7      8   \\\n",
       "0   0.963   1.265  0.991   1.521   11.818  0.837   1.301   1.490  0.344   \n",
       "1   0.851   1.247  0.982   0.910    4.618  0.265   0.780   0.704  0.169   \n",
       "2  57.996  46.393  0.256  66.491  104.156  0.047  41.556  15.038  0.972   \n",
       "3   1.255   1.628  0.949   2.249    2.921  0.253   1.262   1.633  0.428   \n",
       "4   3.662   2.665  0.948   4.120   22.337  0.748   3.590   2.580  0.489   \n",
       "\n",
       "       9       10     11  \n",
       "0   1.304   1.576  0.275  \n",
       "1   0.811   0.724  0.008  \n",
       "2  51.950  26.337  0.888  \n",
       "3   1.312   1.656  0.207  \n",
       "4   3.831   3.367  0.132  "
      ]
     },
     "execution_count": 75,
     "metadata": {},
     "output_type": "execute_result"
    }
   ],
   "source": [
    "all_results_df = pd.DataFrame(np.stack([ExactGP_rmse_mean, -ExactGP_mnll_mean, ExactGP_in2std_mean, \n",
    "                                 ExactGP_log_rmse_mean, -ExactGP_log_mnll_mean, ExactGP_log_in2std_mean, \n",
    "                                 LMGP_rmse_mean, -LMGP_mnll_mean, LMGP_in2std_mean, \n",
    "                                 SVIGP_log_rmse_mean, -SVIGP_log_mnll_mean, SVIGP_log_in2std_mean]).T)\n",
    "\n",
    "print(np.shape(all_results_df))\n",
    "all_results_df.round(3)"
   ]
  },
  {
   "cell_type": "code",
   "execution_count": 76,
   "metadata": {},
   "outputs": [
    {
     "name": "stderr",
     "output_type": "stream",
     "text": [
      "<ipython-input-76-08f174b53bf5>:1: FutureWarning: In future versions `DataFrame.to_latex` is expected to utilise the base implementation of `Styler.to_latex` for formatting and rendering. The arguments signature may therefore change. It is recommended instead to use `DataFrame.style.to_latex` which also contains additional functionality.\n",
      "  all_results_df.round(3).to_latex()\n"
     ]
    },
    {
     "data": {
      "text/plain": [
       "'\\\\begin{tabular}{lrrrrrrrrrrrr}\\n\\\\toprule\\n{} &      0  &      1  &     2  &      3  &       4  &     5  &      6  &      7  &     8  &      9  &      10 &     11 \\\\\\\\\\n\\\\midrule\\n0 &   0.963 &   1.265 &  0.991 &   1.521 &   11.818 &  0.837 &   1.301 &   1.490 &  0.344 &   1.304 &   1.576 &  0.275 \\\\\\\\\\n1 &   0.851 &   1.247 &  0.982 &   0.910 &    4.618 &  0.265 &   0.780 &   0.704 &  0.169 &   0.811 &   0.724 &  0.008 \\\\\\\\\\n2 &  57.996 &  46.393 &  0.256 &  66.491 &  104.156 &  0.047 &  41.556 &  15.038 &  0.972 &  51.950 &  26.337 &  0.888 \\\\\\\\\\n3 &   1.255 &   1.628 &  0.949 &   2.249 &    2.921 &  0.253 &   1.262 &   1.633 &  0.428 &   1.312 &   1.656 &  0.207 \\\\\\\\\\n4 &   3.662 &   2.665 &  0.948 &   4.120 &   22.337 &  0.748 &   3.590 &   2.580 &  0.489 &   3.831 &   3.367 &  0.132 \\\\\\\\\\n\\\\bottomrule\\n\\\\end{tabular}\\n'"
      ]
     },
     "execution_count": 76,
     "metadata": {},
     "output_type": "execute_result"
    }
   ],
   "source": [
    "all_results_df.round(3).to_latex()"
   ]
  },
  {
   "cell_type": "code",
   "execution_count": null,
   "metadata": {},
   "outputs": [],
   "source": []
  }
 ],
 "metadata": {
  "kernelspec": {
   "display_name": "Python 3",
   "language": "python",
   "name": "python3"
  },
  "language_info": {
   "codemirror_mode": {
    "name": "ipython",
    "version": 3
   },
   "file_extension": ".py",
   "mimetype": "text/x-python",
   "name": "python",
   "nbconvert_exporter": "python",
   "pygments_lexer": "ipython3",
   "version": "3.8.5"
  }
 },
 "nbformat": 4,
 "nbformat_minor": 4
}
