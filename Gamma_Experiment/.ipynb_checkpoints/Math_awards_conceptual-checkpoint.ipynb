{
 "cells": [
  {
   "cell_type": "code",
   "execution_count": 1,
   "metadata": {},
   "outputs": [],
   "source": [
    "import numpy as np\n",
    "import pandas as pd\n",
    "import matplotlib.pyplot as plt\n",
    "import gpytorch\n",
    "import torch\n",
    "import time\n",
    "%matplotlib inline\n",
    "\n",
    "#pd.set_option(\"display.max_rows\", None)\n",
    "#pd.set_option(\"display.max_columns\", None)"
   ]
  },
  {
   "cell_type": "code",
   "execution_count": 2,
   "metadata": {},
   "outputs": [
    {
     "name": "stdout",
     "output_type": "stream",
     "text": [
      "1.699593426303529 5.499999861629998\n"
     ]
    }
   ],
   "source": [
    "from tueplots import bundles\n",
    "plt.rcParams.update(bundles.neurips2021())\n",
    "figheight = bundles.neurips2021()[\"figure.figsize\"][1]\n",
    "figwidth = bundles.neurips2021()[\"figure.figsize\"][0]\n",
    "print(figheight, figwidth)"
   ]
  },
  {
   "cell_type": "markdown",
   "metadata": {},
   "source": [
    "## Load and visualize data"
   ]
  },
  {
   "cell_type": "code",
   "execution_count": 3,
   "metadata": {},
   "outputs": [
    {
     "data": {
      "text/html": [
       "<div>\n",
       "<style scoped>\n",
       "    .dataframe tbody tr th:only-of-type {\n",
       "        vertical-align: middle;\n",
       "    }\n",
       "\n",
       "    .dataframe tbody tr th {\n",
       "        vertical-align: top;\n",
       "    }\n",
       "\n",
       "    .dataframe thead th {\n",
       "        text-align: right;\n",
       "    }\n",
       "</style>\n",
       "<table border=\"1\" class=\"dataframe\">\n",
       "  <thead>\n",
       "    <tr style=\"text-align: right;\">\n",
       "      <th></th>\n",
       "      <th>id</th>\n",
       "      <th>num_awards</th>\n",
       "      <th>prog</th>\n",
       "      <th>math</th>\n",
       "    </tr>\n",
       "  </thead>\n",
       "  <tbody>\n",
       "    <tr>\n",
       "      <th>0</th>\n",
       "      <td>45</td>\n",
       "      <td>0</td>\n",
       "      <td>3</td>\n",
       "      <td>41</td>\n",
       "    </tr>\n",
       "    <tr>\n",
       "      <th>1</th>\n",
       "      <td>108</td>\n",
       "      <td>0</td>\n",
       "      <td>1</td>\n",
       "      <td>41</td>\n",
       "    </tr>\n",
       "    <tr>\n",
       "      <th>2</th>\n",
       "      <td>15</td>\n",
       "      <td>0</td>\n",
       "      <td>3</td>\n",
       "      <td>44</td>\n",
       "    </tr>\n",
       "    <tr>\n",
       "      <th>3</th>\n",
       "      <td>67</td>\n",
       "      <td>0</td>\n",
       "      <td>3</td>\n",
       "      <td>42</td>\n",
       "    </tr>\n",
       "    <tr>\n",
       "      <th>4</th>\n",
       "      <td>153</td>\n",
       "      <td>0</td>\n",
       "      <td>3</td>\n",
       "      <td>40</td>\n",
       "    </tr>\n",
       "    <tr>\n",
       "      <th>...</th>\n",
       "      <td>...</td>\n",
       "      <td>...</td>\n",
       "      <td>...</td>\n",
       "      <td>...</td>\n",
       "    </tr>\n",
       "    <tr>\n",
       "      <th>195</th>\n",
       "      <td>100</td>\n",
       "      <td>2</td>\n",
       "      <td>2</td>\n",
       "      <td>71</td>\n",
       "    </tr>\n",
       "    <tr>\n",
       "      <th>196</th>\n",
       "      <td>143</td>\n",
       "      <td>2</td>\n",
       "      <td>3</td>\n",
       "      <td>75</td>\n",
       "    </tr>\n",
       "    <tr>\n",
       "      <th>197</th>\n",
       "      <td>68</td>\n",
       "      <td>1</td>\n",
       "      <td>2</td>\n",
       "      <td>71</td>\n",
       "    </tr>\n",
       "    <tr>\n",
       "      <th>198</th>\n",
       "      <td>57</td>\n",
       "      <td>0</td>\n",
       "      <td>2</td>\n",
       "      <td>72</td>\n",
       "    </tr>\n",
       "    <tr>\n",
       "      <th>199</th>\n",
       "      <td>132</td>\n",
       "      <td>3</td>\n",
       "      <td>2</td>\n",
       "      <td>73</td>\n",
       "    </tr>\n",
       "  </tbody>\n",
       "</table>\n",
       "<p>200 rows × 4 columns</p>\n",
       "</div>"
      ],
      "text/plain": [
       "      id  num_awards  prog  math\n",
       "0     45           0     3    41\n",
       "1    108           0     1    41\n",
       "2     15           0     3    44\n",
       "3     67           0     3    42\n",
       "4    153           0     3    40\n",
       "..   ...         ...   ...   ...\n",
       "195  100           2     2    71\n",
       "196  143           2     3    75\n",
       "197   68           1     2    71\n",
       "198   57           0     2    72\n",
       "199  132           3     2    73\n",
       "\n",
       "[200 rows x 4 columns]"
      ]
     },
     "execution_count": 3,
     "metadata": {},
     "output_type": "execute_result"
    }
   ],
   "source": [
    "poisson_df = pd.read_csv('data/poisson_sim.csv')\n",
    "poisson_df"
   ]
  },
  {
   "cell_type": "code",
   "execution_count": 4,
   "metadata": {},
   "outputs": [],
   "source": [
    "poisson_df.drop(columns = ['id'], inplace=True)\n",
    "\n",
    "poisson_general_df = poisson_df[poisson_df['prog'] == 1]\n",
    "poisson_academic_df = poisson_df[poisson_df['prog'] == 2]\n",
    "poisson_vocational_df = poisson_df[poisson_df['prog'] == 3]"
   ]
  },
  {
   "cell_type": "code",
   "execution_count": 5,
   "metadata": {},
   "outputs": [
    {
     "name": "stderr",
     "output_type": "stream",
     "text": [
      "<ipython-input-5-7052a0670f2f>:15: UserWarning: This figure was using constrained_layout==True, but that is incompatible with subplots_adjust and or tight_layout: setting constrained_layout==False. \n",
      "  plt.tight_layout()\n"
     ]
    },
    {
     "data": {
      "image/png": "[encoded data removed]",
      "text/plain": [
       "<Figure size 1650x1019.76 with 1 Axes>"
      ]
     },
     "metadata": {
      "needs_background": "light"
     },
     "output_type": "display_data"
    }
   ],
   "source": [
    "s = 0.2\n",
    "eps1 = np.random.normal(0, 0.2, size=len(poisson_general_df))\n",
    "eps2 = np.random.normal(0, 0.2, size=len(poisson_academic_df))\n",
    "eps3 = np.random.normal(0, 0.2, size=len(poisson_vocational_df))\n",
    "\n",
    "fig = plt.figure(figsize=(figwidth, 2*figheight), dpi=300)\n",
    "plt.ylim(-0.5, 10.5)\n",
    "plt.ylabel('number of awards', size=14)\n",
    "plt.xlabel('math score', size=14)\n",
    "plt.plot(poisson_general_df['math'], poisson_general_df['num_awards']+eps1, '.', label=\"general\", color='orange')\n",
    "plt.plot(poisson_academic_df['math'], poisson_academic_df['num_awards']+eps2, '.', label=\"academic\", color='green')\n",
    "plt.plot(poisson_vocational_df['math'], poisson_vocational_df['num_awards']+eps3, '.', label=\"vocational\", color='blue')\n",
    "plt.legend()\n",
    "\n",
    "plt.tight_layout()\n",
    "\n",
    "plt.savefig('figures/Poisson_all_points.pdf')\n",
    "\n",
    "plt.show();"
   ]
  },
  {
   "cell_type": "code",
   "execution_count": 6,
   "metadata": {},
   "outputs": [],
   "source": [
    "from scipy.special import gamma as gamma_func\n",
    "\n",
    "def gamma_pdf(x, a, b):\n",
    "    r = b**a/gamma_func(a) * (x ** (a-1)) * (np.exp(-x*b))\n",
    "    return(r)"
   ]
  },
  {
   "cell_type": "code",
   "execution_count": 7,
   "metadata": {},
   "outputs": [
    {
     "data": {
      "text/html": [
       "<div>\n",
       "<style scoped>\n",
       "    .dataframe tbody tr th:only-of-type {\n",
       "        vertical-align: middle;\n",
       "    }\n",
       "\n",
       "    .dataframe tbody tr th {\n",
       "        vertical-align: top;\n",
       "    }\n",
       "\n",
       "    .dataframe thead th {\n",
       "        text-align: right;\n",
       "    }\n",
       "</style>\n",
       "<table border=\"1\" class=\"dataframe\">\n",
       "  <thead>\n",
       "    <tr style=\"text-align: right;\">\n",
       "      <th></th>\n",
       "      <th>num_awards</th>\n",
       "      <th>prog</th>\n",
       "      <th>math</th>\n",
       "    </tr>\n",
       "  </thead>\n",
       "  <tbody>\n",
       "    <tr>\n",
       "      <th>40</th>\n",
       "      <td>0</td>\n",
       "      <td>1</td>\n",
       "      <td>57</td>\n",
       "    </tr>\n",
       "    <tr>\n",
       "      <th>87</th>\n",
       "      <td>0</td>\n",
       "      <td>1</td>\n",
       "      <td>57</td>\n",
       "    </tr>\n",
       "    <tr>\n",
       "      <th>99</th>\n",
       "      <td>0</td>\n",
       "      <td>1</td>\n",
       "      <td>57</td>\n",
       "    </tr>\n",
       "    <tr>\n",
       "      <th>160</th>\n",
       "      <td>0</td>\n",
       "      <td>1</td>\n",
       "      <td>57</td>\n",
       "    </tr>\n",
       "  </tbody>\n",
       "</table>\n",
       "</div>"
      ],
      "text/plain": [
       "     num_awards  prog  math\n",
       "40            0     1    57\n",
       "87            0     1    57\n",
       "99            0     1    57\n",
       "160           0     1    57"
      ]
     },
     "execution_count": 7,
     "metadata": {},
     "output_type": "execute_result"
    }
   ],
   "source": [
    "poisson_general_df[poisson_general_df['math'] == 57]"
   ]
  },
  {
   "cell_type": "code",
   "execution_count": 8,
   "metadata": {},
   "outputs": [
    {
     "data": {
      "text/html": [
       "<div>\n",
       "<style scoped>\n",
       "    .dataframe tbody tr th:only-of-type {\n",
       "        vertical-align: middle;\n",
       "    }\n",
       "\n",
       "    .dataframe tbody tr th {\n",
       "        vertical-align: top;\n",
       "    }\n",
       "\n",
       "    .dataframe thead th {\n",
       "        text-align: right;\n",
       "    }\n",
       "</style>\n",
       "<table border=\"1\" class=\"dataframe\">\n",
       "  <thead>\n",
       "    <tr style=\"text-align: right;\">\n",
       "      <th></th>\n",
       "      <th>num_awards</th>\n",
       "      <th>prog</th>\n",
       "      <th>math</th>\n",
       "    </tr>\n",
       "  </thead>\n",
       "  <tbody>\n",
       "    <tr>\n",
       "      <th>96</th>\n",
       "      <td>1</td>\n",
       "      <td>2</td>\n",
       "      <td>57</td>\n",
       "    </tr>\n",
       "    <tr>\n",
       "      <th>113</th>\n",
       "      <td>0</td>\n",
       "      <td>2</td>\n",
       "      <td>57</td>\n",
       "    </tr>\n",
       "    <tr>\n",
       "      <th>133</th>\n",
       "      <td>0</td>\n",
       "      <td>2</td>\n",
       "      <td>57</td>\n",
       "    </tr>\n",
       "    <tr>\n",
       "      <th>137</th>\n",
       "      <td>1</td>\n",
       "      <td>2</td>\n",
       "      <td>57</td>\n",
       "    </tr>\n",
       "    <tr>\n",
       "      <th>140</th>\n",
       "      <td>0</td>\n",
       "      <td>2</td>\n",
       "      <td>57</td>\n",
       "    </tr>\n",
       "    <tr>\n",
       "      <th>149</th>\n",
       "      <td>3</td>\n",
       "      <td>2</td>\n",
       "      <td>57</td>\n",
       "    </tr>\n",
       "    <tr>\n",
       "      <th>171</th>\n",
       "      <td>3</td>\n",
       "      <td>2</td>\n",
       "      <td>57</td>\n",
       "    </tr>\n",
       "  </tbody>\n",
       "</table>\n",
       "</div>"
      ],
      "text/plain": [
       "     num_awards  prog  math\n",
       "96            1     2    57\n",
       "113           0     2    57\n",
       "133           0     2    57\n",
       "137           1     2    57\n",
       "140           0     2    57\n",
       "149           3     2    57\n",
       "171           3     2    57"
      ]
     },
     "execution_count": 8,
     "metadata": {},
     "output_type": "execute_result"
    }
   ],
   "source": [
    "poisson_academic_df[poisson_academic_df['math'] == 57]"
   ]
  },
  {
   "cell_type": "code",
   "execution_count": 9,
   "metadata": {},
   "outputs": [
    {
     "data": {
      "text/html": [
       "<div>\n",
       "<style scoped>\n",
       "    .dataframe tbody tr th:only-of-type {\n",
       "        vertical-align: middle;\n",
       "    }\n",
       "\n",
       "    .dataframe tbody tr th {\n",
       "        vertical-align: top;\n",
       "    }\n",
       "\n",
       "    .dataframe thead th {\n",
       "        text-align: right;\n",
       "    }\n",
       "</style>\n",
       "<table border=\"1\" class=\"dataframe\">\n",
       "  <thead>\n",
       "    <tr style=\"text-align: right;\">\n",
       "      <th></th>\n",
       "      <th>num_awards</th>\n",
       "      <th>prog</th>\n",
       "      <th>math</th>\n",
       "    </tr>\n",
       "  </thead>\n",
       "  <tbody>\n",
       "    <tr>\n",
       "      <th>103</th>\n",
       "      <td>0</td>\n",
       "      <td>3</td>\n",
       "      <td>57</td>\n",
       "    </tr>\n",
       "    <tr>\n",
       "      <th>115</th>\n",
       "      <td>0</td>\n",
       "      <td>3</td>\n",
       "      <td>57</td>\n",
       "    </tr>\n",
       "  </tbody>\n",
       "</table>\n",
       "</div>"
      ],
      "text/plain": [
       "     num_awards  prog  math\n",
       "103           0     3    57\n",
       "115           0     3    57"
      ]
     },
     "execution_count": 9,
     "metadata": {},
     "output_type": "execute_result"
    }
   ],
   "source": [
    "poisson_vocational_df[poisson_vocational_df['math'] == 57]"
   ]
  },
  {
   "cell_type": "markdown",
   "metadata": {},
   "source": [
    "## Looking at one of the marginal Gamma distributions"
   ]
  },
  {
   "cell_type": "code",
   "execution_count": 10,
   "metadata": {},
   "outputs": [
    {
     "name": "stderr",
     "output_type": "stream",
     "text": [
      "<ipython-input-6-2a58befc71af>:4: RuntimeWarning: divide by zero encountered in power\n",
      "  r = b**a/gamma_func(a) * (x ** (a-1)) * (np.exp(-x*b))\n"
     ]
    },
    {
     "data": {
      "image/png": "[encoded data removed]",
      "text/plain": [
       "<Figure size 396x244.741 with 1 Axes>"
      ]
     },
     "metadata": {
      "needs_background": "light"
     },
     "output_type": "display_data"
    }
   ],
   "source": [
    "x = np.linspace(0, 3, 300+1)\n",
    "alpha_0 = 0.1\n",
    "beta_0 = 0.1\n",
    "\n",
    "gamma_test = gamma_pdf(x, alpha_0+1, beta_0+1)\n",
    "\n",
    "gamma_general = gamma_pdf(x, alpha_0+0, beta_0+4)\n",
    "gamma_academic = gamma_pdf(x, alpha_0+8, beta_0+7)\n",
    "gamma_vocational = gamma_pdf(x, alpha_0+0, beta_0+2)\n",
    "\n",
    "plt.figure(figsize=(figwidth, 2*figheight))\n",
    "\n",
    "plt.plot(x, gamma_general, color='orange')\n",
    "plt.plot(x, gamma_academic, color='green')\n",
    "plt.plot(x, gamma_vocational, color='blue')\n",
    "plt.show();"
   ]
  },
  {
   "cell_type": "code",
   "execution_count": 11,
   "metadata": {},
   "outputs": [],
   "source": [
    "def get_counts_and_num_awards(df):\n",
    "    \n",
    "    df_new = df.groupby(['math']).size().reset_index(name='counts')\n",
    "    df_new['sum_awards'] = df.groupby(['math']).sum().reset_index()['num_awards']\n",
    "    \n",
    "    return(df_new)"
   ]
  },
  {
   "cell_type": "code",
   "execution_count": 12,
   "metadata": {},
   "outputs": [],
   "source": [
    "poisson_general_combined_df = get_counts_and_num_awards(poisson_general_df)\n",
    "poisson_academic_combined_df = get_counts_and_num_awards(poisson_academic_df)\n",
    "poisson_vocational_combined_df = get_counts_and_num_awards(poisson_vocational_df)"
   ]
  },
  {
   "cell_type": "code",
   "execution_count": 13,
   "metadata": {},
   "outputs": [],
   "source": [
    "def add_alpha_beta(df, alpha_0=0.1, beta_0=0.1):\n",
    "    \n",
    "    df['alpha'] = df['sum_awards'] + alpha_0\n",
    "    df['beta'] = df['counts'] + beta_0\n",
    "    return(df)"
   ]
  },
  {
   "cell_type": "code",
   "execution_count": 14,
   "metadata": {},
   "outputs": [],
   "source": [
    "poisson_general_combined_df = add_alpha_beta(poisson_general_combined_df)\n",
    "poisson_academic_combined_df = add_alpha_beta(poisson_academic_combined_df)\n",
    "poisson_vocational_combined_df = add_alpha_beta(poisson_vocational_combined_df)"
   ]
  },
  {
   "cell_type": "code",
   "execution_count": 15,
   "metadata": {},
   "outputs": [],
   "source": [
    "def add_mu_sigma(df):\n",
    "    \n",
    "    df['mu'] = np.log(df['alpha'] / df['beta'])\n",
    "    df['sigma2'] = 1 / df['alpha']\n",
    "    return(df)"
   ]
  },
  {
   "cell_type": "code",
   "execution_count": 16,
   "metadata": {},
   "outputs": [],
   "source": [
    "poisson_general_combined_df = add_mu_sigma(poisson_general_combined_df)\n",
    "poisson_academic_combined_df = add_mu_sigma(poisson_academic_combined_df)\n",
    "poisson_vocational_combined_df = add_mu_sigma(poisson_vocational_combined_df)"
   ]
  },
  {
   "cell_type": "markdown",
   "metadata": {},
   "source": [
    "# Use GP+LM\n",
    "using prepackages GPs from SciKit learn"
   ]
  },
  {
   "cell_type": "code",
   "execution_count": 17,
   "metadata": {},
   "outputs": [],
   "source": [
    "# We will use the simplest form of GP model, exact inference\n",
    "class ExactGPModel(gpytorch.models.ExactGP):\n",
    "    def __init__(self, train_x, train_y, likelihood):\n",
    "        super(ExactGPModel, self).__init__(train_x, train_y, likelihood)\n",
    "        self.mean_module = gpytorch.means.ConstantMean()\n",
    "        self.covar_module = gpytorch.kernels.ScaleKernel(gpytorch.kernels.RQKernel() + gpytorch.kernels.LinearKernel())\n",
    "\n",
    "    def forward(self, x):\n",
    "        mean_x = self.mean_module(x)\n",
    "        covar_x = self.covar_module(x)\n",
    "        return gpytorch.distributions.MultivariateNormal(mean_x, covar_x)"
   ]
  },
  {
   "cell_type": "markdown",
   "metadata": {},
   "source": [
    "### For the general group"
   ]
  },
  {
   "cell_type": "code",
   "execution_count": 18,
   "metadata": {},
   "outputs": [
    {
     "data": {
      "text/html": [
       "<div>\n",
       "<style scoped>\n",
       "    .dataframe tbody tr th:only-of-type {\n",
       "        vertical-align: middle;\n",
       "    }\n",
       "\n",
       "    .dataframe tbody tr th {\n",
       "        vertical-align: top;\n",
       "    }\n",
       "\n",
       "    .dataframe thead th {\n",
       "        text-align: right;\n",
       "    }\n",
       "</style>\n",
       "<table border=\"1\" class=\"dataframe\">\n",
       "  <thead>\n",
       "    <tr style=\"text-align: right;\">\n",
       "      <th></th>\n",
       "      <th>math</th>\n",
       "      <th>num_awards</th>\n",
       "      <th>count</th>\n",
       "    </tr>\n",
       "  </thead>\n",
       "  <tbody>\n",
       "    <tr>\n",
       "      <th>0</th>\n",
       "      <td>35</td>\n",
       "      <td>0</td>\n",
       "      <td>1</td>\n",
       "    </tr>\n",
       "    <tr>\n",
       "      <th>1</th>\n",
       "      <td>39</td>\n",
       "      <td>0</td>\n",
       "      <td>2</td>\n",
       "    </tr>\n",
       "    <tr>\n",
       "      <th>2</th>\n",
       "      <td>41</td>\n",
       "      <td>0</td>\n",
       "      <td>2</td>\n",
       "    </tr>\n",
       "    <tr>\n",
       "      <th>3</th>\n",
       "      <td>42</td>\n",
       "      <td>0</td>\n",
       "      <td>4</td>\n",
       "    </tr>\n",
       "    <tr>\n",
       "      <th>4</th>\n",
       "      <td>42</td>\n",
       "      <td>1</td>\n",
       "      <td>1</td>\n",
       "    </tr>\n",
       "  </tbody>\n",
       "</table>\n",
       "</div>"
      ],
      "text/plain": [
       "   math  num_awards  count\n",
       "0    35           0      1\n",
       "1    39           0      2\n",
       "2    41           0      2\n",
       "3    42           0      4\n",
       "4    42           1      1"
      ]
     },
     "execution_count": 18,
     "metadata": {},
     "output_type": "execute_result"
    }
   ],
   "source": [
    "poisson_general_scatter_df = poisson_general_df.groupby(['math', 'num_awards']).size().reset_index(name=\"count\")\n",
    "poisson_general_scatter_df.head(5)"
   ]
  },
  {
   "cell_type": "code",
   "execution_count": 19,
   "metadata": {},
   "outputs": [],
   "source": [
    "X_general = torch.tensor(poisson_general_combined_df['math'])\n",
    "Y_general = torch.tensor(poisson_general_combined_df['mu']).float()\n",
    "\n",
    "x_general = torch.tensor(np.array(range(X_general.min() - 10, X_general.max() + 10)))\n",
    "\n",
    "# initialize likelihood and model\n",
    "likelihood = gpytorch.likelihoods.GaussianLikelihood(noise_covar=torch.tensor(np.sqrt(poisson_general_combined_df['sigma2'].values)))\n",
    "model = ExactGPModel(X_general.view(-1,1), Y_general, likelihood)"
   ]
  },
  {
   "cell_type": "code",
   "execution_count": 20,
   "metadata": {},
   "outputs": [
    {
     "name": "stdout",
     "output_type": "stream",
     "text": [
      "tensor([35, 39, 41, 42, 43, 44, 45, 46, 48, 49, 50, 52, 54, 55, 56, 57, 58, 60,\n",
      "        61, 63])\n",
      "tensor([-2.3979, -3.0445, -3.0445, -1.5339, -3.4340,  0.0000, -2.3979, -1.3157,\n",
      "        -2.3979, -1.0361, -2.3979, -2.3979, -3.4340, -0.6466, -1.0361, -3.7136,\n",
      "        -0.3895, -3.0445, -3.0445,  0.0000])\n",
      "[3.16227766 3.16227766 3.16227766 0.95346259 3.16227766 0.95346259\n",
      " 3.16227766 0.95346259 3.16227766 0.95346259 3.16227766 3.16227766\n",
      " 3.16227766 0.95346259 0.95346259 3.16227766 0.69006556 3.16227766\n",
      " 3.16227766 0.95346259]\n",
      "GaussianLikelihood(\n",
      "  (noise_covar): HomoskedasticNoise(\n",
      "    (raw_noise_constraint): GreaterThan(1.000E-04)\n",
      "  )\n",
      ")\n",
      "ExactGPModel(\n",
      "  (likelihood): GaussianLikelihood(\n",
      "    (noise_covar): HomoskedasticNoise(\n",
      "      (raw_noise_constraint): GreaterThan(1.000E-04)\n",
      "    )\n",
      "  )\n",
      "  (mean_module): ConstantMean()\n",
      "  (covar_module): ScaleKernel(\n",
      "    (base_kernel): AdditiveKernel(\n",
      "      (kernels): ModuleList(\n",
      "        (0): RQKernel(\n",
      "          (raw_lengthscale_constraint): Positive()\n",
      "          (raw_alpha_constraint): Positive()\n",
      "        )\n",
      "        (1): LinearKernel(\n",
      "          (raw_variance_constraint): Positive()\n",
      "        )\n",
      "      )\n",
      "    )\n",
      "    (raw_outputscale_constraint): Positive()\n",
      "  )\n",
      ")\n"
     ]
    }
   ],
   "source": [
    "print(X_general)\n",
    "print(Y_general)\n",
    "print(np.sqrt(poisson_general_combined_df['sigma2'].values))\n",
    "print(likelihood)\n",
    "print(model)"
   ]
  },
  {
   "cell_type": "code",
   "execution_count": 21,
   "metadata": {},
   "outputs": [
    {
     "data": {
      "text/plain": [
       "GaussianLikelihood(\n",
       "  (noise_covar): HomoskedasticNoise(\n",
       "    (raw_noise_constraint): GreaterThan(1.000E-04)\n",
       "  )\n",
       ")"
      ]
     },
     "execution_count": 21,
     "metadata": {},
     "output_type": "execute_result"
    }
   ],
   "source": [
    "# this is for running the notebook in our testing framework\n",
    "training_iter = 50\n",
    "\n",
    "# Find optimal model hyperparameters\n",
    "model.train()\n",
    "likelihood.train()"
   ]
  },
  {
   "cell_type": "code",
   "execution_count": 22,
   "metadata": {},
   "outputs": [],
   "source": [
    "# Use the adam optimizer\n",
    "optimizer = torch.optim.Adam(model.parameters(), lr=0.1)  # Includes GaussianLikelihood parameters"
   ]
  },
  {
   "cell_type": "code",
   "execution_count": 23,
   "metadata": {},
   "outputs": [],
   "source": [
    "# \"Loss\" for GPs - the marginal log likelihood\n",
    "mll = gpytorch.mlls.ExactMarginalLogLikelihood(likelihood, model)"
   ]
  },
  {
   "cell_type": "code",
   "execution_count": 24,
   "metadata": {},
   "outputs": [],
   "source": [
    "\n",
    "for i in range(training_iter):\n",
    "    # Zero gradients from previous iteration\n",
    "    optimizer.zero_grad()\n",
    "        # Output from model\n",
    "    output = model(X_general.view(-1,1))\n",
    "     # Calc loss and backprop gradients\n",
    "    #loss = -mll(output, Y_general)"
   ]
  },
  {
   "cell_type": "code",
   "execution_count": 25,
   "metadata": {},
   "outputs": [
    {
     "ename": "SyntaxError",
     "evalue": "'break' outside loop (<ipython-input-25-6aaf1f276005>, line 1)",
     "output_type": "error",
     "traceback": [
      "\u001b[0;36m  File \u001b[0;32m\"<ipython-input-25-6aaf1f276005>\"\u001b[0;36m, line \u001b[0;32m1\u001b[0m\n\u001b[0;31m    break\u001b[0m\n\u001b[0m    ^\u001b[0m\n\u001b[0;31mSyntaxError\u001b[0m\u001b[0;31m:\u001b[0m 'break' outside loop\n"
     ]
    }
   ],
   "source": [
    "break"
   ]
  },
  {
   "cell_type": "code",
   "execution_count": null,
   "metadata": {},
   "outputs": [],
   "source": [
    "# this is for running the notebook in our testing framework\n",
    "training_iter = 50\n",
    "\n",
    "# Find optimal model hyperparameters\n",
    "model.train()\n",
    "likelihood.train()\n",
    "\n",
    "# Use the adam optimizer\n",
    "optimizer = torch.optim.Adam(model.parameters(), lr=0.1)  # Includes GaussianLikelihood parameters\n",
    "\n",
    "# \"Loss\" for GPs - the marginal log likelihood\n",
    "mll = gpytorch.mlls.ExactMarginalLogLikelihood(likelihood, model)\n",
    "\n",
    "for i in range(training_iter):\n",
    "    # Zero gradients from previous iteration\n",
    "    optimizer.zero_grad()\n",
    "    # Output from model\n",
    "    output = model(X_general.view(-1,1))\n",
    "    # Calc loss and backprop gradients\n",
    "    loss = -mll(output, Y_general)\n",
    "    loss.backward()\n",
    "    #print(model.covar_module.base_kernel.kernels[0])\n",
    "    if i % 5 == 0:\n",
    "        print('Iter %d/%d - Loss: %.3f   lengthscale: %.3f   noise: %.3f' % (\n",
    "            i + 1, training_iter, loss.item(),\n",
    "            model.covar_module.base_kernel.kernels[0].lengthscale.item(),\n",
    "            model.likelihood.noise.item()\n",
    "        ))\n",
    "    optimizer.step()"
   ]
  },
  {
   "cell_type": "code",
   "execution_count": null,
   "metadata": {},
   "outputs": [],
   "source": [
    "# Get into evaluation (predictive posterior) mode\n",
    "model.eval()\n",
    "likelihood.eval()\n",
    "\n",
    "# Test points are regularly spaced along [0,1]\n",
    "# Make predictions by feeding model through likelihood\n",
    "with torch.no_grad(), gpytorch.settings.fast_pred_var():\n",
    "    observed_pred = likelihood(model(x_general))"
   ]
  },
  {
   "cell_type": "code",
   "execution_count": null,
   "metadata": {},
   "outputs": [],
   "source": [
    "with torch.no_grad():\n",
    "    # Initialize plot\n",
    "    f, ax = plt.subplots(1, 1, figsize=(10, 5))\n",
    "\n",
    "    # Get upper and lower confidence bounds\n",
    "    lower, upper = observed_pred.confidence_region()\n",
    "    # Plot training data as black stars\n",
    "    ax.plot(X_general.numpy(), Y_general.numpy(), 'k*')\n",
    "    # Plot predictive means as blue line\n",
    "    ax.plot(x_general.numpy(), observed_pred.mean.numpy(), 'b')\n",
    "    # Shade between the lower and upper confidence bounds\n",
    "    ax.fill_between(x_general.numpy(), lower.numpy(), upper.numpy(), alpha=0.5)\n",
    "    ax.set_ylim([-6, 3])\n",
    "    ax.legend(['Observed Data', 'Mean', 'Confidence'])\n",
    "    "
   ]
  },
  {
   "cell_type": "code",
   "execution_count": null,
   "metadata": {},
   "outputs": [],
   "source": [
    "general_mean = np.exp(observed_pred.mean.numpy())\n",
    "lb_general, ub_general = observed_pred.confidence_region()\n",
    "lb_general, ub_general = np.exp(lb_general), np.exp(ub_general)\n",
    "\n",
    "fig = plt.figure(figsize=(figwidth, figheight), dpi=300)\n",
    "\n",
    "plt.ylim(-0.5, 5.5)\n",
    "plt.ylabel('number of awards', size=14)\n",
    "plt.xlabel('math score', size=14)\n",
    "plt.scatter(poisson_general_scatter_df['math'], poisson_general_scatter_df['num_awards'],\n",
    "            s=10* poisson_general_scatter_df['count'], color='black', label='general')\n",
    "plt.plot(x_general, general_mean, lw=3, color='orange')\n",
    "plt.plot(x_general, ub_general, lw=1, color='orange')\n",
    "plt.plot(x_general, lb_general, lw=1, color='orange')\n",
    "plt.fill_between(x_general, lb_general, ub_general, alpha=0.3, color='orange')\n",
    "plt.legend()\n",
    "\n",
    "plt.tight_layout()\n",
    "\n",
    "plt.savefig('figures/general_GP.pdf')\n",
    "\n",
    "plt.plot();"
   ]
  },
  {
   "cell_type": "markdown",
   "metadata": {},
   "source": [
    "### For academic"
   ]
  },
  {
   "cell_type": "code",
   "execution_count": null,
   "metadata": {},
   "outputs": [],
   "source": [
    "poisson_academic_scatter_df = poisson_academic_df.groupby(['math', 'num_awards']).size().reset_index(name=\"count\")\n",
    "poisson_academic_scatter_df.head(5)"
   ]
  },
  {
   "cell_type": "code",
   "execution_count": null,
   "metadata": {},
   "outputs": [],
   "source": [
    "X_academic = torch.tensor(poisson_academic_combined_df['math'])\n",
    "Y_academic = torch.tensor(poisson_academic_combined_df['mu']).float()\n",
    "\n",
    "x_academic = torch.tensor(np.array(range(X_academic.min() - 10, X_academic.max() + 10)))\n",
    "\n",
    "# initialize likelihood and model\n",
    "likelihood = gpytorch.likelihoods.GaussianLikelihood(noise_covar=torch.tensor(np.sqrt(poisson_academic_combined_df['sigma2'].values)))\n",
    "model = ExactGPModel(X_academic.view(-1,1), Y_academic, likelihood)\n",
    "\n",
    "# this is for running the notebook in our testing framework\n",
    "training_iter = 50\n",
    "\n",
    "\n",
    "# Find optimal model hyperparameters\n",
    "model.train()\n",
    "likelihood.train()\n",
    "\n",
    "# Use the adam optimizer\n",
    "optimizer = torch.optim.Adam(model.parameters(), lr=0.1)  # Includes GaussianLikelihood parameters\n",
    "\n",
    "# \"Loss\" for GPs - the marginal log likelihood\n",
    "mll = gpytorch.mlls.ExactMarginalLogLikelihood(likelihood, model)\n",
    "\n",
    "for i in range(training_iter):\n",
    "    # Zero gradients from previous iteration\n",
    "    optimizer.zero_grad()\n",
    "    # Output from model\n",
    "    output = model(X_academic.view(-1,1).long())\n",
    "    # Calc loss and backprop gradients\n",
    "    loss = -mll(output, Y_academic)\n",
    "    loss.backward()\n",
    "    if i % 5 == 0:\n",
    "        print('Iter %d/%d - Loss: %.3f   lengthscale: %.3f   noise: %.3f' % (\n",
    "            i + 1, training_iter, loss.item(),\n",
    "            model.covar_module.base_kernel.kernels[0].lengthscale.item(),\n",
    "            model.likelihood.noise.item()\n",
    "        ))\n",
    "    optimizer.step()\n",
    "    \n",
    "# Get into evaluation (predictive posterior) mode\n",
    "model.eval()\n",
    "likelihood.eval()\n",
    "\n",
    "# Test points are regularly spaced along [0,1]\n",
    "# Make predictions by feeding model through likelihood\n",
    "with torch.no_grad(), gpytorch.settings.fast_pred_var():\n",
    "    observed_pred = likelihood(model(x_academic))"
   ]
  },
  {
   "cell_type": "code",
   "execution_count": null,
   "metadata": {},
   "outputs": [],
   "source": [
    "with torch.no_grad():\n",
    "    # Initialize plot\n",
    "    f, ax = plt.subplots(1, 1, figsize=(10, 5))\n",
    "\n",
    "    # Get upper and lower confidence bounds\n",
    "    lower, upper = observed_pred.confidence_region()\n",
    "    # Plot training data as black stars\n",
    "    ax.plot(X_academic.numpy(), Y_academic.numpy(), 'k*')\n",
    "    # Plot predictive means as blue line\n",
    "    ax.plot(x_academic.numpy(), observed_pred.mean.numpy(), 'b')\n",
    "    # Shade between the lower and upper confidence bounds\n",
    "    ax.fill_between(x_academic.numpy(), lower.numpy(), upper.numpy(), alpha=0.5)\n",
    "    ax.set_ylim([-6, 3])\n",
    "    ax.legend(['Observed Data', 'Mean', 'Confidence'])\n",
    "    "
   ]
  },
  {
   "cell_type": "code",
   "execution_count": null,
   "metadata": {},
   "outputs": [],
   "source": [
    "academic_mean = np.exp(observed_pred.mean.numpy())\n",
    "lb_academic, ub_academic = observed_pred.confidence_region()\n",
    "lb_academic, ub_academic = np.exp(lb_academic), np.exp(ub_academic)\n",
    "\n",
    "fig = plt.figure(figsize=(figwidth, figheight), dpi=300)\n",
    "\n",
    "plt.ylim(-0.5, 7.5)\n",
    "plt.ylabel('number of awards', size=14)\n",
    "plt.xlabel('math score', size=14)\n",
    "plt.scatter(poisson_academic_scatter_df['math'], poisson_academic_scatter_df['num_awards'],\n",
    "            s=10* poisson_academic_scatter_df['count'], color='black', label='academic')\n",
    "plt.plot(x_academic, academic_mean, lw=3, color='green')\n",
    "plt.plot(x_academic, ub_academic, lw=1, color='green')\n",
    "plt.plot(x_academic, lb_academic, lw=1, color='green')\n",
    "plt.fill_between(x_academic, lb_academic, ub_academic, alpha=0.3, color='green')\n",
    "plt.legend()\n",
    "\n",
    "plt.tight_layout()\n",
    "\n",
    "plt.savefig('figures/academic_GP.pdf')\n",
    "\n",
    "plt.plot();"
   ]
  },
  {
   "cell_type": "markdown",
   "metadata": {},
   "source": [
    "## Redo the same for vocational"
   ]
  },
  {
   "cell_type": "code",
   "execution_count": null,
   "metadata": {},
   "outputs": [],
   "source": [
    "poisson_vocational_scatter_df = poisson_vocational_df.groupby(['math', 'num_awards']).size().reset_index(name=\"count\")\n",
    "poisson_vocational_scatter_df.head(5)"
   ]
  },
  {
   "cell_type": "code",
   "execution_count": null,
   "metadata": {},
   "outputs": [],
   "source": [
    "X_vocational = torch.tensor(poisson_vocational_combined_df['math'])\n",
    "Y_vocational = torch.tensor(poisson_vocational_combined_df['mu']).float()\n",
    "\n",
    "x_vocational = torch.tensor(np.array(range(X_vocational.min() - 10, X_vocational.max() + 10)))\n",
    "\n",
    "# initialize likelihood and model\n",
    "likelihood = gpytorch.likelihoods.GaussianLikelihood(noise_covar=torch.tensor(np.sqrt(poisson_vocational_combined_df['sigma2'].values)))\n",
    "model = ExactGPModel(X_vocational.view(-1,1), Y_vocational, likelihood)\n",
    "\n",
    "# this is for running the notebook in our testing framework\n",
    "training_iter = 50\n",
    "\n",
    "\n",
    "# Find optimal model hyperparameters\n",
    "model.train()\n",
    "likelihood.train()\n",
    "\n",
    "# Use the adam optimizer\n",
    "optimizer = torch.optim.Adam(model.parameters(), lr=0.1)  # Includes GaussianLikelihood parameters\n",
    "\n",
    "# \"Loss\" for GPs - the marginal log likelihood\n",
    "mll = gpytorch.mlls.ExactMarginalLogLikelihood(likelihood, model)\n",
    "\n",
    "for i in range(training_iter):\n",
    "    # Zero gradients from previous iteration\n",
    "    optimizer.zero_grad()\n",
    "    # Output from model\n",
    "    output = model(X_vocational.view(-1,1).long())\n",
    "    # Calc loss and backprop gradients\n",
    "    loss = -mll(output, Y_vocational)\n",
    "    loss.backward()\n",
    "    #print(model.covar_module.base_kernel.kernels[0])\n",
    "    if i % 5 == 0:\n",
    "        print('Iter %d/%d - Loss: %.3f   lengthscale: %.3f   noise: %.3f' % (\n",
    "            i + 1, training_iter, loss.item(),\n",
    "            model.covar_module.base_kernel.kernels[0].lengthscale.item(),\n",
    "            model.likelihood.noise.item()\n",
    "        ))\n",
    "    optimizer.step()\n",
    "    \n",
    "# Get into evaluation (predictive posterior) mode\n",
    "model.eval()\n",
    "likelihood.eval()\n",
    "\n",
    "# Test points are regularly spaced along [0,1]\n",
    "# Make predictions by feeding model through likelihood\n",
    "with torch.no_grad(), gpytorch.settings.fast_pred_var():\n",
    "    observed_pred = likelihood(model(x_vocational))"
   ]
  },
  {
   "cell_type": "code",
   "execution_count": null,
   "metadata": {},
   "outputs": [],
   "source": [
    "with torch.no_grad():\n",
    "    # Initialize plot\n",
    "    f, ax = plt.subplots(1, 1, figsize=(10, 5))\n",
    "\n",
    "    # Get upper and lower confidence bounds\n",
    "    lower, upper = observed_pred.confidence_region()\n",
    "    # Plot training data as black stars\n",
    "    ax.plot(X_vocational.numpy(), Y_vocational.numpy(), 'k*')\n",
    "    # Plot predictive means as blue line\n",
    "    ax.plot(x_vocational.numpy(), observed_pred.mean.numpy(), 'b')\n",
    "    # Shade between the lower and upper confidence bounds\n",
    "    ax.fill_between(x_vocational.numpy(), lower.numpy(), upper.numpy(), alpha=0.5)\n",
    "    ax.set_ylim([-6, 3])\n",
    "    ax.legend(['Observed Data', 'Mean', 'Confidence'])\n",
    "    "
   ]
  },
  {
   "cell_type": "code",
   "execution_count": null,
   "metadata": {},
   "outputs": [],
   "source": [
    "vocational_mean = np.exp(observed_pred.mean.numpy())\n",
    "lb_vocational, ub_vocational = observed_pred.confidence_region()\n",
    "lb_vocational, ub_vocational = np.exp(lb_vocational), np.exp(ub_vocational)\n",
    "\n",
    "fig = plt.figure(figsize=(figwidth, figheight), dpi=300)\n",
    "\n",
    "plt.ylim(-0.5, 5.5)\n",
    "plt.ylabel('number of awards', size=14)\n",
    "plt.xlabel('math score', size=14)\n",
    "plt.scatter(poisson_vocational_scatter_df['math'], poisson_vocational_scatter_df['num_awards'],\n",
    "            s=10* poisson_vocational_scatter_df['count'], color='black', label='vocational')\n",
    "plt.plot(x_vocational, vocational_mean, lw=3, color='blue')\n",
    "plt.plot(x_vocational, ub_vocational, lw=1, color='blue')\n",
    "plt.plot(x_vocational, lb_vocational, lw=1, color='blue')\n",
    "plt.fill_between(x_vocational, lb_vocational, ub_vocational, alpha=0.3, color='blue')\n",
    "plt.legend()\n",
    "\n",
    "plt.tight_layout()\n",
    "plt.savefig('figures/vocational_GP.pdf')\n",
    "\n",
    "plt.plot();"
   ]
  },
  {
   "cell_type": "code",
   "execution_count": null,
   "metadata": {},
   "outputs": [],
   "source": []
  }
 ],
 "metadata": {
  "kernelspec": {
   "display_name": "Python 3",
   "language": "python",
   "name": "python3"
  },
  "language_info": {
   "codemirror_mode": {
    "name": "ipython",
    "version": 3
   },
   "file_extension": ".py",
   "mimetype": "text/x-python",
   "name": "python",
   "nbconvert_exporter": "python",
   "pygments_lexer": "ipython3",
   "version": "3.8.5"
  }
 },
 "nbformat": 4,
 "nbformat_minor": 4
}
