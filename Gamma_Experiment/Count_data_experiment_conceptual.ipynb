{
 "cells": [
  {
   "cell_type": "code",
   "execution_count": null,
   "metadata": {},
   "outputs": [],
   "source": [
    "import math\n",
    "import torch\n",
    "import numpy as np\n",
    "import pandas as pd\n",
    "import gpytorch\n",
    "from matplotlib import pyplot as plt"
   ]
  },
  {
   "cell_type": "code",
   "execution_count": null,
   "metadata": {},
   "outputs": [],
   "source": [
    "import sys\n",
    "import os\n",
    "\n",
    "py_file_location = '../utils'\n",
    "sys.path.append(os.path.abspath(py_file_location))\n",
    "py_file_location = '../models'\n",
    "sys.path.append(os.path.abspath(py_file_location))\n",
    "\n",
    "import count_utils\n",
    "import count_models"
   ]
  },
  {
   "cell_type": "markdown",
   "metadata": {},
   "source": [
    "## load STD data"
   ]
  },
  {
   "cell_type": "code",
   "execution_count": null,
   "metadata": {},
   "outputs": [],
   "source": [
    "# load drive data\n",
    "df_STD = pd.read_csv(\"data/STDs.csv\")\n",
    "df_STD.head()"
   ]
  },
  {
   "cell_type": "code",
   "execution_count": null,
   "metadata": {},
   "outputs": [],
   "source": [
    "df_STD[\"time\"] = np.arange(len(df_STD))\n",
    "df_STD.dropna(inplace=True)\n",
    "df_STD.head()"
   ]
  },
  {
   "cell_type": "code",
   "execution_count": null,
   "metadata": {},
   "outputs": [],
   "source": [
    "fig, ax = plt.subplots(1, 1, figsize=(20, 5))\n",
    "ax.scatter(df_STD[\"time\"], df_STD[\"gonorrhea_count\"])\n",
    "plt.show();"
   ]
  },
  {
   "cell_type": "markdown",
   "metadata": {},
   "source": [
    "# build a model for STD data\n"
   ]
  },
  {
   "cell_type": "code",
   "execution_count": null,
   "metadata": {},
   "outputs": [],
   "source": [
    "from sklearn.model_selection import train_test_split\n",
    "X_STD = torch.tensor(df_STD[\"time\"].values)\n",
    "Y_STD = torch.tensor(df_STD[\"gonorrhea_count\"].values)\n",
    "\n",
    "x_STD = torch.tensor(np.array(range(X_STD.min() - 5, X_STD.max() + 5)))\n",
    "\n",
    "X_STD_train, X_STD_test, y_STD_train, y_STD_test = train_test_split(X_STD, Y_STD, test_size=0.33, random_state=42)\n",
    "\n",
    "y_STD_train_mu, y_STD_train_var = count_models.transform_y_Gamma_LM(y_STD_train, alpha_eps=0.1, counts=1)\n",
    "y_STD_test_mu, y_STD_test_var = count_models.transform_y_Gamma_LM(y_STD_test, alpha_eps=0.1, counts=1)"
   ]
  },
  {
   "cell_type": "code",
   "execution_count": null,
   "metadata": {},
   "outputs": [],
   "source": [
    "fig, ax = plt.subplots(1, 1, figsize=(20, 5))\n",
    "ax.scatter(X_STD, Y_STD)\n",
    "plt.show();"
   ]
  },
  {
   "cell_type": "code",
   "execution_count": null,
   "metadata": {},
   "outputs": [],
   "source": [
    "model, likelihood = count_models.create_LM_Gamma_GP_model(X_STD_train, y_STD_train_mu, y_STD_train_var,\n",
    "                    kernel=\"RBF\", init_lengthscale=5, learn_additional_noise=True, fixed_likelihood=False)"
   ]
  },
  {
   "cell_type": "code",
   "execution_count": null,
   "metadata": {},
   "outputs": [],
   "source": [
    "model, likelihood = count_models.train_LM_Gamma_GP_model(X_STD_train, y_STD_train_mu, model, likelihood,\n",
    "                                            num_iter=200, lr=0.1, report_iter=50)"
   ]
  },
  {
   "cell_type": "code",
   "execution_count": null,
   "metadata": {},
   "outputs": [],
   "source": [
    "# Get into evaluation (predictive posterior) mode\n",
    "model.eval()\n",
    "likelihood.eval()\n",
    "\n",
    "# Test points are regularly spaced along [0,1]\n",
    "# Make predictions by feeding model through likelihood\n",
    "with torch.no_grad(), gpytorch.settings.fast_pred_var():\n",
    "    observed_pred = likelihood(model(x_STD))"
   ]
  },
  {
   "cell_type": "code",
   "execution_count": null,
   "metadata": {},
   "outputs": [],
   "source": [
    "with torch.no_grad():\n",
    "    # Initialize plot\n",
    "    f, ax = plt.subplots(1, 1, figsize=(10, 5))\n",
    "\n",
    "    # Get upper and lower confidence bounds\n",
    "    lower, upper = observed_pred.confidence_region()\n",
    "    # Plot training data as black stars\n",
    "    ax.plot(X_STD_train.numpy(), y_STD_train_mu.numpy(), 'k*')\n",
    "    ax.plot(X_STD_test.numpy(), y_STD_test_mu.numpy(), '*', color=\"orange\")\n",
    "    # Plot predictive means as blue line\n",
    "    ax.plot(x_STD.numpy(), observed_pred.mean.numpy(), 'b')\n",
    "    # Shade between the lower and upper confidence bounds\n",
    "    ax.fill_between(x_STD.numpy(), lower.numpy(), upper.numpy(), alpha=0.5)\n",
    "\n",
    "    ax.legend(['Observed Data', 'Mean', 'Confidence'])\n",
    "    "
   ]
  },
  {
   "cell_type": "code",
   "execution_count": null,
   "metadata": {},
   "outputs": [],
   "source": [
    "STD_mean = np.exp(observed_pred.mean.numpy())\n",
    "lb_STD, ub_STD = observed_pred.confidence_region()\n",
    "lb_STD, ub_STD = np.exp(lb_STD), np.exp(ub_STD)\n",
    "\n",
    "fig, ax = plt.subplots(1, 1, figsize=(20, 5))\n",
    "ax.scatter(df_STD[\"time\"], df_STD[\"gonorrhea_count\"])\n",
    "plt.ylim(-0.5, 50000)\n",
    "#plt.ylabel('number of awards', size=14)\n",
    "#plt.xlabel('math score', size=14)\n",
    "\n",
    "#plt.scatter(poisson_STD_scatter_df['math'], poisson_STD_scatter_df['num_awards'],\n",
    "#            s=10* poisson_STD_scatter_df['count'], color='black', label='STD')\n",
    "ax.plot(x_STD, STD_mean, lw=3, color='orange')\n",
    "ax.plot(x_STD, ub_STD, lw=1, color='orange')\n",
    "ax.plot(x_STD, lb_STD, lw=1, color='orange')\n",
    "ax.fill_between(x_STD, lb_STD, ub_STD, alpha=0.3, color='orange')\n",
    "\n",
    "plt.tight_layout()\n",
    "\n",
    "#plt.savefig('figures/STD_GP.pdf')\n",
    "\n",
    "plt.plot();"
   ]
  },
  {
   "cell_type": "code",
   "execution_count": null,
   "metadata": {},
   "outputs": [],
   "source": [
    "count_models.evaluate_LM_Gamma_GP(model, likelihood, X_STD_test, y_STD_test, \n",
    "                                  num_samples=1000, fixed_likelihood=False)"
   ]
  },
  {
   "cell_type": "code",
   "execution_count": null,
   "metadata": {},
   "outputs": [],
   "source": [
    "# Get into evaluation (predictive posterior) mode\n",
    "model.eval()\n",
    "likelihood.eval()\n",
    "\n",
    "# Test points are regularly spaced along [0,1]\n",
    "# Make predictions by feeding model through likelihood\n",
    "with torch.no_grad(), gpytorch.settings.fast_pred_var():\n",
    "    observed_pred = likelihood(model(x_STD))"
   ]
  },
  {
   "cell_type": "code",
   "execution_count": null,
   "metadata": {},
   "outputs": [],
   "source": [
    "with torch.no_grad():\n",
    "    # Initialize plot\n",
    "    f, ax = plt.subplots(1, 1, figsize=(10, 5))\n",
    "\n",
    "    # Get upper and lower confidence bounds\n",
    "    lower, upper = observed_pred.confidence_region()\n",
    "    # Plot training data as black stars\n",
    "    ax.plot(X_STD_train.numpy(), y_STD_train_mu.numpy(), 'k*')\n",
    "    ax.plot(X_STD_test.numpy(), y_STD_test_mu.numpy(), '*', color=\"orange\")\n",
    "    # Plot predictive means as blue line\n",
    "    ax.plot(x_STD.numpy(), observed_pred.mean.numpy(), 'b')\n",
    "    # Shade between the lower and upper confidence bounds\n",
    "    ax.fill_between(x_STD.numpy(), lower.numpy(), upper.numpy(), alpha=0.5)\n",
    "\n",
    "    ax.legend(['Observed Data', 'Mean', 'Confidence'])\n",
    "    "
   ]
  },
  {
   "cell_type": "code",
   "execution_count": null,
   "metadata": {},
   "outputs": [],
   "source": [
    "STD_mean = np.exp(observed_pred.mean.numpy())\n",
    "lb_STD, ub_STD = observed_pred.confidence_region()\n",
    "lb_STD, ub_STD = np.exp(lb_STD), np.exp(ub_STD)\n",
    "\n",
    "fig, ax = plt.subplots(1, 1, figsize=(20, 5))\n",
    "ax.scatter(df_STD[\"time\"], df_STD[\"gonorrhea_count\"])\n",
    "plt.ylim(-0.5, 50000)\n",
    "#plt.ylabel('number of awards', size=14)\n",
    "#plt.xlabel('math score', size=14)\n",
    "\n",
    "#plt.scatter(poisson_STD_scatter_df['math'], poisson_STD_scatter_df['num_awards'],\n",
    "#            s=10* poisson_STD_scatter_df['count'], color='black', label='STD')\n",
    "ax.plot(x_STD, STD_mean, lw=3, color='orange')\n",
    "ax.plot(x_STD, ub_STD, lw=1, color='orange')\n",
    "ax.plot(x_STD, lb_STD, lw=1, color='orange')\n",
    "ax.fill_between(x_STD, lb_STD, ub_STD, alpha=0.3, color='orange')\n",
    "\n",
    "plt.tight_layout()\n",
    "\n",
    "#plt.savefig('figures/STD_GP.pdf')\n",
    "\n",
    "plt.plot();"
   ]
  },
  {
   "cell_type": "markdown",
   "metadata": {},
   "source": [
    "## check alternative with SVI"
   ]
  },
  {
   "cell_type": "code",
   "execution_count": null,
   "metadata": {},
   "outputs": [],
   "source": [
    "from torch.utils.data import TensorDataset, DataLoader\n",
    "\n",
    "train_dataset = TensorDataset(X_STD_train, y_STD_train)\n",
    "train_loader = DataLoader(train_dataset, batch_size=1024, shuffle=True)\n",
    "\n",
    "test_dataset = TensorDataset(X_STD_test, y_STD_test)\n",
    "test_loader = DataLoader(test_dataset, batch_size=1024, shuffle=False)"
   ]
  },
  {
   "cell_type": "code",
   "execution_count": null,
   "metadata": {},
   "outputs": [],
   "source": [
    "model_SVI, likelihood_SVI = count_models.create_SVIGP_model(X_STD_train, init_lengthscale=1, num_inducing_points=1000)"
   ]
  },
  {
   "cell_type": "code",
   "execution_count": null,
   "metadata": {},
   "outputs": [],
   "source": [
    "model_SVI, likelihood_SVI = count_models.train_SVIGP_model(train_loader, y_STD_train, model_SVI, likelihood_SVI,\n",
    "                                            num_iter=200, lr=1, report_iter=50)"
   ]
  },
  {
   "cell_type": "code",
   "execution_count": null,
   "metadata": {},
   "outputs": [],
   "source": [
    "count_models.evaluate_SVIGP(model_SVI, likelihood_SVI, test_loader, y_STD_test)"
   ]
  },
  {
   "cell_type": "code",
   "execution_count": null,
   "metadata": {},
   "outputs": [],
   "source": [
    "model.eval()\n",
    "likelihood.eval()\n",
    "means = torch.tensor([0.])\n",
    "with torch.no_grad():\n",
    "    for x_batch, y_batch in test_loader:\n",
    "        preds_SVI = model_SVI(x_batch)\n",
    "        means = torch.cat([means, preds_SVI.mean.cpu()])\n",
    "means = means[1:]"
   ]
  },
  {
   "cell_type": "code",
   "execution_count": null,
   "metadata": {},
   "outputs": [],
   "source": [
    "model.eval()\n",
    "likelihood.eval()\n",
    "means = torch.tensor([0.])\n",
    "with torch.no_grad():\n",
    "    preds_SVI = model_SVI(x_STD)"
   ]
  },
  {
   "cell_type": "code",
   "execution_count": null,
   "metadata": {},
   "outputs": [],
   "source": [
    "STD_mean_SVI = preds_SVI.mean\n",
    "lb_STD_SVI, ub_STD_SVI = preds_SVI.confidence_region()\n",
    "\n",
    "\n",
    "fig, ax = plt.subplots(1, 1, figsize=(20, 5))\n",
    "ax.scatter(df_STD[\"time\"], df_STD[\"gonorrhea_count\"], color=\"k\")\n",
    "plt.ylim(-0.5, 50000)\n",
    "#plt.ylabel('number of awards', size=14)\n",
    "#plt.xlabel('math score', size=14)\n",
    "\n",
    "#plt.scatter(poisson_STD_scatter_df['math'], poisson_STD_scatter_df['num_awards'],\n",
    "#            s=10* poisson_STD_scatter_df['count'], color='black', label='STD')\n",
    "ax.plot(x_STD, STD_mean, lw=3, color='orange')\n",
    "ax.plot(x_STD, ub_STD, lw=1, color='orange')\n",
    "ax.plot(x_STD, lb_STD, lw=1, color='orange')\n",
    "ax.fill_between(x_STD, lb_STD, ub_STD, alpha=0.3, color='orange')\n",
    "ax.plot(x_STD, STD_mean_SVI, lw=3, color='blue')\n",
    "ax.plot(x_STD, ub_STD_SVI, lw=1, color='blue')\n",
    "ax.plot(x_STD, lb_STD_SVI, lw=1, color='blue')\n",
    "ax.fill_between(x_STD, lb_STD_SVI, ub_STD_SVI, alpha=0.3, color='blue')\n",
    "\n",
    "plt.tight_layout()\n",
    "\n",
    "#plt.savefig('figures/STD_GP.pdf')\n",
    "\n",
    "plt.plot();"
   ]
  },
  {
   "cell_type": "markdown",
   "metadata": {},
   "source": [
    "## compare to SVIGP+log transformed data"
   ]
  },
  {
   "cell_type": "code",
   "execution_count": null,
   "metadata": {},
   "outputs": [],
   "source": [
    "from torch.utils.data import TensorDataset, DataLoader\n",
    "\n",
    "train_dataset_log = TensorDataset(X_STD_train, torch.log(y_STD_train))\n",
    "train_loader_log = DataLoader(train_dataset_log, batch_size=1024, shuffle=True)\n",
    "\n",
    "test_dataset = TensorDataset(X_STD_test, y_STD_test)\n",
    "test_loader = DataLoader(test_dataset, batch_size=1024, shuffle=False)"
   ]
  },
  {
   "cell_type": "code",
   "execution_count": null,
   "metadata": {},
   "outputs": [],
   "source": [
    "model_SVI_log, likelihood_SVI_log = count_models.create_SVIGP_model(X_STD_train, init_lengthscale=1,\n",
    "                                                                   num_inducing_points=1000)\n",
    "model_SVI_log, likelihood_SVI_log = count_models.train_SVIGP_model(train_loader_log, torch.log(y_STD_train), \n",
    "                                                          model_SVI_log, likelihood_SVI_log,\n",
    "                                            num_iter=500, lr=1, report_iter=50)"
   ]
  },
  {
   "cell_type": "code",
   "execution_count": null,
   "metadata": {},
   "outputs": [],
   "source": [
    "count_models.evaluate_SVIGP_log(model_SVI_log, likelihood_SVI_log, test_loader, y_STD_test)"
   ]
  },
  {
   "cell_type": "code",
   "execution_count": null,
   "metadata": {},
   "outputs": [],
   "source": [
    "model.eval()\n",
    "likelihood.eval()\n",
    "means = torch.tensor([0.])\n",
    "with torch.no_grad():\n",
    "    preds_SVI_log = model_SVI_log(x_STD)"
   ]
  },
  {
   "cell_type": "code",
   "execution_count": null,
   "metadata": {},
   "outputs": [],
   "source": [
    "STD_mean_SVI_log = torch.exp(preds_SVI.mean)\n",
    "lb_STD_SVI_log, ub_STD_SVI_log = preds_SVI.confidence_region()\n",
    "lb_STD_SVI_log, ub_STD_SVI_log = torch.exp(lb_STD_SVI_log), torch.exp(ub_STD_SVI_log)\n",
    "\n",
    "fig, ax = plt.subplots(1, 1, figsize=(20, 5))\n",
    "ax.scatter(df_STD[\"time\"], df_STD[\"gonorrhea_count\"], color=\"k\")\n",
    "plt.ylim(-0.5, 50000)\n",
    "#plt.ylabel('number of awards', size=14)\n",
    "#plt.xlabel('math score', size=14)\n",
    "\n",
    "#plt.scatter(poisson_STD_scatter_df['math'], poisson_STD_scatter_df['num_awards'],\n",
    "#            s=10* poisson_STD_scatter_df['count'], color='black', label='STD')\n",
    "ax.plot(x_STD, STD_mean, lw=3, color='orange')\n",
    "ax.plot(x_STD, ub_STD, lw=1, color='orange')\n",
    "ax.plot(x_STD, lb_STD, lw=1, color='orange')\n",
    "ax.fill_between(x_STD, lb_STD, ub_STD, alpha=0.3, color='orange')\n",
    "ax.plot(x_STD, STD_mean_SVI_log, lw=3, color='blue')\n",
    "ax.plot(x_STD, ub_STD_SVI_log, lw=1, color='blue')\n",
    "ax.plot(x_STD, lb_STD_SVI_log, lw=1, color='blue')\n",
    "ax.fill_between(x_STD, lb_STD_SVI_log, ub_STD_SVI_log, alpha=0.3, color='blue')\n",
    "\n",
    "plt.tight_layout()\n",
    "\n",
    "#plt.savefig('figures/STD_GP.pdf')\n",
    "\n",
    "plt.plot();"
   ]
  },
  {
   "cell_type": "markdown",
   "metadata": {},
   "source": [
    "## compare to standard GP"
   ]
  },
  {
   "cell_type": "code",
   "execution_count": null,
   "metadata": {},
   "outputs": [],
   "source": [
    "model_exact, likelihood_exact = count_models.create_ExactGP_model(X_STD_train, y_STD_train, init_lengthscale=10)"
   ]
  },
  {
   "cell_type": "code",
   "execution_count": null,
   "metadata": {},
   "outputs": [],
   "source": [
    "model_exact, likelihood_exact = count_models.train_ExactGP_model(X_STD_train, y_STD_train, model_exact, likelihood_exact,\n",
    "                                                    num_iter=2000, lr=1, report_iter=200)"
   ]
  },
  {
   "cell_type": "code",
   "execution_count": null,
   "metadata": {},
   "outputs": [],
   "source": [
    "count_models.evaluate_ExactGP(model_exact, likelihood_exact, X_STD_test, y_STD_test)"
   ]
  },
  {
   "cell_type": "code",
   "execution_count": null,
   "metadata": {},
   "outputs": [],
   "source": [
    "# Get into evaluation (predictive posterior) mode\n",
    "model_exact.eval()\n",
    "likelihood_exact.eval()\n",
    "\n",
    "# Test points are regularly spaced along [0,1]\n",
    "# Make predictions by feeding model through likelihood\n",
    "with torch.no_grad(), gpytorch.settings.fast_pred_var():\n",
    "    preds_exact = likelihood(model_exact(x_STD))"
   ]
  },
  {
   "cell_type": "code",
   "execution_count": null,
   "metadata": {},
   "outputs": [],
   "source": [
    "STD_mean_exact = preds_exact.mean\n",
    "lb_STD_exact, ub_STD_exact = preds_exact.confidence_region()\n",
    "\n",
    "\n",
    "fig, ax = plt.subplots(1, 1, figsize=(20, 5))\n",
    "ax.scatter(df_STD[\"time\"], df_STD[\"gonorrhea_count\"], color=\"k\")\n",
    "plt.ylim(-0.5, 50000)\n",
    "#plt.ylabel('number of awards', size=14)\n",
    "#plt.xlabel('math score', size=14)\n",
    "\n",
    "#plt.scatter(poisson_STD_scatter_df['math'], poisson_STD_scatter_df['num_awards'],\n",
    "#            s=10* poisson_STD_scatter_df['count'], color='black', label='STD')\n",
    "ax.plot(x_STD, STD_mean, lw=3, color='orange', label=\"LM+GP\")\n",
    "ax.plot(x_STD, ub_STD, lw=1, color='orange')\n",
    "ax.plot(x_STD, lb_STD, lw=1, color='orange')\n",
    "ax.fill_between(x_STD, lb_STD, ub_STD, alpha=0.3, color='orange')\n",
    "ax.plot(x_STD, STD_mean_exact, lw=3, color='blue', label=\"exact GP\")\n",
    "ax.plot(x_STD, ub_STD_exact, lw=1, color='blue')\n",
    "ax.plot(x_STD, lb_STD_exact, lw=1, color='blue')\n",
    "ax.fill_between(x_STD, lb_STD_exact, ub_STD_exact, alpha=0.3, color='blue')\n",
    "ax.legend()\n",
    "\n",
    "plt.tight_layout()\n",
    "\n",
    "#plt.savefig('figures/STD_GP.pdf')\n",
    "\n",
    "plt.plot();"
   ]
  },
  {
   "cell_type": "markdown",
   "metadata": {},
   "source": [
    "## Test exact GP on log-transformed data"
   ]
  },
  {
   "cell_type": "code",
   "execution_count": null,
   "metadata": {},
   "outputs": [],
   "source": [
    "model_exact_log, likelihood_exact_log = count_models.create_ExactGP_model(X_STD_train, torch.log(y_STD_train), init_lengthscale=10)\n",
    "model_exact_log, likelihood_exact_log = count_models.train_ExactGP_model(X_STD_train, torch.log(y_STD_train), model_exact_log, \n",
    "                                                    likelihood_exact_log,\n",
    "                                                    num_iter=500, lr=0.1, report_iter=50)"
   ]
  },
  {
   "cell_type": "code",
   "execution_count": null,
   "metadata": {},
   "outputs": [],
   "source": [
    "count_models.evaluate_ExactGP_log(model_exact_log, likelihood_exact_log, X_STD_test, y_STD_test)"
   ]
  },
  {
   "cell_type": "code",
   "execution_count": null,
   "metadata": {},
   "outputs": [],
   "source": [
    "# Get into evaluation (predictive posterior) mode\n",
    "model_exact_log.eval()\n",
    "likelihood_exact_log.eval()\n",
    "\n",
    "# Test points are regularly spaced along [0,1]\n",
    "# Make predictions by feeding model through likelihood\n",
    "with torch.no_grad(), gpytorch.settings.fast_pred_var():\n",
    "    preds_exact_log = likelihood(model_exact_log(x_STD))\n",
    "    \n",
    "STD_mean_exact_log = torch.exp(preds_exact_log.mean)\n",
    "lb_STD_exact_log, ub_STD_exact_log = preds_exact_log.confidence_region()\n",
    "lb_STD_exact_log, ub_STD_exact_log = torch.exp(lb_STD_exact_log), torch.exp(ub_STD_exact_log)\n",
    "\n",
    "fig, ax = plt.subplots(1, 1, figsize=(20, 5))\n",
    "ax.scatter(df_STD[\"time\"], df_STD[\"gonorrhea_count\"], color=\"k\")\n",
    "plt.ylim(-0.5, 50000)\n",
    "#plt.ylabel('number of awards', size=14)\n",
    "#plt.xlabel('math score', size=14)\n",
    "\n",
    "#plt.scatter(poisson_STD_scatter_df['math'], poisson_STD_scatter_df['num_awards'],\n",
    "#            s=10* poisson_STD_scatter_df['count'], color='black', label='STD')\n",
    "ax.plot(x_STD, STD_mean, lw=3, color='orange', label=\"LM+GP\")\n",
    "ax.plot(x_STD, ub_STD, lw=1, color='orange')\n",
    "ax.plot(x_STD, lb_STD, lw=1, color='orange')\n",
    "ax.fill_between(x_STD, lb_STD, ub_STD, alpha=0.3, color='orange')\n",
    "ax.plot(x_STD, STD_mean_exact_log, lw=3, color='blue', label=\"exact GP log\")\n",
    "ax.plot(x_STD, ub_STD_exact_log, lw=1, color='blue')\n",
    "ax.plot(x_STD, lb_STD_exact_log, lw=1, color='blue')\n",
    "ax.fill_between(x_STD, lb_STD_exact_log, ub_STD_exact_log, alpha=0.3, color='blue')\n",
    "ax.legend()\n",
    "\n",
    "plt.tight_layout()\n",
    "\n",
    "#plt.savefig('figures/STD_GP.pdf')\n",
    "\n",
    "plt.plot();"
   ]
  },
  {
   "cell_type": "markdown",
   "metadata": {},
   "source": [
    "# selecting hyperparameters with cross validation"
   ]
  },
  {
   "cell_type": "code",
   "execution_count": null,
   "metadata": {},
   "outputs": [],
   "source": [
    "LENGTHSCALES = [1, 2, 5, 10, 20, 50, 100, 200, 500]"
   ]
  },
  {
   "cell_type": "code",
   "execution_count": null,
   "metadata": {},
   "outputs": [],
   "source": [
    "NUM_INDUCING_POINTS=200\n",
    "res = count_models.select_init_lengthscale_with_CV_Gamma(X_STD_train, y_STD_train, mode=\"ExactGP\", num_inducing_points=NUM_INDUCING_POINTS, \n",
    "                                    learn_noise=True, num_iter=2000, lr=1,\n",
    "                                    lengthscales=LENGTHSCALES, max_test_size=1000)\n",
    "\n",
    "print(res)    \n",
    "count_utils.plot_res(res)"
   ]
  },
  {
   "cell_type": "code",
   "execution_count": null,
   "metadata": {},
   "outputs": [],
   "source": [
    "res = count_models.select_init_lengthscale_with_CV_Gamma(X_STD_train, y_STD_train, mode=\"ExactGP_log\", num_inducing_points=NUM_INDUCING_POINTS, \n",
    "                                    learn_noise=True, num_iter=200, lr=0.1,\n",
    "                                    lengthscales=LENGTHSCALES, max_test_size=1000)\n",
    "\n",
    "print(res)    \n",
    "count_utils.plot_res(res)"
   ]
  },
  {
   "cell_type": "code",
   "execution_count": null,
   "metadata": {},
   "outputs": [],
   "source": [
    "res = count_models.select_init_lengthscale_with_CV_Gamma(X_STD_train, y_STD_train, mode=\"LMGP_gamma\", num_inducing_points=NUM_INDUCING_POINTS, \n",
    "                                    learn_noise=True, num_iter=200, lr=0.1, fixed_likelihood=True,\n",
    "                                    lengthscales=LENGTHSCALES, max_test_size=1000)\n",
    "\n",
    "print(res)    \n",
    "count_utils.plot_res(res)"
   ]
  },
  {
   "cell_type": "code",
   "execution_count": null,
   "metadata": {},
   "outputs": [],
   "source": [
    "res = count_models.select_init_lengthscale_with_CV_Gamma(X_STD_train, y_STD_train, mode=\"SVIGP\", num_inducing_points=NUM_INDUCING_POINTS, \n",
    "                                    learn_noise=True, num_iter=200, lr=0.1,\n",
    "                                    lengthscales=LENGTHSCALES, max_test_size=1000)\n",
    "\n",
    "print(res)    \n",
    "count_utils.plot_res(res)"
   ]
  },
  {
   "cell_type": "code",
   "execution_count": null,
   "metadata": {},
   "outputs": [],
   "source": [
    "res = count_models.select_init_lengthscale_with_CV_Gamma(X_STD_train, y_STD_train, mode=\"SVIGP_log\", num_inducing_points=NUM_INDUCING_POINTS, \n",
    "                                    learn_noise=True, num_iter=200, lr=0.1,\n",
    "                                    lengthscales=LENGTHSCALES, max_test_size=1000)\n",
    "\n",
    "print(res)    \n",
    "count_utils.plot_res(res)"
   ]
  },
  {
   "cell_type": "code",
   "execution_count": null,
   "metadata": {},
   "outputs": [],
   "source": []
  }
 ],
 "metadata": {
  "kernelspec": {
   "display_name": "Python 3",
   "language": "python",
   "name": "python3"
  },
  "language_info": {
   "codemirror_mode": {
    "name": "ipython",
    "version": 3
   },
   "file_extension": ".py",
   "mimetype": "text/x-python",
   "name": "python",
   "nbconvert_exporter": "python",
   "pygments_lexer": "ipython3",
   "version": "3.8.5"
  }
 },
 "nbformat": 4,
 "nbformat_minor": 4
}
