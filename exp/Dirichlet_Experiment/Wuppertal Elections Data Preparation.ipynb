{
 "cells": [
  {
   "cell_type": "code",
   "execution_count": 1,
   "metadata": {},
   "outputs": [],
   "source": [
    "import torch\n",
    "import numpy as np\n",
    "import pandas as pd\n",
    "import matplotlib.pyplot as plt\n",
    "%matplotlib inline\n",
    "\n",
    "pd.set_option(\"display.max_rows\", None)\n",
    "pd.set_option(\"display.max_columns\", None)"
   ]
  },
  {
   "cell_type": "markdown",
   "metadata": {},
   "source": [
    "# Data Preparation"
   ]
  },
  {
   "cell_type": "code",
   "execution_count": 7,
   "metadata": {},
   "outputs": [],
   "source": [
    "# import the datasets \n",
    "\n",
    "elections_1961_df = pd.read_csv('Wuppertal Wahlen/WT_1961.csv', header=3, encoding='latin-1', sep=';')\n",
    "elections_1965_df = pd.read_csv('Wuppertal Wahlen/WT_1965.csv', header=3, encoding='latin-1', sep=';')\n",
    "elections_1969_df = pd.read_csv('Wuppertal Wahlen/WT_1969.csv', header=3, encoding='latin-1', sep=';')\n",
    "elections_1972_df = pd.read_csv('Wuppertal Wahlen/WT_1972.csv', header=3, encoding='latin-1', sep=';')\n",
    "elections_1976_df = pd.read_csv('Wuppertal Wahlen/WT_1976.csv', header=3, encoding='latin-1', sep=';')\n",
    "elections_1980_df = pd.read_csv('Wuppertal Wahlen/WT_1980.csv', header=3, encoding='latin-1', sep=';')\n",
    "elections_1983_df = pd.read_csv('Wuppertal Wahlen/WT_1983.csv', header=3, encoding='latin-1', sep=';')\n",
    "elections_1987_df = pd.read_csv('Wuppertal Wahlen/WT_1987.csv', header=3, encoding='latin-1', sep=';')\n",
    "elections_1990_df = pd.read_csv('Wuppertal Wahlen/WT_1990.csv', header=3, encoding='latin-1', sep=';')\n",
    "elections_1994_df = pd.read_csv('Wuppertal Wahlen/WT_1994.csv', header=3, encoding='latin-1', sep=';')\n",
    "elections_1998_df = pd.read_csv('Wuppertal Wahlen/WT_1998.csv', header=3, encoding='latin-1', sep=';')\n",
    "elections_2002_df = pd.read_csv('Wuppertal Wahlen/WT_2002.csv', header=3, encoding='latin-1', sep=';')\n",
    "elections_2005_df = pd.read_csv('Wuppertal Wahlen/WT_2005.csv', header=3, encoding='latin-1', sep=';')\n",
    "elections_2009_df = pd.read_csv('Wuppertal Wahlen/WT_2009.csv', header=3, encoding='latin-1', sep=';')\n",
    "elections_2013_df = pd.read_csv('Wuppertal Wahlen/WT_2013.csv', header=3, encoding='latin-1', sep=';')\n",
    "elections_2017_df = pd.read_csv('Wuppertal Wahlen/WT_2017.csv', header=3, encoding='latin-1', sep=';')"
   ]
  },
  {
   "cell_type": "code",
   "execution_count": null,
   "metadata": {},
   "outputs": [],
   "source": []
  },
  {
   "cell_type": "code",
   "execution_count": null,
   "metadata": {},
   "outputs": [],
   "source": []
  }
 ],
 "metadata": {
  "kernelspec": {
   "display_name": "Python 3",
   "language": "python",
   "name": "python3"
  },
  "language_info": {
   "codemirror_mode": {
    "name": "ipython",
    "version": 3
   },
   "file_extension": ".py",
   "mimetype": "text/x-python",
   "name": "python",
   "nbconvert_exporter": "python",
   "pygments_lexer": "ipython3",
   "version": "3.7.3"
  }
 },
 "nbformat": 4,
 "nbformat_minor": 2
}
