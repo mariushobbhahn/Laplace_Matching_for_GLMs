{
 "cells": [
  {
   "cell_type": "code",
   "execution_count": 1,
   "metadata": {},
   "outputs": [],
   "source": [
    "import numpy as np\n",
    "from scipy.integrate import quad\n",
    "from scipy.integrate import nquad\n",
    "from scipy.stats import multivariate_normal\n"
   ]
  },
  {
   "cell_type": "code",
   "execution_count": 2,
   "metadata": {},
   "outputs": [
    {
     "name": "stdout",
     "output_type": "stream",
     "text": [
      "5000.0 5.551115123125783e-11\n"
     ]
    }
   ],
   "source": [
    "## compute a simple function and integrate it with scipy.quad\n",
    "\n",
    "f = lambda x, a: a*x\n",
    "\n",
    "y, err = quad(f, 0, 100, args=(1))\n",
    "print(y, err)"
   ]
  },
  {
   "cell_type": "code",
   "execution_count": 3,
   "metadata": {},
   "outputs": [
    {
     "name": "stdout",
     "output_type": "stream",
     "text": [
      "0.5 5.1748846605611e-13\n",
      "1.0000000000000002 1.0346447325665705e-12\n"
     ]
    }
   ],
   "source": [
    "## compute a one dimensional Gaussian and integrate it with scipy.quad\n",
    "\n",
    "f = lambda x, mu, sigma: 1/(sigma*np.sqrt(2*np.pi)) * np.exp(-0.5*((x-mu)**2/sigma**2))\n",
    "\n",
    "y, err = quad(f, 0, 100, args=(0,1))\n",
    "print(y, err)\n",
    "\n",
    "y, err = quad(f, -100, 100, args=(0,1))\n",
    "print(y, err)"
   ]
  },
  {
   "cell_type": "code",
   "execution_count": 4,
   "metadata": {},
   "outputs": [
    {
     "name": "stdout",
     "output_type": "stream",
     "text": [
      "1.0000000000333398 1.4086482735335021e-08\n"
     ]
    }
   ],
   "source": [
    "## compute a two dimensional Gaussian and its integral\n",
    "\n",
    "def integrand(x0, x1, mean, cov):\n",
    "    return multivariate_normal.pdf([x0, x1], mean=mean, cov=cov)\n",
    "\n",
    "mean = np.array([0, 0])\n",
    "cov = np.array([[1, 0], [0, 1]])\n",
    "\n",
    "res, err = nquad(integrand,[[-100, 100], [-100, 100]],\n",
    "                           args=(mean, cov))\n",
    "print(res, err)"
   ]
  },
  {
   "cell_type": "code",
   "execution_count": 5,
   "metadata": {},
   "outputs": [
    {
     "name": "stdout",
     "output_type": "stream",
     "text": [
      "0.9999999999999856 1.4399319610692955e-08\n"
     ]
    }
   ],
   "source": [
    "## compute a three dimensional Gaussian and its integral\n",
    "\n",
    "def integrand(x0, x1, x2, mean, cov):\n",
    "    return multivariate_normal.pdf([x0, x1, x2], mean=mean, cov=cov)\n",
    "\n",
    "mean = np.array([0, 0, 0])\n",
    "cov = np.array([[1, 0, 0],\n",
    "                [0, 1, 0], \n",
    "                [0, 0, 1]])\n",
    "\n",
    "res, err = nquad(integrand,[[-10, 10], [-10, 10], [-10, 10]],\n",
    "                           args=(mean, cov))\n",
    "print(res, err)"
   ]
  },
  {
   "cell_type": "code",
   "execution_count": 6,
   "metadata": {},
   "outputs": [
    {
     "name": "stdout",
     "output_type": "stream",
     "text": [
      "0.12499999999999997 5.686577955913766e-15\n"
     ]
    }
   ],
   "source": [
    "from scipy.special import gammaln, xlogy\n",
    "## compute the integral of the Dirichlet on the probability simplex with three parameters\n",
    "\n",
    "def beta_dist(x0, x1, x2, alphas):\n",
    "    \n",
    "    alphas = np.array([alphas])\n",
    "    x = np.array([x0, x1, x2])\n",
    "    coef = np.sum(gammaln(alphas)) - gammaln(np.sum(alphas)) \n",
    "        \n",
    "    '''Returns pdf value for `x`.'''\n",
    "    #x = softmax_transform(x)\n",
    "    return(np.exp(- coef+ np.sum((xlogy(alphas-1, x.T)).T, 0)))\n",
    "\n",
    "def lim1(x1, x2, alphas, eps=0.1):\n",
    "    return([1-x2-x1, 1-x2-x1+eps])\n",
    "\n",
    "def lim2(x2, alphas):\n",
    "    return([0, 1-x2])\n",
    "\n",
    "def lim3(alphas):\n",
    "    return([0,1])\n",
    "\n",
    "def opt1(x1, x2, alphas):\n",
    "    return({'points': [1-x1-x2]})\n",
    "    #return({})\n",
    "\n",
    "def opt2(x2, alphas):\n",
    "    return({})\n",
    "\n",
    "def opt3(alphas):\n",
    "    return({})\n",
    "\n",
    "\n",
    "#alpha_test = np.array([1,1,1])\n",
    "#alpha_test = np.array([4,3,2])\n",
    "alpha_test = np.array([2,2,2])\n",
    "\n",
    "\n",
    "res, err = nquad(beta_dist, [lim1, lim2, lim3],\n",
    "                 args=(alpha_test, ),\n",
    "                 opts=[opt1, opt2, opt3])\n",
    "\n",
    "#[[0,1], [0,1], [0,1]], \n",
    "\n",
    "print(res, err)"
   ]
  },
  {
   "cell_type": "code",
   "execution_count": 139,
   "metadata": {},
   "outputs": [
    {
     "name": "stdout",
     "output_type": "stream",
     "text": [
      "[[0.5 0.5]\n",
      " [0.5 0.5]]\n"
     ]
    }
   ],
   "source": [
    "def softmax_transform(x):\n",
    "    return(np.exp(x)/np.sum(np.exp(x), 0))\n",
    "\n",
    "print(softmax_transform([[1,1],\n",
    "                         [1,1]]))"
   ]
  },
  {
   "cell_type": "code",
   "execution_count": 8,
   "metadata": {},
   "outputs": [
    {
     "name": "stdout",
     "output_type": "stream",
     "text": [
      "-2.5100075033986613 1.6003982531261257e-15\n"
     ]
    }
   ],
   "source": [
    "import numpy\n",
    "import quadpy\n",
    "\n",
    "def f(x):\n",
    "    return(numpy.sin(x) - x)\n",
    "\n",
    "val, err = quadpy.quad(f, 0, 3.0)\n",
    "print(val, err)"
   ]
  },
  {
   "cell_type": "code",
   "execution_count": 142,
   "metadata": {},
   "outputs": [
    {
     "name": "stdout",
     "output_type": "stream",
     "text": [
      "(2, 66)\n",
      "[[0.7128141  0.67420651 0.63308037 0.58992041 0.54532974 0.5\n",
      "  0.45467026 0.41007959 0.36691963 0.32579349 0.2871859  0.7109495\n",
      "  0.66818777 0.62245933 0.57444252 0.52497919 0.47502081 0.42555748\n",
      "  0.37754067 0.33181223 0.2890505  0.70866083 0.66075637 0.60931754\n",
      "  0.55532806 0.5        0.44467194 0.39068246 0.33924363 0.29133917\n",
      "  0.70578503 0.65135486 0.5926666  0.53120937 0.46879063 0.4073334\n",
      "  0.34864514 0.29421497 0.70206337 0.63909275 0.5709466  0.5\n",
      "  0.4290534  0.36090725 0.29793663 0.69705928 0.62245933 0.54157048\n",
      "  0.45842952 0.37754067 0.30294072 0.68997448 0.59868766 0.5\n",
      "  0.40131234 0.31002552 0.6791787  0.5621765  0.4378235  0.3208213\n",
      "  0.66075637 0.5        0.33924363 0.62245933 0.37754067 0.5       ]\n",
      " [0.2871859  0.32579349 0.36691963 0.41007959 0.45467026 0.5\n",
      "  0.54532974 0.58992041 0.63308037 0.67420651 0.7128141  0.2890505\n",
      "  0.33181223 0.37754067 0.42555748 0.47502081 0.52497919 0.57444252\n",
      "  0.62245933 0.66818777 0.7109495  0.29133917 0.33924363 0.39068246\n",
      "  0.44467194 0.5        0.55532806 0.60931754 0.66075637 0.70866083\n",
      "  0.29421497 0.34864514 0.4073334  0.46879063 0.53120937 0.5926666\n",
      "  0.65135486 0.70578503 0.29793663 0.36090725 0.4290534  0.5\n",
      "  0.5709466  0.63909275 0.70206337 0.30294072 0.37754067 0.45842952\n",
      "  0.54157048 0.62245933 0.69705928 0.31002552 0.40131234 0.5\n",
      "  0.59868766 0.68997448 0.3208213  0.4378235  0.5621765  0.6791787\n",
      "  0.33924363 0.5        0.66075637 0.37754067 0.62245933 0.5       ]]\n",
      "0.32676617560120363\n"
     ]
    }
   ],
   "source": [
    "## test Dirichlet with quadpy\n",
    "\n",
    "import quadpy\n",
    "from scipy.stats import dirichlet\n",
    "\n",
    "def dirichlet_dist(x, alphas):\n",
    "    \n",
    "    print(x.shape)\n",
    "    #print(x)\n",
    "    alphas = np.array([alphas])\n",
    "    coef = np.sum(gammaln(alphas)) - gammaln(np.sum(alphas)) \n",
    "        \n",
    "    '''Returns pdf value for `x`.'''\n",
    "    #x = softmax_transform(x)\n",
    "    #print(x)\n",
    "    y = np.exp(- coef + np.sum((xlogy(alphas-1, x.T)).T, 0))\n",
    "    #print(y)\n",
    "    return(y)\n",
    "\n",
    "#alpha_test = np.array([1,1,1])\n",
    "#alpha_test = np.array([4,3,2])\n",
    "#alpha_test = np.array([2,2,2])\n",
    "#alpha_test = np.array([2,2,2,2])\n",
    "#alpha_test = np.array([1,1,1,1])\n",
    "#alpha_test = np.array([1,2,3,4])\n",
    "alpha_test = np.array([1,2])\n",
    "\n",
    "dim = 1\n",
    "scheme = quadpy.nsimplex.grundmann_moeller(dim, 10)\n",
    "val = scheme.integrate(\n",
    "    #lambda x: dirichlet.pdf(x, alpha_test),\n",
    "    lambda x: dirichlet_dist(x, alpha_test),\n",
    "        np.eye(dim+1)\n",
    "    )\n",
    "print(val)"
   ]
  },
  {
   "cell_type": "code",
   "execution_count": null,
   "metadata": {},
   "outputs": [],
   "source": [
    "## test Dirichlet after softmax with quadpy\n",
    "\n",
    "#TODO change the space and method\n",
    "\n",
    "import quadpy\n",
    "from scipy.stats import dirichlet\n",
    "\n",
    "def dirichlet_dist(x, alphas):\n",
    "    \n",
    "    print(x.shape)\n",
    "    #print(x)\n",
    "    alphas = np.array([alphas])\n",
    "    coef = np.sum(gammaln(alphas)) - gammaln(np.sum(alphas)) \n",
    "        \n",
    "    '''Returns pdf value for `x`.'''\n",
    "    #x = softmax_transform(x)\n",
    "    #print(x)\n",
    "    y = np.exp(- coef + np.sum((xlogy(alphas-1, x.T)).T, 0))\n",
    "    #print(y)\n",
    "    return(y)\n",
    "\n",
    "#alpha_test = np.array([1,1,1])\n",
    "#alpha_test = np.array([4,3,2])\n",
    "#alpha_test = np.array([2,2,2])\n",
    "#alpha_test = np.array([2,2,2,2])\n",
    "#alpha_test = np.array([1,1,1,1])\n",
    "#alpha_test = np.array([1,2,3,4])\n",
    "alpha_test = np.array([1,2])\n",
    "\n",
    "dim = 1\n",
    "scheme = quadpy.nsimplex.grundmann_moeller(dim, 10)\n",
    "val = scheme.integrate(\n",
    "    #lambda x: dirichlet.pdf(x, alpha_test),\n",
    "    lambda x: dirichlet_dist(x, alpha_test),\n",
    "        np.eye(dim+1)\n",
    "    )\n",
    "print(val)"
   ]
  },
  {
   "cell_type": "code",
   "execution_count": 10,
   "metadata": {},
   "outputs": [
    {
     "data": {
      "text/plain": [
       "array([1.24410062, 1.24410062, 1.24410062])"
      ]
     },
     "execution_count": 10,
     "metadata": {},
     "output_type": "execute_result"
    }
   ],
   "source": [
    "def test_nsimplex():\n",
    "    dim = 2\n",
    "    val = quadpy.nsimplex.grundmann_moeller(dim, 10).integrate(\n",
    "        lambda x: numpy.exp(x),\n",
    "        np.array([\n",
    "            [1,0,0],\n",
    "            [0,1,0],\n",
    "            [0,0,1]\n",
    "        ]),\n",
    "    )\n",
    "    return(val)\n",
    "\n",
    "\"\"\"\n",
    "numpy.array(\n",
    "    [\n",
    "        [0.0, 0.0, 0.0, 0.0],\n",
    "        [1.0, 2.0, 0.0, 0.0],\n",
    "        [0.0, 1.0, 0.0, 0.0],\n",
    "        [0.0, 3.0, 1.0, 0.0],\n",
    "        [0.0, 0.0, 4.0, 1.0]\n",
    "    ]\n",
    "),\n",
    "\"\"\"\n",
    "\n",
    "test_nsimplex()"
   ]
  },
  {
   "cell_type": "code",
   "execution_count": 12,
   "metadata": {},
   "outputs": [
    {
     "name": "stdout",
     "output_type": "stream",
     "text": [
      "1.0 1.1102230246251565e-14\n",
      "1.0 9.293520926785609e-13\n"
     ]
    }
   ],
   "source": [
    "#Test the beta distribution as the lowest dimensional case of the Dirichlet\n",
    "from scipy.special import gamma\n",
    "\n",
    "def B(a,b):\n",
    "    nom = gamma(a) * gamma(b)\n",
    "    denom = gamma(a + b)\n",
    "    return(nom/denom)\n",
    "\n",
    "def logistic_transform(a):\n",
    "    return(1 / (1 + np.exp(-a)))\n",
    "\n",
    "def beta_pdf(x, a, b):\n",
    "    nom = x ** (a-1) * (1 - x) ** (b-1)\n",
    "    denom = B(a, b)\n",
    "    return(nom/denom)\n",
    "\n",
    "def beta_pdf_trans_logistic(x, a, b):\n",
    "    x_t = logistic_transform(x)\n",
    "    nom = (x_t) ** (a) * (1- x_t) ** (b)\n",
    "    denom = B(a, b)\n",
    "    return((nom/denom))\n",
    "\n",
    "\n",
    "y, err = quad(beta_pdf, 0, 1, args=(2,2))\n",
    "print(y, err)\n",
    "\n",
    "y, err = quad(beta_pdf_trans_logistic, -100, 100, args=(2,2))\n",
    "print(y, err)\n",
    "\n"
   ]
  },
  {
   "cell_type": "code",
   "execution_count": 116,
   "metadata": {},
   "outputs": [],
   "source": [
    "#test values\n",
    "\n",
    "mu_test = np.zeros(2) +1\n",
    "Sigma_test = np.eye(2) * 2"
   ]
  },
  {
   "cell_type": "code",
   "execution_count": 53,
   "metadata": {},
   "outputs": [
    {
     "data": {
      "image/png": "[encoded data removed]",
      "text/plain": [
       "<Figure size 576x1080 with 2 Axes>"
      ]
     },
     "metadata": {},
     "output_type": "display_data"
    },
    {
     "data": {
      "text/plain": [
       "<function matplotlib.pyplot.plot(*args, scalex=True, scaley=True, data=None, **kwargs)>"
      ]
     },
     "execution_count": 53,
     "metadata": {},
     "output_type": "execute_result"
    }
   ],
   "source": [
    "import numpy as np\n",
    "import matplotlib.pyplot as plt\n",
    "from matplotlib import cm\n",
    "from mpl_toolkits.mplot3d import Axes3D\n",
    "\n",
    "# Our 2-dimensional distribution will be over variables X and Y\n",
    "N = 40\n",
    "X = np.linspace(-2, 2, N)\n",
    "Y = np.linspace(-2, 2, N)\n",
    "X, Y = np.meshgrid(X, Y)\n",
    "\n",
    "# Pack X and Y into a single 3-dimensional array\n",
    "pos = np.empty(X.shape + (2,))\n",
    "pos[:, :, 0] = X\n",
    "pos[:, :, 1] = Y\n",
    "\n",
    "def multivariate_gaussian(pos, mu, Sigma):\n",
    "    \"\"\"Return the multivariate Gaussian distribution on array pos.\"\"\"\n",
    "\n",
    "    n = mu.shape[0]\n",
    "    Sigma_det = np.linalg.det(Sigma)\n",
    "    Sigma_inv = np.linalg.inv(Sigma)\n",
    "    N = np.sqrt((2*np.pi)**n * Sigma_det)\n",
    "    # This einsum call calculates (x-mu)T.Sigma-1.(x-mu) in a vectorized\n",
    "    # way across all the input variables.\n",
    "    fac = np.einsum('...k,kl,...l->...', pos-mu, Sigma_inv, pos-mu)\n",
    "\n",
    "    return np.exp(-fac / 2) / N\n",
    "\n",
    "# The distribution on the variables X, Y packed into pos.\n",
    "Z = multivariate_gaussian(pos, mu_test, Sigma_test)\n",
    "\n",
    "# plot using subplots\n",
    "fig = plt.figure(figsize=(8,15))\n",
    "ax1 = fig.add_subplot(2,1,1,projection='3d')\n",
    "\n",
    "ax1.plot_surface(X, Y, Z, rstride=3, cstride=3, linewidth=1, antialiased=True,\n",
    "                cmap=cm.viridis)\n",
    "ax1.view_init(55,-70)\n",
    "ax1.set_xticks([])\n",
    "ax1.set_yticks([])\n",
    "ax1.set_zticks([])\n",
    "ax1.set_xlabel(r'$x_1$')\n",
    "ax1.set_ylabel(r'$x_2$')\n",
    "\n",
    "ax2 = fig.add_subplot(2,1,2,projection='3d')\n",
    "ax2.contourf(X, Y, Z, zdir='z', offset=0, cmap=cm.viridis)\n",
    "ax2.view_init(90, 270)\n",
    "\n",
    "ax2.grid(False)\n",
    "ax2.set_xticks([])\n",
    "ax2.set_yticks([])\n",
    "ax2.set_zticks([])\n",
    "ax2.set_xlabel(r'$x_1$')\n",
    "ax2.set_ylabel(r'$x_2$')\n",
    "\n",
    "plt.show()\n",
    "\n",
    "plt.plot"
   ]
  },
  {
   "cell_type": "code",
   "execution_count": 122,
   "metadata": {},
   "outputs": [
    {
     "name": "stdout",
     "output_type": "stream",
     "text": [
      "153\n"
     ]
    },
    {
     "data": {
      "image/png": "[encoded data removed]",
      "text/plain": [
       "<Figure size 432x288 with 1 Axes>"
      ]
     },
     "metadata": {},
     "output_type": "display_data"
    }
   ],
   "source": [
    "# just copy pasted from this link: http://blog.bogatron.net/blog/2014/02/02/visualizing-dirichlet-distributions/\n",
    "%matplotlib inline\n",
    "import numpy as np\n",
    "import matplotlib.tri as tri\n",
    "import math\n",
    "from functools import reduce\n",
    "from math import gamma\n",
    "from operator import mul\n",
    "from scipy.special import loggamma, gammaln, xlogy\n",
    "\n",
    "corners = np.array([[0, 0], [1, 0], [0.5, 0.75**0.5]])\n",
    "triangle = tri.Triangulation(corners[:, 0], corners[:, 1])\n",
    "\n",
    "refiner = tri.UniformTriRefiner(triangle)\n",
    "trimesh = refiner.refine_triangulation(subdiv=4)\n",
    "\n",
    "\n",
    "midpoints = [(corners[(i + 1) % 3] + corners[(i + 2) % 3]) / 2.0 \\\n",
    "             for i in range(3)]\n",
    "def xy2bc(xy, tol=1.e-3):\n",
    "    '''Converts 2D Cartesian coordinates to barycentric.'''\n",
    "    s = [(corners[i] - midpoints[i]).dot(xy - midpoints[i]) / 0.75 \\\n",
    "         for i in range(3)]\n",
    "    return np.clip(s, tol, 1.0 - tol)   \n",
    "\n",
    "class Dirichlet(object):\n",
    "    def __init__(self, alpha):\n",
    "        self._alpha = np.array(alpha)\n",
    "        self._coef = np.sum(gammaln(alpha)) - gammaln(np.sum(alpha))    \n",
    "        \n",
    "    def pdf(self, x):\n",
    "        '''Returns pdf value for `x`.'''\n",
    "        #x = softmax_transform(x)\n",
    "        return(np.exp(- self._coef+ np.sum((xlogy(self._alpha-1, x.T)).T, 0)))\n",
    "    \n",
    "class logitNormal(object):\n",
    "    \n",
    "    def __init__(self, mu, Sigma):\n",
    "        self.mu = np.array(mu)\n",
    "        self.Sigma = np.array(Sigma)\n",
    "        self.Sigma_inv = np.linalg.inv(np.array(Sigma))\n",
    "        self.const = 1/np.sqrt(np.linalg.det(2*np.pi*Sigma)) \n",
    "        \n",
    "    def pdf(self, x):\n",
    "        part_one = self.const/np.prod(x)\n",
    "        logit_m = np.log(x[:-1]/x[-1]) - mu\n",
    "        part_two = np.exp(-0.5*logit_m.T @ self.Sigma_inv @ logit_m)\n",
    "        y = self.const * part_two\n",
    "        return(y)\n",
    "    \n",
    "class logitNormal2(object):\n",
    "    \n",
    "    def __init__(self, mu, Sigma):\n",
    "        self.mu = np.array(mu)\n",
    "        self.Sigma = np.array(Sigma)\n",
    "        self.Sigma_inv = np.linalg.inv(np.array(Sigma))\n",
    "        self.const = -0.5*np.log(np.linalg.det(2*np.pi*Sigma))\n",
    "        \n",
    "    def pdf(self, x):\n",
    "        part_one = self.const + np.sum(np.log(x),0)\n",
    "        logit_m = np.log(x[:-1]/x[-1]) - mu\n",
    "        part_two = 0.5*logit_m.T @ self.Sigma_inv @ logit_m\n",
    "        y = np.exp(part_one - part_two)\n",
    "        return(y)\n",
    "\n",
    "def draw_pdf_contours(dist, nlevels=200, subdiv=4, filename='test.png', save=False,**kwargs):\n",
    "\n",
    "    refiner = tri.UniformTriRefiner(triangle)\n",
    "    trimesh = refiner.refine_triangulation(subdiv=subdiv)\n",
    "    pvals = [dist.pdf(xy2bc(xy)) for xy in zip(trimesh.x, trimesh.y)]\n",
    "    xys = [xy2bc(xy) for xy in zip(trimesh.x, trimesh.y)]\n",
    "    #print(len(pvals))\n",
    "    #print(xys)\n",
    "    #print(pvals)\n",
    "    print(len(xys))\n",
    "\n",
    "    cs = plt.tricontourf(trimesh, pvals, nlevels, cmap='viridis') #plasma, inferno is OK\n",
    "    for c in cs.collections:\n",
    "        c.set_rasterized(True)\n",
    "    plt.axis('equal')\n",
    "    plt.xlim(0, 1)\n",
    "    plt.ylim(0, 0.75**0.5)\n",
    "    plt.axis('off')\n",
    "    plt.tight_layout()\n",
    "    plt.margins(0,0)\n",
    "    plt.gca().xaxis.set_major_locator(plt.NullLocator())\n",
    "    plt.gca().yaxis.set_major_locator(plt.NullLocator())\n",
    "    if save:\n",
    "        plt.savefig('figures/{}'.format(filename), bbox_inches = 'tight', pad_inches = 0)\n",
    "    \n",
    "draw_pdf_contours(Dirichlet([100, 1,1]), filename='new_coolwarm.pdf')"
   ]
  },
  {
   "cell_type": "code",
   "execution_count": 125,
   "metadata": {},
   "outputs": [
    {
     "name": "stdout",
     "output_type": "stream",
     "text": [
      "153\n"
     ]
    },
    {
     "data": {
      "image/png": "[encoded data removed]",
      "text/plain": [
       "<Figure size 432x288 with 1 Axes>"
      ]
     },
     "metadata": {},
     "output_type": "display_data"
    }
   ],
   "source": [
    "draw_pdf_contours(logitNormal(mu_test, Sigma_test))"
   ]
  },
  {
   "cell_type": "code",
   "execution_count": 145,
   "metadata": {},
   "outputs": [],
   "source": [
    "# test if logitNormal integrates to 1\n",
    "\n",
    "def logit_normal(x, mu, Sigma):\n",
    "    # remember that x comes from d+1 dimensions and mu from d\n",
    "    print(x.shape)\n",
    "    mu = np.array(mu)\n",
    "    Sigma = np.array(Sigma)\n",
    "    Sigma_inv = np.linalg.inv(np.array(Sigma))\n",
    "    const = 1/np.sqrt(np.linalg.det(2*np.pi*Sigma)) \n",
    "        \n",
    "    part_one = const/np.prod(x,0)\n",
    "    print(\"part one: \", part_one.shape)\n",
    "    logit_m = np.log(x[:-1]/x[-1]) - mu.reshape(2,1)\n",
    "    print(\"logit_m: \", logit_m.shape)\n",
    "    part_two = np.exp(-0.5*logit_m.T @ Sigma_inv @ logit_m)\n",
    "    y = part_one * part_two\n",
    "    print(y.shape)\n",
    "    return(y)\n",
    "\n",
    "def logit_normal2(x, mu, Sigma):\n",
    "    \n",
    "    mu = np.array(mu)\n",
    "    Sigma = np.array(Sigma)\n",
    "    Sigma_inv = np.linalg.inv(np.array(Sigma))\n",
    "    const = -0.5*np.log(np.linalg.det(2*np.pi*Sigma))\n",
    "        \n",
    "    part_one = const + np.sum(np.log(x),0)\n",
    "    print(x.shape)\n",
    "    logit_m = np.log(x[:-1]/x[-1]) - mu\n",
    "    part_two = 0.5*logit_m.T @ Sigma_inv @ logit_m\n",
    "    y = np.exp(part_one - part_two)\n",
    "    return(y)\n"
   ]
  },
  {
   "cell_type": "code",
   "execution_count": 146,
   "metadata": {},
   "outputs": [
    {
     "name": "stdout",
     "output_type": "stream",
     "text": [
      "(3, 286)\n"
     ]
    },
    {
     "ename": "ValueError",
     "evalue": "operands could not be broadcast together with shapes (2,286) (2,) ",
     "output_type": "error",
     "traceback": [
      "\u001b[0;31m---------------------------------------------------------------------------\u001b[0m",
      "\u001b[0;31mValueError\u001b[0m                                Traceback (most recent call last)",
      "\u001b[0;32m<ipython-input-146-6d4736a69eb3>\u001b[0m in \u001b[0;36m<module>\u001b[0;34m\u001b[0m\n\u001b[1;32m      5\u001b[0m val = scheme.integrate(\n\u001b[1;32m      6\u001b[0m     \u001b[0;32mlambda\u001b[0m \u001b[0mx\u001b[0m\u001b[0;34m:\u001b[0m \u001b[0mlogit_normal2\u001b[0m\u001b[0;34m(\u001b[0m\u001b[0mx\u001b[0m\u001b[0;34m,\u001b[0m \u001b[0mmu_test\u001b[0m\u001b[0;34m,\u001b[0m \u001b[0mSigma_test\u001b[0m\u001b[0;34m)\u001b[0m\u001b[0;34m,\u001b[0m\u001b[0;34m\u001b[0m\u001b[0;34m\u001b[0m\u001b[0m\n\u001b[0;32m----> 7\u001b[0;31m     \u001b[0mnp\u001b[0m\u001b[0;34m.\u001b[0m\u001b[0meye\u001b[0m\u001b[0;34m(\u001b[0m\u001b[0mdim\u001b[0m\u001b[0;34m+\u001b[0m\u001b[0;36m1\u001b[0m\u001b[0;34m)\u001b[0m\u001b[0;34m\u001b[0m\u001b[0;34m\u001b[0m\u001b[0m\n\u001b[0m\u001b[1;32m      8\u001b[0m     )\n\u001b[1;32m      9\u001b[0m \u001b[0;34m\u001b[0m\u001b[0m\n",
      "\u001b[0;32m~/anaconda3/lib/python3.7/site-packages/quadpy/nsimplex/_helpers.py\u001b[0m in \u001b[0;36mintegrate\u001b[0;34m(self, f, simplex, dot)\u001b[0m\n\u001b[1;32m     34\u001b[0m         \u001b[0mvol\u001b[0m \u001b[0;34m=\u001b[0m \u001b[0mget_vol\u001b[0m\u001b[0;34m(\u001b[0m\u001b[0msimplex\u001b[0m\u001b[0;34m)\u001b[0m\u001b[0;34m\u001b[0m\u001b[0;34m\u001b[0m\u001b[0m\n\u001b[1;32m     35\u001b[0m \u001b[0;34m\u001b[0m\u001b[0m\n\u001b[0;32m---> 36\u001b[0;31m         \u001b[0mfx\u001b[0m \u001b[0;34m=\u001b[0m \u001b[0mnumpy\u001b[0m\u001b[0;34m.\u001b[0m\u001b[0masarray\u001b[0m\u001b[0;34m(\u001b[0m\u001b[0mf\u001b[0m\u001b[0;34m(\u001b[0m\u001b[0mx\u001b[0m\u001b[0;34m)\u001b[0m\u001b[0;34m)\u001b[0m\u001b[0;34m\u001b[0m\u001b[0;34m\u001b[0m\u001b[0m\n\u001b[0m\u001b[1;32m     37\u001b[0m \u001b[0;34m\u001b[0m\u001b[0m\n\u001b[1;32m     38\u001b[0m         assert (\n",
      "\u001b[0;32m<ipython-input-146-6d4736a69eb3>\u001b[0m in \u001b[0;36m<lambda>\u001b[0;34m(x)\u001b[0m\n\u001b[1;32m      4\u001b[0m \u001b[0mscheme\u001b[0m \u001b[0;34m=\u001b[0m \u001b[0mquadpy\u001b[0m\u001b[0;34m.\u001b[0m\u001b[0mnsimplex\u001b[0m\u001b[0;34m.\u001b[0m\u001b[0mgrundmann_moeller\u001b[0m\u001b[0;34m(\u001b[0m\u001b[0mdim\u001b[0m\u001b[0;34m,\u001b[0m \u001b[0;36m10\u001b[0m\u001b[0;34m)\u001b[0m\u001b[0;34m\u001b[0m\u001b[0;34m\u001b[0m\u001b[0m\n\u001b[1;32m      5\u001b[0m val = scheme.integrate(\n\u001b[0;32m----> 6\u001b[0;31m     \u001b[0;32mlambda\u001b[0m \u001b[0mx\u001b[0m\u001b[0;34m:\u001b[0m \u001b[0mlogit_normal2\u001b[0m\u001b[0;34m(\u001b[0m\u001b[0mx\u001b[0m\u001b[0;34m,\u001b[0m \u001b[0mmu_test\u001b[0m\u001b[0;34m,\u001b[0m \u001b[0mSigma_test\u001b[0m\u001b[0;34m)\u001b[0m\u001b[0;34m,\u001b[0m\u001b[0;34m\u001b[0m\u001b[0;34m\u001b[0m\u001b[0m\n\u001b[0m\u001b[1;32m      7\u001b[0m     \u001b[0mnp\u001b[0m\u001b[0;34m.\u001b[0m\u001b[0meye\u001b[0m\u001b[0;34m(\u001b[0m\u001b[0mdim\u001b[0m\u001b[0;34m+\u001b[0m\u001b[0;36m1\u001b[0m\u001b[0;34m)\u001b[0m\u001b[0;34m\u001b[0m\u001b[0;34m\u001b[0m\u001b[0m\n\u001b[1;32m      8\u001b[0m     )\n",
      "\u001b[0;32m<ipython-input-145-38396b82bb76>\u001b[0m in \u001b[0;36mlogit_normal2\u001b[0;34m(x, mu, Sigma)\u001b[0m\n\u001b[1;32m     27\u001b[0m     \u001b[0mpart_one\u001b[0m \u001b[0;34m=\u001b[0m \u001b[0mconst\u001b[0m \u001b[0;34m+\u001b[0m \u001b[0mnp\u001b[0m\u001b[0;34m.\u001b[0m\u001b[0msum\u001b[0m\u001b[0;34m(\u001b[0m\u001b[0mnp\u001b[0m\u001b[0;34m.\u001b[0m\u001b[0mlog\u001b[0m\u001b[0;34m(\u001b[0m\u001b[0mx\u001b[0m\u001b[0;34m)\u001b[0m\u001b[0;34m,\u001b[0m\u001b[0;36m0\u001b[0m\u001b[0;34m)\u001b[0m\u001b[0;34m\u001b[0m\u001b[0;34m\u001b[0m\u001b[0m\n\u001b[1;32m     28\u001b[0m     \u001b[0mprint\u001b[0m\u001b[0;34m(\u001b[0m\u001b[0mx\u001b[0m\u001b[0;34m.\u001b[0m\u001b[0mshape\u001b[0m\u001b[0;34m)\u001b[0m\u001b[0;34m\u001b[0m\u001b[0;34m\u001b[0m\u001b[0m\n\u001b[0;32m---> 29\u001b[0;31m     \u001b[0mlogit_m\u001b[0m \u001b[0;34m=\u001b[0m \u001b[0mnp\u001b[0m\u001b[0;34m.\u001b[0m\u001b[0mlog\u001b[0m\u001b[0;34m(\u001b[0m\u001b[0mx\u001b[0m\u001b[0;34m[\u001b[0m\u001b[0;34m:\u001b[0m\u001b[0;34m-\u001b[0m\u001b[0;36m1\u001b[0m\u001b[0;34m]\u001b[0m\u001b[0;34m/\u001b[0m\u001b[0mx\u001b[0m\u001b[0;34m[\u001b[0m\u001b[0;34m-\u001b[0m\u001b[0;36m1\u001b[0m\u001b[0;34m]\u001b[0m\u001b[0;34m)\u001b[0m \u001b[0;34m-\u001b[0m \u001b[0mmu\u001b[0m\u001b[0;34m\u001b[0m\u001b[0;34m\u001b[0m\u001b[0m\n\u001b[0m\u001b[1;32m     30\u001b[0m     \u001b[0mpart_two\u001b[0m \u001b[0;34m=\u001b[0m \u001b[0;36m0.5\u001b[0m\u001b[0;34m*\u001b[0m\u001b[0mlogit_m\u001b[0m\u001b[0;34m.\u001b[0m\u001b[0mT\u001b[0m \u001b[0;34m@\u001b[0m \u001b[0mSigma_inv\u001b[0m \u001b[0;34m@\u001b[0m \u001b[0mlogit_m\u001b[0m\u001b[0;34m\u001b[0m\u001b[0;34m\u001b[0m\u001b[0m\n\u001b[1;32m     31\u001b[0m     \u001b[0my\u001b[0m \u001b[0;34m=\u001b[0m \u001b[0mnp\u001b[0m\u001b[0;34m.\u001b[0m\u001b[0mexp\u001b[0m\u001b[0;34m(\u001b[0m\u001b[0mpart_one\u001b[0m \u001b[0;34m-\u001b[0m \u001b[0mpart_two\u001b[0m\u001b[0;34m)\u001b[0m\u001b[0;34m\u001b[0m\u001b[0;34m\u001b[0m\u001b[0m\n",
      "\u001b[0;31mValueError\u001b[0m: operands could not be broadcast together with shapes (2,286) (2,) "
     ]
    }
   ],
   "source": [
    "# test integral for logit normal\n",
    "\n",
    "dim = 2\n",
    "scheme = quadpy.nsimplex.grundmann_moeller(dim, 10)\n",
    "val = scheme.integrate(\n",
    "    lambda x: logit_normal2(x, mu_test, Sigma_test),\n",
    "    np.eye(dim+1)\n",
    "    )\n",
    "\n",
    "print(val)"
   ]
  },
  {
   "cell_type": "code",
   "execution_count": 147,
   "metadata": {},
   "outputs": [
    {
     "name": "stdout",
     "output_type": "stream",
     "text": [
      "(3, 4)\n"
     ]
    }
   ],
   "source": [
    "x_test = np.array([[1,2,3,4],\n",
    "                  [2,3,4,5],\n",
    "                  [3,4,5,6]])\n",
    "\n",
    "print(x_test[:-1])"
   ]
  },
  {
   "cell_type": "code",
   "execution_count": null,
   "metadata": {},
   "outputs": [],
   "source": []
  }
 ],
 "metadata": {
  "kernelspec": {
   "display_name": "Python 3",
   "language": "python",
   "name": "python3"
  },
  "language_info": {
   "codemirror_mode": {
    "name": "ipython",
    "version": 3
   },
   "file_extension": ".py",
   "mimetype": "text/x-python",
   "name": "python",
   "nbconvert_exporter": "python",
   "pygments_lexer": "ipython3",
   "version": "3.7.3"
  }
 },
 "nbformat": 4,
 "nbformat_minor": 2
}
