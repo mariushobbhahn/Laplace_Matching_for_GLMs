{
 "cells": [
  {
   "cell_type": "markdown",
   "metadata": {},
   "source": [
    "# LM(Dirichlet)+GP experiments all\n",
    "\n",
    "on the same data that the DGP paper uses with the same metrics\n",
    "\n",
    "#TODO"
   ]
  },
  {
   "cell_type": "code",
   "execution_count": 1,
   "metadata": {},
   "outputs": [],
   "source": [
    "import math\n",
    "import torch\n",
    "import numpy as np\n",
    "import pandas as pd\n",
    "import gpytorch\n",
    "from matplotlib import pyplot as plt"
   ]
  },
  {
   "cell_type": "code",
   "execution_count": 2,
   "metadata": {},
   "outputs": [],
   "source": [
    "from gpytorch.models import ExactGP\n",
    "from gpytorch.likelihoods import DirichletClassificationLikelihood\n",
    "from gpytorch.means import ConstantMean\n",
    "from gpytorch.kernels import ScaleKernel, RBFKernel"
   ]
  },
  {
   "cell_type": "code",
   "execution_count": 3,
   "metadata": {},
   "outputs": [],
   "source": [
    "import sys\n",
    "import os\n",
    "\n",
    "py_file_location = '../utils'\n",
    "sys.path.append(os.path.abspath(py_file_location))\n",
    "py_file_location = '../models'\n",
    "sys.path.append(os.path.abspath(py_file_location))\n",
    "\n",
    "import classification_utils\n",
    "import classification_models"
   ]
  },
  {
   "cell_type": "code",
   "execution_count": 4,
   "metadata": {},
   "outputs": [
    {
     "data": {
      "text/plain": [
       "<torch._C.Generator at 0x7fb0d91ed770>"
      ]
     },
     "execution_count": 4,
     "metadata": {},
     "output_type": "execute_result"
    }
   ],
   "source": [
    "seed = 5 #1,2,3,4,5\n",
    "np.random.seed(seed)\n",
    "torch.manual_seed(seed)"
   ]
  },
  {
   "cell_type": "markdown",
   "metadata": {},
   "source": [
    "# Load all datasets\n",
    "\n",
    "We use three multi-dimensional classification datasets from the Dirichlet GPC paper (all from the UCI ML repository)\n",
    "- letter recognition\n",
    "- Mocap (hand gesture postures)\n",
    "- drive (sensorless drive diagnosis)"
   ]
  },
  {
   "cell_type": "code",
   "execution_count": 5,
   "metadata": {},
   "outputs": [
    {
     "data": {
      "text/html": [
       "<div>\n",
       "<style scoped>\n",
       "    .dataframe tbody tr th:only-of-type {\n",
       "        vertical-align: middle;\n",
       "    }\n",
       "\n",
       "    .dataframe tbody tr th {\n",
       "        vertical-align: top;\n",
       "    }\n",
       "\n",
       "    .dataframe thead th {\n",
       "        text-align: right;\n",
       "    }\n",
       "</style>\n",
       "<table border=\"1\" class=\"dataframe\">\n",
       "  <thead>\n",
       "    <tr style=\"text-align: right;\">\n",
       "      <th></th>\n",
       "      <th>0</th>\n",
       "      <th>1</th>\n",
       "      <th>2</th>\n",
       "      <th>3</th>\n",
       "      <th>4</th>\n",
       "      <th>5</th>\n",
       "      <th>6</th>\n",
       "      <th>7</th>\n",
       "      <th>8</th>\n",
       "      <th>9</th>\n",
       "      <th>...</th>\n",
       "      <th>39</th>\n",
       "      <th>40</th>\n",
       "      <th>41</th>\n",
       "      <th>42</th>\n",
       "      <th>43</th>\n",
       "      <th>44</th>\n",
       "      <th>45</th>\n",
       "      <th>46</th>\n",
       "      <th>47</th>\n",
       "      <th>48</th>\n",
       "    </tr>\n",
       "  </thead>\n",
       "  <tbody>\n",
       "    <tr>\n",
       "      <th>0</th>\n",
       "      <td>-3.014600e-07</td>\n",
       "      <td>8.260300e-06</td>\n",
       "      <td>-0.000012</td>\n",
       "      <td>-0.000002</td>\n",
       "      <td>-1.438600e-06</td>\n",
       "      <td>-0.000021</td>\n",
       "      <td>0.031718</td>\n",
       "      <td>0.031710</td>\n",
       "      <td>0.031721</td>\n",
       "      <td>-0.032963</td>\n",
       "      <td>...</td>\n",
       "      <td>-0.63308</td>\n",
       "      <td>2.9646</td>\n",
       "      <td>8.1198</td>\n",
       "      <td>-1.4961</td>\n",
       "      <td>-1.4961</td>\n",
       "      <td>-1.4961</td>\n",
       "      <td>-1.4996</td>\n",
       "      <td>-1.4996</td>\n",
       "      <td>-1.4996</td>\n",
       "      <td>0.0</td>\n",
       "    </tr>\n",
       "    <tr>\n",
       "      <th>1</th>\n",
       "      <td>2.913200e-06</td>\n",
       "      <td>-5.247700e-06</td>\n",
       "      <td>0.000003</td>\n",
       "      <td>-0.000006</td>\n",
       "      <td>2.778900e-06</td>\n",
       "      <td>-0.000004</td>\n",
       "      <td>0.030804</td>\n",
       "      <td>0.030810</td>\n",
       "      <td>0.030806</td>\n",
       "      <td>-0.033520</td>\n",
       "      <td>...</td>\n",
       "      <td>-0.59314</td>\n",
       "      <td>7.6252</td>\n",
       "      <td>6.1690</td>\n",
       "      <td>-1.4967</td>\n",
       "      <td>-1.4967</td>\n",
       "      <td>-1.4967</td>\n",
       "      <td>-1.5005</td>\n",
       "      <td>-1.5005</td>\n",
       "      <td>-1.5005</td>\n",
       "      <td>0.0</td>\n",
       "    </tr>\n",
       "    <tr>\n",
       "      <th>2</th>\n",
       "      <td>-2.951700e-06</td>\n",
       "      <td>-3.184000e-06</td>\n",
       "      <td>-0.000016</td>\n",
       "      <td>-0.000001</td>\n",
       "      <td>-1.575300e-06</td>\n",
       "      <td>0.000017</td>\n",
       "      <td>0.032877</td>\n",
       "      <td>0.032880</td>\n",
       "      <td>0.032896</td>\n",
       "      <td>-0.029834</td>\n",
       "      <td>...</td>\n",
       "      <td>-0.63252</td>\n",
       "      <td>2.7784</td>\n",
       "      <td>5.3017</td>\n",
       "      <td>-1.4983</td>\n",
       "      <td>-1.4983</td>\n",
       "      <td>-1.4982</td>\n",
       "      <td>-1.4985</td>\n",
       "      <td>-1.4985</td>\n",
       "      <td>-1.4985</td>\n",
       "      <td>0.0</td>\n",
       "    </tr>\n",
       "    <tr>\n",
       "      <th>3</th>\n",
       "      <td>-1.322600e-06</td>\n",
       "      <td>8.820100e-06</td>\n",
       "      <td>-0.000016</td>\n",
       "      <td>-0.000005</td>\n",
       "      <td>-7.282900e-07</td>\n",
       "      <td>0.000004</td>\n",
       "      <td>0.029410</td>\n",
       "      <td>0.029401</td>\n",
       "      <td>0.029417</td>\n",
       "      <td>-0.030156</td>\n",
       "      <td>...</td>\n",
       "      <td>-0.62289</td>\n",
       "      <td>6.5534</td>\n",
       "      <td>6.2606</td>\n",
       "      <td>-1.4963</td>\n",
       "      <td>-1.4963</td>\n",
       "      <td>-1.4963</td>\n",
       "      <td>-1.4975</td>\n",
       "      <td>-1.4975</td>\n",
       "      <td>-1.4976</td>\n",
       "      <td>0.0</td>\n",
       "    </tr>\n",
       "    <tr>\n",
       "      <th>4</th>\n",
       "      <td>-6.836600e-08</td>\n",
       "      <td>5.666300e-07</td>\n",
       "      <td>-0.000026</td>\n",
       "      <td>-0.000006</td>\n",
       "      <td>-7.940600e-07</td>\n",
       "      <td>0.000013</td>\n",
       "      <td>0.030119</td>\n",
       "      <td>0.030119</td>\n",
       "      <td>0.030145</td>\n",
       "      <td>-0.031393</td>\n",
       "      <td>...</td>\n",
       "      <td>-0.63010</td>\n",
       "      <td>4.5155</td>\n",
       "      <td>9.5231</td>\n",
       "      <td>-1.4958</td>\n",
       "      <td>-1.4958</td>\n",
       "      <td>-1.4958</td>\n",
       "      <td>-1.4959</td>\n",
       "      <td>-1.4959</td>\n",
       "      <td>-1.4959</td>\n",
       "      <td>0.0</td>\n",
       "    </tr>\n",
       "  </tbody>\n",
       "</table>\n",
       "<p>5 rows × 49 columns</p>\n",
       "</div>"
      ],
      "text/plain": [
       "             0             1         2         3             4         5   \\\n",
       "0 -3.014600e-07  8.260300e-06 -0.000012 -0.000002 -1.438600e-06 -0.000021   \n",
       "1  2.913200e-06 -5.247700e-06  0.000003 -0.000006  2.778900e-06 -0.000004   \n",
       "2 -2.951700e-06 -3.184000e-06 -0.000016 -0.000001 -1.575300e-06  0.000017   \n",
       "3 -1.322600e-06  8.820100e-06 -0.000016 -0.000005 -7.282900e-07  0.000004   \n",
       "4 -6.836600e-08  5.666300e-07 -0.000026 -0.000006 -7.940600e-07  0.000013   \n",
       "\n",
       "         6         7         8         9   ...       39      40      41  \\\n",
       "0  0.031718  0.031710  0.031721 -0.032963  ... -0.63308  2.9646  8.1198   \n",
       "1  0.030804  0.030810  0.030806 -0.033520  ... -0.59314  7.6252  6.1690   \n",
       "2  0.032877  0.032880  0.032896 -0.029834  ... -0.63252  2.7784  5.3017   \n",
       "3  0.029410  0.029401  0.029417 -0.030156  ... -0.62289  6.5534  6.2606   \n",
       "4  0.030119  0.030119  0.030145 -0.031393  ... -0.63010  4.5155  9.5231   \n",
       "\n",
       "       42      43      44      45      46      47   48  \n",
       "0 -1.4961 -1.4961 -1.4961 -1.4996 -1.4996 -1.4996  0.0  \n",
       "1 -1.4967 -1.4967 -1.4967 -1.5005 -1.5005 -1.5005  0.0  \n",
       "2 -1.4983 -1.4983 -1.4982 -1.4985 -1.4985 -1.4985  0.0  \n",
       "3 -1.4963 -1.4963 -1.4963 -1.4975 -1.4975 -1.4976  0.0  \n",
       "4 -1.4958 -1.4958 -1.4958 -1.4959 -1.4959 -1.4959  0.0  \n",
       "\n",
       "[5 rows x 49 columns]"
      ]
     },
     "execution_count": 5,
     "metadata": {},
     "output_type": "execute_result"
    }
   ],
   "source": [
    "# load drive data\n",
    "df_DRIVE = pd.read_csv(\"data/Sensorless_drive_diagnosis.csv\", header=None)\n",
    "df_DRIVE.head()"
   ]
  },
  {
   "cell_type": "code",
   "execution_count": 6,
   "metadata": {},
   "outputs": [
    {
     "data": {
      "text/html": [
       "<div>\n",
       "<style scoped>\n",
       "    .dataframe tbody tr th:only-of-type {\n",
       "        vertical-align: middle;\n",
       "    }\n",
       "\n",
       "    .dataframe tbody tr th {\n",
       "        vertical-align: top;\n",
       "    }\n",
       "\n",
       "    .dataframe thead th {\n",
       "        text-align: right;\n",
       "    }\n",
       "</style>\n",
       "<table border=\"1\" class=\"dataframe\">\n",
       "  <thead>\n",
       "    <tr style=\"text-align: right;\">\n",
       "      <th></th>\n",
       "      <th>0</th>\n",
       "      <th>1</th>\n",
       "      <th>2</th>\n",
       "      <th>3</th>\n",
       "      <th>4</th>\n",
       "      <th>5</th>\n",
       "      <th>6</th>\n",
       "      <th>7</th>\n",
       "      <th>8</th>\n",
       "      <th>9</th>\n",
       "      <th>10</th>\n",
       "      <th>11</th>\n",
       "      <th>12</th>\n",
       "      <th>13</th>\n",
       "      <th>14</th>\n",
       "      <th>15</th>\n",
       "      <th>16</th>\n",
       "    </tr>\n",
       "  </thead>\n",
       "  <tbody>\n",
       "    <tr>\n",
       "      <th>0</th>\n",
       "      <td>19</td>\n",
       "      <td>2</td>\n",
       "      <td>8</td>\n",
       "      <td>3</td>\n",
       "      <td>5</td>\n",
       "      <td>1</td>\n",
       "      <td>8</td>\n",
       "      <td>13</td>\n",
       "      <td>0</td>\n",
       "      <td>6</td>\n",
       "      <td>6</td>\n",
       "      <td>10</td>\n",
       "      <td>8</td>\n",
       "      <td>0</td>\n",
       "      <td>8</td>\n",
       "      <td>0</td>\n",
       "      <td>8</td>\n",
       "    </tr>\n",
       "    <tr>\n",
       "      <th>1</th>\n",
       "      <td>8</td>\n",
       "      <td>5</td>\n",
       "      <td>12</td>\n",
       "      <td>3</td>\n",
       "      <td>7</td>\n",
       "      <td>2</td>\n",
       "      <td>10</td>\n",
       "      <td>5</td>\n",
       "      <td>5</td>\n",
       "      <td>4</td>\n",
       "      <td>13</td>\n",
       "      <td>3</td>\n",
       "      <td>9</td>\n",
       "      <td>2</td>\n",
       "      <td>8</td>\n",
       "      <td>4</td>\n",
       "      <td>10</td>\n",
       "    </tr>\n",
       "    <tr>\n",
       "      <th>2</th>\n",
       "      <td>3</td>\n",
       "      <td>4</td>\n",
       "      <td>11</td>\n",
       "      <td>6</td>\n",
       "      <td>8</td>\n",
       "      <td>6</td>\n",
       "      <td>10</td>\n",
       "      <td>6</td>\n",
       "      <td>2</td>\n",
       "      <td>6</td>\n",
       "      <td>10</td>\n",
       "      <td>3</td>\n",
       "      <td>7</td>\n",
       "      <td>3</td>\n",
       "      <td>7</td>\n",
       "      <td>3</td>\n",
       "      <td>9</td>\n",
       "    </tr>\n",
       "    <tr>\n",
       "      <th>3</th>\n",
       "      <td>13</td>\n",
       "      <td>7</td>\n",
       "      <td>11</td>\n",
       "      <td>6</td>\n",
       "      <td>6</td>\n",
       "      <td>3</td>\n",
       "      <td>5</td>\n",
       "      <td>9</td>\n",
       "      <td>4</td>\n",
       "      <td>6</td>\n",
       "      <td>4</td>\n",
       "      <td>4</td>\n",
       "      <td>10</td>\n",
       "      <td>6</td>\n",
       "      <td>10</td>\n",
       "      <td>2</td>\n",
       "      <td>8</td>\n",
       "    </tr>\n",
       "    <tr>\n",
       "      <th>4</th>\n",
       "      <td>6</td>\n",
       "      <td>2</td>\n",
       "      <td>1</td>\n",
       "      <td>3</td>\n",
       "      <td>1</td>\n",
       "      <td>1</td>\n",
       "      <td>8</td>\n",
       "      <td>6</td>\n",
       "      <td>6</td>\n",
       "      <td>6</td>\n",
       "      <td>6</td>\n",
       "      <td>5</td>\n",
       "      <td>9</td>\n",
       "      <td>1</td>\n",
       "      <td>7</td>\n",
       "      <td>5</td>\n",
       "      <td>10</td>\n",
       "    </tr>\n",
       "  </tbody>\n",
       "</table>\n",
       "</div>"
      ],
      "text/plain": [
       "   0   1   2   3   4   5   6   7   8   9   10  11  12  13  14  15  16\n",
       "0  19   2   8   3   5   1   8  13   0   6   6  10   8   0   8   0   8\n",
       "1   8   5  12   3   7   2  10   5   5   4  13   3   9   2   8   4  10\n",
       "2   3   4  11   6   8   6  10   6   2   6  10   3   7   3   7   3   9\n",
       "3  13   7  11   6   6   3   5   9   4   6   4   4  10   6  10   2   8\n",
       "4   6   2   1   3   1   1   8   6   6   6   6   5   9   1   7   5  10"
      ]
     },
     "execution_count": 6,
     "metadata": {},
     "output_type": "execute_result"
    }
   ],
   "source": [
    "# load letter data\n",
    "df_LETTER = pd.read_csv(\"data/letter-recognition.csv\", header=None)\n",
    "# replace capital letter with corresponding numbers\n",
    "df_LETTER.replace({\n",
    "    \"A\":0, \"B\":1, \"C\":2, \"D\":3, \"E\":4, \"F\":5, \"G\": 6, \"H\":7, \"I\":8, \"J\": 9,\n",
    "    \"K\":10, \"L\":11, \"M\":12, \"N\":13, \"O\":14, \"P\":15, \"Q\":16, \"R\":17, \"S\":18, \"T\":19, \n",
    "    \"U\":20, \"V\":21, \"W\":22, \"X\":23, \"Y\":24, \"Z\":25\n",
    "}, inplace=True)\n",
    "df_LETTER.head()\n",
    "# Note that the first column are the targets rather than the last"
   ]
  },
  {
   "cell_type": "code",
   "execution_count": 7,
   "metadata": {},
   "outputs": [
    {
     "data": {
      "text/html": [
       "<div>\n",
       "<style scoped>\n",
       "    .dataframe tbody tr th:only-of-type {\n",
       "        vertical-align: middle;\n",
       "    }\n",
       "\n",
       "    .dataframe tbody tr th {\n",
       "        vertical-align: top;\n",
       "    }\n",
       "\n",
       "    .dataframe thead th {\n",
       "        text-align: right;\n",
       "    }\n",
       "</style>\n",
       "<table border=\"1\" class=\"dataframe\">\n",
       "  <thead>\n",
       "    <tr style=\"text-align: right;\">\n",
       "      <th></th>\n",
       "      <th>Class</th>\n",
       "      <th>User</th>\n",
       "      <th>X0</th>\n",
       "      <th>Y0</th>\n",
       "      <th>Z0</th>\n",
       "      <th>X1</th>\n",
       "      <th>Y1</th>\n",
       "      <th>Z1</th>\n",
       "      <th>X2</th>\n",
       "      <th>Y2</th>\n",
       "      <th>...</th>\n",
       "      <th>Z8</th>\n",
       "      <th>X9</th>\n",
       "      <th>Y9</th>\n",
       "      <th>Z9</th>\n",
       "      <th>X10</th>\n",
       "      <th>Y10</th>\n",
       "      <th>Z10</th>\n",
       "      <th>X11</th>\n",
       "      <th>Y11</th>\n",
       "      <th>Z11</th>\n",
       "    </tr>\n",
       "  </thead>\n",
       "  <tbody>\n",
       "    <tr>\n",
       "      <th>0</th>\n",
       "      <td>0.0</td>\n",
       "      <td>0.0</td>\n",
       "      <td>0.000000</td>\n",
       "      <td>0.000000</td>\n",
       "      <td>0.000000</td>\n",
       "      <td>0.000000</td>\n",
       "      <td>0.000000</td>\n",
       "      <td>0.000000</td>\n",
       "      <td>0.000000</td>\n",
       "      <td>0.000000</td>\n",
       "      <td>...</td>\n",
       "      <td>0.0</td>\n",
       "      <td>0.0</td>\n",
       "      <td>0.0</td>\n",
       "      <td>0.0</td>\n",
       "      <td>0.0</td>\n",
       "      <td>0.0</td>\n",
       "      <td>0.0</td>\n",
       "      <td>0.0</td>\n",
       "      <td>0.0</td>\n",
       "      <td>0.0</td>\n",
       "    </tr>\n",
       "    <tr>\n",
       "      <th>1</th>\n",
       "      <td>1.0</td>\n",
       "      <td>0.0</td>\n",
       "      <td>54.263880</td>\n",
       "      <td>71.466776</td>\n",
       "      <td>-64.807709</td>\n",
       "      <td>76.895635</td>\n",
       "      <td>42.462500</td>\n",
       "      <td>-72.780545</td>\n",
       "      <td>36.621229</td>\n",
       "      <td>81.680557</td>\n",
       "      <td>...</td>\n",
       "      <td>0.0</td>\n",
       "      <td>0.0</td>\n",
       "      <td>0.0</td>\n",
       "      <td>0.0</td>\n",
       "      <td>0.0</td>\n",
       "      <td>0.0</td>\n",
       "      <td>0.0</td>\n",
       "      <td>0.0</td>\n",
       "      <td>0.0</td>\n",
       "      <td>0.0</td>\n",
       "    </tr>\n",
       "    <tr>\n",
       "      <th>2</th>\n",
       "      <td>1.0</td>\n",
       "      <td>0.0</td>\n",
       "      <td>56.527558</td>\n",
       "      <td>72.266609</td>\n",
       "      <td>-61.935252</td>\n",
       "      <td>39.135978</td>\n",
       "      <td>82.538530</td>\n",
       "      <td>-49.596509</td>\n",
       "      <td>79.223743</td>\n",
       "      <td>43.254091</td>\n",
       "      <td>...</td>\n",
       "      <td>0.0</td>\n",
       "      <td>0.0</td>\n",
       "      <td>0.0</td>\n",
       "      <td>0.0</td>\n",
       "      <td>0.0</td>\n",
       "      <td>0.0</td>\n",
       "      <td>0.0</td>\n",
       "      <td>0.0</td>\n",
       "      <td>0.0</td>\n",
       "      <td>0.0</td>\n",
       "    </tr>\n",
       "    <tr>\n",
       "      <th>3</th>\n",
       "      <td>1.0</td>\n",
       "      <td>0.0</td>\n",
       "      <td>55.849928</td>\n",
       "      <td>72.469064</td>\n",
       "      <td>-62.562788</td>\n",
       "      <td>37.988804</td>\n",
       "      <td>82.631347</td>\n",
       "      <td>-50.606259</td>\n",
       "      <td>78.451526</td>\n",
       "      <td>43.567403</td>\n",
       "      <td>...</td>\n",
       "      <td>0.0</td>\n",
       "      <td>0.0</td>\n",
       "      <td>0.0</td>\n",
       "      <td>0.0</td>\n",
       "      <td>0.0</td>\n",
       "      <td>0.0</td>\n",
       "      <td>0.0</td>\n",
       "      <td>0.0</td>\n",
       "      <td>0.0</td>\n",
       "      <td>0.0</td>\n",
       "    </tr>\n",
       "    <tr>\n",
       "      <th>4</th>\n",
       "      <td>1.0</td>\n",
       "      <td>0.0</td>\n",
       "      <td>55.329647</td>\n",
       "      <td>71.707275</td>\n",
       "      <td>-63.688956</td>\n",
       "      <td>36.561863</td>\n",
       "      <td>81.868749</td>\n",
       "      <td>-52.752784</td>\n",
       "      <td>86.320630</td>\n",
       "      <td>68.214645</td>\n",
       "      <td>...</td>\n",
       "      <td>0.0</td>\n",
       "      <td>0.0</td>\n",
       "      <td>0.0</td>\n",
       "      <td>0.0</td>\n",
       "      <td>0.0</td>\n",
       "      <td>0.0</td>\n",
       "      <td>0.0</td>\n",
       "      <td>0.0</td>\n",
       "      <td>0.0</td>\n",
       "      <td>0.0</td>\n",
       "    </tr>\n",
       "  </tbody>\n",
       "</table>\n",
       "<p>5 rows × 38 columns</p>\n",
       "</div>"
      ],
      "text/plain": [
       "   Class  User         X0         Y0         Z0         X1         Y1  \\\n",
       "0    0.0   0.0   0.000000   0.000000   0.000000   0.000000   0.000000   \n",
       "1    1.0   0.0  54.263880  71.466776 -64.807709  76.895635  42.462500   \n",
       "2    1.0   0.0  56.527558  72.266609 -61.935252  39.135978  82.538530   \n",
       "3    1.0   0.0  55.849928  72.469064 -62.562788  37.988804  82.631347   \n",
       "4    1.0   0.0  55.329647  71.707275 -63.688956  36.561863  81.868749   \n",
       "\n",
       "          Z1         X2         Y2  ...   Z8   X9   Y9   Z9  X10  Y10  Z10  \\\n",
       "0   0.000000   0.000000   0.000000  ...  0.0  0.0  0.0  0.0  0.0  0.0  0.0   \n",
       "1 -72.780545  36.621229  81.680557  ...  0.0  0.0  0.0  0.0  0.0  0.0  0.0   \n",
       "2 -49.596509  79.223743  43.254091  ...  0.0  0.0  0.0  0.0  0.0  0.0  0.0   \n",
       "3 -50.606259  78.451526  43.567403  ...  0.0  0.0  0.0  0.0  0.0  0.0  0.0   \n",
       "4 -52.752784  86.320630  68.214645  ...  0.0  0.0  0.0  0.0  0.0  0.0  0.0   \n",
       "\n",
       "   X11  Y11  Z11  \n",
       "0  0.0  0.0  0.0  \n",
       "1  0.0  0.0  0.0  \n",
       "2  0.0  0.0  0.0  \n",
       "3  0.0  0.0  0.0  \n",
       "4  0.0  0.0  0.0  \n",
       "\n",
       "[5 rows x 38 columns]"
      ]
     },
     "execution_count": 7,
     "metadata": {},
     "output_type": "execute_result"
    }
   ],
   "source": [
    "# load mocap data\n",
    "df_MOCAP = pd.read_csv(\"data/Postures.csv\")\n",
    "df_MOCAP.replace({\"?\":0}, inplace=True)\n",
    "df_MOCAP = df_MOCAP.astype('float')\n",
    "df_MOCAP.head()\n",
    "\n",
    "# this dataset is a bit suspicious, honestly. There are a lot of ? values or zeros\n",
    "# Note that the y value is the first column rather than the last, i.e. class"
   ]
  },
  {
   "cell_type": "markdown",
   "metadata": {},
   "source": [
    "# Normalize and create test-train splits\n",
    "\n",
    "# TODO"
   ]
  },
  {
   "cell_type": "code",
   "execution_count": 8,
   "metadata": {},
   "outputs": [
    {
     "name": "stdout",
     "output_type": "stream",
     "text": [
      "(56509, 48)\n",
      "(2000, 48)\n",
      "(56509,)\n",
      "(2000,)\n",
      "tensor([6, 9, 7, 8, 4, 5, 5, 2, 4, 5, 3, 2, 2, 2, 5, 9, 3, 1, 2, 9])\n"
     ]
    }
   ],
   "source": [
    "# make test-train split for DRIVE\n",
    "from sklearn.model_selection import train_test_split\n",
    "\n",
    "X_DRIVE = df_DRIVE.values[:,:-1]\n",
    "Y_DRIVE = df_DRIVE.values[:,-1]\n",
    "NUM_TRAINING_POINTS_DRIVE=48509 + 8000\n",
    "NUM_TEST_POINTS_DRIVE=2000 # change from 10000 to 2000 for faster inference\n",
    "\n",
    "# Normalize data\n",
    "#X_DRIVE = classification_utils.standardise(X_DRIVE)\n",
    "X_DRIVE = classification_utils.normalise_minusonetoone(X_DRIVE)\n",
    "\n",
    "test_size_DRIVE = NUM_TEST_POINTS_DRIVE/(NUM_TRAINING_POINTS_DRIVE+NUM_TEST_POINTS_DRIVE)\n",
    "X_DRIVE_train, X_DRIVE_test, y_DRIVE_train, y_DRIVE_test = train_test_split(X_DRIVE, Y_DRIVE, test_size=test_size_DRIVE, random_state=seed)\n",
    "print(np.shape(X_DRIVE_train))\n",
    "print(np.shape(X_DRIVE_test))\n",
    "print(np.shape(y_DRIVE_train))\n",
    "print(np.shape(y_DRIVE_test))\n",
    "X_DRIVE_train, X_DRIVE_test, y_DRIVE_train, y_DRIVE_test = torch.tensor(X_DRIVE_train).float(), torch.tensor(X_DRIVE_test).float(), \\\n",
    "                                                   torch.tensor(y_DRIVE_train).long(), torch.tensor(y_DRIVE_test).long()\n",
    "print(y_DRIVE_test[:20])"
   ]
  },
  {
   "cell_type": "code",
   "execution_count": 9,
   "metadata": {},
   "outputs": [
    {
     "name": "stdout",
     "output_type": "stream",
     "text": [
      "(18000, 16)\n",
      "(2000, 16)\n",
      "(18000,)\n",
      "(2000,)\n",
      "tensor([ 2,  9, 13, 12, 14, 15,  3, 19,  0,  4, 24,  7,  4, 10, 11,  0, 14, 19,\n",
      "        23,  5])\n"
     ]
    }
   ],
   "source": [
    "# make test-train split for LETTER\n",
    "from sklearn.model_selection import train_test_split\n",
    "\n",
    "X_LETTER = df_LETTER.values[:,1:]\n",
    "Y_LETTER = df_LETTER.values[:,0]\n",
    "NUM_TRAINING_POINTS_LETTER=15000 + 3000\n",
    "NUM_TEST_POINTS_LETTER=2000 #changed from 5000 to 2000 for faster inference\n",
    "\n",
    "# Normalize data\n",
    "X_LETTER = classification_utils.standardise(X_LETTER)\n",
    "#X_LETTER = classification_utils.normalise_minusonetoone(X_LETTER)\n",
    "\n",
    "test_size_LETTER = NUM_TEST_POINTS_LETTER/(NUM_TRAINING_POINTS_LETTER+NUM_TEST_POINTS_LETTER)\n",
    "X_LETTER_train, X_LETTER_test, y_LETTER_train, y_LETTER_test = train_test_split(X_LETTER, Y_LETTER, test_size=test_size_LETTER, random_state=seed)\n",
    "print(np.shape(X_LETTER_train))\n",
    "print(np.shape(X_LETTER_test))\n",
    "print(np.shape(y_LETTER_train))\n",
    "print(np.shape(y_LETTER_test))\n",
    "X_LETTER_train, X_LETTER_test, y_LETTER_train, y_LETTER_test = torch.tensor(X_LETTER_train).float(), torch.tensor(X_LETTER_test).float(), \\\n",
    "                                                   torch.tensor(y_LETTER_train).long(), torch.tensor(y_LETTER_test).long()\n",
    "print(y_LETTER_test[:20])"
   ]
  },
  {
   "cell_type": "code",
   "execution_count": 10,
   "metadata": {},
   "outputs": [
    {
     "name": "stdout",
     "output_type": "stream",
     "text": [
      "(tensor([0., 1., 2., 3., 4.], dtype=torch.float64), tensor([16265, 14978, 16344, 14775, 15733]))\n",
      "(76094, 37)\n",
      "(2001, 37)\n",
      "(76094,)\n",
      "(2001,)\n",
      "tensor([1, 0, 0, 4, 2, 2, 2, 1, 1, 3, 2, 0, 1, 1, 2, 2, 4, 4, 0, 2])\n"
     ]
    }
   ],
   "source": [
    "# make test-train split for MOCAP\n",
    "from sklearn.model_selection import train_test_split\n",
    "\n",
    "X_MOCAP = df_MOCAP.values[1:,1:]\n",
    "Y_MOCAP = df_MOCAP.values[1:,0]\n",
    "NUM_TRAINING_POINTS_MOCAP=68094 + 8000\n",
    "NUM_TEST_POINTS_MOCAP=2000 # changed from 10000 to 2000 for faster inference\n",
    "\n",
    "## There is one row with class 0 which we don't want; therefore the 1: in the selection above\n",
    "## class labels are 1-based indices; therefore -1\n",
    "Y_MOCAP -= 1\n",
    "print(torch.unique(torch.tensor(Y_MOCAP), return_counts=True))\n",
    "\n",
    "# Normalize data\n",
    "X_MOCAP = classification_utils.standardise(X_MOCAP)\n",
    "#X_MOCAP = classification_utils.normalise_minusonetoone(X_MOCAP)\n",
    "\n",
    "\n",
    "test_size_MOCAP = NUM_TEST_POINTS_MOCAP/(NUM_TRAINING_POINTS_MOCAP+NUM_TEST_POINTS_MOCAP)\n",
    "X_MOCAP_train, X_MOCAP_test, y_MOCAP_train, y_MOCAP_test = train_test_split(X_MOCAP, Y_MOCAP, test_size=test_size_MOCAP, random_state=seed)\n",
    "print(np.shape(X_MOCAP_train))\n",
    "print(np.shape(X_MOCAP_test))\n",
    "print(np.shape(y_MOCAP_train))\n",
    "print(np.shape(y_MOCAP_test))\n",
    "X_MOCAP_train, X_MOCAP_test, y_MOCAP_train, y_MOCAP_test = torch.tensor(X_MOCAP_train).float(), torch.tensor(X_MOCAP_test).float(), \\\n",
    "                                                   torch.tensor(y_MOCAP_train).long(), torch.tensor(y_MOCAP_test).long()\n",
    "print(y_MOCAP_test[:20])"
   ]
  },
  {
   "cell_type": "markdown",
   "metadata": {},
   "source": [
    "## Create inducing points\n",
    "\n",
    "As in the Dirichlet GPC paper, we use the following number of inducing points\n",
    "TODO"
   ]
  },
  {
   "cell_type": "code",
   "execution_count": 11,
   "metadata": {},
   "outputs": [],
   "source": [
    "NUM_INDUCING_POINTS_DRIVE=500\n",
    "NUM_CLASSES_DRIVE=11\n",
    "NUM_INDUCING_POINTS_LETTER=200\n",
    "NUM_CLASSES_LETTER=26\n",
    "NUM_INDUCING_POINTS_MOCAP=500\n",
    "NUM_CLASSES_MOCAP=5"
   ]
  },
  {
   "cell_type": "code",
   "execution_count": 12,
   "metadata": {},
   "outputs": [
    {
     "name": "stdout",
     "output_type": "stream",
     "text": [
      "tensor([[ 0.4059,  0.0845,  0.4175,  0.7936,  0.8223,  0.5671,  0.5303,  0.5214,\n",
      "          0.5117, -0.3397, -0.3398, -0.3399, -0.9720, -0.9525, -0.9108, -0.9666,\n",
      "         -0.9615, -0.8551,  0.3632,  0.3631,  0.3633,  0.3619,  0.3620,  0.3615,\n",
      "         -0.2822, -0.0082, -0.1344, -0.2105,  0.0699,  0.0070, -0.1647, -0.1508,\n",
      "         -0.1434,  0.2138,  0.2243,  0.2381, -0.9999, -0.9901, -0.9762, -0.9998,\n",
      "         -0.9991, -0.8668, -0.3432, -0.3466, -0.4018, -0.6938, -0.6785, -0.6906],\n",
      "        [ 0.4063,  0.0904,  0.4484,  0.7939,  0.8226,  0.5638,  0.1142,  0.0970,\n",
      "          0.0736, -0.3469, -0.3471, -0.3472, -0.9941, -0.9837, -0.9908, -0.9932,\n",
      "         -0.9897, -0.9839, -0.4976, -0.4977, -0.4974, -0.4956, -0.4956, -0.4953,\n",
      "         -0.2832, -0.0063, -0.0603, -0.2106,  0.0727, -0.0144, -0.3055, -0.2902,\n",
      "         -0.2828,  0.2695,  0.2805,  0.2930, -0.9999, -0.9344, -0.9635, -0.9999,\n",
      "         -0.9921, -0.8116, -0.1900, -0.1954, -0.2463, -0.7557, -0.7398, -0.7568]]) tensor([8, 1])\n",
      "tensor([[ 0.4059,  0.0845,  0.4175,  0.7936,  0.8223,  0.5671,  0.5303,  0.5214,\n",
      "          0.5117, -0.3397, -0.3398, -0.3399, -0.9720, -0.9525, -0.9108, -0.9666,\n",
      "         -0.9615, -0.8551,  0.3632,  0.3631,  0.3633,  0.3619,  0.3620,  0.3615,\n",
      "         -0.2822, -0.0082, -0.1344, -0.2105,  0.0699,  0.0070, -0.1647, -0.1508,\n",
      "         -0.1434,  0.2138,  0.2243,  0.2381, -0.9999, -0.9901, -0.9762, -0.9998,\n",
      "         -0.9991, -0.8668, -0.3432, -0.3466, -0.4018, -0.6938, -0.6785, -0.6906],\n",
      "        [ 0.4063,  0.0904,  0.4484,  0.7939,  0.8226,  0.5638,  0.1142,  0.0970,\n",
      "          0.0736, -0.3469, -0.3471, -0.3472, -0.9941, -0.9837, -0.9908, -0.9932,\n",
      "         -0.9897, -0.9839, -0.4976, -0.4977, -0.4974, -0.4956, -0.4956, -0.4953,\n",
      "         -0.2832, -0.0063, -0.0603, -0.2106,  0.0727, -0.0144, -0.3055, -0.2902,\n",
      "         -0.2828,  0.2695,  0.2805,  0.2930, -0.9999, -0.9344, -0.9635, -0.9999,\n",
      "         -0.9921, -0.8116, -0.1900, -0.1954, -0.2463, -0.7557, -0.7398, -0.7568]]) tensor([[1.0000e-03, 1.0000e-03, 1.0000e-03, 1.0000e-03, 1.0000e-03, 1.0000e-03,\n",
      "         1.0000e-03, 1.0000e-03, 1.5700e+02, 1.0000e-03, 1.0000e-03],\n",
      "        [1.0000e-03, 2.0000e+02, 1.0000e-03, 1.0000e-03, 1.0000e-03, 1.0000e-03,\n",
      "         1.0000e-03, 1.0000e-03, 1.0000e-03, 1.0000e-03, 1.0000e-03]])\n"
     ]
    }
   ],
   "source": [
    "### DRIVE\n",
    "\n",
    "## choose random inducing points\n",
    "#X_DRIVE_train_induced, y_DRIVE_train_induced = classification_utils.random_inducing_points(X_DRIVE_train, y_DRIVE_train, NUM_INDUCING_POINTS_DRIVE)\n",
    "\n",
    "## use kmeans for inducing points\n",
    "X_DRIVE_train_induced, y_DRIVE_train_induced = classification_utils.k_means_inducing_points(X_DRIVE_train, y_DRIVE_train, NUM_INDUCING_POINTS_DRIVE)\n",
    "print(X_DRIVE_train_induced[:2], y_DRIVE_train_induced[:2])\n",
    "\n",
    "# use the conjugacy of the Beta to create better inducing points\n",
    "X_DRIVE_train_induced, y_DRIVE_train_induced_alphas = classification_utils.k_means_inducing_points_LM_Dir(X_DRIVE_train,\n",
    "                                                                                        y_DRIVE_train, NUM_INDUCING_POINTS_DRIVE, num_classes=NUM_CLASSES_DRIVE)\n",
    "print(X_DRIVE_train_induced[:2], y_DRIVE_train_induced_alphas[:2])"
   ]
  },
  {
   "cell_type": "code",
   "execution_count": 13,
   "metadata": {},
   "outputs": [
    {
     "name": "stdout",
     "output_type": "stream",
     "text": [
      "tensor([[-0.5350, -0.6160, -0.0605, -0.6069, -0.2309,  1.0377, -0.2152, -0.6032,\n",
      "         -0.0750,  0.6904, -0.9327, -0.9272, -0.0198, -0.8656,  0.1201,  1.3594],\n",
      "        [ 1.0331,  0.8971,  0.4359,  1.1619,  0.2256, -0.4430, -0.2152,  0.5079,\n",
      "          0.7650,  0.6904,  0.5876,  1.4760, -0.4485,  0.4275,  0.5096,  0.7412]]) tensor([17,  6])\n",
      "tensor([[-0.5350, -0.6160, -0.0605, -0.6069, -0.2309,  1.0377, -0.2152, -0.6032,\n",
      "         -0.0750,  0.6904, -0.9327, -0.9272, -0.0198, -0.8656,  0.1201,  1.3594],\n",
      "        [ 1.0331,  0.8971,  0.4359,  1.1619,  0.2256, -0.4430, -0.2152,  0.5079,\n",
      "          0.7650,  0.6904,  0.5876,  1.4760, -0.4485,  0.4275,  0.5096,  0.7412]]) tensor([[1.0000e-03, 4.2001e+01, 1.0000e-03, 8.0010e+00, 6.0010e+00, 1.0000e-03,\n",
      "         1.0000e-03, 8.0010e+00, 1.0010e+00, 1.0000e-03, 2.0010e+00, 1.0000e-03,\n",
      "         1.0000e-03, 1.0000e-03, 1.0000e-03, 1.0000e-03, 1.0000e-03, 5.1001e+01,\n",
      "         9.0010e+00, 1.0000e-03, 1.0000e-03, 1.0000e-03, 1.0000e-03, 9.0010e+00,\n",
      "         1.0000e-03, 1.0000e-03],\n",
      "        [1.0000e-03, 1.0000e-03, 1.1001e+01, 1.0000e-03, 1.0000e-03, 1.0000e-03,\n",
      "         5.8001e+01, 1.0000e-03, 2.0010e+00, 1.0000e-03, 1.0000e-03, 7.0010e+00,\n",
      "         1.0000e-03, 1.0000e-03, 1.0000e-03, 1.0000e-03, 1.0000e-03, 1.0000e-03,\n",
      "         1.0000e-03, 1.0000e-03, 1.0000e-03, 1.0000e-03, 1.0000e-03, 1.0000e-03,\n",
      "         1.0000e-03, 1.0000e-03]])\n"
     ]
    }
   ],
   "source": [
    "### LETTER\n",
    "\n",
    "## choose random inducing points\n",
    "#X_LETTER_train_induced, y_LETTER_train_induced = classification_utils.random_inducing_points(X_LETTER_train, y_LETTER_train, NUM_INDUCING_POINTS_LETTER)\n",
    "\n",
    "## use kmeans for inducing points\n",
    "X_LETTER_train_induced, y_LETTER_train_induced = classification_utils.k_means_inducing_points(X_LETTER_train, y_LETTER_train, NUM_INDUCING_POINTS_LETTER)\n",
    "print(X_LETTER_train_induced[:2], y_LETTER_train_induced[:2])\n",
    "\n",
    "# use the conjugacy of the Beta to create better inducing points\n",
    "X_LETTER_train_induced, y_LETTER_train_induced_alphas = classification_utils.k_means_inducing_points_LM_Dir(X_LETTER_train,\n",
    "                                                                                        y_LETTER_train, NUM_INDUCING_POINTS_LETTER, num_classes=NUM_CLASSES_LETTER)\n",
    "print(X_LETTER_train_induced[:2], y_LETTER_train_induced_alphas[:2])"
   ]
  },
  {
   "cell_type": "code",
   "execution_count": 14,
   "metadata": {},
   "outputs": [
    {
     "name": "stdout",
     "output_type": "stream",
     "text": [
      "tensor([[ 4.3442e-01, -1.1592e+00, -2.6350e-01, -6.2451e-01,  5.4568e-01,\n",
      "         -7.3819e-01, -1.5848e+00, -3.9694e-01, -2.0534e-01, -8.1469e-01,\n",
      "         -1.7074e+00, -2.0580e-01, -2.1696e-01,  2.5252e-01, -3.1371e-01,\n",
      "         -1.1410e+00,  8.9940e-01, -7.6142e-01, -1.7046e+00,  7.3873e-01,\n",
      "         -1.1810e+00, -1.9527e+00, -6.3254e-01, -8.3749e-01,  3.9001e-01,\n",
      "         -5.5957e-01, -6.8151e-01,  3.7657e-01, -5.0031e-01, -5.6139e-01,\n",
      "          3.5788e-01, -3.7788e-01, -4.0576e-01,  2.7000e-01,  1.0254e-02,\n",
      "         -1.1602e-02, -1.7143e-03],\n",
      "        [ 2.2155e-01, -7.0453e-01,  1.6865e+00,  3.9788e-01, -3.7464e-02,\n",
      "          1.7460e+00,  4.0509e-01, -1.1805e-01,  4.3969e-01,  5.1064e-01,\n",
      "          1.2124e+00, -8.3969e-01,  1.1529e-01, -6.7954e-01,  5.7463e-01,\n",
      "          4.9048e-01, -1.0169e+00,  4.0242e-01,  1.2042e-01,  1.0539e+00,\n",
      "          7.2435e-01, -5.6076e-02,  1.9339e+00,  4.7050e-01, -4.6639e-01,\n",
      "          1.3668e+00,  2.1171e+00, -4.7125e-01, -2.3864e-01,  2.2962e+00,\n",
      "         -7.5513e-01, -3.7788e-01, -4.0576e-01,  2.7000e-01,  1.0254e-02,\n",
      "         -1.1602e-02, -1.7143e-03]]) tensor([0, 1])\n",
      "tensor([[ 4.3442e-01, -1.1592e+00, -2.6350e-01, -6.2451e-01,  5.4568e-01,\n",
      "         -7.3819e-01, -1.5848e+00, -3.9694e-01, -2.0534e-01, -8.1469e-01,\n",
      "         -1.7074e+00, -2.0580e-01, -2.1696e-01,  2.5252e-01, -3.1371e-01,\n",
      "         -1.1410e+00,  8.9940e-01, -7.6142e-01, -1.7046e+00,  7.3873e-01,\n",
      "         -1.1810e+00, -1.9527e+00, -6.3254e-01, -8.3749e-01,  3.9001e-01,\n",
      "         -5.5957e-01, -6.8151e-01,  3.7657e-01, -5.0031e-01, -5.6139e-01,\n",
      "          3.5788e-01, -3.7788e-01, -4.0576e-01,  2.7000e-01,  1.0254e-02,\n",
      "         -1.1602e-02, -1.7143e-03],\n",
      "        [ 2.2155e-01, -7.0453e-01,  1.6865e+00,  3.9788e-01, -3.7464e-02,\n",
      "          1.7460e+00,  4.0509e-01, -1.1805e-01,  4.3969e-01,  5.1064e-01,\n",
      "          1.2124e+00, -8.3969e-01,  1.1529e-01, -6.7954e-01,  5.7463e-01,\n",
      "          4.9048e-01, -1.0169e+00,  4.0242e-01,  1.2042e-01,  1.0539e+00,\n",
      "          7.2435e-01, -5.6076e-02,  1.9339e+00,  4.7050e-01, -4.6639e-01,\n",
      "          1.3668e+00,  2.1171e+00, -4.7125e-01, -2.3864e-01,  2.2962e+00,\n",
      "         -7.5513e-01, -3.7788e-01, -4.0576e-01,  2.7000e-01,  1.0254e-02,\n",
      "         -1.1602e-02, -1.7143e-03]]) tensor([[1.2500e+02, 1.0010e+00, 3.0010e+00, 4.0010e+00, 1.0000e-03],\n",
      "        [1.0000e-03, 4.8001e+01, 1.0000e-03, 1.0000e-03, 7.6001e+01]])\n"
     ]
    }
   ],
   "source": [
    "### MOCAP\n",
    "\n",
    "## choose random inducing points\n",
    "#X_MOCAP_train_induced, y_MOCAP_train_induced = classification_utils.random_inducing_points(X_MOCAP_train, y_MOCAP_train, NUM_INDUCING_POINTS_MOCAP)\n",
    "\n",
    "## use kmeans for inducing points\n",
    "X_MOCAP_train_induced, y_MOCAP_train_induced = classification_utils.k_means_inducing_points(X_MOCAP_train, y_MOCAP_train, NUM_INDUCING_POINTS_MOCAP)\n",
    "print(X_MOCAP_train_induced[:2], y_MOCAP_train_induced[:2])\n",
    "\n",
    "# use the conjugacy of the Beta to create better inducing points\n",
    "X_MOCAP_train_induced, y_MOCAP_train_induced_alphas = classification_utils.k_means_inducing_points_LM_Dir(X_MOCAP_train,\n",
    "                                                                                        y_MOCAP_train, NUM_INDUCING_POINTS_MOCAP, num_classes=NUM_CLASSES_MOCAP)\n",
    "print(X_MOCAP_train_induced[:2], y_MOCAP_train_induced_alphas[:2])"
   ]
  },
  {
   "cell_type": "markdown",
   "metadata": {},
   "source": [
    "# Setup for GPC & LB(Dirichlet)+GP"
   ]
  },
  {
   "cell_type": "code",
   "execution_count": 15,
   "metadata": {},
   "outputs": [],
   "source": [
    "LENGTHSCALES = [0.01, 0.1, 0.2, 0.5, 1, 2, 5, 10, 20, 50]"
   ]
  },
  {
   "cell_type": "markdown",
   "metadata": {},
   "source": [
    "## DRIVE"
   ]
  },
  {
   "cell_type": "code",
   "execution_count": 16,
   "metadata": {},
   "outputs": [],
   "source": [
    "### choose lengthscale with CV\n",
    "#NUM_ITER_DRIVE = 200 #Seems to differ between the methods\n",
    "LR_DRIVE = 0.1\n",
    "\"\"\"\n",
    "res_DRIVE = classification_models.select_init_lengthscale_with_CV_Dir(X_DRIVE_train, y_DRIVE_train, mode=\"DGP\",\n",
    "                                    num_inducing_points=NUM_INDUCING_POINTS_DRIVE, \n",
    "                                    learn_noise=True, num_iter=400, lr=LR_DRIVE,\n",
    "                                    lengthscales=LENGTHSCALES, max_test_size=1000)\n",
    "print(res_DRIVE)    \n",
    "classification_utils.plot_res(res_DRIVE)\n",
    "#\"\"\"\n",
    "\n",
    "INIT_LENGHTSCALE_DRIVE = 5"
   ]
  },
  {
   "cell_type": "code",
   "execution_count": 17,
   "metadata": {},
   "outputs": [
    {
     "name": "stdout",
     "output_type": "stream",
     "text": [
      "Iter 1/500 - Loss: 28.961   lengthscale: 5.000   noise: 0.693\n",
      "Iter 51/500 - Loss: 23.952   lengthscale: 2.332   noise: 2.526\n",
      "Iter 101/500 - Loss: 23.484   lengthscale: 2.191   noise: 1.916\n",
      "Iter 151/500 - Loss: 23.344   lengthscale: 1.956   noise: 1.539\n",
      "Iter 201/500 - Loss: 23.216   lengthscale: 1.431   noise: 1.304\n",
      "Iter 251/500 - Loss: 23.088   lengthscale: 1.163   noise: 0.951\n",
      "Iter 301/500 - Loss: 23.032   lengthscale: 1.066   noise: 0.704\n",
      "Iter 351/500 - Loss: 23.005   lengthscale: 0.880   noise: 0.567\n",
      "Iter 401/500 - Loss: 22.863   lengthscale: 0.557   noise: 0.350\n",
      "Iter 451/500 - Loss: 22.767   lengthscale: 0.553   noise: 0.104\n",
      "(0.9204999804496765, 0.338476300239563, 0.12681159377098083)\n"
     ]
    }
   ],
   "source": [
    "### run Dirichlet GPC\n",
    "\n",
    "DGP_model, DGP_likelihood = classification_models.create_DGP_model(X_DRIVE_train_induced, y_DRIVE_train_induced,\n",
    "                                        init_lengthscale=INIT_LENGHTSCALE_DRIVE, learn_additional_noise=True)\n",
    "DGP_model, DGP_likelihood = classification_models.train_DGP_model(X_DRIVE_train_induced,\n",
    "                                DGP_model, DGP_likelihood, num_iter=500, lr=LR_DRIVE, report_iter=50)\n",
    "DRIVE_DGP_res = classification_models.evaluate_DGP(DGP_model, DGP_likelihood, X_DRIVE_test, y_DRIVE_test)\n",
    "print(DRIVE_DGP_res)"
   ]
  },
  {
   "cell_type": "code",
   "execution_count": 18,
   "metadata": {},
   "outputs": [
    {
     "name": "stdout",
     "output_type": "stream",
     "text": [
      "Iter 1/100 - Loss: 2.795; lengthscale: 0.693; noise: 0.693\n",
      "Iter 21/100 - Loss: 2.222; lengthscale: 0.393; noise: 1.021\n",
      "Iter 41/100 - Loss: 2.147; lengthscale: 0.380; noise: 0.499\n",
      "Iter 61/100 - Loss: 2.075; lengthscale: 0.368; noise: 0.170\n",
      "Iter 81/100 - Loss: 2.023; lengthscale: 0.366; noise: 0.065\n",
      "(0.9390000104904175, 0.2649153470993042, 0.06474262475967407)\n"
     ]
    }
   ],
   "source": [
    "### Run LM(Beta)+GP vanilla\n",
    "y_DRIVE_train_induced_mu, y_DRIVE_train_induced_var = classification_models.transform_y_Dir_LM(y_DRIVE_train_induced,\n",
    "                                                                                    a_eps=0.00001, num_classes=NUM_CLASSES_DRIVE)\n",
    "LMGP_model_DRIVE, LMGP_likelihood_DRIVE = classification_models.create_LM_Dir_GP_model(X_DRIVE_train_induced, \n",
    "                                y_DRIVE_train_induced_mu, y_DRIVE_train_induced_var, num_classes=NUM_CLASSES_DRIVE,\n",
    "                                init_lengthscale=INIT_LENGHTSCALE_DRIVE, rank=NUM_CLASSES_DRIVE)\n",
    "\n",
    "LMGP_model_DRIVE, LMGP_likelihood_DRIVE = classification_models.train_LM_Dir_GP_model(X_DRIVE_train_induced, y_DRIVE_train_induced_mu, \n",
    "                        LMGP_model_DRIVE, LMGP_likelihood_DRIVE, num_iter=100, lr=LR_DRIVE, report_iter=20)\n",
    "DRIVE_LMGP_res = classification_models.evaluate_LM_Dir_GP(LMGP_model_DRIVE, LMGP_likelihood_DRIVE, \n",
    "                                                          X_DRIVE_test, y_DRIVE_test, num_samples=1000)\n",
    "print(DRIVE_LMGP_res)"
   ]
  },
  {
   "cell_type": "code",
   "execution_count": 19,
   "metadata": {},
   "outputs": [
    {
     "name": "stdout",
     "output_type": "stream",
     "text": [
      "Iter 1/100 - Loss: 2.928; lengthscale: 0.693; noise: 0.693\n",
      "Iter 21/100 - Loss: 2.288; lengthscale: 0.381; noise: 1.215\n",
      "Iter 41/100 - Loss: 2.241; lengthscale: 0.421; noise: 0.911\n",
      "Iter 61/100 - Loss: 2.207; lengthscale: 0.382; noise: 0.516\n",
      "Iter 81/100 - Loss: 2.179; lengthscale: 0.347; noise: 0.263\n",
      "(0.921500027179718, 0.19454345107078552, 0.04535232111811638)\n"
     ]
    }
   ],
   "source": [
    "### Run LM(Beta)+GP with conjugacy information\n",
    "\n",
    "train_mu_LB_con_DRIVE = classification_models.Dirichlet_bridge_mu_batch(y_DRIVE_train_induced_alphas)\n",
    "train_var_LB_con_DRIVE = classification_models.Dirichlet_bridge_Sigma_diag_batch(y_DRIVE_train_induced_alphas)\n",
    "LMGP_model_con_DRIVE, LMGP_likelihood_con_DRIVE = classification_models.create_LM_Dir_GP_model(X_DRIVE_train_induced, train_mu_LB_con_DRIVE,\n",
    "                                                train_var_LB_con_DRIVE, num_classes=NUM_CLASSES_DRIVE,\n",
    "                                                init_lengthscale=INIT_LENGHTSCALE_DRIVE, rank=NUM_CLASSES_DRIVE)\n",
    "LMGP_model_con_DRIVE, LMGP_likelihood_con_DRIVE = classification_models.train_LM_Dir_GP_model(X_DRIVE_train_induced, train_mu_LB_con_DRIVE,\n",
    "                LMGP_model_con_DRIVE, LMGP_likelihood_con_DRIVE, num_iter=100, lr=LR_DRIVE, report_iter=20)\n",
    "\n",
    "DRIVE_LMGP_con_res = classification_models.evaluate_LM_Dir_GP(LMGP_model_con_DRIVE, LMGP_likelihood_con_DRIVE, \n",
    "                                            X_DRIVE_test, y_DRIVE_test, num_samples=1000)\n",
    "print(DRIVE_LMGP_con_res)"
   ]
  },
  {
   "cell_type": "markdown",
   "metadata": {},
   "source": [
    "## LETTER"
   ]
  },
  {
   "cell_type": "code",
   "execution_count": 20,
   "metadata": {},
   "outputs": [],
   "source": [
    "### choose lengthscale with CV\n",
    "#NUM_ITER_LETTER = 200 #Seems to differ between the methods\n",
    "LR_LETTER = 0.1\n",
    "\"\"\"\n",
    "res_LETTER = classification_models.select_init_lengthscale_with_CV_Dir(X_LETTER_train, y_LETTER_train, mode=\"LMGP_dir\",\n",
    "                                    num_inducing_points=NUM_INDUCING_POINTS_LETTER, \n",
    "                                    learn_noise=True, num_iter=100, lr=LR_LETTER, num_classes=NUM_CLASSES_LETTER,\n",
    "                                    lengthscales=LENGTHSCALES, max_test_size=1000)\n",
    "print(res_LETTER)    \n",
    "classification_utils.plot_res(res_LETTER)\n",
    "#\"\"\"\n",
    "\n",
    "INIT_LENGHTSCALE_LETTER = 1"
   ]
  },
  {
   "cell_type": "code",
   "execution_count": 21,
   "metadata": {},
   "outputs": [
    {
     "name": "stdout",
     "output_type": "stream",
     "text": [
      "Iter 1/100 - Loss: 141.764   lengthscale: 1.000   noise: 0.693\n",
      "Iter 51/100 - Loss: 56.050   lengthscale: 3.551   noise: 1.520\n",
      "(0.5835000276565552, 1.7394791841506958, 0.2348499745130539)\n"
     ]
    }
   ],
   "source": [
    "### run Dirichlet GPC\n",
    "\n",
    "DGP_model, DGP_likelihood = classification_models.create_DGP_model(X_LETTER_train_induced, y_LETTER_train_induced,\n",
    "                                        init_lengthscale=INIT_LENGHTSCALE_LETTER, learn_additional_noise=True)\n",
    "DGP_model, DGP_likelihood = classification_models.train_DGP_model(X_LETTER_train_induced,\n",
    "                                DGP_model, DGP_likelihood, num_iter=100, lr=LR_LETTER, report_iter=50)\n",
    "LETTER_DGP_res = classification_models.evaluate_DGP(DGP_model, DGP_likelihood, X_LETTER_test, y_LETTER_test)\n",
    "print(LETTER_DGP_res)"
   ]
  },
  {
   "cell_type": "code",
   "execution_count": 22,
   "metadata": {},
   "outputs": [
    {
     "name": "stdout",
     "output_type": "stream",
     "text": [
      "Iter 1/100 - Loss: 2.592; lengthscale: 0.693; noise: 0.693\n",
      "Iter 21/100 - Loss: 2.095; lengthscale: 2.049; noise: 0.377\n",
      "Iter 41/100 - Loss: 2.036; lengthscale: 2.486; noise: 0.182\n",
      "Iter 61/100 - Loss: 2.005; lengthscale: 2.558; noise: 0.040\n",
      "Iter 81/100 - Loss: 1.995; lengthscale: 2.791; noise: 0.017\n",
      "(0.5295000076293945, 1.8237632513046265, 0.05229999125003815)\n"
     ]
    }
   ],
   "source": [
    "### Run LM(Beta)+GP vanilla\n",
    "y_LETTER_train_induced_mu, y_LETTER_train_induced_var = classification_models.transform_y_Dir_LM(y_LETTER_train_induced,\n",
    "                                                                                    a_eps=0.00001, num_classes=NUM_CLASSES_LETTER)\n",
    "LMGP_model_LETTER, LMGP_likelihood_LETTER = classification_models.create_LM_Dir_GP_model(X_LETTER_train_induced, \n",
    "                                y_LETTER_train_induced_mu, y_LETTER_train_induced_var, num_classes=NUM_CLASSES_LETTER,\n",
    "                                init_lengthscale=INIT_LENGHTSCALE_LETTER, rank=NUM_CLASSES_LETTER)\n",
    "\n",
    "LMGP_model_LETTER, LMGP_likelihood_LETTER = classification_models.train_LM_Dir_GP_model(X_LETTER_train_induced, y_LETTER_train_induced_mu, \n",
    "                        LMGP_model_LETTER, LMGP_likelihood_LETTER, num_iter=100, lr=LR_LETTER, report_iter=20)\n",
    "LETTER_LMGP_res = classification_models.evaluate_LM_Dir_GP(LMGP_model_LETTER, LMGP_likelihood_LETTER, \n",
    "                                                          X_LETTER_test, y_LETTER_test, num_samples=1000)\n",
    "print(LETTER_LMGP_res)"
   ]
  },
  {
   "cell_type": "code",
   "execution_count": 23,
   "metadata": {},
   "outputs": [
    {
     "name": "stdout",
     "output_type": "stream",
     "text": [
      "Iter 1/100 - Loss: 2.937; lengthscale: 0.693; noise: 0.693\n",
      "Iter 21/100 - Loss: 2.401; lengthscale: 2.064; noise: 0.860\n",
      "Iter 41/100 - Loss: 2.360; lengthscale: 2.019; noise: 1.202\n",
      "Iter 61/100 - Loss: 2.349; lengthscale: 1.876; noise: 0.995\n",
      "Iter 81/100 - Loss: 2.345; lengthscale: 1.857; noise: 0.703\n",
      "(0.6244999766349792, 1.1092967987060547, 0.03605000302195549)\n"
     ]
    }
   ],
   "source": [
    "### Run LM(Beta)+GP with conjugacy information\n",
    "\n",
    "train_mu_LB_con_LETTER = classification_models.Dirichlet_bridge_mu_batch(y_LETTER_train_induced_alphas)\n",
    "train_var_LB_con_LETTER = classification_models.Dirichlet_bridge_Sigma_diag_batch(y_LETTER_train_induced_alphas)\n",
    "LMGP_model_con_LETTER, LMGP_likelihood_con_LETTER = classification_models.create_LM_Dir_GP_model(X_LETTER_train_induced, train_mu_LB_con_LETTER,\n",
    "                                                train_var_LB_con_LETTER, num_classes=NUM_CLASSES_LETTER,\n",
    "                                                init_lengthscale=INIT_LENGHTSCALE_LETTER, rank=NUM_CLASSES_LETTER)\n",
    "LMGP_model_con_LETTER, LMGP_likelihood_con_LETTER = classification_models.train_LM_Dir_GP_model(X_LETTER_train_induced, train_mu_LB_con_LETTER,\n",
    "                LMGP_model_con_LETTER, LMGP_likelihood_con_LETTER, num_iter=100, lr=LR_LETTER, report_iter=20)\n",
    "\n",
    "LETTER_LMGP_con_res = classification_models.evaluate_LM_Dir_GP(LMGP_model_con_LETTER, LMGP_likelihood_con_LETTER, \n",
    "                                            X_LETTER_test, y_LETTER_test, num_samples=1000)\n",
    "print(LETTER_LMGP_con_res)"
   ]
  },
  {
   "cell_type": "markdown",
   "metadata": {},
   "source": [
    "## MOCAP"
   ]
  },
  {
   "cell_type": "code",
   "execution_count": 24,
   "metadata": {},
   "outputs": [],
   "source": [
    "### choose lengthscale with CV\n",
    "#NUM_ITER_MOCAP = 200 #Seems to differ between the methods\n",
    "LR_MOCAP = 0.1\n",
    "\"\"\"\n",
    "res_MOCAP = classification_models.select_init_lengthscale_with_CV_Dir(X_MOCAP_train, y_MOCAP_train, mode=\"GPC\",\n",
    "                                    num_inducing_points=NUM_INDUCING_POINTS_MOCAP, \n",
    "                                    learn_noise=True, num_iter=100, lr=LR_MOCAP, num_classes=NUM_CLASSES_MOCAP,\n",
    "                                    lengthscales=LENGTHSCALES, max_test_size=1000)\n",
    "print(res_MOCAP)    \n",
    "classification_utils.plot_res(res_MOCAP)\n",
    "#\"\"\"\n",
    "\n",
    "INIT_LENGHTSCALE_MOCAP = 1"
   ]
  },
  {
   "cell_type": "code",
   "execution_count": 25,
   "metadata": {},
   "outputs": [
    {
     "name": "stdout",
     "output_type": "stream",
     "text": [
      "Iter 1/200 - Loss: 24.427   lengthscale: 1.000   noise: 0.693\n",
      "Iter 51/200 - Loss: 10.932   lengthscale: 4.298   noise: 1.653\n",
      "Iter 101/200 - Loss: 10.645   lengthscale: 4.748   noise: 0.687\n",
      "Iter 151/200 - Loss: 10.544   lengthscale: 4.835   noise: 0.362\n",
      "(0.7836081981658936, 0.605052649974823, 0.04935096949338913)\n"
     ]
    }
   ],
   "source": [
    "### run Dirichlet GPC\n",
    "\n",
    "DGP_model, DGP_likelihood = classification_models.create_DGP_model(X_MOCAP_train_induced, y_MOCAP_train_induced,\n",
    "                                        init_lengthscale=INIT_LENGHTSCALE_MOCAP, learn_additional_noise=True)\n",
    "DGP_model, DGP_likelihood = classification_models.train_DGP_model(X_MOCAP_train_induced,\n",
    "                                DGP_model, DGP_likelihood, num_iter=200, lr=LR_MOCAP, report_iter=50)\n",
    "MOCAP_DGP_res = classification_models.evaluate_DGP(DGP_model, DGP_likelihood, X_MOCAP_test, y_MOCAP_test)\n",
    "print(MOCAP_DGP_res)"
   ]
  },
  {
   "cell_type": "code",
   "execution_count": 26,
   "metadata": {},
   "outputs": [
    {
     "name": "stdout",
     "output_type": "stream",
     "text": [
      "Iter 1/100 - Loss: 4.172; lengthscale: 0.693; noise: 0.693\n",
      "Iter 21/100 - Loss: 2.513; lengthscale: 2.183; noise: 1.321\n",
      "Iter 41/100 - Loss: 2.280; lengthscale: 3.908; noise: 1.019\n",
      "Iter 61/100 - Loss: 2.177; lengthscale: 4.394; noise: 0.556\n",
      "Iter 81/100 - Loss: 2.101; lengthscale: 4.225; noise: 0.241\n",
      "(0.8235881924629211, 0.5502731204032898, 0.023539690300822258)\n"
     ]
    }
   ],
   "source": [
    "### Run LM(Beta)+GP vanilla\n",
    "y_MOCAP_train_induced_mu, y_MOCAP_train_induced_var = classification_models.transform_y_Dir_LM(y_MOCAP_train_induced,\n",
    "                                                                                    a_eps=0.00001, num_classes=NUM_CLASSES_MOCAP)\n",
    "LMGP_model_MOCAP, LMGP_likelihood_MOCAP = classification_models.create_LM_Dir_GP_model(X_MOCAP_train_induced, \n",
    "                                y_MOCAP_train_induced_mu, y_MOCAP_train_induced_var, num_classes=NUM_CLASSES_MOCAP,\n",
    "                                init_lengthscale=INIT_LENGHTSCALE_MOCAP, rank=NUM_CLASSES_MOCAP)\n",
    "\n",
    "LMGP_model_MOCAP, LMGP_likelihood_MOCAP = classification_models.train_LM_Dir_GP_model(X_MOCAP_train_induced, y_MOCAP_train_induced_mu, \n",
    "                        LMGP_model_MOCAP, LMGP_likelihood_MOCAP, num_iter=100, lr=LR_MOCAP, report_iter=20)\n",
    "MOCAP_LMGP_res = classification_models.evaluate_LM_Dir_GP(LMGP_model_MOCAP, LMGP_likelihood_MOCAP, \n",
    "                                                          X_MOCAP_test, y_MOCAP_test, num_samples=1000)\n",
    "print(MOCAP_LMGP_res)"
   ]
  },
  {
   "cell_type": "code",
   "execution_count": 27,
   "metadata": {},
   "outputs": [
    {
     "name": "stdout",
     "output_type": "stream",
     "text": [
      "Iter 1/100 - Loss: 3.890; lengthscale: 0.693; noise: 0.693\n",
      "Iter 21/100 - Loss: 2.426; lengthscale: 2.198; noise: 1.257\n",
      "Iter 41/100 - Loss: 2.253; lengthscale: 3.855; noise: 0.882\n",
      "Iter 61/100 - Loss: 2.230; lengthscale: 4.029; noise: 0.713\n",
      "Iter 81/100 - Loss: 2.204; lengthscale: 3.654; noise: 0.549\n",
      "(0.7676162123680115, 0.6148572564125061, 0.03458084538578987)\n"
     ]
    }
   ],
   "source": [
    "### Run LM(Beta)+GP with conjugacy information\n",
    "\n",
    "train_mu_LB_con_MOCAP = classification_models.Dirichlet_bridge_mu_batch(y_MOCAP_train_induced_alphas)\n",
    "train_var_LB_con_MOCAP = classification_models.Dirichlet_bridge_Sigma_diag_batch(y_MOCAP_train_induced_alphas)\n",
    "LMGP_model_con_MOCAP, LMGP_likelihood_con_MOCAP = classification_models.create_LM_Dir_GP_model(X_MOCAP_train_induced, train_mu_LB_con_MOCAP,\n",
    "                                                train_var_LB_con_MOCAP, num_classes=NUM_CLASSES_MOCAP,\n",
    "                                                init_lengthscale=INIT_LENGHTSCALE_MOCAP, rank=NUM_CLASSES_MOCAP)\n",
    "LMGP_model_con_MOCAP, LMGP_likelihood_con_MOCAP = classification_models.train_LM_Dir_GP_model(X_MOCAP_train_induced, train_mu_LB_con_MOCAP,\n",
    "                LMGP_model_con_MOCAP, LMGP_likelihood_con_MOCAP, num_iter=100, lr=LR_MOCAP, report_iter=20)\n",
    "\n",
    "MOCAP_LMGP_con_res = classification_models.evaluate_LM_Dir_GP(LMGP_model_con_MOCAP, LMGP_likelihood_con_MOCAP, \n",
    "                                            X_MOCAP_test, y_MOCAP_test, num_samples=1000)\n",
    "print(MOCAP_LMGP_con_res)"
   ]
  },
  {
   "cell_type": "markdown",
   "metadata": {},
   "source": [
    "# Save results"
   ]
  },
  {
   "cell_type": "code",
   "execution_count": 28,
   "metadata": {},
   "outputs": [],
   "source": [
    "all_res = {\n",
    "    \"DRIVE_res\":{\n",
    "        \"DGP\":list(DRIVE_DGP_res), \n",
    "        \"LMGP\":list(DRIVE_LMGP_res), \n",
    "        \"LMGP_con\":list(DRIVE_LMGP_con_res)\n",
    "    },\n",
    "    \"LETTER_res\":{\n",
    "        \"DGP\":list(LETTER_DGP_res), \n",
    "        \"LMGP\":list(LETTER_LMGP_res), \n",
    "        \"LMGP_con\":list(LETTER_LMGP_con_res)\n",
    "    },\n",
    "    \"MOCAP_res\":{\n",
    "        \"DGP\":list(MOCAP_DGP_res), \n",
    "        \"LMGP\":list(MOCAP_LMGP_res), \n",
    "        \"LMGP_con\":list(MOCAP_LMGP_con_res)\n",
    "    }\n",
    "}"
   ]
  },
  {
   "cell_type": "code",
   "execution_count": 29,
   "metadata": {},
   "outputs": [
    {
     "name": "stdout",
     "output_type": "stream",
     "text": [
      "{'DRIVE_res': {'DGP': [0.9204999804496765, 0.338476300239563, 0.12681159377098083], 'LMGP': [0.9390000104904175, 0.2649153470993042, 0.06474262475967407], 'LMGP_con': [0.921500027179718, 0.19454345107078552, 0.04535232111811638]}, 'LETTER_res': {'DGP': [0.5835000276565552, 1.7394791841506958, 0.2348499745130539], 'LMGP': [0.5295000076293945, 1.8237632513046265, 0.05229999125003815], 'LMGP_con': [0.6244999766349792, 1.1092967987060547, 0.03605000302195549]}, 'MOCAP_res': {'DGP': [0.7836081981658936, 0.605052649974823, 0.04935096949338913], 'LMGP': [0.8235881924629211, 0.5502731204032898, 0.023539690300822258], 'LMGP_con': [0.7676162123680115, 0.6148572564125061, 0.03458084538578987]}}\n"
     ]
    }
   ],
   "source": [
    "import json\n",
    "print(all_res)\n",
    "#save results for this seed\n",
    "\n",
    "res_file = open(\"results/mult_class_seed_{}.json\".format(seed), \"w\")\n",
    "json.dump(all_res, res_file)\n",
    "res_file.close()"
   ]
  },
  {
   "cell_type": "code",
   "execution_count": 30,
   "metadata": {},
   "outputs": [
    {
     "ename": "SyntaxError",
     "evalue": "'break' outside loop (<ipython-input-30-6aaf1f276005>, line 1)",
     "output_type": "error",
     "traceback": [
      "\u001b[0;36m  File \u001b[0;32m\"<ipython-input-30-6aaf1f276005>\"\u001b[0;36m, line \u001b[0;32m1\u001b[0m\n\u001b[0;31m    break\u001b[0m\n\u001b[0m    ^\u001b[0m\n\u001b[0;31mSyntaxError\u001b[0m\u001b[0;31m:\u001b[0m 'break' outside loop\n"
     ]
    }
   ],
   "source": [
    "break"
   ]
  },
  {
   "cell_type": "markdown",
   "metadata": {},
   "source": [
    "# Plot Results"
   ]
  },
  {
   "cell_type": "code",
   "execution_count": 31,
   "metadata": {},
   "outputs": [
    {
     "name": "stdout",
     "output_type": "stream",
     "text": [
      "{'DRIVE_res': {'DGP': [0.8535000085830688, 0.4916830360889435, 0.09887556731700897], 'LMGP': [0.9265000224113464, 0.3190912902355194, 0.030559713020920753], 'LMGP_con': [0.9179999828338623, 0.20655500888824463, 0.04230386018753052]}, 'LETTER_res': {'DGP': [0.5824999809265137, 1.7515902519226074, 0.24534998834133148], 'LMGP': [0.5879999995231628, 1.6532588005065918, 0.04524999111890793], 'LMGP_con': [0.6255000233650208, 1.0757890939712524, 0.0345500111579895]}, 'MOCAP_res': {'DGP': [0.8095952272415161, 0.5109665393829346, 0.02458813786506653], 'LMGP': [0.8450774550437927, 0.5338602066040039, 0.01964554190635681], 'LMGP_con': [0.7951024770736694, 0.5216256380081177, 0.021756496280431747]}}\n",
      "{'DRIVE_res': {'DGP': [0.8475000262260437, 0.49802321195602417, 0.10497252643108368], 'LMGP': [0.9259999990463257, 0.3037663996219635, 0.03585707023739815], 'LMGP_con': [0.9079999923706055, 0.22206613421440125, 0.03520742058753967]}, 'LETTER_res': {'DGP': [0.5615000128746033, 1.7741894721984863, 0.22425000369548798], 'LMGP': [0.5575000047683716, 1.7419631481170654, 0.037999991327524185], 'LMGP_con': [0.6165000200271606, 1.1101901531219482, 0.01411794126033783]}, 'MOCAP_res': {'DGP': [0.787106454372406, 0.5732293128967285, 0.03212682530283928], 'LMGP': [0.8345826864242554, 0.48393625020980835, 0.0206440519541502], 'LMGP_con': [0.7986006736755371, 0.5255432724952698, 0.024388421326875687]}}\n",
      "{'DRIVE_res': {'DGP': [0.843999981880188, 0.49692338705062866, 0.09887556731700897], 'LMGP': [0.9340000152587891, 0.29642608761787415, 0.03360822796821594], 'LMGP_con': [0.9265000224113464, 0.19012337923049927, 0.04190408065915108]}, 'LETTER_res': {'DGP': [0.6019999980926514, 1.6777745485305786, 0.2533000111579895], 'LMGP': [0.593999981880188, 1.6053088903427124, 0.04829999431967735], 'LMGP_con': [0.6535000205039978, 0.9730074405670166, 0.03740629553794861]}, 'MOCAP_res': {'DGP': [0.8090954422950745, 0.5230201482772827, 0.030579136684536934], 'LMGP': [0.8335832357406616, 0.5388472080230713, 0.0800049901008606], 'LMGP_con': [0.7881059646606445, 0.5372394919395447, 0.03766852244734764]}}\n",
      "{'DRIVE_res': {'DGP': [0.8199999928474426, 0.546717643737793, 0.08748126775026321], 'LMGP': [0.9350000023841858, 0.2713093161582947, 0.04080461338162422], 'LMGP_con': [0.9150000214576721, 0.20782896876335144, 0.04170414060354233]}, 'LETTER_res': {'DGP': [0.5950000286102295, 1.6985090970993042, 0.2568499743938446], 'LMGP': [0.5855000019073486, 1.6070307493209839, 0.03894999250769615], 'LMGP_con': [0.6359999775886536, 1.0380401611328125, 0.037300001829862595]}, 'MOCAP_res': {'DGP': [0.7966017127037048, 0.5564694404602051, 0.03871691972017288], 'LMGP': [0.8420789837837219, 0.5171705484390259, 0.028992006555199623], 'LMGP_con': [0.7866066694259644, 0.533401608467102, 0.01876247487962246]}}\n",
      "{'DRIVE_res': {'DGP': [0.9204999804496765, 0.338476300239563, 0.12681159377098083], 'LMGP': [0.9390000104904175, 0.2649153470993042, 0.06474262475967407], 'LMGP_con': [0.921500027179718, 0.19454345107078552, 0.04535232111811638]}, 'LETTER_res': {'DGP': [0.5835000276565552, 1.7394791841506958, 0.2348499745130539], 'LMGP': [0.5295000076293945, 1.8237632513046265, 0.05229999125003815], 'LMGP_con': [0.6244999766349792, 1.1092967987060547, 0.03605000302195549]}, 'MOCAP_res': {'DGP': [0.7836081981658936, 0.605052649974823, 0.04935096949338913], 'LMGP': [0.8235881924629211, 0.5502731204032898, 0.023539690300822258], 'LMGP_con': [0.7676162123680115, 0.6148572564125061, 0.03458084538578987]}}\n"
     ]
    }
   ],
   "source": [
    "### over all seeds\n",
    "\n",
    "DGP_acc_all = []\n",
    "LMGP_acc_all = []\n",
    "LMGP_con_acc_all = []\n",
    "DGP_mnll_all = []\n",
    "LMGP_mnll_all = []\n",
    "LMGP_con_mnll_all = []\n",
    "DGP_ece_all = []\n",
    "LMGP_ece_all = []\n",
    "LMGP_con_ece_all = []\n",
    "\n",
    "for seed in range(5):\n",
    "    seed +=1\n",
    "\n",
    "    with open('results/mult_class_seed_{}.json'.format(seed)) as json_file:\n",
    "        all_res = json.load(json_file)\n",
    "    print(all_res)\n",
    "\n",
    "    DGP_acc = []\n",
    "    LMGP_acc = []\n",
    "    LMGP_con_acc = []\n",
    "    DGP_mnll = []\n",
    "    LMGP_mnll = []\n",
    "    LMGP_con_mnll = []\n",
    "    DGP_ece = []\n",
    "    LMGP_ece = []\n",
    "    LMGP_con_ece = []\n",
    "\n",
    "    for dataset in [\"DRIVE_res\", \"LETTER_res\", \"MOCAP_res\"]:\n",
    "\n",
    "        DGP_acc.append(all_res[dataset][\"DGP\"][0])\n",
    "        LMGP_acc.append(all_res[dataset][\"LMGP\"][0])\n",
    "        LMGP_con_acc.append(all_res[dataset][\"LMGP_con\"][0])\n",
    "        DGP_mnll.append(all_res[dataset][\"DGP\"][1])\n",
    "        LMGP_mnll.append(all_res[dataset][\"LMGP\"][1])\n",
    "        LMGP_con_mnll.append(all_res[dataset][\"LMGP_con\"][1])\n",
    "        DGP_ece.append(all_res[dataset][\"DGP\"][2])\n",
    "        LMGP_ece.append(all_res[dataset][\"LMGP\"][2])\n",
    "        LMGP_con_ece.append(all_res[dataset][\"LMGP_con\"][2])\n",
    "        \n",
    "    DGP_acc_all.append(DGP_acc)\n",
    "    LMGP_acc_all.append(LMGP_acc)\n",
    "    LMGP_con_acc_all.append(LMGP_con_acc)\n",
    "    DGP_mnll_all.append(DGP_mnll)\n",
    "    LMGP_mnll_all.append(LMGP_mnll)\n",
    "    LMGP_con_mnll_all.append(LMGP_con_mnll)\n",
    "    DGP_ece_all.append(DGP_ece)\n",
    "    LMGP_ece_all.append(LMGP_ece)\n",
    "    LMGP_con_ece_all.append(LMGP_con_ece)\n",
    "    \n",
    "DGP_acc_mean = np.array(DGP_acc_all).mean(0)\n",
    "LMGP_acc_mean = np.array(LMGP_acc_all).mean(0)\n",
    "LMGP_con_acc_mean = np.array(LMGP_con_acc_all).mean(0)\n",
    "DGP_mnll_mean = np.array(DGP_mnll_all).mean(0)\n",
    "LMGP_mnll_mean = np.array(LMGP_mnll_all).mean(0)\n",
    "LMGP_con_mnll_mean = np.array(LMGP_con_mnll_all).mean(0)\n",
    "DGP_ece_mean = np.array(DGP_ece_all).mean(0)\n",
    "LMGP_ece_mean = np.array(LMGP_ece_all).mean(0)\n",
    "LMGP_con_ece_mean = np.array(LMGP_con_ece_all).mean(0)\n",
    "\n",
    "DGP_acc_std = np.array(DGP_acc_all).std(0)\n",
    "LMGP_acc_std = np.array(LMGP_acc_all).std(0)\n",
    "LMGP_con_acc_std = np.array(LMGP_con_acc_all).std(0)\n",
    "DGP_mnll_std = np.array(DGP_mnll_all).std(0)\n",
    "LMGP_mnll_std = np.array(LMGP_mnll_all).std(0)\n",
    "LMGP_con_mnll_std = np.array(LMGP_con_mnll_all).std(0)\n",
    "DGP_ece_std = np.array(DGP_ece_all).std(0)\n",
    "LMGP_ece_std = np.array(LMGP_ece_all).std(0)\n",
    "LMGP_con_ece_std = np.array(LMGP_con_ece_all).std(0)"
   ]
  },
  {
   "cell_type": "code",
   "execution_count": 34,
   "metadata": {},
   "outputs": [
    {
     "data": {
      "image/png": "[encoded data removed]",
      "text/plain": [
       "<Figure size 1600x1000 with 3 Axes>"
      ]
     },
     "metadata": {
      "needs_background": "light"
     },
     "output_type": "display_data"
    }
   ],
   "source": [
    "# plot the results\n",
    "w=0.25\n",
    "c=0.28\n",
    "x=np.arange(3)\n",
    "\n",
    "fig, ax = plt.subplots(3, 1, figsize=(8, 5), dpi=200, sharex=True)\n",
    "\n",
    "ax[0].bar(x-1*c, DGP_acc_mean, width=w, yerr=2*DGP_acc_std, color=\"firebrick\", label=\"DGP\")\n",
    "ax[0].bar(x, LMGP_acc_mean, width=w, yerr=2*LMGP_acc_std, color=\"cornflowerblue\", label=\"LM(Dirichlet)+GP\")\n",
    "ax[0].bar(x+1*c, LMGP_con_acc_mean, width=w, yerr=2*LMGP_con_acc_std, color=\"orange\", label=\"LM(Dirichlet)+GP+conjugacy\")\n",
    "ax[0].grid()\n",
    "ax[0].set_ylim(0, 1.05)\n",
    "ax[0].set_ylabel(u\"Accuracy \\u2192\")\n",
    "#ax[0].legend()\n",
    "\n",
    "ax[1].bar(x-1*c, DGP_mnll_mean, width=w, yerr=2*DGP_mnll_std, color=\"firebrick\", label=\"DGP\")\n",
    "ax[1].bar(x, LMGP_mnll_mean, width=w, yerr=2*LMGP_mnll_std, color=\"cornflowerblue\", label=\"LM(Dirichlet)+GP\")\n",
    "ax[1].bar(x+1*c, LMGP_con_mnll_mean, width=w, yerr=2*LMGP_con_mnll_std, color=\"orange\", label=\"LM(Dirichlet)+GP+conjugacy\")\n",
    "ax[1].grid()\n",
    "ax[1].set_ylabel(u\"MNLL \\u2190\")\n",
    "\n",
    "ax[2].bar(x-1*c, DGP_ece_mean, width=w, yerr=2*DGP_ece_std, color=\"firebrick\", label=\"DGP\")\n",
    "ax[2].bar(x, LMGP_ece_mean, width=w, yerr=2*LMGP_ece_std, color=\"cornflowerblue\", label=\"LM(Dirichlet)+GP\")\n",
    "ax[2].bar(x+1*c, LMGP_con_ece_mean, width=w, yerr=2*LMGP_con_ece_std, color=\"orange\", label=\"LM(Dirichlet)+GP+conjugacy\")\n",
    "ax[2].grid()\n",
    "ax[2].set_ylabel(u\"ECE \\u2190\")\n",
    "ax[2].legend()\n",
    "\n",
    "ax[2].set_xticks(x)\n",
    "ax[2].set_xticklabels([\"DRIVE\", \"LETTER\", \"MOCAP\"])\n",
    "\n",
    "plt.show();"
   ]
  },
  {
   "cell_type": "code",
   "execution_count": null,
   "metadata": {},
   "outputs": [],
   "source": []
  }
 ],
 "metadata": {
  "kernelspec": {
   "display_name": "Python 3",
   "language": "python",
   "name": "python3"
  },
  "language_info": {
   "codemirror_mode": {
    "name": "ipython",
    "version": 3
   },
   "file_extension": ".py",
   "mimetype": "text/x-python",
   "name": "python",
   "nbconvert_exporter": "python",
   "pygments_lexer": "ipython3",
   "version": "3.8.5"
  }
 },
 "nbformat": 4,
 "nbformat_minor": 4
}
