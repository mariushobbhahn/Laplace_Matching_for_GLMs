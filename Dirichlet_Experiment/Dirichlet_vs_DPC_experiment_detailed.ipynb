{
 "cells": [
  {
   "cell_type": "markdown",
   "metadata": {},
   "source": [
    "# LM(Dirichlet)+GP experiments\n",
    "\n",
    "on the same data that the DGP paper uses"
   ]
  },
  {
   "cell_type": "code",
   "execution_count": 1,
   "metadata": {},
   "outputs": [],
   "source": [
    "import math\n",
    "import torch\n",
    "import numpy as np\n",
    "import pandas as pd\n",
    "import gpytorch\n",
    "from matplotlib import pyplot as plt"
   ]
  },
  {
   "cell_type": "code",
   "execution_count": 2,
   "metadata": {},
   "outputs": [],
   "source": [
    "from gpytorch.models import ExactGP\n",
    "from gpytorch.likelihoods import DirichletClassificationLikelihood\n",
    "from gpytorch.means import ConstantMean\n",
    "from gpytorch.kernels import ScaleKernel, RBFKernel"
   ]
  },
  {
   "cell_type": "code",
   "execution_count": 3,
   "metadata": {},
   "outputs": [],
   "source": [
    "import sys\n",
    "import os\n",
    "\n",
    "py_file_location = '../utils'\n",
    "sys.path.append(os.path.abspath(py_file_location))\n",
    "py_file_location = '../models'\n",
    "sys.path.append(os.path.abspath(py_file_location))\n",
    "\n",
    "import classification_utils\n",
    "import classification_models"
   ]
  },
  {
   "cell_type": "code",
   "execution_count": 4,
   "metadata": {},
   "outputs": [
    {
     "data": {
      "text/html": [
       "<div>\n",
       "<style scoped>\n",
       "    .dataframe tbody tr th:only-of-type {\n",
       "        vertical-align: middle;\n",
       "    }\n",
       "\n",
       "    .dataframe tbody tr th {\n",
       "        vertical-align: top;\n",
       "    }\n",
       "\n",
       "    .dataframe thead th {\n",
       "        text-align: right;\n",
       "    }\n",
       "</style>\n",
       "<table border=\"1\" class=\"dataframe\">\n",
       "  <thead>\n",
       "    <tr style=\"text-align: right;\">\n",
       "      <th></th>\n",
       "      <th>0</th>\n",
       "      <th>1</th>\n",
       "      <th>2</th>\n",
       "      <th>3</th>\n",
       "      <th>4</th>\n",
       "      <th>5</th>\n",
       "      <th>6</th>\n",
       "      <th>7</th>\n",
       "      <th>8</th>\n",
       "      <th>9</th>\n",
       "      <th>...</th>\n",
       "      <th>39</th>\n",
       "      <th>40</th>\n",
       "      <th>41</th>\n",
       "      <th>42</th>\n",
       "      <th>43</th>\n",
       "      <th>44</th>\n",
       "      <th>45</th>\n",
       "      <th>46</th>\n",
       "      <th>47</th>\n",
       "      <th>48</th>\n",
       "    </tr>\n",
       "  </thead>\n",
       "  <tbody>\n",
       "    <tr>\n",
       "      <th>0</th>\n",
       "      <td>-3.014600e-07</td>\n",
       "      <td>8.260300e-06</td>\n",
       "      <td>-0.000012</td>\n",
       "      <td>-0.000002</td>\n",
       "      <td>-1.438600e-06</td>\n",
       "      <td>-0.000021</td>\n",
       "      <td>0.031718</td>\n",
       "      <td>0.031710</td>\n",
       "      <td>0.031721</td>\n",
       "      <td>-0.032963</td>\n",
       "      <td>...</td>\n",
       "      <td>-0.63308</td>\n",
       "      <td>2.9646</td>\n",
       "      <td>8.1198</td>\n",
       "      <td>-1.4961</td>\n",
       "      <td>-1.4961</td>\n",
       "      <td>-1.4961</td>\n",
       "      <td>-1.4996</td>\n",
       "      <td>-1.4996</td>\n",
       "      <td>-1.4996</td>\n",
       "      <td>0.0</td>\n",
       "    </tr>\n",
       "    <tr>\n",
       "      <th>1</th>\n",
       "      <td>2.913200e-06</td>\n",
       "      <td>-5.247700e-06</td>\n",
       "      <td>0.000003</td>\n",
       "      <td>-0.000006</td>\n",
       "      <td>2.778900e-06</td>\n",
       "      <td>-0.000004</td>\n",
       "      <td>0.030804</td>\n",
       "      <td>0.030810</td>\n",
       "      <td>0.030806</td>\n",
       "      <td>-0.033520</td>\n",
       "      <td>...</td>\n",
       "      <td>-0.59314</td>\n",
       "      <td>7.6252</td>\n",
       "      <td>6.1690</td>\n",
       "      <td>-1.4967</td>\n",
       "      <td>-1.4967</td>\n",
       "      <td>-1.4967</td>\n",
       "      <td>-1.5005</td>\n",
       "      <td>-1.5005</td>\n",
       "      <td>-1.5005</td>\n",
       "      <td>0.0</td>\n",
       "    </tr>\n",
       "    <tr>\n",
       "      <th>2</th>\n",
       "      <td>-2.951700e-06</td>\n",
       "      <td>-3.184000e-06</td>\n",
       "      <td>-0.000016</td>\n",
       "      <td>-0.000001</td>\n",
       "      <td>-1.575300e-06</td>\n",
       "      <td>0.000017</td>\n",
       "      <td>0.032877</td>\n",
       "      <td>0.032880</td>\n",
       "      <td>0.032896</td>\n",
       "      <td>-0.029834</td>\n",
       "      <td>...</td>\n",
       "      <td>-0.63252</td>\n",
       "      <td>2.7784</td>\n",
       "      <td>5.3017</td>\n",
       "      <td>-1.4983</td>\n",
       "      <td>-1.4983</td>\n",
       "      <td>-1.4982</td>\n",
       "      <td>-1.4985</td>\n",
       "      <td>-1.4985</td>\n",
       "      <td>-1.4985</td>\n",
       "      <td>0.0</td>\n",
       "    </tr>\n",
       "    <tr>\n",
       "      <th>3</th>\n",
       "      <td>-1.322600e-06</td>\n",
       "      <td>8.820100e-06</td>\n",
       "      <td>-0.000016</td>\n",
       "      <td>-0.000005</td>\n",
       "      <td>-7.282900e-07</td>\n",
       "      <td>0.000004</td>\n",
       "      <td>0.029410</td>\n",
       "      <td>0.029401</td>\n",
       "      <td>0.029417</td>\n",
       "      <td>-0.030156</td>\n",
       "      <td>...</td>\n",
       "      <td>-0.62289</td>\n",
       "      <td>6.5534</td>\n",
       "      <td>6.2606</td>\n",
       "      <td>-1.4963</td>\n",
       "      <td>-1.4963</td>\n",
       "      <td>-1.4963</td>\n",
       "      <td>-1.4975</td>\n",
       "      <td>-1.4975</td>\n",
       "      <td>-1.4976</td>\n",
       "      <td>0.0</td>\n",
       "    </tr>\n",
       "    <tr>\n",
       "      <th>4</th>\n",
       "      <td>-6.836600e-08</td>\n",
       "      <td>5.666300e-07</td>\n",
       "      <td>-0.000026</td>\n",
       "      <td>-0.000006</td>\n",
       "      <td>-7.940600e-07</td>\n",
       "      <td>0.000013</td>\n",
       "      <td>0.030119</td>\n",
       "      <td>0.030119</td>\n",
       "      <td>0.030145</td>\n",
       "      <td>-0.031393</td>\n",
       "      <td>...</td>\n",
       "      <td>-0.63010</td>\n",
       "      <td>4.5155</td>\n",
       "      <td>9.5231</td>\n",
       "      <td>-1.4958</td>\n",
       "      <td>-1.4958</td>\n",
       "      <td>-1.4958</td>\n",
       "      <td>-1.4959</td>\n",
       "      <td>-1.4959</td>\n",
       "      <td>-1.4959</td>\n",
       "      <td>0.0</td>\n",
       "    </tr>\n",
       "  </tbody>\n",
       "</table>\n",
       "<p>5 rows × 49 columns</p>\n",
       "</div>"
      ],
      "text/plain": [
       "             0             1         2         3             4         5   \\\n",
       "0 -3.014600e-07  8.260300e-06 -0.000012 -0.000002 -1.438600e-06 -0.000021   \n",
       "1  2.913200e-06 -5.247700e-06  0.000003 -0.000006  2.778900e-06 -0.000004   \n",
       "2 -2.951700e-06 -3.184000e-06 -0.000016 -0.000001 -1.575300e-06  0.000017   \n",
       "3 -1.322600e-06  8.820100e-06 -0.000016 -0.000005 -7.282900e-07  0.000004   \n",
       "4 -6.836600e-08  5.666300e-07 -0.000026 -0.000006 -7.940600e-07  0.000013   \n",
       "\n",
       "         6         7         8         9   ...       39      40      41  \\\n",
       "0  0.031718  0.031710  0.031721 -0.032963  ... -0.63308  2.9646  8.1198   \n",
       "1  0.030804  0.030810  0.030806 -0.033520  ... -0.59314  7.6252  6.1690   \n",
       "2  0.032877  0.032880  0.032896 -0.029834  ... -0.63252  2.7784  5.3017   \n",
       "3  0.029410  0.029401  0.029417 -0.030156  ... -0.62289  6.5534  6.2606   \n",
       "4  0.030119  0.030119  0.030145 -0.031393  ... -0.63010  4.5155  9.5231   \n",
       "\n",
       "       42      43      44      45      46      47   48  \n",
       "0 -1.4961 -1.4961 -1.4961 -1.4996 -1.4996 -1.4996  0.0  \n",
       "1 -1.4967 -1.4967 -1.4967 -1.5005 -1.5005 -1.5005  0.0  \n",
       "2 -1.4983 -1.4983 -1.4982 -1.4985 -1.4985 -1.4985  0.0  \n",
       "3 -1.4963 -1.4963 -1.4963 -1.4975 -1.4975 -1.4976  0.0  \n",
       "4 -1.4958 -1.4958 -1.4958 -1.4959 -1.4959 -1.4959  0.0  \n",
       "\n",
       "[5 rows x 49 columns]"
      ]
     },
     "execution_count": 4,
     "metadata": {},
     "output_type": "execute_result"
    }
   ],
   "source": [
    "# load test data\n",
    "df = pd.read_csv(\"data/Sensorless_drive_diagnosis.csv\", header=None)\n",
    "df.head()"
   ]
  },
  {
   "cell_type": "code",
   "execution_count": 5,
   "metadata": {},
   "outputs": [],
   "source": [
    "# make test-train split\n",
    "from sklearn.model_selection import train_test_split\n",
    "\n",
    "X = df.values[:,:-1]\n",
    "Y = df.values[:,-1]"
   ]
  },
  {
   "cell_type": "code",
   "execution_count": 6,
   "metadata": {},
   "outputs": [
    {
     "data": {
      "text/plain": [
       "array([ 0.4066084 ,  0.08973906,  0.44347205,  0.79572997,  0.82067059,\n",
       "        0.55920168,  0.35688429,  0.34444966,  0.32777708, -0.27613639,\n",
       "       -0.27620512, -0.27622588, -0.98342775, -0.96514553, -0.94713983,\n",
       "       -0.97922647, -0.97247916, -0.93042799,  0.03925498,  0.03924373,\n",
       "        0.0393773 ,  0.04087915,  0.04093879,  0.04107784, -0.28323273,\n",
       "       -0.0027595 , -0.0928332 , -0.21165396,  0.06622006,  0.06364167,\n",
       "       -0.26432656, -0.24964286, -0.24201665,  0.26819244,  0.27926646,\n",
       "        0.29200955, -0.9997764 , -0.94848785, -0.94045051, -0.99972515,\n",
       "       -0.98227878, -0.89592166, -0.27503262, -0.27850353, -0.32857887,\n",
       "       -0.74344664, -0.72681238, -0.74360077])"
      ]
     },
     "execution_count": 6,
     "metadata": {},
     "output_type": "execute_result"
    }
   ],
   "source": [
    "#X = classification_utils.standardise(X)\n",
    "X = classification_utils.normalise_minusonetoone(X)\n",
    "X.mean(axis=0)"
   ]
  },
  {
   "cell_type": "code",
   "execution_count": 7,
   "metadata": {},
   "outputs": [
    {
     "name": "stdout",
     "output_type": "stream",
     "text": [
      "(57509, 48)\n",
      "(1000, 48)\n",
      "(57509,)\n",
      "(1000,)\n",
      "tensor([ 0,  1,  2,  3,  4,  5,  6,  7,  8,  9, 10])\n"
     ]
    }
   ],
   "source": [
    "num_train = 48509 + 9000 \n",
    "num_test = 1000 #10000 # test on less data for now to make iterations faster\n",
    "NUM_CLASSES = 11\n",
    "NUM_INDUCING_POINTS=500\n",
    "\n",
    "# The original paper chose 48509 training points and 10000 test points\n",
    "test_size = num_test/(num_train+num_test)\n",
    "X_train, X_test, y_train, y_test = train_test_split(X, Y, test_size=test_size, random_state=42)\n",
    "print(np.shape(X_train))\n",
    "print(np.shape(X_test))\n",
    "print(np.shape(y_train))\n",
    "print(np.shape(y_test))\n",
    "X_train, X_test, y_train, y_test = torch.tensor(X_train).float(), torch.tensor(X_test).float(), \\\n",
    "                                                   torch.tensor(y_train).long(), torch.tensor(y_test).long()\n",
    "print(y_test.unique())"
   ]
  },
  {
   "cell_type": "code",
   "execution_count": 8,
   "metadata": {},
   "outputs": [],
   "source": [
    "# choose random inducing points\n",
    "#X_train_induced, y_train_induced = classification_utils.random_inducing_points(X_train, y_train, NUM_INDUCING_POINTS)"
   ]
  },
  {
   "cell_type": "code",
   "execution_count": 9,
   "metadata": {},
   "outputs": [
    {
     "name": "stdout",
     "output_type": "stream",
     "text": [
      "tensor([[ 0.4055,  0.0842,  0.4402,  0.7974,  0.8306,  0.5701,  0.4097,  0.3986,\n",
      "          0.3836, -0.3164, -0.3167, -0.3169, -0.9725, -0.9504, -0.8907, -0.9659,\n",
      "         -0.9562, -0.8851,  0.3819,  0.3820,  0.3814,  0.3803,  0.3804,  0.3805,\n",
      "         -0.2834, -0.0120, -0.1498, -0.2129,  0.0819,  0.1422, -0.4196, -0.4023,\n",
      "         -0.3948,  0.2728,  0.2838,  0.2954, -0.9999, -0.9902, -0.9611, -0.9999,\n",
      "         -0.9931, -0.9076, -0.2754, -0.2782, -0.3255, -0.7470, -0.7301, -0.7448],\n",
      "        [ 0.4075,  0.1000,  0.4197,  0.7950,  0.8139,  0.6380,  0.5041,  0.4940,\n",
      "          0.4834, -0.3509, -0.3509, -0.3526, -0.9781, -0.9626, -0.9442, -0.9732,\n",
      "         -0.9649, -0.8998, -0.3550, -0.3551, -0.3554, -0.3472, -0.3472, -0.3478,\n",
      "         -0.2840,  0.0087, -0.1054, -0.2123,  0.0280,  0.1920, -0.3361, -0.3216,\n",
      "         -0.3164,  0.2929,  0.3045,  0.3149, -0.9999, -0.9946, -0.9600, -0.9999,\n",
      "         -0.9894, -0.8569, -0.3873, -0.3894, -0.4428, -0.7101, -0.6957, -0.7155],\n",
      "        [ 0.4055,  0.0739,  0.4744,  0.7988,  0.8099,  0.5823, -0.8622, -0.8974,\n",
      "         -0.9485, -0.7416, -0.7416, -0.7420, -0.9783, -0.9617, -0.9285, -0.9725,\n",
      "         -0.9696, -0.9261, -0.2746, -0.2745, -0.2750, -0.2651, -0.2650, -0.2649,\n",
      "         -0.2816, -0.0169, -0.0019, -0.2117,  0.0617,  0.1527, -0.1410, -0.1259,\n",
      "         -0.1235,  0.1752,  0.1855,  0.1985, -0.9999, -0.9936, -0.9528, -0.9999,\n",
      "         -0.9977, -0.8995, -0.1988, -0.2040, -0.2610, -0.7785, -0.7624, -0.7807],\n",
      "        [ 0.4056,  0.0832,  0.4492,  0.7926,  0.8279,  0.6013,  0.6206,  0.6136,\n",
      "          0.6032, -0.1850, -0.1852, -0.1862, -0.9680, -0.9371, -0.9156, -0.9603,\n",
      "         -0.9533, -0.7909,  0.8407,  0.8406,  0.8412,  0.8482,  0.8483,  0.8481,\n",
      "         -0.2822, -0.0079, -0.0842, -0.2092,  0.0824,  0.1576, -0.1481, -0.1345,\n",
      "         -0.1299,  0.2284,  0.2390,  0.2536, -0.9998, -0.9892, -0.9526, -0.9998,\n",
      "         -0.9964, -0.9053, -0.3697, -0.3723, -0.4340, -0.6862, -0.6688, -0.6743],\n",
      "        [ 0.4073,  0.0887,  0.4430,  0.7963,  0.8208,  0.5632,  0.6686,  0.6622,\n",
      "          0.6536, -0.2038, -0.2038, -0.2040, -0.9997, -0.9990, -0.9967, -0.9996,\n",
      "         -0.9975, -0.9905, -0.7830, -0.7830, -0.7829, -0.7803, -0.7803, -0.7802,\n",
      "         -0.2835, -0.0013, -0.0975, -0.2118,  0.0980,  0.1608, -0.1906, -0.1768,\n",
      "         -0.1700,  0.2549,  0.2658,  0.2782, -0.9999, -0.9854, -0.9788, -0.9998,\n",
      "         -0.9674, -0.5608, -0.2224, -0.2268, -0.2786, -0.7177, -0.7011, -0.7199]]) tensor([ 0,  1,  2,  3,  4,  5,  6,  7,  8,  9, 10])\n"
     ]
    }
   ],
   "source": [
    "## use kmeans for inducing points\n",
    "X_train_induced, y_train_induced = classification_utils.k_means_inducing_points(X_train, y_train, NUM_INDUCING_POINTS)\n",
    "print(X_train_induced[:5], y_train_induced.unique())"
   ]
  },
  {
   "cell_type": "code",
   "execution_count": 10,
   "metadata": {},
   "outputs": [
    {
     "name": "stdout",
     "output_type": "stream",
     "text": [
      "tensor([[ 0.4055,  0.0842,  0.4402,  0.7974,  0.8306,  0.5701,  0.4097,  0.3986,\n",
      "          0.3836, -0.3164, -0.3167, -0.3169, -0.9725, -0.9504, -0.8907, -0.9659,\n",
      "         -0.9562, -0.8851,  0.3819,  0.3820,  0.3814,  0.3803,  0.3804,  0.3805,\n",
      "         -0.2834, -0.0120, -0.1498, -0.2129,  0.0819,  0.1422, -0.4196, -0.4023,\n",
      "         -0.3948,  0.2728,  0.2838,  0.2954, -0.9999, -0.9902, -0.9611, -0.9999,\n",
      "         -0.9931, -0.9076, -0.2754, -0.2782, -0.3255, -0.7470, -0.7301, -0.7448],\n",
      "        [ 0.4075,  0.1000,  0.4197,  0.7950,  0.8139,  0.6380,  0.5041,  0.4940,\n",
      "          0.4834, -0.3509, -0.3509, -0.3526, -0.9781, -0.9626, -0.9442, -0.9732,\n",
      "         -0.9649, -0.8998, -0.3550, -0.3551, -0.3554, -0.3472, -0.3472, -0.3478,\n",
      "         -0.2840,  0.0087, -0.1054, -0.2123,  0.0280,  0.1920, -0.3361, -0.3216,\n",
      "         -0.3164,  0.2929,  0.3045,  0.3149, -0.9999, -0.9946, -0.9600, -0.9999,\n",
      "         -0.9894, -0.8569, -0.3873, -0.3894, -0.4428, -0.7101, -0.6957, -0.7155],\n",
      "        [ 0.4055,  0.0739,  0.4744,  0.7988,  0.8099,  0.5823, -0.8622, -0.8974,\n",
      "         -0.9485, -0.7416, -0.7416, -0.7420, -0.9783, -0.9617, -0.9285, -0.9725,\n",
      "         -0.9696, -0.9261, -0.2746, -0.2745, -0.2750, -0.2651, -0.2650, -0.2649,\n",
      "         -0.2816, -0.0169, -0.0019, -0.2117,  0.0617,  0.1527, -0.1410, -0.1259,\n",
      "         -0.1235,  0.1752,  0.1855,  0.1985, -0.9999, -0.9936, -0.9528, -0.9999,\n",
      "         -0.9977, -0.8995, -0.1988, -0.2040, -0.2610, -0.7785, -0.7624, -0.7807],\n",
      "        [ 0.4056,  0.0832,  0.4492,  0.7926,  0.8279,  0.6013,  0.6206,  0.6136,\n",
      "          0.6032, -0.1850, -0.1852, -0.1862, -0.9680, -0.9371, -0.9156, -0.9603,\n",
      "         -0.9533, -0.7909,  0.8407,  0.8406,  0.8412,  0.8482,  0.8483,  0.8481,\n",
      "         -0.2822, -0.0079, -0.0842, -0.2092,  0.0824,  0.1576, -0.1481, -0.1345,\n",
      "         -0.1299,  0.2284,  0.2390,  0.2536, -0.9998, -0.9892, -0.9526, -0.9998,\n",
      "         -0.9964, -0.9053, -0.3697, -0.3723, -0.4340, -0.6862, -0.6688, -0.6743],\n",
      "        [ 0.4073,  0.0887,  0.4430,  0.7963,  0.8208,  0.5632,  0.6686,  0.6622,\n",
      "          0.6536, -0.2038, -0.2038, -0.2040, -0.9997, -0.9990, -0.9967, -0.9996,\n",
      "         -0.9975, -0.9905, -0.7830, -0.7830, -0.7829, -0.7803, -0.7803, -0.7802,\n",
      "         -0.2835, -0.0013, -0.0975, -0.2118,  0.0980,  0.1608, -0.1906, -0.1768,\n",
      "         -0.1700,  0.2549,  0.2658,  0.2782, -0.9999, -0.9854, -0.9788, -0.9998,\n",
      "         -0.9674, -0.5608, -0.2224, -0.2268, -0.2786, -0.7177, -0.7011, -0.7199]]) tensor([[1.0000e-03, 1.0000e-03, 1.0000e-03, 1.0000e-03, 1.0000e-03, 1.3700e+02,\n",
      "         1.0000e-03, 1.0000e-03, 1.0000e-03, 1.0000e-03, 1.0000e-03],\n",
      "        [9.0001e+01, 1.0000e-03, 1.0000e-03, 1.0000e-03, 1.0000e-03, 7.0010e+00,\n",
      "         1.0000e-03, 1.0000e-03, 1.0000e-03, 1.0000e-03, 1.0000e-03],\n",
      "        [1.0000e-03, 1.0000e-03, 1.0000e-03, 1.0000e-03, 1.0000e-03, 1.0000e-03,\n",
      "         1.0000e-03, 1.0000e-03, 1.0000e-03, 1.0000e-03, 1.4400e+02],\n",
      "        [1.0000e-03, 1.0000e-03, 1.0000e-03, 1.0000e-03, 1.6200e+02, 1.0000e-03,\n",
      "         1.0000e-03, 1.0000e-03, 1.0000e-03, 1.0000e-03, 1.0000e-03],\n",
      "        [2.0010e+00, 1.0000e-03, 1.0000e-03, 2.0010e+00, 3.0010e+00, 3.0010e+00,\n",
      "         1.0000e-03, 9.0010e+00, 1.0000e-03, 1.0000e-03, 1.0000e-03]])\n"
     ]
    }
   ],
   "source": [
    "# use the conjugacy of the Beta to create better inducing points\n",
    "X_train_induced, y_train_induced_alphas = classification_utils.k_means_inducing_points_LM_Dir(X_train, y_train,\n",
    "                                                                         NUM_INDUCING_POINTS, NUM_CLASSES)\n",
    "print(X_train_induced[:5], y_train_induced_alphas[:5])"
   ]
  },
  {
   "cell_type": "markdown",
   "metadata": {},
   "source": [
    "# Train and eval DPC"
   ]
  },
  {
   "cell_type": "code",
   "execution_count": 11,
   "metadata": {},
   "outputs": [
    {
     "name": "stdout",
     "output_type": "stream",
     "text": [
      "DirichletGPModel(\n",
      "  (likelihood): DirichletClassificationLikelihood(\n",
      "    (noise_covar): FixedGaussianNoise()\n",
      "    (second_noise_covar): HomoskedasticNoise(\n",
      "      (raw_noise_constraint): GreaterThan(1.000E-04)\n",
      "    )\n",
      "  )\n",
      "  (mean_module): ConstantMean()\n",
      "  (covar_module): ScaleKernel(\n",
      "    (base_kernel): RBFKernel(\n",
      "      (raw_lengthscale_constraint): Positive()\n",
      "    )\n",
      "    (raw_outputscale_constraint): Positive()\n",
      "  )\n",
      ")\n"
     ]
    }
   ],
   "source": [
    "# create a GPC model\n",
    "DGP_model, DGP_likelihood = classification_models.create_DGP_model(X_train_induced, y_train_induced, \n",
    "                                                        init_lengthscale=1, learn_additional_noise=True)\n",
    "print(DGP_model)"
   ]
  },
  {
   "cell_type": "code",
   "execution_count": 12,
   "metadata": {},
   "outputs": [
    {
     "name": "stdout",
     "output_type": "stream",
     "text": [
      "Iter 1/400 - Loss: 28.953   lengthscale: 1.000   noise: 0.693\n",
      "Iter 51/400 - Loss: 23.924   lengthscale: 1.510   noise: 2.199\n",
      "Iter 101/400 - Loss: 23.560   lengthscale: 1.281   noise: 1.880\n",
      "Iter 151/400 - Loss: 23.311   lengthscale: 1.040   noise: 1.394\n",
      "Iter 201/400 - Loss: 23.127   lengthscale: 0.930   noise: 0.936\n",
      "Iter 251/400 - Loss: 23.055   lengthscale: 0.776   noise: 0.798\n",
      "Iter 301/400 - Loss: 22.918   lengthscale: 0.716   noise: 0.492\n",
      "Iter 351/400 - Loss: 22.885   lengthscale: 0.700   noise: 0.409\n"
     ]
    }
   ],
   "source": [
    "## train\n",
    "DGP_model, DGP_likelihood = classification_models.train_DGP_model(X_train_induced,\n",
    "                                            DGP_model, DGP_likelihood, num_iter=400, lr=0.1, report_iter=50)"
   ]
  },
  {
   "cell_type": "code",
   "execution_count": 13,
   "metadata": {},
   "outputs": [
    {
     "data": {
      "text/plain": [
       "(0.8600000143051147, 0.45907407999038696, 0.08486513793468475)"
      ]
     },
     "execution_count": 13,
     "metadata": {},
     "output_type": "execute_result"
    }
   ],
   "source": [
    "### evaluate DGP results\n",
    "classification_models.evaluate_DGP(DGP_model, DGP_likelihood, X_test, y_test)\n",
    "# Note that NUM_CLASSES=11; thus everything above 1/11 accuracy is progress (if the dataset is balanced)"
   ]
  },
  {
   "cell_type": "markdown",
   "metadata": {},
   "source": [
    "# Train and eval LM(Dirichlet)"
   ]
  },
  {
   "cell_type": "code",
   "execution_count": 14,
   "metadata": {},
   "outputs": [
    {
     "name": "stdout",
     "output_type": "stream",
     "text": [
      "torch.Size([500, 11]) torch.Size([500, 11]) torch.Size([500, 48])\n"
     ]
    }
   ],
   "source": [
    "train_mu_LM, train_var_LM = classification_models.transform_y_Dir_LM(y_train_induced, a_eps=0.00001,\n",
    "                                                                     num_classes=NUM_CLASSES)\n",
    "print(train_mu_LM.size(), train_var_LM.size(), X_train_induced.size())"
   ]
  },
  {
   "cell_type": "code",
   "execution_count": 15,
   "metadata": {},
   "outputs": [
    {
     "name": "stdout",
     "output_type": "stream",
     "text": [
      "Iter 1/100 - Loss: 2.987; lengthscale: 0.693; noise: 0.693\n",
      "Iter 51/100 - Loss: 2.153; lengthscale: 0.399; noise: 0.543\n"
     ]
    },
    {
     "data": {
      "text/plain": [
       "(tensor(0.9390), tensor(0.3248), tensor(0.0457))"
      ]
     },
     "execution_count": 15,
     "metadata": {},
     "output_type": "execute_result"
    }
   ],
   "source": [
    "# create model\n",
    "LM_Dir_GP_model, LM_Dir_GP_likelihood = classification_models.create_LM_Dir_GP_model(X_train_induced, train_mu_LM, train_var_LM,\n",
    "                    num_classes=NUM_CLASSES, init_lengthscale=1, rank=NUM_CLASSES)\n",
    "\n",
    "# train\n",
    "LM_Dir_GP_model, LM_Dir_GP_likelihood, = classification_models.train_LM_Dir_GP_model(X_train_induced, train_mu_LM, \n",
    "                        LM_Dir_GP_model, LM_Dir_GP_likelihood, num_iter=100, lr=0.1, report_iter=50)\n",
    "\n",
    "# evaluate\n",
    "classification_models.evaluate_LM_Dir_GP(LM_Dir_GP_model, LM_Dir_GP_likelihood, X_test, y_test, num_samples=1000)"
   ]
  },
  {
   "cell_type": "markdown",
   "metadata": {},
   "source": [
    "## LM(Dirichlet)+GP with inducing points"
   ]
  },
  {
   "cell_type": "code",
   "execution_count": 16,
   "metadata": {},
   "outputs": [
    {
     "name": "stdout",
     "output_type": "stream",
     "text": [
      "torch.Size([500, 11]) torch.Size([500, 11]) torch.Size([500, 48])\n"
     ]
    }
   ],
   "source": [
    "train_mu_LM2 = classification_models.Dirichlet_bridge_mu_batch(y_train_induced_alphas)\n",
    "train_var_LM2 = classification_models.Dirichlet_bridge_Sigma_diag_batch(y_train_induced_alphas)\n",
    "print(train_mu_LM2.size(), train_var_LM2.size(), X_train_induced.size())"
   ]
  },
  {
   "cell_type": "code",
   "execution_count": 17,
   "metadata": {},
   "outputs": [
    {
     "name": "stdout",
     "output_type": "stream",
     "text": [
      "Iter 1/100 - Loss: 3.011; lengthscale: 0.693; noise: 0.693\n",
      "Iter 51/100 - Loss: 2.219; lengthscale: 0.379; noise: 0.671\n"
     ]
    }
   ],
   "source": [
    "LM_Dir_GP_model2, LM_Dir_GP_likelihood2 = classification_models.create_LM_Dir_GP_model(X_train_induced, train_mu_LM2, train_var_LM2,\n",
    "                    num_classes=NUM_CLASSES, init_lengthscale=1, rank=NUM_CLASSES)\n",
    "\n",
    "LM_Dir_GP_model2, LM_Dir_GP_likelihood2, = classification_models.train_LM_Dir_GP_model(X_train_induced, train_mu_LM2, \n",
    "                        LM_Dir_GP_model2, LM_Dir_GP_likelihood2, num_iter=100, lr=0.1, report_iter=50)"
   ]
  },
  {
   "cell_type": "code",
   "execution_count": 18,
   "metadata": {},
   "outputs": [
    {
     "data": {
      "text/plain": [
       "(tensor(0.9330), tensor(0.1924), tensor(0.0524))"
      ]
     },
     "execution_count": 18,
     "metadata": {},
     "output_type": "execute_result"
    }
   ],
   "source": [
    "classification_models.evaluate_LM_Dir_GP(LM_Dir_GP_model2, LM_Dir_GP_likelihood2, X_test, y_test, num_samples=1000)"
   ]
  },
  {
   "cell_type": "markdown",
   "metadata": {},
   "source": [
    "# Lengthscale optimization"
   ]
  },
  {
   "cell_type": "code",
   "execution_count": 19,
   "metadata": {},
   "outputs": [],
   "source": [
    "LENGTHSCALES = [0.1, 0.2, 0.5, 1, 2, 5, 10, 20, 50, 100]"
   ]
  },
  {
   "cell_type": "code",
   "execution_count": 20,
   "metadata": {},
   "outputs": [
    {
     "name": "stdout",
     "output_type": "stream",
     "text": [
      "current lengthscale: 0.1\n",
      "Iter 1/100 - Loss: 58.522   lengthscale: 0.100   noise: 0.693\n",
      "Iter 11/100 - Loss: 35.459   lengthscale: 0.251   noise: 1.277\n",
      "Iter 21/100 - Loss: 25.805   lengthscale: 0.553   noise: 1.693\n",
      "Iter 31/100 - Loss: 24.747   lengthscale: 0.822   noise: 1.832\n",
      "Iter 41/100 - Loss: 24.474   lengthscale: 0.965   noise: 1.863\n",
      "Iter 51/100 - Loss: 24.314   lengthscale: 1.025   noise: 1.867\n",
      "Iter 61/100 - Loss: 24.194   lengthscale: 1.042   noise: 1.867\n",
      "Iter 71/100 - Loss: 24.101   lengthscale: 1.041   noise: 1.864\n",
      "Iter 81/100 - Loss: 24.026   lengthscale: 1.031   noise: 1.853\n",
      "Iter 91/100 - Loss: 23.961   lengthscale: 1.017   noise: 1.830\n",
      "acc: 0.7609999775886536;\t mnll:  0.8934764862060547; \t ece: 0.22562438249588013\n",
      "current lengthscale: 0.2\n",
      "Iter 1/100 - Loss: 51.757   lengthscale: 0.200   noise: 0.693\n",
      "Iter 11/100 - Loss: 28.795   lengthscale: 0.459   noise: 1.211\n",
      "Iter 21/100 - Loss: 25.389   lengthscale: 0.746   noise: 1.516\n",
      "Iter 31/100 - Loss: 24.698   lengthscale: 0.925   noise: 1.689\n",
      "Iter 41/100 - Loss: 24.420   lengthscale: 1.013   noise: 1.818\n",
      "Iter 51/100 - Loss: 24.271   lengthscale: 1.051   noise: 1.912\n",
      "Iter 61/100 - Loss: 24.171   lengthscale: 1.066   noise: 1.964\n",
      "Iter 71/100 - Loss: 24.094   lengthscale: 1.070   noise: 1.978\n",
      "Iter 81/100 - Loss: 24.027   lengthscale: 1.068   noise: 1.964\n",
      "Iter 91/100 - Loss: 23.968   lengthscale: 1.063   noise: 1.935\n",
      "acc: 0.734000027179718;\t mnll:  0.9909748435020447; \t ece: 0.23591408133506775\n",
      "current lengthscale: 0.5\n",
      "Iter 1/100 - Loss: 33.467   lengthscale: 0.500   noise: 0.693\n",
      "Iter 11/100 - Loss: 26.194   lengthscale: 0.933   noise: 1.101\n",
      "Iter 21/100 - Loss: 24.899   lengthscale: 1.236   noise: 1.592\n",
      "Iter 31/100 - Loss: 24.456   lengthscale: 1.368   noise: 1.961\n",
      "Iter 41/100 - Loss: 24.230   lengthscale: 1.404   noise: 2.137\n",
      "Iter 51/100 - Loss: 24.077   lengthscale: 1.394   noise: 2.190\n",
      "Iter 61/100 - Loss: 23.968   lengthscale: 1.371   noise: 2.185\n",
      "Iter 71/100 - Loss: 23.886   lengthscale: 1.348   noise: 2.159\n",
      "Iter 81/100 - Loss: 23.825   lengthscale: 1.327   noise: 2.127\n",
      "Iter 91/100 - Loss: 23.774   lengthscale: 1.306   noise: 2.092\n",
      "acc: 0.6110000014305115;\t mnll:  1.1119887828826904; \t ece: 0.12722276151180267\n",
      "current lengthscale: 1\n",
      "Iter 1/100 - Loss: 29.053   lengthscale: 1.000   noise: 0.693\n",
      "Iter 11/100 - Loss: 25.880   lengthscale: 1.479   noise: 1.122\n",
      "Iter 21/100 - Loss: 24.785   lengthscale: 1.632   noise: 1.599\n",
      "Iter 31/100 - Loss: 24.278   lengthscale: 1.617   noise: 1.909\n",
      "Iter 41/100 - Loss: 24.024   lengthscale: 1.559   noise: 2.068\n",
      "Iter 51/100 - Loss: 23.875   lengthscale: 1.527   noise: 2.137\n",
      "Iter 61/100 - Loss: 23.771   lengthscale: 1.480   noise: 2.147\n",
      "Iter 71/100 - Loss: 23.683   lengthscale: 1.423   noise: 2.110\n",
      "Iter 81/100 - Loss: 23.602   lengthscale: 1.375   noise: 2.036\n",
      "Iter 91/100 - Loss: 23.527   lengthscale: 1.318   noise: 1.938\n",
      "acc: 0.6759999990463257;\t mnll:  0.9568503499031067; \t ece: 0.1116383746266365\n",
      "current lengthscale: 2\n",
      "Iter 1/100 - Loss: 28.468   lengthscale: 2.000   noise: 0.693\n",
      "Iter 11/100 - Loss: 25.845   lengthscale: 1.873   noise: 1.131\n",
      "Iter 21/100 - Loss: 24.687   lengthscale: 1.778   noise: 1.580\n",
      "Iter 31/100 - Loss: 24.175   lengthscale: 1.774   noise: 1.882\n",
      "Iter 41/100 - Loss: 23.909   lengthscale: 1.717   noise: 2.023\n",
      "Iter 51/100 - Loss: 23.736   lengthscale: 1.634   noise: 2.044\n",
      "Iter 61/100 - Loss: 23.591   lengthscale: 1.523   noise: 1.991\n",
      "Iter 71/100 - Loss: 23.473   lengthscale: 1.439   noise: 1.890\n",
      "Iter 81/100 - Loss: 23.379   lengthscale: 1.344   noise: 1.764\n",
      "Iter 91/100 - Loss: 23.300   lengthscale: 1.349   noise: 1.616\n",
      "acc: 0.7419999837875366;\t mnll:  0.7522473335266113; \t ece: 0.12072927504777908\n",
      "current lengthscale: 5\n",
      "Iter 1/100 - Loss: 28.953   lengthscale: 5.000   noise: 0.693\n",
      "Iter 11/100 - Loss: 26.545   lengthscale: 4.360   noise: 1.210\n",
      "Iter 21/100 - Loss: 25.274   lengthscale: 3.697   noise: 1.805\n",
      "Iter 31/100 - Loss: 24.575   lengthscale: 3.035   noise: 2.251\n",
      "Iter 41/100 - Loss: 24.151   lengthscale: 2.454   noise: 2.474\n",
      "Iter 51/100 - Loss: 23.937   lengthscale: 2.143   noise: 2.513\n",
      "Iter 61/100 - Loss: 23.753   lengthscale: 2.052   noise: 2.437\n",
      "Iter 71/100 - Loss: 23.648   lengthscale: 1.981   noise: 2.304\n",
      "Iter 81/100 - Loss: 23.562   lengthscale: 1.825   noise: 2.149\n",
      "Iter 91/100 - Loss: 23.467   lengthscale: 1.601   noise: 1.988\n",
      "acc: 0.7630000114440918;\t mnll:  0.7648851275444031; \t ece: 0.13821177184581757\n",
      "current lengthscale: 10\n",
      "Iter 1/100 - Loss: 29.570   lengthscale: 10.000   noise: 0.693\n",
      "Iter 11/100 - Loss: 27.150   lengthscale: 9.309   noise: 1.298\n",
      "Iter 21/100 - Loss: 25.922   lengthscale: 8.509   noise: 1.953\n",
      "Iter 31/100 - Loss: 25.361   lengthscale: 7.702   noise: 2.468\n",
      "Iter 41/100 - Loss: 25.074   lengthscale: 6.893   noise: 2.817\n",
      "Iter 51/100 - Loss: 24.889   lengthscale: 6.035   noise: 3.040\n",
      "Iter 61/100 - Loss: 24.706   lengthscale: 5.061   noise: 3.167\n",
      "Iter 71/100 - Loss: 24.423   lengthscale: 3.954   noise: 3.204\n",
      "Iter 81/100 - Loss: 24.118   lengthscale: 2.941   noise: 3.145\n",
      "Iter 91/100 - Loss: 23.926   lengthscale: 2.393   noise: 2.990\n",
      "acc: 0.7089999914169312;\t mnll:  0.9814464449882507; \t ece: 0.1746753305196762\n",
      "current lengthscale: 20\n",
      "Iter 1/100 - Loss: 30.061   lengthscale: 20.000   noise: 0.693\n",
      "Iter 11/100 - Loss: 27.612   lengthscale: 19.171   noise: 1.304\n",
      "Iter 21/100 - Loss: 26.333   lengthscale: 18.323   noise: 2.013\n",
      "Iter 31/100 - Loss: 25.781   lengthscale: 17.493   noise: 2.625\n",
      "Iter 41/100 - Loss: 25.541   lengthscale: 16.696   noise: 3.066\n",
      "Iter 51/100 - Loss: 25.416   lengthscale: 15.915   noise: 3.353\n",
      "Iter 61/100 - Loss: 25.331   lengthscale: 15.119   noise: 3.528\n",
      "Iter 71/100 - Loss: 25.257   lengthscale: 14.281   noise: 3.627\n",
      "Iter 81/100 - Loss: 25.184   lengthscale: 13.377   noise: 3.675\n",
      "Iter 91/100 - Loss: 25.106   lengthscale: 12.388   noise: 3.690\n",
      "acc: 0.26100000739097595;\t mnll:  1.9825135469436646; \t ece: 0.06575274467468262\n",
      "current lengthscale: 50\n",
      "Iter 1/100 - Loss: 30.294   lengthscale: 50.000   noise: 0.693\n",
      "Iter 11/100 - Loss: 27.855   lengthscale: 49.150   noise: 1.305\n",
      "Iter 21/100 - Loss: 26.554   lengthscale: 48.208   noise: 2.024\n",
      "Iter 31/100 - Loss: 25.989   lengthscale: 47.278   noise: 2.661\n",
      "Iter 41/100 - Loss: 25.753   lengthscale: 46.420   noise: 3.140\n",
      "Iter 51/100 - Loss: 25.648   lengthscale: 45.632   noise: 3.476\n",
      "Iter 61/100 - Loss: 25.596   lengthscale: 44.886   noise: 3.708\n",
      "Iter 71/100 - Loss: 25.567   lengthscale: 44.149   noise: 3.871\n",
      "Iter 81/100 - Loss: 25.549   lengthscale: 43.396   noise: 3.988\n",
      "Iter 91/100 - Loss: 25.535   lengthscale: 42.608   noise: 4.074\n",
      "acc: 0.15399999916553497;\t mnll:  2.3270747661590576; \t ece: 0.00813492015004158\n",
      "current lengthscale: 100\n",
      "Iter 1/100 - Loss: 30.333   lengthscale: 100.000   noise: 0.693\n",
      "Iter 11/100 - Loss: 27.897   lengthscale: 99.134   noise: 1.305\n",
      "Iter 21/100 - Loss: 26.591   lengthscale: 98.169   noise: 2.025\n",
      "Iter 31/100 - Loss: 26.023   lengthscale: 97.235   noise: 2.665\n",
      "Iter 41/100 - Loss: 25.784   lengthscale: 96.382   noise: 3.149\n",
      "Iter 51/100 - Loss: 25.679   lengthscale: 95.608   noise: 3.490\n",
      "Iter 61/100 - Loss: 25.628   lengthscale: 94.887   noise: 3.729\n",
      "Iter 71/100 - Loss: 25.601   lengthscale: 94.193   noise: 3.899\n",
      "Iter 81/100 - Loss: 25.586   lengthscale: 93.505   noise: 4.023\n",
      "Iter 91/100 - Loss: 25.576   lengthscale: 92.809   noise: 4.116\n",
      "acc: 0.09600000083446503;\t mnll:  2.3925769329071045; \t ece: 0.05832507833838463\n",
      "{'lengthscales': [0.1, 0.2, 0.5, 1, 2, 5, 10, 20, 50, 100], 'accuracy_results': [0.7609999775886536, 0.734000027179718, 0.6110000014305115, 0.6759999990463257, 0.7419999837875366, 0.7630000114440918, 0.7089999914169312, 0.26100000739097595, 0.15399999916553497, 0.09600000083446503], 'nll_results': [0.8934764862060547, 0.9909748435020447, 1.1119887828826904, 0.9568503499031067, 0.7522473335266113, 0.7648851275444031, 0.9814464449882507, 1.9825135469436646, 2.3270747661590576, 2.3925769329071045], 'ece_results': [0.22562438249588013, 0.23591408133506775, 0.12722276151180267, 0.1116383746266365, 0.12072927504777908, 0.13821177184581757, 0.1746753305196762, 0.06575274467468262, 0.00813492015004158, 0.05832507833838463]}\n"
     ]
    },
    {
     "data": {
      "image/png": "[encoded data removed]",
      "text/plain": [
       "<Figure size 864x576 with 3 Axes>"
      ]
     },
     "metadata": {
      "needs_background": "light"
     },
     "output_type": "display_data"
    }
   ],
   "source": [
    "res = classification_models.select_init_lengthscale_with_CV_Dir(X_train, y_train, mode=\"DGP\", num_inducing_points=NUM_INDUCING_POINTS, \n",
    "                                    learn_noise=True, num_iter=100, lr=0.1,\n",
    "                                    lengthscales=LENGTHSCALES, max_test_size=1000)\n",
    "\n",
    "print(res)    \n",
    "classification_utils.plot_res(res)\n",
    "# 5 is best"
   ]
  },
  {
   "cell_type": "code",
   "execution_count": 21,
   "metadata": {},
   "outputs": [
    {
     "name": "stdout",
     "output_type": "stream",
     "text": [
      "current lengthscale: 0.1\n",
      "Iter 1/100 - Loss: 2.891; lengthscale: 0.693; noise: 0.693\n",
      "Iter 11/100 - Loss: 2.280; lengthscale: 0.364; noise: 1.100\n",
      "Iter 21/100 - Loss: 2.217; lengthscale: 0.401; noise: 1.058\n",
      "Iter 31/100 - Loss: 2.182; lengthscale: 0.460; noise: 0.816\n",
      "Iter 41/100 - Loss: 2.142; lengthscale: 0.403; noise: 0.559\n",
      "Iter 51/100 - Loss: 2.105; lengthscale: 0.416; noise: 0.341\n",
      "Iter 61/100 - Loss: 2.075; lengthscale: 0.396; noise: 0.202\n",
      "Iter 71/100 - Loss: 2.051; lengthscale: 0.398; noise: 0.123\n",
      "Iter 81/100 - Loss: 2.032; lengthscale: 0.393; noise: 0.079\n",
      "Iter 91/100 - Loss: 2.015; lengthscale: 0.389; noise: 0.054\n",
      "acc: 0.9100000262260437;\t mnll:  0.32532206177711487; \t ece: 0.03821181878447533\n",
      "current lengthscale: 0.2\n",
      "Iter 1/100 - Loss: 2.929; lengthscale: 0.693; noise: 0.693\n",
      "Iter 11/100 - Loss: 2.300; lengthscale: 0.364; noise: 1.145\n",
      "Iter 21/100 - Loss: 2.231; lengthscale: 0.393; noise: 1.193\n",
      "Iter 31/100 - Loss: 2.199; lengthscale: 0.473; noise: 0.986\n",
      "Iter 41/100 - Loss: 2.158; lengthscale: 0.415; noise: 0.721\n",
      "Iter 51/100 - Loss: 2.120; lengthscale: 0.418; noise: 0.465\n",
      "Iter 61/100 - Loss: 2.088; lengthscale: 0.398; noise: 0.282\n",
      "Iter 71/100 - Loss: 2.062; lengthscale: 0.400; noise: 0.171\n",
      "Iter 81/100 - Loss: 2.042; lengthscale: 0.393; noise: 0.108\n",
      "Iter 91/100 - Loss: 2.025; lengthscale: 0.391; noise: 0.073\n",
      "acc: 0.9120000004768372;\t mnll:  0.3427068591117859; \t ece: 0.031318701803684235\n",
      "current lengthscale: 0.5\n",
      "Iter 1/100 - Loss: 2.840; lengthscale: 0.693; noise: 0.693\n",
      "Iter 11/100 - Loss: 2.267; lengthscale: 0.360; noise: 1.105\n",
      "Iter 21/100 - Loss: 2.212; lengthscale: 0.393; noise: 1.061\n",
      "Iter 31/100 - Loss: 2.178; lengthscale: 0.460; noise: 0.807\n",
      "Iter 41/100 - Loss: 2.135; lengthscale: 0.400; noise: 0.543\n",
      "Iter 51/100 - Loss: 2.097; lengthscale: 0.415; noise: 0.325\n",
      "Iter 61/100 - Loss: 2.066; lengthscale: 0.396; noise: 0.189\n",
      "Iter 71/100 - Loss: 2.043; lengthscale: 0.399; noise: 0.113\n",
      "Iter 81/100 - Loss: 2.024; lengthscale: 0.393; noise: 0.073\n",
      "Iter 91/100 - Loss: 2.008; lengthscale: 0.389; noise: 0.050\n",
      "acc: 0.9110000133514404;\t mnll:  0.3285466730594635; \t ece: 0.038611408323049545\n",
      "current lengthscale: 1\n",
      "Iter 1/100 - Loss: 2.815; lengthscale: 0.693; noise: 0.693\n",
      "Iter 11/100 - Loss: 2.262; lengthscale: 0.364; noise: 1.103\n",
      "Iter 21/100 - Loss: 2.208; lengthscale: 0.392; noise: 1.043\n",
      "Iter 31/100 - Loss: 2.169; lengthscale: 0.445; noise: 0.779\n",
      "Iter 41/100 - Loss: 2.127; lengthscale: 0.393; noise: 0.509\n",
      "Iter 51/100 - Loss: 2.089; lengthscale: 0.404; noise: 0.298\n",
      "Iter 61/100 - Loss: 2.059; lengthscale: 0.389; noise: 0.171\n",
      "Iter 71/100 - Loss: 2.036; lengthscale: 0.389; noise: 0.103\n",
      "Iter 81/100 - Loss: 2.018; lengthscale: 0.387; noise: 0.066\n",
      "Iter 91/100 - Loss: 2.003; lengthscale: 0.382; noise: 0.046\n",
      "acc: 0.9139999747276306;\t mnll:  0.3201332092285156; \t ece: 0.033716291189193726\n",
      "current lengthscale: 2\n",
      "Iter 1/100 - Loss: 2.825; lengthscale: 0.693; noise: 0.693\n",
      "Iter 11/100 - Loss: 2.260; lengthscale: 0.365; noise: 1.084\n",
      "Iter 21/100 - Loss: 2.205; lengthscale: 0.389; noise: 0.995\n",
      "Iter 31/100 - Loss: 2.163; lengthscale: 0.452; noise: 0.720\n",
      "Iter 41/100 - Loss: 2.118; lengthscale: 0.396; noise: 0.457\n",
      "Iter 51/100 - Loss: 2.080; lengthscale: 0.408; noise: 0.260\n",
      "Iter 61/100 - Loss: 2.050; lengthscale: 0.393; noise: 0.147\n",
      "Iter 71/100 - Loss: 2.028; lengthscale: 0.394; noise: 0.087\n",
      "Iter 81/100 - Loss: 2.009; lengthscale: 0.388; noise: 0.056\n",
      "Iter 91/100 - Loss: 1.993; lengthscale: 0.383; noise: 0.039\n",
      "acc: 0.9100000262260437;\t mnll:  0.30972200632095337; \t ece: 0.05249751731753349\n",
      "current lengthscale: 5\n",
      "Iter 1/100 - Loss: 2.804; lengthscale: 0.693; noise: 0.693\n",
      "Iter 11/100 - Loss: 2.263; lengthscale: 0.368; noise: 1.100\n",
      "Iter 21/100 - Loss: 2.206; lengthscale: 0.414; noise: 1.034\n",
      "Iter 31/100 - Loss: 2.170; lengthscale: 0.451; noise: 0.773\n",
      "Iter 41/100 - Loss: 2.128; lengthscale: 0.402; noise: 0.504\n",
      "Iter 51/100 - Loss: 2.089; lengthscale: 0.410; noise: 0.294\n",
      "Iter 61/100 - Loss: 2.059; lengthscale: 0.396; noise: 0.169\n",
      "Iter 71/100 - Loss: 2.035; lengthscale: 0.391; noise: 0.101\n",
      "Iter 81/100 - Loss: 2.016; lengthscale: 0.389; noise: 0.065\n",
      "Iter 91/100 - Loss: 1.999; lengthscale: 0.384; noise: 0.044\n",
      "acc: 0.9150000214576721;\t mnll:  0.2991805374622345; \t ece: 0.04460539668798447\n",
      "current lengthscale: 10\n",
      "Iter 1/100 - Loss: 2.875; lengthscale: 0.693; noise: 0.693\n",
      "Iter 11/100 - Loss: 2.277; lengthscale: 0.364; noise: 1.135\n",
      "Iter 21/100 - Loss: 2.221; lengthscale: 0.390; noise: 1.142\n",
      "Iter 31/100 - Loss: 2.189; lengthscale: 0.464; noise: 0.905\n",
      "Iter 41/100 - Loss: 2.146; lengthscale: 0.408; noise: 0.631\n",
      "Iter 51/100 - Loss: 2.109; lengthscale: 0.416; noise: 0.389\n",
      "Iter 61/100 - Loss: 2.078; lengthscale: 0.399; noise: 0.229\n",
      "Iter 71/100 - Loss: 2.054; lengthscale: 0.401; noise: 0.138\n",
      "Iter 81/100 - Loss: 2.034; lengthscale: 0.396; noise: 0.088\n",
      "Iter 91/100 - Loss: 2.018; lengthscale: 0.393; noise: 0.060\n",
      "acc: 0.9110000133514404;\t mnll:  0.35011255741119385; \t ece: 0.035614389926195145\n",
      "current lengthscale: 20\n",
      "Iter 1/100 - Loss: 2.822; lengthscale: 0.693; noise: 0.693\n",
      "Iter 11/100 - Loss: 2.259; lengthscale: 0.361; noise: 1.093\n",
      "Iter 21/100 - Loss: 2.209; lengthscale: 0.393; noise: 1.024\n",
      "Iter 31/100 - Loss: 2.171; lengthscale: 0.461; noise: 0.757\n",
      "Iter 41/100 - Loss: 2.126; lengthscale: 0.399; noise: 0.491\n",
      "Iter 51/100 - Loss: 2.088; lengthscale: 0.414; noise: 0.285\n",
      "Iter 61/100 - Loss: 2.059; lengthscale: 0.395; noise: 0.163\n",
      "Iter 71/100 - Loss: 2.037; lengthscale: 0.399; noise: 0.098\n",
      "Iter 81/100 - Loss: 2.019; lengthscale: 0.392; noise: 0.063\n",
      "Iter 91/100 - Loss: 2.003; lengthscale: 0.387; noise: 0.044\n",
      "acc: 0.9120000004768372;\t mnll:  0.31077179312705994; \t ece: 0.040209803730249405\n",
      "current lengthscale: 50\n",
      "Iter 1/100 - Loss: 2.939; lengthscale: 0.693; noise: 0.693\n",
      "Iter 11/100 - Loss: 2.258; lengthscale: 0.350; noise: 1.118\n",
      "Iter 21/100 - Loss: 2.220; lengthscale: 0.358; noise: 1.114\n",
      "Iter 31/100 - Loss: 2.181; lengthscale: 0.452; noise: 0.886\n",
      "Iter 41/100 - Loss: 2.136; lengthscale: 0.397; noise: 0.632\n",
      "Iter 51/100 - Loss: 2.099; lengthscale: 0.399; noise: 0.400\n",
      "Iter 61/100 - Loss: 2.068; lengthscale: 0.392; noise: 0.240\n",
      "Iter 71/100 - Loss: 2.044; lengthscale: 0.391; noise: 0.146\n",
      "Iter 81/100 - Loss: 2.025; lengthscale: 0.385; noise: 0.093\n",
      "Iter 91/100 - Loss: 2.010; lengthscale: 0.385; noise: 0.063\n",
      "acc: 0.9120000004768372;\t mnll:  0.3314226567745209; \t ece: 0.02982017770409584\n",
      "current lengthscale: 100\n",
      "Iter 1/100 - Loss: 2.818; lengthscale: 0.693; noise: 0.693\n",
      "Iter 11/100 - Loss: 2.254; lengthscale: 0.363; noise: 1.076\n",
      "Iter 21/100 - Loss: 2.207; lengthscale: 0.386; noise: 0.983\n",
      "Iter 31/100 - Loss: 2.167; lengthscale: 0.452; noise: 0.711\n",
      "Iter 41/100 - Loss: 2.121; lengthscale: 0.393; noise: 0.456\n",
      "Iter 51/100 - Loss: 2.083; lengthscale: 0.406; noise: 0.263\n",
      "Iter 61/100 - Loss: 2.054; lengthscale: 0.389; noise: 0.151\n",
      "Iter 71/100 - Loss: 2.031; lengthscale: 0.393; noise: 0.091\n",
      "Iter 81/100 - Loss: 2.012; lengthscale: 0.386; noise: 0.059\n",
      "Iter 91/100 - Loss: 1.995; lengthscale: 0.382; noise: 0.041\n",
      "acc: 0.9160000085830688;\t mnll:  0.30578580498695374; \t ece: 0.04820181429386139\n",
      "{'lengthscales': [0.1, 0.2, 0.5, 1, 2, 5, 10, 20, 50, 100], 'accuracy_results': [tensor(0.9100), tensor(0.9120), tensor(0.9110), tensor(0.9140), tensor(0.9100), tensor(0.9150), tensor(0.9110), tensor(0.9120), tensor(0.9120), tensor(0.9160)], 'nll_results': [tensor(0.3253), tensor(0.3427), tensor(0.3285), tensor(0.3201), tensor(0.3097), tensor(0.2992), tensor(0.3501), tensor(0.3108), tensor(0.3314), tensor(0.3058)], 'ece_results': [tensor(0.0382), tensor(0.0313), tensor(0.0386), tensor(0.0337), tensor(0.0525), tensor(0.0446), tensor(0.0356), tensor(0.0402), tensor(0.0298), tensor(0.0482)]}\n"
     ]
    },
    {
     "data": {
      "image/png": "[encoded data removed]",
      "text/plain": [
       "<Figure size 864x576 with 3 Axes>"
      ]
     },
     "metadata": {
      "needs_background": "light"
     },
     "output_type": "display_data"
    }
   ],
   "source": [
    "res = classification_models.select_init_lengthscale_with_CV_Dir(X_train, y_train, mode=\"LMGP_dir\", num_inducing_points=NUM_INDUCING_POINTS, \n",
    "                                    learn_noise=True, num_iter=100, lr=0.1, num_classes=NUM_CLASSES,\n",
    "                                    lengthscales=LENGTHSCALES, max_test_size=1000)\n",
    "\n",
    "print(res)    \n",
    "classification_utils.plot_res(res)\n",
    "# 5 is best"
   ]
  },
  {
   "cell_type": "code",
   "execution_count": 22,
   "metadata": {},
   "outputs": [
    {
     "ename": "NameError",
     "evalue": "name 'k_means_inducing_points_LM_Dir' is not defined",
     "output_type": "error",
     "traceback": [
      "\u001b[0;31m---------------------------------------------------------------------------\u001b[0m",
      "\u001b[0;31mNameError\u001b[0m                                 Traceback (most recent call last)",
      "\u001b[0;32m<ipython-input-22-465a4a60e2c5>\u001b[0m in \u001b[0;36m<module>\u001b[0;34m\u001b[0m\n\u001b[0;32m----> 1\u001b[0;31m res = classification_models.select_init_lengthscale_with_CV_Dir(X_train, y_train, mode=\"LMGP_dir_con\", num_inducing_points=NUM_INDUCING_POINTS, \n\u001b[0m\u001b[1;32m      2\u001b[0m                                     \u001b[0mlearn_noise\u001b[0m\u001b[0;34m=\u001b[0m\u001b[0;32mTrue\u001b[0m\u001b[0;34m,\u001b[0m \u001b[0mnum_iter\u001b[0m\u001b[0;34m=\u001b[0m\u001b[0;36m100\u001b[0m\u001b[0;34m,\u001b[0m \u001b[0mlr\u001b[0m\u001b[0;34m=\u001b[0m\u001b[0;36m0.1\u001b[0m\u001b[0;34m,\u001b[0m \u001b[0mnum_classes\u001b[0m\u001b[0;34m=\u001b[0m\u001b[0mNUM_CLASSES\u001b[0m\u001b[0;34m,\u001b[0m\u001b[0;34m\u001b[0m\u001b[0;34m\u001b[0m\u001b[0m\n\u001b[1;32m      3\u001b[0m                                     lengthscales=LENGTHSCALES, max_test_size=1000)\n\u001b[1;32m      4\u001b[0m \u001b[0;34m\u001b[0m\u001b[0m\n\u001b[1;32m      5\u001b[0m \u001b[0mprint\u001b[0m\u001b[0;34m(\u001b[0m\u001b[0mres\u001b[0m\u001b[0;34m)\u001b[0m\u001b[0;34m\u001b[0m\u001b[0;34m\u001b[0m\u001b[0m\n",
      "\u001b[0;32m~/Desktop/Laplace_Matching_for_GLMs/models/classification_models.py\u001b[0m in \u001b[0;36mselect_init_lengthscale_with_CV_Dir\u001b[0;34m(train_x, train_y, mode, num_inducing_points, learn_noise, num_iter, lr, lengthscales, max_test_size, num_classes)\u001b[0m\n\u001b[1;32m    380\u001b[0m         \u001b[0mX_train_induced\u001b[0m\u001b[0;34m,\u001b[0m \u001b[0my_train_induced\u001b[0m \u001b[0;34m=\u001b[0m \u001b[0mclassification_utils\u001b[0m\u001b[0;34m.\u001b[0m\u001b[0mk_means_inducing_points\u001b[0m\u001b[0;34m(\u001b[0m\u001b[0mX_train\u001b[0m\u001b[0;34m,\u001b[0m \u001b[0my_train\u001b[0m\u001b[0;34m,\u001b[0m \u001b[0mnum_inducing_points\u001b[0m\u001b[0;34m)\u001b[0m\u001b[0;34m\u001b[0m\u001b[0;34m\u001b[0m\u001b[0m\n\u001b[1;32m    381\u001b[0m     \u001b[0;32melif\u001b[0m \u001b[0mmode\u001b[0m \u001b[0;34m==\u001b[0m \u001b[0;34m\"LMGP_dir_con\"\u001b[0m\u001b[0;34m:\u001b[0m\u001b[0;34m\u001b[0m\u001b[0;34m\u001b[0m\u001b[0m\n\u001b[0;32m--> 382\u001b[0;31m         X_train_induced, y_train_induced_alphas = k_means_inducing_points_LM_Dir(X_train, y_train, \n\u001b[0m\u001b[1;32m    383\u001b[0m                                                                 num_inducing_points, num_classes)\n\u001b[1;32m    384\u001b[0m     \u001b[0;31m#classification_utils.\u001b[0m\u001b[0;34m\u001b[0m\u001b[0;34m\u001b[0m\u001b[0;34m\u001b[0m\u001b[0m\n",
      "\u001b[0;31mNameError\u001b[0m: name 'k_means_inducing_points_LM_Dir' is not defined"
     ]
    }
   ],
   "source": [
    "res = classification_models.select_init_lengthscale_with_CV_Dir(X_train, y_train, mode=\"LMGP_dir_con\", num_inducing_points=NUM_INDUCING_POINTS, \n",
    "                                    learn_noise=True, num_iter=100, lr=0.1, num_classes=NUM_CLASSES,\n",
    "                                    lengthscales=LENGTHSCALES, max_test_size=1000)\n",
    "\n",
    "print(res)    \n",
    "classification_utils.plot_res(res)"
   ]
  },
  {
   "cell_type": "code",
   "execution_count": null,
   "metadata": {},
   "outputs": [],
   "source": []
  }
 ],
 "metadata": {
  "kernelspec": {
   "display_name": "Python 3",
   "language": "python",
   "name": "python3"
  },
  "language_info": {
   "codemirror_mode": {
    "name": "ipython",
    "version": 3
   },
   "file_extension": ".py",
   "mimetype": "text/x-python",
   "name": "python",
   "nbconvert_exporter": "python",
   "pygments_lexer": "ipython3",
   "version": "3.8.5"
  }
 },
 "nbformat": 4,
 "nbformat_minor": 4
}
